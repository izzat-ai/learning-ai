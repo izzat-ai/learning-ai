{
  "nbformat": 4,
  "nbformat_minor": 0,
  "metadata": {
    "colab": {
      "provenance": [],
      "authorship_tag": "ABX9TyM1kvBZyC8fkMQ7P4KeIygq",
      "include_colab_link": true
    },
    "kernelspec": {
      "name": "python3",
      "display_name": "Python 3"
    },
    "language_info": {
      "name": "python"
    }
  },
  "cells": [
    {
      "cell_type": "markdown",
      "metadata": {
        "id": "view-in-github",
        "colab_type": "text"
      },
      "source": [
        "<a href=\"https://colab.research.google.com/github/izzat-ai/learning-ai/blob/main/pandas/series_practice.ipynb\" target=\"_parent\"><img src=\"https://colab.research.google.com/assets/colab-badge.svg\" alt=\"Open In Colab\"/></a>"
      ]
    },
    {
      "cell_type": "code",
      "source": [
        "import numpy as np\n",
        "import pandas as pd\n",
        "from pandas import Series"
      ],
      "metadata": {
        "id": "kXXGbyWSyoZi"
      },
      "execution_count": 1,
      "outputs": []
    },
    {
      "cell_type": "markdown",
      "source": [
        "###N1\n",
        "**How can you create a Pandas Series from a Python dictionary? Provide an example**"
      ],
      "metadata": {
        "id": "MjqnYx7IyJIj"
      }
    },
    {
      "cell_type": "code",
      "execution_count": 2,
      "metadata": {
        "colab": {
          "base_uri": "https://localhost:8080/"
        },
        "id": "ATh1wZgmx11h",
        "outputId": "463532fd-f470-48a6-c89f-4112e6fbde76"
      },
      "outputs": [
        {
          "output_type": "stream",
          "name": "stdout",
          "text": [
            "T-shirt      50000\n",
            "jeans        35000\n",
            "socks        20000\n",
            "cap          14000\n",
            "sneakers    145000\n",
            "dtype: int64\n",
            "<class 'pandas.core.series.Series'>\n"
          ]
        }
      ],
      "source": [
        "dct = {'T-shirt':50000, 'jeans':35000, 'socks':20000, 'cap':14000, 'sneakers':145000}\n",
        "obj = Series(dct)\n",
        "print(obj)\n",
        "print(type(obj))"
      ]
    },
    {
      "cell_type": "markdown",
      "source": [
        "###N2\n",
        "**What will be the output of `s = pd.Series([1, 2, 3], index=['a', 'b', 'c'])` , and how can you access the value associated with index 'b'?**"
      ],
      "metadata": {
        "id": "UqOD_9KFyLtl"
      }
    },
    {
      "cell_type": "code",
      "source": [
        "\"\"\"\n",
        "A Series is created with indices a, b, c and corresponding values ​​1, 2, 3. The value corresponding\n",
        "to index b can be obtained as s['b'] or s.iloc[1]\n",
        "\"\"\""
      ],
      "metadata": {
        "colab": {
          "base_uri": "https://localhost:8080/",
          "height": 52
        },
        "id": "sHBA_jtOyQ02",
        "outputId": "b08afca1-a825-457d-d81c-eeda4f010f35"
      },
      "execution_count": 3,
      "outputs": [
        {
          "output_type": "execute_result",
          "data": {
            "text/plain": [
              "\"\\nA Series is created with indices a, b, c and corresponding values \\u200b\\u200b1, 2, 3. The value corresponding\\nto index b can be obtained as s['b'] or s.iloc[1]\\n\""
            ],
            "application/vnd.google.colaboratory.intrinsic+json": {
              "type": "string"
            }
          },
          "metadata": {},
          "execution_count": 3
        }
      ]
    },
    {
      "cell_type": "markdown",
      "source": [
        "###N3\n",
        "**What is the difference between `.loc[]` and `.iloc[]` when accessing elements in a Series?**"
      ],
      "metadata": {
        "id": "F2Fke5F_yT9L"
      }
    },
    {
      "cell_type": "code",
      "source": [
        "\"\"\"\n",
        "iloc[] - accesses data by index number, while loc[] accesses data by index itself\n",
        "\"\"\""
      ],
      "metadata": {
        "colab": {
          "base_uri": "https://localhost:8080/",
          "height": 35
        },
        "id": "1xw3OAlxyYCo",
        "outputId": "eeb00b87-bb6c-4982-c830-68274c16501e"
      },
      "execution_count": 4,
      "outputs": [
        {
          "output_type": "execute_result",
          "data": {
            "text/plain": [
              "'\\niloc[] - accesses data by index number, while loc[] accesses data by index itself\\n'"
            ],
            "application/vnd.google.colaboratory.intrinsic+json": {
              "type": "string"
            }
          },
          "metadata": {},
          "execution_count": 4
        }
      ]
    },
    {
      "cell_type": "markdown",
      "source": [
        "###N4\n",
        "**How can you check for missing (NaN) values in a Pandas Series, and how can you fill them with the mean value of the Series?**"
      ],
      "metadata": {
        "id": "84z0xaCyya7b"
      }
    },
    {
      "cell_type": "code",
      "source": [
        "\"\"\"\n",
        "NaN values ​​can be detected using the ser.hasnans , ser.isnull() , ser.notnull() methods\n",
        "You can fill in the NaNs with the mean of the series as follows: ser.fillna(ser.mean(), inplace=True)\n",
        "\"\"\""
      ],
      "metadata": {
        "colab": {
          "base_uri": "https://localhost:8080/",
          "height": 52
        },
        "id": "Mf4lOjGpyhUv",
        "outputId": "a7c03f45-9ba8-47c5-ecc7-402b74f63513"
      },
      "execution_count": 5,
      "outputs": [
        {
          "output_type": "execute_result",
          "data": {
            "text/plain": [
              "'\\nNaN values \\u200b\\u200bcan be detected using the ser.hasnans , ser.isnull() , ser.notnull() methods\\nYou can fill in the NaNs with the mean of the series as follows: ser.fillna(ser.mean(), inplace=True)\\n'"
            ],
            "application/vnd.google.colaboratory.intrinsic+json": {
              "type": "string"
            }
          },
          "metadata": {},
          "execution_count": 5
        }
      ]
    },
    {
      "cell_type": "markdown",
      "source": [
        "###N5\n",
        "**Given a Series `s = pd.Series([10, 20, 30, 40, 50], index=[100, 101, 102, 103, 104])`, how can you filter out values greater than 25?**"
      ],
      "metadata": {
        "id": "PGWK0TxWykbQ"
      }
    },
    {
      "cell_type": "code",
      "source": [
        "\"\"\"\n",
        "can be selected as ser[ser>25]\n",
        "\"\"\""
      ],
      "metadata": {
        "colab": {
          "base_uri": "https://localhost:8080/",
          "height": 35
        },
        "id": "Sl4PZyKTynAp",
        "outputId": "fdc2b628-43d2-44c6-a22e-f66f052f97b0"
      },
      "execution_count": 6,
      "outputs": [
        {
          "output_type": "execute_result",
          "data": {
            "text/plain": [
              "'\\ncan be selected as ser[ser>25]\\n'"
            ],
            "application/vnd.google.colaboratory.intrinsic+json": {
              "type": "string"
            }
          },
          "metadata": {},
          "execution_count": 6
        }
      ]
    },
    {
      "cell_type": "markdown",
      "source": [
        "###N6\n",
        "**Given a Series with duplicate index values, how can you select all values corresponding to a specific index?**"
      ],
      "metadata": {
        "id": "LqvUBDpSHSgB"
      }
    },
    {
      "cell_type": "code",
      "source": [
        "\"\"\"\n",
        "when we create a Series with the same indices and display it, the indices will be unique\n",
        "\"\"\""
      ],
      "metadata": {
        "colab": {
          "base_uri": "https://localhost:8080/",
          "height": 35
        },
        "id": "As6Cv7e8HT8V",
        "outputId": "5bbb0de9-fccf-4168-f917-37876d8ef08e"
      },
      "execution_count": 12,
      "outputs": [
        {
          "output_type": "execute_result",
          "data": {
            "text/plain": [
              "'\\nwhen we create a Series with the same indices and display it, the indices will be unique\\n'"
            ],
            "application/vnd.google.colaboratory.intrinsic+json": {
              "type": "string"
            }
          },
          "metadata": {},
          "execution_count": 12
        }
      ]
    },
    {
      "cell_type": "markdown",
      "source": [
        "###N7\n",
        "**What happens if you apply `.sort_values()` to a Series that contains NaN values? How can you change the default behavior?**"
      ],
      "metadata": {
        "id": "sqxMvRcnHUdt"
      }
    },
    {
      "cell_type": "code",
      "source": [
        "\"\"\"\n",
        "NaN values ​​are placed at the end of the Series\n",
        "\"\"\""
      ],
      "metadata": {
        "colab": {
          "base_uri": "https://localhost:8080/",
          "height": 35
        },
        "id": "56EGG5PKHXZv",
        "outputId": "e2cb32d5-4bf9-43c2-a8db-ab01f5b1e506"
      },
      "execution_count": 13,
      "outputs": [
        {
          "output_type": "execute_result",
          "data": {
            "text/plain": [
              "'\\nNaN values \\u200b\\u200bare placed at the end of the Series\\n'"
            ],
            "application/vnd.google.colaboratory.intrinsic+json": {
              "type": "string"
            }
          },
          "metadata": {},
          "execution_count": 13
        }
      ]
    },
    {
      "cell_type": "markdown",
      "source": [
        "###N8\n",
        "**How can you apply a custom function to each element of a Series and modify the values based on a condition?**"
      ],
      "metadata": {
        "id": "dUSJTO5MHZih"
      }
    },
    {
      "cell_type": "code",
      "source": [
        "\"\"\"\n",
        "for this we need to use the .apply() and .map() methods\n",
        "\"\"\""
      ],
      "metadata": {
        "colab": {
          "base_uri": "https://localhost:8080/",
          "height": 35
        },
        "id": "sxyh8AiEHj_U",
        "outputId": "77f590b8-b486-4dde-c17a-e0d1dfc6763e"
      },
      "execution_count": 14,
      "outputs": [
        {
          "output_type": "execute_result",
          "data": {
            "text/plain": [
              "'\\nfor this we need to use the .apply() and .map() methods\\n'"
            ],
            "application/vnd.google.colaboratory.intrinsic+json": {
              "type": "string"
            }
          },
          "metadata": {},
          "execution_count": 14
        }
      ]
    },
    {
      "cell_type": "markdown",
      "source": [
        "###N9\n",
        "**If you have a Series of datetime values, how can you extract only the month or the year from each value?**"
      ],
      "metadata": {
        "id": "L6YBeb2YHkhj"
      }
    },
    {
      "cell_type": "code",
      "source": [
        "\"\"\"\n",
        "To work with datetime in pandas, we need to use .dt : ser.dt.month or ser.dt.year\n",
        "\"\"\""
      ],
      "metadata": {
        "colab": {
          "base_uri": "https://localhost:8080/",
          "height": 35
        },
        "id": "EpVNhRGuHoAp",
        "outputId": "0302b5cc-5917-488b-c9b0-8f0c4751420e"
      },
      "execution_count": 16,
      "outputs": [
        {
          "output_type": "execute_result",
          "data": {
            "text/plain": [
              "'\\nTo work with datetime in pandas, we need to use .dt : ser.dt.month or ser.dt.year\\n'"
            ],
            "application/vnd.google.colaboratory.intrinsic+json": {
              "type": "string"
            }
          },
          "metadata": {},
          "execution_count": 16
        }
      ]
    },
    {
      "cell_type": "markdown",
      "source": [
        "###N10\n",
        "**What is the difference between `.map(), .apply(), and .applymap()` when working with a Pandas Series?**"
      ],
      "metadata": {
        "id": "wc6EB_joHoiF"
      }
    },
    {
      "cell_type": "code",
      "source": [
        "\"\"\"\n",
        "map - used only for Series . It applies a function to each element\n",
        "apply - Used for Series or DataFrame columns\n",
        "applymap - is only used for DataFrame . It applies a function to each element of the DataFrame\n",
        "\"\"\""
      ],
      "metadata": {
        "colab": {
          "base_uri": "https://localhost:8080/",
          "height": 52
        },
        "id": "EM4TiTWTHrYP",
        "outputId": "40d5db17-321b-4d85-9581-5a9dda9cd9a2"
      },
      "execution_count": 15,
      "outputs": [
        {
          "output_type": "execute_result",
          "data": {
            "text/plain": [
              "'\\nmap - used only for Series . It applies a function to each element\\napply - Used for Series or DataFrame columns\\napplymap - is only used for DataFrame . It applies a function to each element of the DataFrame\\n'"
            ],
            "application/vnd.google.colaboratory.intrinsic+json": {
              "type": "string"
            }
          },
          "metadata": {},
          "execution_count": 15
        }
      ]
    }
  ]
}