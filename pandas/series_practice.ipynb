{
  "nbformat": 4,
  "nbformat_minor": 0,
  "metadata": {
    "colab": {
      "provenance": [],
      "authorship_tag": "ABX9TyOdMogXp3Fxi8jTJKINQd4P",
      "include_colab_link": true
    },
    "kernelspec": {
      "name": "python3",
      "display_name": "Python 3"
    },
    "language_info": {
      "name": "python"
    }
  },
  "cells": [
    {
      "cell_type": "markdown",
      "metadata": {
        "id": "view-in-github",
        "colab_type": "text"
      },
      "source": [
        "<a href=\"https://colab.research.google.com/github/izzat-ai/learning-ai/blob/main/pandas/series_practice.ipynb\" target=\"_parent\"><img src=\"https://colab.research.google.com/assets/colab-badge.svg\" alt=\"Open In Colab\"/></a>"
      ]
    },
    {
      "cell_type": "code",
      "source": [
        "import numpy as np\n",
        "import pandas as pd\n",
        "from pandas import Series"
      ],
      "metadata": {
        "id": "kXXGbyWSyoZi"
      },
      "execution_count": 1,
      "outputs": []
    },
    {
      "cell_type": "markdown",
      "source": [
        "###N1\n",
        "**How can you create a Pandas Series from a Python dictionary? Provide an example**"
      ],
      "metadata": {
        "id": "MjqnYx7IyJIj"
      }
    },
    {
      "cell_type": "code",
      "execution_count": 2,
      "metadata": {
        "colab": {
          "base_uri": "https://localhost:8080/"
        },
        "id": "ATh1wZgmx11h",
        "outputId": "bb2dce91-a044-4df9-d8f0-10a1220d809d"
      },
      "outputs": [
        {
          "output_type": "stream",
          "name": "stdout",
          "text": [
            "T-shirt      50000\n",
            "jeans        35000\n",
            "socks        20000\n",
            "cap          14000\n",
            "sneakers    145000\n",
            "dtype: int64\n",
            "<class 'pandas.core.series.Series'>\n"
          ]
        }
      ],
      "source": [
        "dct = {'T-shirt':50000, 'jeans':35000, 'socks':20000, 'cap':14000, 'sneakers':145000}\n",
        "obj = Series(dct)\n",
        "print(obj)\n",
        "print(type(obj))"
      ]
    },
    {
      "cell_type": "markdown",
      "source": [
        "###N2\n",
        "**What will be the output of `s = pd.Series([1, 2, 3], index=['a', 'b', 'c'])` , and how can you access the value associated with index 'b'?**"
      ],
      "metadata": {
        "id": "UqOD_9KFyLtl"
      }
    },
    {
      "cell_type": "code",
      "source": [
        "\"\"\"\n",
        "A Series is created with indices a, b, c and corresponding values ​​1, 2, 3. The value corresponding\n",
        "to index b can be obtained as s['b'] or s.iloc[1]\n",
        "\"\"\""
      ],
      "metadata": {
        "colab": {
          "base_uri": "https://localhost:8080/",
          "height": 53
        },
        "id": "sHBA_jtOyQ02",
        "outputId": "20acfa33-fc86-485a-e47d-8ed8c92314ba"
      },
      "execution_count": 3,
      "outputs": [
        {
          "output_type": "execute_result",
          "data": {
            "text/plain": [
              "\"\\nA Series is created with indices a, b, c and corresponding values \\u200b\\u200b1, 2, 3. The value corresponding \\nto index b can be obtained as s['b'] or s.iloc[1]\\n\""
            ],
            "application/vnd.google.colaboratory.intrinsic+json": {
              "type": "string"
            }
          },
          "metadata": {},
          "execution_count": 3
        }
      ]
    },
    {
      "cell_type": "markdown",
      "source": [
        "###N3\n",
        "**What is the difference between `.loc[]` and `.iloc[]` when accessing elements in a Series?**"
      ],
      "metadata": {
        "id": "F2Fke5F_yT9L"
      }
    },
    {
      "cell_type": "code",
      "source": [
        "\"\"\"\n",
        "iloc[] - accesses data by index number, while loc[] accesses data by index itself\n",
        "\"\"\""
      ],
      "metadata": {
        "colab": {
          "base_uri": "https://localhost:8080/",
          "height": 35
        },
        "id": "1xw3OAlxyYCo",
        "outputId": "d041f96c-fe7f-4710-f20d-5638ec0c91e3"
      },
      "execution_count": 4,
      "outputs": [
        {
          "output_type": "execute_result",
          "data": {
            "text/plain": [
              "'\\niloc[] - accesses data by index number, while loc[] accesses data by index itself\\n'"
            ],
            "application/vnd.google.colaboratory.intrinsic+json": {
              "type": "string"
            }
          },
          "metadata": {},
          "execution_count": 4
        }
      ]
    },
    {
      "cell_type": "markdown",
      "source": [
        "###N4\n",
        "**How can you check for missing (NaN) values in a Pandas Series, and how can you fill them with the mean value of the Series?**"
      ],
      "metadata": {
        "id": "84z0xaCyya7b"
      }
    },
    {
      "cell_type": "code",
      "source": [
        "\"\"\"\n",
        "NaN values ​​can be detected using the ser.hasnans , ser.isnull() , ser.notnull() methods\n",
        "You can fill in the NaNs with the mean of the series as follows: ser.fillna(ser.mean(), inplace=True)\n",
        "\"\"\""
      ],
      "metadata": {
        "colab": {
          "base_uri": "https://localhost:8080/",
          "height": 53
        },
        "id": "Mf4lOjGpyhUv",
        "outputId": "94298777-6739-449e-a32b-4a280a91f936"
      },
      "execution_count": 6,
      "outputs": [
        {
          "output_type": "execute_result",
          "data": {
            "text/plain": [
              "'\\nNaN values \\u200b\\u200bcan be detected using the ser.hasnans , ser.isnull() , ser.notnull() methods\\nYou can fill in the NaNs with the mean of the series as follows: ser.fillna(ser.mean(), inplace=True)\\n'"
            ],
            "application/vnd.google.colaboratory.intrinsic+json": {
              "type": "string"
            }
          },
          "metadata": {},
          "execution_count": 6
        }
      ]
    },
    {
      "cell_type": "markdown",
      "source": [
        "###N5\n",
        "**Given a Series `s = pd.Series([10, 20, 30, 40, 50], index=[100, 101, 102, 103, 104])`, how can you filter out values greater than 25?**"
      ],
      "metadata": {
        "id": "PGWK0TxWykbQ"
      }
    },
    {
      "cell_type": "code",
      "source": [
        "\"\"\"\n",
        "can be selected as ser[ser>25]\n",
        "\"\"\""
      ],
      "metadata": {
        "colab": {
          "base_uri": "https://localhost:8080/",
          "height": 35
        },
        "id": "Sl4PZyKTynAp",
        "outputId": "207bed6b-e483-4d63-facd-6381b583d05b"
      },
      "execution_count": 5,
      "outputs": [
        {
          "output_type": "execute_result",
          "data": {
            "text/plain": [
              "'\\ncan be selected as ser[ser>25]\\n'"
            ],
            "application/vnd.google.colaboratory.intrinsic+json": {
              "type": "string"
            }
          },
          "metadata": {},
          "execution_count": 5
        }
      ]
    }
  ]
}