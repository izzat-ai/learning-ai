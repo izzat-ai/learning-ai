{
  "nbformat": 4,
  "nbformat_minor": 0,
  "metadata": {
    "colab": {
      "provenance": [],
      "authorship_tag": "ABX9TyO6uDzctrx6STruEUZVthVy",
      "include_colab_link": true
    },
    "kernelspec": {
      "name": "python3",
      "display_name": "Python 3"
    },
    "language_info": {
      "name": "python"
    }
  },
  "cells": [
    {
      "cell_type": "markdown",
      "metadata": {
        "id": "view-in-github",
        "colab_type": "text"
      },
      "source": [
        "<a href=\"https://colab.research.google.com/github/izzat-ai/learning-ai/blob/main/python_projects/Inventory.ipynb\" target=\"_parent\"><img src=\"https://colab.research.google.com/assets/colab-badge.svg\" alt=\"Open In Colab\"/></a>"
      ]
    },
    {
      "cell_type": "markdown",
      "source": [
        "in this project: *we will create a product management system for a small store*"
      ],
      "metadata": {
        "id": "nqCpCi7Rwu9M"
      }
    },
    {
      "cell_type": "code",
      "source": [
        "products = {\n",
        "    'bread':{'price':3000, 'quantity':150},\n",
        "    'tea':{'price':12000, 'quantity':85},\n",
        "    'paper':{'price':2000, 'quantity':130},\n",
        "    'napkin':{'price':5000, 'quantity':60},\n",
        "    'sweets':{'price':25000, 'quantity':300}\n",
        "    }\n",
        "\n",
        "while True:\n",
        "  print(\"\"\"\n",
        "      MENU\n",
        "\n",
        "    1. view products\n",
        "    2. add product\n",
        "    3. update product\n",
        "    4. exit\n",
        "  \"\"\")\n",
        "  choice = int(input(\"Enter your choice: \"))\n",
        "  if choice == 1:\n",
        "    for key, value in products.items():\n",
        "      print(f\"Quantity of {key.capitalize()}: {value['quantity']}. Its price is: {value['price']}\")\n",
        "  elif choice == 2:\n",
        "    product, quantity, price = input(\"Enter the product name,quantity and price (ex,2,3000): \").split(',')\n",
        "    quantity = int(quantity)\n",
        "    price = float(price)\n",
        "    if product not in products:\n",
        "      products[product] = {'price':price, 'quantity':quantity}\n",
        "  elif choice == 3:\n",
        "    update = input(\"Enter the name of the product to update: \")\n",
        "    if update in products.keys():\n",
        "      products[update]['price'] = float(input(\"Enter the new price: \"))\n",
        "      products[update]['quantity'] = int(input(\"Enter the new quantity: \"))\n",
        "  elif choice == 4:\n",
        "      print(\"The program has been stopped !\")\n",
        "      break\n",
        "  else:\n",
        "    print(\"Invalid choice !\")"
      ],
      "metadata": {
        "colab": {
          "base_uri": "https://localhost:8080/"
        },
        "id": "blhDd1FH3pjo",
        "outputId": "393db069-c686-46a7-ab98-422aac319c50"
      },
      "execution_count": 10,
      "outputs": [
        {
          "output_type": "stream",
          "name": "stdout",
          "text": [
            "\n",
            "      MENU\n",
            "    \n",
            "    1. view products\n",
            "    2. add product\n",
            "    3. update product\n",
            "    4. exit\n",
            "  \n",
            "Enter your choice: 1\n",
            "Quantity of Bread: 150. Its price is: 3000\n",
            "Quantity of Tea: 85. Its price is: 12000\n",
            "Quantity of Paper: 130. Its price is: 2000\n",
            "Quantity of Napkin: 60. Its price is: 5000\n",
            "Quantity of Sweets: 300. Its price is: 25000\n",
            "\n",
            "      MENU\n",
            "    \n",
            "    1. view products\n",
            "    2. add product\n",
            "    3. update product\n",
            "    4. exit\n",
            "  \n",
            "Enter your choice: 2\n",
            "Enter the product name,quantity and price (ex,2,3000): coffee,3,18000\n",
            "\n",
            "      MENU\n",
            "    \n",
            "    1. view products\n",
            "    2. add product\n",
            "    3. update product\n",
            "    4. exit\n",
            "  \n",
            "Enter your choice: 1\n",
            "Quantity of Bread: 150. Its price is: 3000\n",
            "Quantity of Tea: 85. Its price is: 12000\n",
            "Quantity of Paper: 130. Its price is: 2000\n",
            "Quantity of Napkin: 60. Its price is: 5000\n",
            "Quantity of Sweets: 300. Its price is: 25000\n",
            "Quantity of Coffee: 3. Its price is: 18000.0\n",
            "\n",
            "      MENU\n",
            "    \n",
            "    1. view products\n",
            "    2. add product\n",
            "    3. update product\n",
            "    4. exit\n",
            "  \n",
            "Enter your choice: 3\n",
            "Enter the name of the product to update: tea\n",
            "Enter the new price: 11500\n",
            "Enter the new quantity: 1\n",
            "\n",
            "      MENU\n",
            "    \n",
            "    1. view products\n",
            "    2. add product\n",
            "    3. update product\n",
            "    4. exit\n",
            "  \n",
            "Enter your choice: 1\n",
            "Quantity of Bread: 150. Its price is: 3000\n",
            "Quantity of Tea: 1. Its price is: 11500.0\n",
            "Quantity of Paper: 130. Its price is: 2000\n",
            "Quantity of Napkin: 60. Its price is: 5000\n",
            "Quantity of Sweets: 300. Its price is: 25000\n",
            "Quantity of Coffee: 3. Its price is: 18000.0\n",
            "\n",
            "      MENU\n",
            "    \n",
            "    1. view products\n",
            "    2. add product\n",
            "    3. update product\n",
            "    4. exit\n",
            "  \n",
            "Enter your choice: 4\n",
            "The program has been stopped !\n"
          ]
        }
      ]
    }
  ]
}