{
  "nbformat": 4,
  "nbformat_minor": 0,
  "metadata": {
    "colab": {
      "provenance": [],
      "authorship_tag": "ABX9TyMQizXdOy7kI+kWUcN7qBxt",
      "include_colab_link": true
    },
    "kernelspec": {
      "name": "python3",
      "display_name": "Python 3"
    },
    "language_info": {
      "name": "python"
    }
  },
  "cells": [
    {
      "cell_type": "markdown",
      "metadata": {
        "id": "view-in-github",
        "colab_type": "text"
      },
      "source": [
        "<a href=\"https://colab.research.google.com/github/izzat-ai/learning-ai/blob/main/python_projects/calculator.ipynb\" target=\"_parent\"><img src=\"https://colab.research.google.com/assets/colab-badge.svg\" alt=\"Open In Colab\"/></a>"
      ]
    },
    {
      "cell_type": "markdown",
      "source": [
        "A simple calculator has been created on this page"
      ],
      "metadata": {
        "id": "xDHIt75xO_5X"
      }
    },
    {
      "cell_type": "code",
      "execution_count": 15,
      "metadata": {
        "id": "7skKoKAxAQBH"
      },
      "outputs": [],
      "source": [
        "# This function adds two numbers\n",
        "def add(x, y):\n",
        "  sum = x+y\n",
        "  return sum\n",
        "\n",
        "# This function subtracts two numbers\n",
        "def sub(x, y):\n",
        "  sub = x-y\n",
        "  return sub\n",
        "\n",
        "# This function multiplies two numbers\n",
        "def mult(x, y):\n",
        "  mult = x*y\n",
        "  return mult\n",
        "\n",
        "# This function divides two numbers, handling division by zero\n",
        "def divis(x, y):\n",
        "  if y==0:\n",
        "    print(\"error\")\n",
        "  else:\n",
        "    div = x//y\n",
        "  return div"
      ]
    },
    {
      "cell_type": "code",
      "source": [
        "# This is the main program loop for the calculator\n",
        "while True:\n",
        "  # Display the menu of operations\n",
        "  print(\"\"\"\n",
        "      MENU\n",
        "    1. addition\n",
        "    2. substraction\n",
        "    3. multiplication\n",
        "    4. division\n",
        "    5. exit\n",
        "  \"\"\")\n",
        "  # Get user input for their choice\n",
        "  menu = int(input(\"enter your choice: \"))\n",
        "  # Perform the selected operation based on user input\n",
        "  if menu==1:\n",
        "    x = int(input(\"enter first number: \"))\n",
        "    y = int(input(\"enter second number: \"))\n",
        "    print(add(x, y))\n",
        "  elif menu==2:\n",
        "    x = int(input(\"enter first number: \"))\n",
        "    y = int(input(\"enter second number: \"))\n",
        "    print(sub(x, y))\n",
        "  elif menu==3:\n",
        "    x = int(input(\"enter first number: \"))\n",
        "    y = int(input(\"enter second number: \"))\n",
        "    print(mult(x, y))\n",
        "  elif menu==4:\n",
        "    x = int(input(\"enter first number: \"))\n",
        "    y = int(input(\"enter second number: \"))\n",
        "    print(divis(x, y))\n",
        "  # Exit the loop if the user chooses option 5\n",
        "  else:\n",
        "    print(\"the program stops\")\n",
        "    break"
      ],
      "metadata": {
        "colab": {
          "base_uri": "https://localhost:8080/"
        },
        "id": "D7njOJBEA6-c",
        "outputId": "5ceba9a2-7e22-40a1-f750-e35f89e4d40d"
      },
      "execution_count": 16,
      "outputs": [
        {
          "output_type": "stream",
          "name": "stdout",
          "text": [
            "\n",
            "      MENU\n",
            "    1. addition\n",
            "    2. substraction\n",
            "    3. multiplication\n",
            "    4. division\n",
            "    5. exit\n",
            "  \n",
            "enter your choice: 1\n",
            "enter first number: 10\n",
            "enter second number: 22\n",
            "32\n",
            "\n",
            "      MENU\n",
            "    1. addition\n",
            "    2. substraction\n",
            "    3. multiplication\n",
            "    4. division\n",
            "    5. exit\n",
            "  \n",
            "enter your choice: 2\n",
            "enter first number: 4\n",
            "enter second number: 2\n",
            "2\n",
            "\n",
            "      MENU\n",
            "    1. addition\n",
            "    2. substraction\n",
            "    3. multiplication\n",
            "    4. division\n",
            "    5. exit\n",
            "  \n",
            "enter your choice: 3\n",
            "enter first number: 8\n",
            "enter second number: 6\n",
            "48\n",
            "\n",
            "      MENU\n",
            "    1. addition\n",
            "    2. substraction\n",
            "    3. multiplication\n",
            "    4. division\n",
            "    5. exit\n",
            "  \n",
            "enter your choice: 4\n",
            "enter first number: 32\n",
            "enter second number: 8\n",
            "4\n",
            "\n",
            "      MENU\n",
            "    1. addition\n",
            "    2. substraction\n",
            "    3. multiplication\n",
            "    4. division\n",
            "    5. exit\n",
            "  \n",
            "enter your choice: 5\n",
            "the program stops\n"
          ]
        }
      ]
    },
    {
      "cell_type": "code",
      "source": [],
      "metadata": {
        "id": "IndHgzlQCoLV"
      },
      "execution_count": null,
      "outputs": []
    }
  ]
}