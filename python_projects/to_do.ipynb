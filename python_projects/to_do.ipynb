{
  "nbformat": 4,
  "nbformat_minor": 0,
  "metadata": {
    "colab": {
      "provenance": [],
      "authorship_tag": "ABX9TyMw1qP5qqi+RJOBqxwhOzVy",
      "include_colab_link": true
    },
    "kernelspec": {
      "name": "python3",
      "display_name": "Python 3"
    },
    "language_info": {
      "name": "python"
    }
  },
  "cells": [
    {
      "cell_type": "markdown",
      "metadata": {
        "id": "view-in-github",
        "colab_type": "text"
      },
      "source": [
        "<a href=\"https://colab.research.google.com/github/izzat-ai/learning-ai/blob/main/python_projects/to_do.ipynb\" target=\"_parent\"><img src=\"https://colab.research.google.com/assets/colab-badge.svg\" alt=\"Open In Colab\"/></a>"
      ]
    },
    {
      "cell_type": "markdown",
      "source": [
        "we are making a to-do list project on this page"
      ],
      "metadata": {
        "id": "_rfQItEFB1xu"
      }
    },
    {
      "cell_type": "code",
      "source": [
        "tasks = [\n",
        "    {'name':'have breakfast', 'status':'done'},\n",
        "    {'name':'get bread', 'status':'done'}\n",
        "]\n",
        "\n",
        "while True:\n",
        "  print(\"\"\"\n",
        "      MENU\n",
        "\n",
        "    1. enter tasks\n",
        "    2. show tasks\n",
        "    3. mark as done\n",
        "    4. exit\n",
        "  \"\"\")\n",
        "  choice = int(input(\"enter your choice: \"))\n",
        "  if choice == 1: # enter tasks\n",
        "    while True:\n",
        "      task = input(\"Task name: \")\n",
        "      status = 'not done'\n",
        "      tasks.append({'name':task, 'status':status})\n",
        "      question = input(\"Do you want to add another task (yes/no): \")\n",
        "      if question == 'no':\n",
        "        break\n",
        "  elif choice == 2: # show tasks\n",
        "    i = 1\n",
        "    for task in tasks:\n",
        "      print(f\"{i}-{task['name']}[{task['status']}]\")\n",
        "      i+=1\n",
        "  elif choice == 3:\n",
        "    num = int(input(\"number of a completed task: \"))\n",
        "    if 0<=num<=len(tasks):\n",
        "      tasks[num-1]['status'] = 'done'\n",
        "      print(\"task completed\")\n",
        "    else:\n",
        "      print(\"mistake!\")\n",
        "  elif choice == 4:\n",
        "    print(\"The program has ended.\")\n",
        "    break\n",
        "  else:\n",
        "    print(\"wrong choice !\")"
      ],
      "metadata": {
        "id": "wD0AkMoJLtc3",
        "colab": {
          "base_uri": "https://localhost:8080/"
        },
        "collapsed": true,
        "outputId": "2a4ca941-7137-42b1-852d-597107529dd9"
      },
      "execution_count": 6,
      "outputs": [
        {
          "output_type": "stream",
          "name": "stdout",
          "text": [
            "\n",
            "      MENU\n",
            "\n",
            "    1. enter tasks\n",
            "    2. show tasks\n",
            "    3. mark as done\n",
            "    4. exit\n",
            "  \n",
            "enter your choice: 1\n",
            "Task name: running\n",
            "Do you want to add another task (yes/no): yes\n",
            "Task name: walking\n",
            "Do you want to add another task (yes/no): yes\n",
            "Task name: shawing\n",
            "Do you want to add another task (yes/no): no\n",
            "\n",
            "      MENU\n",
            "\n",
            "    1. enter tasks\n",
            "    2. show tasks\n",
            "    3. mark as done\n",
            "    4. exit\n",
            "  \n",
            "enter your choice: 3\n",
            "number of a completed task: 3\n",
            "task completed\n",
            "\n",
            "      MENU\n",
            "\n",
            "    1. enter tasks\n",
            "    2. show tasks\n",
            "    3. mark as done\n",
            "    4. exit\n",
            "  \n",
            "enter your choice: 2\n",
            "1-have breakfast[done]\n",
            "2-get bread[done]\n",
            "3-running[done]\n",
            "4-walking[not done]\n",
            "5-shawing[not done]\n",
            "\n",
            "      MENU\n",
            "\n",
            "    1. enter tasks\n",
            "    2. show tasks\n",
            "    3. mark as done\n",
            "    4. exit\n",
            "  \n",
            "enter your choice: 4\n",
            "The program has ended.\n"
          ]
        }
      ]
    },
    {
      "cell_type": "code",
      "source": [],
      "metadata": {
        "id": "63WL4RMpKsGC"
      },
      "execution_count": null,
      "outputs": []
    }
  ]
}