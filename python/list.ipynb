{
  "nbformat": 4,
  "nbformat_minor": 0,
  "metadata": {
    "colab": {
      "provenance": [],
      "authorship_tag": "ABX9TyP6XgrnQ+Bw8Z96xCOjhCsq",
      "include_colab_link": true
    },
    "kernelspec": {
      "name": "python3",
      "display_name": "Python 3"
    },
    "language_info": {
      "name": "python"
    }
  },
  "cells": [
    {
      "cell_type": "markdown",
      "metadata": {
        "id": "view-in-github",
        "colab_type": "text"
      },
      "source": [
        "<a href=\"https://colab.research.google.com/github/izzat-ai/learning-ai/blob/main/python/list.ipynb\" target=\"_parent\"><img src=\"https://colab.research.google.com/assets/colab-badge.svg\" alt=\"Open In Colab\"/></a>"
      ]
    },
    {
      "cell_type": "code",
      "source": [
        "# store string data in a list\n",
        "\n",
        "fruits = ['apple', 'pomegranate', 'cherry', 'fig', 'banana', 'pineapple']\n",
        "print(fruits)"
      ],
      "metadata": {
        "id": "q1O3yNHTWnhM",
        "colab": {
          "base_uri": "https://localhost:8080/"
        },
        "outputId": "7b5f8ff8-bc72-4cc6-b0eb-461734fb2248"
      },
      "execution_count": 1,
      "outputs": [
        {
          "output_type": "stream",
          "name": "stdout",
          "text": [
            "['apple', 'pomegranate', 'cherry', 'fig', 'banana', 'pineapple']\n"
          ]
        }
      ]
    },
    {
      "cell_type": "code",
      "source": [
        "# store numeric data\n",
        "\n",
        "prices = [3500, 4600, 7000, 12000, 3000]\n",
        "print(prices)"
      ],
      "metadata": {
        "colab": {
          "base_uri": "https://localhost:8080/"
        },
        "id": "m2Eny1V_NCTv",
        "outputId": "cc6f384f-7768-497a-aabb-0e55fbc29d53"
      },
      "execution_count": 2,
      "outputs": [
        {
          "output_type": "stream",
          "name": "stdout",
          "text": [
            "[3500, 4600, 7000, 12000, 3000]\n"
          ]
        }
      ]
    },
    {
      "cell_type": "code",
      "source": [
        "# store mixed data types\n",
        "\n",
        "numbers = ['one', -2, 'three', 4.5, 6, 'seven']\n",
        "print(type(numbers))"
      ],
      "metadata": {
        "colab": {
          "base_uri": "https://localhost:8080/"
        },
        "id": "bin_kM_ONEWa",
        "outputId": "5c15d42c-7a51-48ec-bbe3-0e7911b5cc15"
      },
      "execution_count": 3,
      "outputs": [
        {
          "output_type": "stream",
          "name": "stdout",
          "text": [
            "<class 'list'>\n"
          ]
        }
      ]
    },
    {
      "cell_type": "code",
      "source": [
        "# access an element from the list\n",
        "\n",
        "# get the cherry fruit\n",
        "print(fruits[2])"
      ],
      "metadata": {
        "colab": {
          "base_uri": "https://localhost:8080/"
        },
        "id": "VJHCAqrQNGWw",
        "outputId": "a31a5895-0b8e-4235-9849-1ad74ad01144"
      },
      "execution_count": 4,
      "outputs": [
        {
          "output_type": "stream",
          "name": "stdout",
          "text": [
            "cherry\n"
          ]
        }
      ]
    },
    {
      "cell_type": "code",
      "source": [
        "# get the banana\n",
        "print(fruits[-2])"
      ],
      "metadata": {
        "colab": {
          "base_uri": "https://localhost:8080/"
        },
        "id": "U-_VFNhrNIr8",
        "outputId": "d135d44d-9b3d-4a5f-bee3-8a7fe24e32f5"
      },
      "execution_count": 5,
      "outputs": [
        {
          "output_type": "stream",
          "name": "stdout",
          "text": [
            "banana\n"
          ]
        }
      ]
    },
    {
      "cell_type": "code",
      "source": [
        "# string methods can be applied to text data\n",
        "\n",
        "print(fruits[-1].capitalize())"
      ],
      "metadata": {
        "colab": {
          "base_uri": "https://localhost:8080/"
        },
        "id": "PHhQ_4sUNLEz",
        "outputId": "313795c4-f62c-4f76-b99f-929fb7f97fec"
      },
      "execution_count": 6,
      "outputs": [
        {
          "output_type": "stream",
          "name": "stdout",
          "text": [
            "Pineapple\n"
          ]
        }
      ]
    },
    {
      "cell_type": "code",
      "source": [
        "# print the first fruit in uppercase\n",
        "\n",
        "print(fruits[0].upper())"
      ],
      "metadata": {
        "colab": {
          "base_uri": "https://localhost:8080/"
        },
        "id": "76SlKLItNNWK",
        "outputId": "8d262235-f376-4696-b150-8824a2074f6a"
      },
      "execution_count": 7,
      "outputs": [
        {
          "output_type": "stream",
          "name": "stdout",
          "text": [
            "APPLE\n"
          ]
        }
      ]
    },
    {
      "cell_type": "code",
      "source": [
        "# calculate the sum of the second and fourth prices\n",
        "\n",
        "prices[1] + prices[3]"
      ],
      "metadata": {
        "colab": {
          "base_uri": "https://localhost:8080/"
        },
        "id": "SkFClM3eNPv6",
        "outputId": "124f510d-45ce-43a2-d972-9615bc85587c"
      },
      "execution_count": 8,
      "outputs": [
        {
          "output_type": "execute_result",
          "data": {
            "text/plain": [
              "16600"
            ]
          },
          "metadata": {},
          "execution_count": 8
        }
      ]
    },
    {
      "cell_type": "code",
      "source": [
        "# increase the 4th price by 3000\n",
        "print(prices[3] + 3000)"
      ],
      "metadata": {
        "colab": {
          "base_uri": "https://localhost:8080/"
        },
        "id": "4Ks0Ur5VNSd6",
        "outputId": "3eef73db-2a74-422a-aad5-67bcadcbd927"
      },
      "execution_count": 9,
      "outputs": [
        {
          "output_type": "stream",
          "name": "stdout",
          "text": [
            "15000\n"
          ]
        }
      ]
    },
    {
      "cell_type": "code",
      "source": [
        "# replace an element with a new value\n",
        "\n",
        "# replace pomegranate with sour cherry\n",
        "fruits[1] = 'sour cherry'\n",
        "print(fruits)"
      ],
      "metadata": {
        "colab": {
          "base_uri": "https://localhost:8080/"
        },
        "id": "XWx6iEHLNUVp",
        "outputId": "c45eddfc-d16a-465e-f473-601c8e847382"
      },
      "execution_count": 10,
      "outputs": [
        {
          "output_type": "stream",
          "name": "stdout",
          "text": [
            "['apple', 'sour cherry', 'cherry', 'fig', 'banana', 'pineapple']\n"
          ]
        }
      ]
    },
    {
      "cell_type": "code",
      "source": [
        "# replace banana with plum\n",
        "fruits[-2] = \"plum\"\n",
        "print(fruits)"
      ],
      "metadata": {
        "colab": {
          "base_uri": "https://localhost:8080/"
        },
        "id": "CziWzmHHNWPX",
        "outputId": "8d637492-cfe0-4cbf-9baf-24999f18e724"
      },
      "execution_count": 11,
      "outputs": [
        {
          "output_type": "stream",
          "name": "stdout",
          "text": [
            "['apple', 'sour cherry', 'cherry', 'fig', 'plum', 'pineapple']\n"
          ]
        }
      ]
    },
    {
      "cell_type": "code",
      "source": [
        "# add a new fruit to the list\n",
        "fruits.append('pear')\n",
        "print(fruits)"
      ],
      "metadata": {
        "colab": {
          "base_uri": "https://localhost:8080/"
        },
        "id": "Qb5yy9CbNcSc",
        "outputId": "ba5332ea-0974-4184-a936-bc6e165c3a5b"
      },
      "execution_count": 12,
      "outputs": [
        {
          "output_type": "stream",
          "name": "stdout",
          "text": [
            "['apple', 'sour cherry', 'cherry', 'fig', 'plum', 'pineapple', 'pear']\n"
          ]
        }
      ]
    },
    {
      "cell_type": "code",
      "source": [
        "# add orange to the list\n",
        "fruits.append('orange')"
      ],
      "metadata": {
        "id": "H4vIFXgWNd_2"
      },
      "execution_count": 13,
      "outputs": []
    },
    {
      "cell_type": "code",
      "source": [
        "# add a new number to the prices list\n",
        "prices.append(14700)\n",
        "print(prices)"
      ],
      "metadata": {
        "colab": {
          "base_uri": "https://localhost:8080/"
        },
        "id": "92JQUEIHNgZf",
        "outputId": "f5511f69-606c-4525-f443-178f2a174ea2"
      },
      "execution_count": 14,
      "outputs": [
        {
          "output_type": "stream",
          "name": "stdout",
          "text": [
            "[3500, 4600, 7000, 12000, 3000, 14700]\n"
          ]
        }
      ]
    },
    {
      "cell_type": "code",
      "source": [
        "# insert lemon as the first fruit\n",
        "fruits.insert(0, 'lemon')\n",
        "print(fruits)"
      ],
      "metadata": {
        "colab": {
          "base_uri": "https://localhost:8080/"
        },
        "id": "2UevXMAYNiBl",
        "outputId": "a1b1384b-6d82-4f77-aaec-c68786ad2062"
      },
      "execution_count": 15,
      "outputs": [
        {
          "output_type": "stream",
          "name": "stdout",
          "text": [
            "['lemon', 'apple', 'sour cherry', 'cherry', 'fig', 'plum', 'pineapple', 'pear', 'orange']\n"
          ]
        }
      ]
    },
    {
      "cell_type": "code",
      "source": [
        "# insert grapes as the second fruit\n",
        "fruits.insert(1, 'grapes')\n",
        "print(fruits)"
      ],
      "metadata": {
        "colab": {
          "base_uri": "https://localhost:8080/"
        },
        "id": "xXNXSUMiNk7v",
        "outputId": "11322bd5-3e13-47a0-a74c-0ba8e3f6eb39"
      },
      "execution_count": 16,
      "outputs": [
        {
          "output_type": "stream",
          "name": "stdout",
          "text": [
            "['lemon', 'grapes', 'apple', 'sour cherry', 'cherry', 'fig', 'plum', 'pineapple', 'pear', 'orange']\n"
          ]
        }
      ]
    },
    {
      "cell_type": "code",
      "source": [
        "# delete an element by index\n",
        "del fruits[5]  # remove fig"
      ],
      "metadata": {
        "id": "ugYBxQpkNmmk"
      },
      "execution_count": 17,
      "outputs": []
    },
    {
      "cell_type": "code",
      "source": [
        "# delete element at index 5\n",
        "del fruits[5]\n",
        "print(fruits)"
      ],
      "metadata": {
        "colab": {
          "base_uri": "https://localhost:8080/"
        },
        "id": "uili0zVWNofo",
        "outputId": "696cbe78-34d8-4cef-fa60-90f6d31c1770"
      },
      "execution_count": 18,
      "outputs": [
        {
          "output_type": "stream",
          "name": "stdout",
          "text": [
            "['lemon', 'grapes', 'apple', 'sour cherry', 'cherry', 'pineapple', 'pear', 'orange']\n"
          ]
        }
      ]
    },
    {
      "cell_type": "code",
      "source": [
        "# remove an element by name\n",
        "fruits.remove(\"lemon\")"
      ],
      "metadata": {
        "id": "mhtpCw7QNqTx"
      },
      "execution_count": 19,
      "outputs": []
    },
    {
      "cell_type": "code",
      "source": [
        "# remove pineapple from the list\n",
        "fruits.remove(\"pineapple\")"
      ],
      "metadata": {
        "id": "cA1Hf8dTNv5-"
      },
      "execution_count": 20,
      "outputs": []
    },
    {
      "cell_type": "code",
      "source": [
        "print(fruits)"
      ],
      "metadata": {
        "colab": {
          "base_uri": "https://localhost:8080/"
        },
        "id": "DlWQYaa8NxYQ",
        "outputId": "927a73f0-f2f7-4f37-b59e-5410f8fff7bc"
      },
      "execution_count": 21,
      "outputs": [
        {
          "output_type": "stream",
          "name": "stdout",
          "text": [
            "['grapes', 'apple', 'sour cherry', 'cherry', 'pear', 'orange']\n"
          ]
        }
      ]
    },
    {
      "cell_type": "code",
      "source": [
        "# create a list of cars\n",
        "cars = ['malibu', 'malibu2', 'nexia', 'damas', 'nexia', 'cobalt', 'nexia', 'nexia2']\n",
        "print(cars)"
      ],
      "metadata": {
        "colab": {
          "base_uri": "https://localhost:8080/"
        },
        "id": "B-A5AMl_N2UB",
        "outputId": "aee81fcd-15e2-4872-83b3-9884f48da557"
      },
      "execution_count": 22,
      "outputs": [
        {
          "output_type": "stream",
          "name": "stdout",
          "text": [
            "['malibu', 'malibu2', 'nexia', 'damas', 'nexia', 'cobalt', 'nexia', 'nexia2']\n"
          ]
        }
      ]
    },
    {
      "cell_type": "code",
      "source": [
        "# remove the first occurrence of a repeated element\n",
        "cars.remove(\"nexia\")\n",
        "print(cars)"
      ],
      "metadata": {
        "colab": {
          "base_uri": "https://localhost:8080/"
        },
        "id": "RaBj9wDyN3If",
        "outputId": "c23daa3e-916b-4365-f7e8-10795ab44a67"
      },
      "execution_count": 23,
      "outputs": [
        {
          "output_type": "stream",
          "name": "stdout",
          "text": [
            "['malibu', 'malibu2', 'damas', 'nexia', 'cobalt', 'nexia', 'nexia2']\n"
          ]
        }
      ]
    },
    {
      "cell_type": "code",
      "source": [
        "# remove an element using pop and store it\n",
        "shopping = ['apple', 'pear', 'fig', 'onion', 'potato', 'bread']\n",
        "product = shopping.pop(-1)\n",
        "print(f\"Now I bought {product}. Remaining products are:\\n{shopping}\")"
      ],
      "metadata": {
        "colab": {
          "base_uri": "https://localhost:8080/"
        },
        "id": "4oKjwRW0N5EF",
        "outputId": "f00eb1cd-ab8d-495d-ef51-8760e093d5f4"
      },
      "execution_count": 24,
      "outputs": [
        {
          "output_type": "stream",
          "name": "stdout",
          "text": [
            "Now I bought bread. Remaining products are:\n",
            "['apple', 'pear', 'fig', 'onion', 'potato']\n"
          ]
        }
      ]
    },
    {
      "cell_type": "code",
      "source": [
        "# remove another element using pop\n",
        "pear = shopping.pop(1)\n",
        "print(f\"Now I also bought {pear}, remaining: {shopping}\")"
      ],
      "metadata": {
        "colab": {
          "base_uri": "https://localhost:8080/"
        },
        "id": "LvkL4QZgN_Ba",
        "outputId": "423a0636-8f0d-45e4-fa28-74eb7ed17132"
      },
      "execution_count": 25,
      "outputs": [
        {
          "output_type": "stream",
          "name": "stdout",
          "text": [
            "Now I also bought pear, remaining: ['apple', 'fig', 'onion', 'potato']\n"
          ]
        }
      ]
    },
    {
      "cell_type": "code",
      "source": [],
      "metadata": {
        "id": "8PnG3GhZOC9l"
      },
      "execution_count": null,
      "outputs": []
    }
  ]
}