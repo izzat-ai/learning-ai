{
  "nbformat": 4,
  "nbformat_minor": 0,
  "metadata": {
    "colab": {
      "provenance": [],
      "authorship_tag": "ABX9TyNBWxV+Os14HJ6OMXIMNJpq",
      "include_colab_link": true
    },
    "kernelspec": {
      "name": "python3",
      "display_name": "Python 3"
    },
    "language_info": {
      "name": "python"
    }
  },
  "cells": [
    {
      "cell_type": "markdown",
      "metadata": {
        "id": "view-in-github",
        "colab_type": "text"
      },
      "source": [
        "<a href=\"https://colab.research.google.com/github/izzat-ai/learning-ai/blob/main/python/if_elif_else.ipynb\" target=\"_parent\"><img src=\"https://colab.research.google.com/assets/colab-badge.svg\" alt=\"Open In Colab\"/></a>"
      ]
    },
    {
      "cell_type": "code",
      "execution_count": 19,
      "metadata": {
        "id": "fWdLxw0NSJlc",
        "colab": {
          "base_uri": "https://localhost:8080/"
        },
        "outputId": "d70e5fee-2356-4ccd-a279-80e6f6caf6f4"
      },
      "outputs": [
        {
          "output_type": "stream",
          "name": "stdout",
          "text": [
            "What is your age: 21\n",
            "The entry price for you is: 15000 thousand so'm.\n"
          ]
        }
      ],
      "source": [
        "# Determine prices based on age for zoo entry\n",
        "\n",
        "age = int(input(\"What is your age: \"))\n",
        "if age <= 5:\n",
        "  price = 0\n",
        "elif age <= 12:\n",
        "  price = 5000\n",
        "elif age <= 18:\n",
        "  price = 10000\n",
        "else:\n",
        "  price = 15000\n",
        "\n",
        "print(f\"The entry price for you is: {price} thousand so'm.\")"
      ]
    },
    {
      "cell_type": "code",
      "source": [
        "# Checking multiple conditions at once: OR operator\n",
        "\n",
        "day = input(\"What day of the week is it today: \")\n",
        "if day.lower() == 'saturday' or day.lower() == 'sunday':\n",
        "  print(\"Today we will go to the mountains for a rest.\")\n",
        "else:\n",
        "  print(\"Today is a working day.\")"
      ],
      "metadata": {
        "colab": {
          "base_uri": "https://localhost:8080/"
        },
        "id": "tkZQozod3YXS",
        "outputId": "7cb5d871-ad4d-406c-8fd3-3bc879f8957e"
      },
      "execution_count": 20,
      "outputs": [
        {
          "output_type": "stream",
          "name": "stdout",
          "text": [
            "What day of the week is it today: saturday\n",
            "Today we will go to the mountains for a rest.\n"
          ]
        }
      ]
    },
    {
      "cell_type": "code",
      "source": [
        "# Using elif with another condition\n",
        "\n",
        "day = input(\"What day is it today: \")\n",
        "\n",
        "if day.lower() == 'saturday' or day.lower() == 'sunday':\n",
        "  print(\"Today is a day off.\")\n",
        "elif day.lower() == 'friday':\n",
        "  print(\"You should go to Friday prayer!\")"
      ],
      "metadata": {
        "colab": {
          "base_uri": "https://localhost:8080/"
        },
        "id": "Dkqs1m-24BXr",
        "outputId": "d0bc9362-741f-4edc-db47-b8f7a2b63009"
      },
      "execution_count": 21,
      "outputs": [
        {
          "output_type": "stream",
          "name": "stdout",
          "text": [
            "What day is it today: sunday\n",
            "Today is a day off.\n"
          ]
        }
      ]
    },
    {
      "cell_type": "code",
      "source": [
        "# Checking multiple conditions at once: AND operator\n",
        "\n",
        "day = input(\"What day of the week is it today: \")\n",
        "temperature = float(input(\"What is the temperature: \"))\n",
        "\n",
        "if (day.lower() == 'saturday' or day.lower() == 'sunday') and temperature >= 30:\n",
        "  print(\"We can go swimming.\")\n",
        "elif (day.lower() == 'saturday' or day.lower() == 'sunday') and temperature < 30:\n",
        "  print(\"The weather is cold. Cannot go swimming.\")"
      ],
      "metadata": {
        "colab": {
          "base_uri": "https://localhost:8080/"
        },
        "id": "RWYmzxL04pZS",
        "outputId": "bcf21380-b56a-4dc0-d38c-2f0176dffcfe"
      },
      "execution_count": 22,
      "outputs": [
        {
          "name": "stdout",
          "output_type": "stream",
          "text": [
            "What day of the week is it today: friday\n",
            "What is the temperature: 29\n"
          ]
        }
      ]
    },
    {
      "cell_type": "markdown",
      "source": [
        "**Boolean**"
      ],
      "metadata": {
        "id": "r_Az-8NEGc06"
      }
    },
    {
      "cell_type": "code",
      "source": [
        "print(day)"
      ],
      "metadata": {
        "colab": {
          "base_uri": "https://localhost:8080/"
        },
        "id": "4o3rec2S5Wp_",
        "outputId": "12ada870-ec9e-4050-db16-5bb0fe00fc8c"
      },
      "execution_count": 23,
      "outputs": [
        {
          "output_type": "stream",
          "name": "stdout",
          "text": [
            "friday\n"
          ]
        }
      ]
    },
    {
      "cell_type": "code",
      "source": [
        "day.lower() == 'saturday'"
      ],
      "metadata": {
        "colab": {
          "base_uri": "https://localhost:8080/"
        },
        "id": "RmQsm052Ge9p",
        "outputId": "a504da86-5203-4954-90b5-8fd8bc176403"
      },
      "execution_count": 24,
      "outputs": [
        {
          "output_type": "execute_result",
          "data": {
            "text/plain": [
              "False"
            ]
          },
          "metadata": {},
          "execution_count": 24
        }
      ]
    },
    {
      "cell_type": "code",
      "source": [
        "# kitchen menu code\n",
        "\n",
        "price = 15000\n",
        "tea = True # ordered tea\n",
        "salad = True # didn't order salad\n",
        "\n",
        "if tea and salad: # if ordered tea and salad\n",
        "  print(\"Ordered tea and salad as well\")\n",
        "  price += 10000\n",
        "elif tea or salad: # ordered tea or salad\n",
        "  print(\"Ordered tea or salad\")\n",
        "  price += 5000\n",
        "\n",
        "print(f\"Total price: {price} so'm.\")"
      ],
      "metadata": {
        "colab": {
          "base_uri": "https://localhost:8080/"
        },
        "id": "N70lnCnkGg-R",
        "outputId": "3e5a0637-1fa7-4aa9-e436-507f4d16626f"
      },
      "execution_count": 25,
      "outputs": [
        {
          "output_type": "stream",
          "name": "stdout",
          "text": [
            "Ordered tea and salad as well\n",
            "Total price: 25000 so'm.\n"
          ]
        }
      ]
    },
    {
      "cell_type": "code",
      "source": [
        "# checking all conditions separately\n",
        "\n",
        "price = 15000\n",
        "tea = False\n",
        "bread = True\n",
        "salad = True\n",
        "assortment = False\n",
        "compote = True\n",
        "\n",
        "# if the client ordered tea\n",
        "if tea:\n",
        "  print(\"Ordered tea\")\n",
        "  price += 2000\n",
        "if bread:\n",
        "  print(\"Ordered bread\")\n",
        "  price += 3000\n",
        "if salad:\n",
        "  print(\"Ordered salad as well\")\n",
        "  price += 5000\n",
        "if assortment:\n",
        "  print(\"Ordered assortment\")\n",
        "  price += 7000\n",
        "if compote:\n",
        "  print(\"Ordered compote\")\n",
        "  price += 6000\n",
        "\n",
        "print(f\"Total price: {price} so'm.\")"
      ],
      "metadata": {
        "colab": {
          "base_uri": "https://localhost:8080/"
        },
        "id": "ZMh481fdHsuQ",
        "outputId": "68fbe197-9d85-43e7-8164-9295838869c6"
      },
      "execution_count": 26,
      "outputs": [
        {
          "output_type": "stream",
          "name": "stdout",
          "text": [
            "Ordered bread\n",
            "Ordered salad as well\n",
            "Ordered compote\n",
            "Total price: 29000 so'm.\n"
          ]
        }
      ]
    },
    {
      "cell_type": "code",
      "source": [
        "# checking if an element is in a list\n",
        "cars = ['toyota', 'chevrolet', 'honda', 'mazda', 'lexus', 'inomarka']\n",
        "\n",
        "# is mercadez in this list?\n",
        "'mercadez' in cars"
      ],
      "metadata": {
        "colab": {
          "base_uri": "https://localhost:8080/"
        },
        "id": "GG8MPOAyItgx",
        "outputId": "bdb0a0a8-62f5-4a1b-9d7b-5e50c01afd6f"
      },
      "execution_count": 27,
      "outputs": [
        {
          "output_type": "execute_result",
          "data": {
            "text/plain": [
              "False"
            ]
          },
          "metadata": {},
          "execution_count": 27
        }
      ]
    },
    {
      "cell_type": "code",
      "source": [
        "# is bmw in the list of cars\n",
        "'bmw' in cars"
      ],
      "metadata": {
        "colab": {
          "base_uri": "https://localhost:8080/"
        },
        "id": "wAF0w1OvJGaY",
        "outputId": "2531c237-e0f1-48a1-9d22-f65dc1641828"
      },
      "execution_count": 28,
      "outputs": [
        {
          "output_type": "execute_result",
          "data": {
            "text/plain": [
              "False"
            ]
          },
          "metadata": {},
          "execution_count": 28
        }
      ]
    },
    {
      "cell_type": "code",
      "source": [
        "# is honda in the cars\n",
        "'honda' in cars"
      ],
      "metadata": {
        "colab": {
          "base_uri": "https://localhost:8080/"
        },
        "id": "ONgO51-vJuWx",
        "outputId": "d5981ef9-f989-4116-e7be-64f2909bbccf"
      },
      "execution_count": 29,
      "outputs": [
        {
          "output_type": "execute_result",
          "data": {
            "text/plain": [
              "True"
            ]
          },
          "metadata": {},
          "execution_count": 29
        }
      ]
    },
    {
      "cell_type": "code",
      "source": [
        "# kitchen menu\n",
        "\n",
        "menu = ['shashlik', 'mastava', 'osh', 'somsa', 'manti']\n",
        "dish = input(\"What would you like to order: \")\n",
        "if dish in menu: # if the dish is in the menu, execute the following code\n",
        "  print(\"It will be ready in 5 minutes.\")\n",
        "else:\n",
        "  print(\"Sorry, we don't have this dish.\")"
      ],
      "metadata": {
        "colab": {
          "base_uri": "https://localhost:8080/"
        },
        "id": "ip6r6_fGJxLD",
        "outputId": "83ed0afd-fe5b-4694-cdf0-7ff30347680e"
      },
      "execution_count": 30,
      "outputs": [
        {
          "output_type": "stream",
          "name": "stdout",
          "text": [
            "What would you like to order: palov\n",
            "Sorry, we don't have this dish.\n"
          ]
        }
      ]
    },
    {
      "cell_type": "code",
      "source": [
        "print(cars)"
      ],
      "metadata": {
        "colab": {
          "base_uri": "https://localhost:8080/"
        },
        "id": "69IuyASJKUBT",
        "outputId": "ee6491f7-414a-4dfa-d0c8-74a50c2b3e91"
      },
      "execution_count": 31,
      "outputs": [
        {
          "output_type": "stream",
          "name": "stdout",
          "text": [
            "['toyota', 'chevrolet', 'honda', 'mazda', 'lexus', 'inomarka']\n"
          ]
        }
      ]
    },
    {
      "cell_type": "code",
      "source": [
        "# checking for the absence of a car\n",
        "\n",
        "'bmw' not in cars # is bmw not in the cars"
      ],
      "metadata": {
        "colab": {
          "base_uri": "https://localhost:8080/"
        },
        "id": "oYE__nbrKGkS",
        "outputId": "36d4a8b9-f59d-4703-e57b-4f57f3ed920f"
      },
      "execution_count": 32,
      "outputs": [
        {
          "output_type": "execute_result",
          "data": {
            "text/plain": [
              "True"
            ]
          },
          "metadata": {},
          "execution_count": 32
        }
      ]
    },
    {
      "cell_type": "code",
      "source": [
        "'mercadez' not in cars"
      ],
      "metadata": {
        "colab": {
          "base_uri": "https://localhost:8080/"
        },
        "id": "hurLMiNjKekb",
        "outputId": "5cde20fe-35ad-4616-bb11-8a0179a574ed"
      },
      "execution_count": 33,
      "outputs": [
        {
          "output_type": "execute_result",
          "data": {
            "text/plain": [
              "True"
            ]
          },
          "metadata": {},
          "execution_count": 33
        }
      ]
    },
    {
      "cell_type": "code",
      "source": [
        "'mazda' not in cars"
      ],
      "metadata": {
        "colab": {
          "base_uri": "https://localhost:8080/"
        },
        "id": "a8qGOHBuKgd0",
        "outputId": "065bad0a-361f-44ea-b74b-da519f59fd19"
      },
      "execution_count": 34,
      "outputs": [
        {
          "output_type": "execute_result",
          "data": {
            "text/plain": [
              "False"
            ]
          },
          "metadata": {},
          "execution_count": 34
        }
      ]
    },
    {
      "cell_type": "code",
      "source": [
        "dishes = ['osh', 'somsa', 'perashka', 'mastava', 'norin', 'kabob']\n",
        "orders = ['norin', 'mastava', 'gumma', 'somsa']\n",
        "\n",
        "for food in orders:\n",
        "  if food in dishes:\n",
        "    print(f\"{food.title()} your order has been accepted. We will prepare it in 5 minutes.\")\n",
        "  else:\n",
        "    print(f\"Unfortunately we don't have {food}.\")"
      ],
      "metadata": {
        "colab": {
          "base_uri": "https://localhost:8080/"
        },
        "id": "6ao6fuSkKhxP",
        "outputId": "aa1dd7d8-add8-4143-959b-d1a6896bcbaf"
      },
      "execution_count": 35,
      "outputs": [
        {
          "output_type": "stream",
          "name": "stdout",
          "text": [
            "Norin your order has been accepted. We will prepare it in 5 minutes.\n",
            "Mastava your order has been accepted. We will prepare it in 5 minutes.\n",
            "Unfortunately we don't have gumma.\n",
            "Somsa your order has been accepted. We will prepare it in 5 minutes.\n"
          ]
        }
      ]
    },
    {
      "cell_type": "code",
      "source": [
        "# menu\n",
        "menu = ['gumma', 'somsa', 'osh', 'mastava', \"sho'rva\", 'norin', 'honim', 'baliq', 'shashlik']\n",
        "\n",
        "# get 5 orders from the user\n",
        "orders = []\n",
        "for i in range(5):\n",
        "  orders.append(input(f\"{i+1}-What would you like to eat: \"))\n",
        "print(f\"\\nOrdered dishes :\", orders, end=\"\\n\")\n",
        "\n",
        "#\n",
        "if orders:\n",
        "  for dish in orders:\n",
        "    if dish in menu:\n",
        "      print(f\"{dish.title()} your order has been accepted.\")\n",
        "    else:\n",
        "      print(f\"Sorry {dish.title()} is not available.\")"
      ],
      "metadata": {
        "colab": {
          "base_uri": "https://localhost:8080/"
        },
        "id": "GKg23H36LkmG",
        "outputId": "590170e8-197b-422d-f28f-1f995d15c599"
      },
      "execution_count": 36,
      "outputs": [
        {
          "output_type": "stream",
          "name": "stdout",
          "text": [
            "1-What would you like to eat: soup\n",
            "2-What would you like to eat: samsa\n",
            "3-What would you like to eat: norin\n",
            "4-What would you like to eat: mastava\n",
            "5-What would you like to eat: sho'rva\n",
            "\n",
            "Ordered dishes : ['soup', 'samsa', 'norin', 'mastava', \"sho'rva\"]\n",
            "Sorry Soup is not available.\n",
            "Sorry Samsa is not available.\n",
            "Norin your order has been accepted.\n",
            "Mastava your order has been accepted.\n",
            "Sho'Rva your order has been accepted.\n"
          ]
        }
      ]
    }
  ]
}