{
  "nbformat": 4,
  "nbformat_minor": 0,
  "metadata": {
    "colab": {
      "provenance": [],
      "authorship_tag": "ABX9TyNM3UMxai/Z1ItkLBd5KJ15",
      "include_colab_link": true
    },
    "kernelspec": {
      "name": "python3",
      "display_name": "Python 3"
    },
    "language_info": {
      "name": "python"
    }
  },
  "cells": [
    {
      "cell_type": "markdown",
      "metadata": {
        "id": "view-in-github",
        "colab_type": "text"
      },
      "source": [
        "<a href=\"https://colab.research.google.com/github/izzat-ai/learning-ai/blob/main/python/while_practice.ipynb\" target=\"_parent\"><img src=\"https://colab.research.google.com/assets/colab-badge.svg\" alt=\"Open In Colab\"/></a>"
      ]
    },
    {
      "cell_type": "code",
      "execution_count": null,
      "metadata": {
        "id": "mMzSdU4Bw46b"
      },
      "outputs": [],
      "source": [
        "# Initialize an empty list to store emails\n",
        "emails = []"
      ]
    },
    {
      "cell_type": "code",
      "source": [
        "# Display the menu options\n",
        "print(\"\"\"\n",
        "      MENU\n",
        "  1. Add email\n",
        "  2. Delete email\n",
        "  3. Show emails\n",
        "  4. Exit\n",
        "\"\"\")\n",
        "\n",
        "# Start an infinite loop for the menu\n",
        "while True:\n",
        "  # Get the user's choice\n",
        "  choice = int(input(\"Enter your choice: \"))\n",
        "\n",
        "  # Option 1: Add email\n",
        "  if choice == 1:\n",
        "    sign = True\n",
        "    while sign:\n",
        "      email = input(\"Enter your email: \")\n",
        "      emails.append(email)\n",
        "      question = input(\"Can you enter your email again? (yes/no): \")\n",
        "      if question == 'no':\n",
        "        sign = False\n",
        "\n",
        "  # Option 2: Delete email\n",
        "  elif choice == 2:\n",
        "    del_email = input(\"Enter the email you want to delete: \")\n",
        "    if del_email in emails:\n",
        "      emails.remove(del_email)\n",
        "    else:\n",
        "      print(\"Email not found!\")\n",
        "\n",
        "  # Option 3: Show emails\n",
        "  elif choice == 3:\n",
        "    i = 1\n",
        "    for email in emails:\n",
        "      print(f\"{i}-email: {email}\")\n",
        "      i+=1\n",
        "\n",
        "  # Option 4: Exit the program\n",
        "  elif choice == 4:\n",
        "    print(\"The program has stopped\")\n",
        "    break\n",
        "\n",
        "  # Invalid choice\n",
        "  else:\n",
        "    print(\"Error !\")"
      ],
      "metadata": {
        "colab": {
          "base_uri": "https://localhost:8080/"
        },
        "id": "3NdmRKLcz_w_",
        "outputId": "94601a4f-2f54-4e44-b51b-593a8851220e"
      },
      "execution_count": 11,
      "outputs": [
        {
          "output_type": "stream",
          "name": "stdout",
          "text": [
            "\n",
            "      MENU\n",
            "  1. Add email\n",
            "  2. Delete email\n",
            "  3. Show emails\n",
            "  4. Exit\n",
            "\n",
            "Enter your choice: 1\n",
            "Enter your email: sardorelmuradov18@gmail.com\n",
            "Can you enter your email again? (yes/no): no\n",
            "Enter your choice: 3\n",
            "1-email: zebojakbarova97@gmail.com\n",
            "2-email: sardorelmuradov20@gmail.com\n",
            "3-email: 1\n",
            "4-email: sardorelmuradov18@gmail.com\n",
            "Enter your choice: 2\n",
            "Enter the email you want to delete: 1\n",
            "Enter your choice: 2\n",
            "Enter the email you want to delete: sardorelmuradov18@gmail.com\n",
            "Enter your choice: 3\n",
            "1-email: zebojakbarova97@gmail.com\n",
            "2-email: sardorelmuradov20@gmail.com\n",
            "Enter your choice: 1\n",
            "Enter your email: shakhnoza17@gmail.com\n",
            "Can you enter your email again? (yes/no): yes\n",
            "Enter your email: sarvinozakhmedova18@gmail.com\n",
            "Can you enter your email again? (yes/no): no\n",
            "Enter your choice: 3\n",
            "1-email: zebojakbarova97@gmail.com\n",
            "2-email: sardorelmuradov20@gmail.com\n",
            "3-email: shakhnoza17@gmail.com\n",
            "4-email: sarvinozakhmedova18@gmail.com\n",
            "Enter your choice: 4\n",
            "The program has stopped\n"
          ]
        }
      ]
    },
    {
      "cell_type": "code",
      "source": [],
      "metadata": {
        "id": "-zv5uN2o1O5v"
      },
      "execution_count": null,
      "outputs": []
    }
  ]
}