{
  "nbformat": 4,
  "nbformat_minor": 0,
  "metadata": {
    "colab": {
      "provenance": [],
      "authorship_tag": "ABX9TyMc8xDe+8Ay+9xus36/bc4j",
      "include_colab_link": true
    },
    "kernelspec": {
      "name": "python3",
      "display_name": "Python 3"
    },
    "language_info": {
      "name": "python"
    }
  },
  "cells": [
    {
      "cell_type": "markdown",
      "metadata": {
        "id": "view-in-github",
        "colab_type": "text"
      },
      "source": [
        "<a href=\"https://colab.research.google.com/github/izzat-ai/learning-ai/blob/main/python/if_else.ipynb\" target=\"_parent\"><img src=\"https://colab.research.google.com/assets/colab-badge.svg\" alt=\"Open In Colab\"/></a>"
      ]
    },
    {
      "cell_type": "code",
      "source": [
        "cars = ['ford', 'toyota', 'chevrolet', 'bmw', 'honda']\n",
        "type(cars)"
      ],
      "metadata": {
        "colab": {
          "base_uri": "https://localhost:8080/"
        },
        "id": "63hySC2wzE4f",
        "outputId": "5e0d8b0c-3618-4609-c082-ec40bc3bc62b"
      },
      "execution_count": 17,
      "outputs": [
        {
          "output_type": "execute_result",
          "data": {
            "text/plain": [
              "list"
            ]
          },
          "metadata": {},
          "execution_count": 17
        }
      ]
    },
    {
      "cell_type": "code",
      "source": [
        "print(cars)"
      ],
      "metadata": {
        "colab": {
          "base_uri": "https://localhost:8080/"
        },
        "id": "kyq35w-nzN7u",
        "outputId": "794cdbbb-a102-4877-8333-ab4bee29d51f"
      },
      "execution_count": 18,
      "outputs": [
        {
          "output_type": "stream",
          "name": "stdout",
          "text": [
            "['ford', 'toyota', 'chevrolet', 'bmw', 'honda']\n"
          ]
        }
      ]
    },
    {
      "cell_type": "code",
      "source": [
        "# Capitalize the first letter of all car names except BMW\n",
        "for car in cars:\n",
        "  if car != 'bmw':\n",
        "    print(car.title())\n",
        "  else:\n",
        "    print(car.upper())"
      ],
      "metadata": {
        "colab": {
          "base_uri": "https://localhost:8080/"
        },
        "id": "Sc-uNrHJzOfh",
        "outputId": "c94ce414-92ef-4fcb-d035-641f56741728"
      },
      "execution_count": 19,
      "outputs": [
        {
          "output_type": "stream",
          "name": "stdout",
          "text": [
            "Ford\n",
            "Toyota\n",
            "Chevrolet\n",
            "BMW\n",
            "Honda\n"
          ]
        }
      ]
    },
    {
      "cell_type": "code",
      "source": [
        "print(car)"
      ],
      "metadata": {
        "colab": {
          "base_uri": "https://localhost:8080/"
        },
        "id": "KmVVlKspze5x",
        "outputId": "4e339ba6-9dd1-452c-9e17-4aea46c66fe0"
      },
      "execution_count": 20,
      "outputs": [
        {
          "output_type": "stream",
          "name": "stdout",
          "text": [
            "honda\n"
          ]
        }
      ]
    },
    {
      "cell_type": "code",
      "source": [
        "# Check if the car variable is equal to 'honda'\n",
        "\n",
        "car == 'ford' # is it equal to ford?"
      ],
      "metadata": {
        "colab": {
          "base_uri": "https://localhost:8080/"
        },
        "id": "-lKw3a38zmLV",
        "outputId": "84437423-4b92-4de7-8406-37a4beef1a95"
      },
      "execution_count": 21,
      "outputs": [
        {
          "output_type": "execute_result",
          "data": {
            "text/plain": [
              "False"
            ]
          },
          "metadata": {},
          "execution_count": 21
        }
      ]
    },
    {
      "cell_type": "code",
      "source": [
        "car == 'toyota' # is it equal to toyota?"
      ],
      "metadata": {
        "colab": {
          "base_uri": "https://localhost:8080/"
        },
        "id": "LmRdjinszw2v",
        "outputId": "2e8c0ad8-8116-4f37-de64-426726ea1ab3"
      },
      "execution_count": 22,
      "outputs": [
        {
          "output_type": "execute_result",
          "data": {
            "text/plain": [
              "False"
            ]
          },
          "metadata": {},
          "execution_count": 22
        }
      ]
    },
    {
      "cell_type": "code",
      "source": [
        "car == 'honda'"
      ],
      "metadata": {
        "colab": {
          "base_uri": "https://localhost:8080/"
        },
        "id": "qKBpo951zzl2",
        "outputId": "313ca6fb-482c-4729-bf85-4595cc5c0ce7"
      },
      "execution_count": 23,
      "outputs": [
        {
          "output_type": "execute_result",
          "data": {
            "text/plain": [
              "True"
            ]
          },
          "metadata": {},
          "execution_count": 23
        }
      ]
    },
    {
      "cell_type": "code",
      "source": [
        "# It is very important to use methods when comparing strings\n",
        "\n",
        "name = input(\"What is your name: \")\n",
        "if name == 'anvar':\n",
        "  print(f\"Welcome {name.title()}!\")\n",
        "else:\n",
        "  print(\"Sorry, we were expecting Anvar.\")"
      ],
      "metadata": {
        "colab": {
          "base_uri": "https://localhost:8080/"
        },
        "id": "TSPMKXqTz0sr",
        "outputId": "bd62f0c3-46a3-4600-f6e0-0eec5c0fbf25"
      },
      "execution_count": 24,
      "outputs": [
        {
          "output_type": "stream",
          "name": "stdout",
          "text": [
            "What is your name: izzatullo\n",
            "Sorry, we were expecting Anvar.\n"
          ]
        }
      ]
    },
    {
      "cell_type": "code",
      "source": [
        "# Using methods to avoid the above error\n",
        "\n",
        "name = input(\"What is your name: \")\n",
        "if name.lower() != 'anvar':\n",
        "  print(\"Sorry, we were expecting Anvar.\")\n",
        "else:\n",
        "  print(f\"Welcome {name.title()}.\")"
      ],
      "metadata": {
        "colab": {
          "base_uri": "https://localhost:8080/"
        },
        "id": "THl2QeW10PxQ",
        "outputId": "5c7658f7-f5b6-4838-9c20-4472433f6b78"
      },
      "execution_count": 25,
      "outputs": [
        {
          "output_type": "stream",
          "name": "stdout",
          "text": [
            "What is your name: izzatullo\n",
            "Sorry, we were expecting Anvar.\n"
          ]
        }
      ]
    },
    {
      "cell_type": "code",
      "source": [
        "# The else part is not required\n",
        "\n",
        "number = float(input(\"9*3 = \"))\n",
        "if number != 27:\n",
        "  print(\"Your answer is incorrect.\")"
      ],
      "metadata": {
        "colab": {
          "base_uri": "https://localhost:8080/"
        },
        "id": "iSLpswHd0r2J",
        "outputId": "ebd40531-e61f-438f-d361-4cfc873ec87d"
      },
      "execution_count": 26,
      "outputs": [
        {
          "output_type": "stream",
          "name": "stdout",
          "text": [
            "9*3 = 26\n",
            "Your answer is incorrect.\n"
          ]
        }
      ]
    },
    {
      "cell_type": "code",
      "source": [
        "age = int(input(\"How old are you: \"))\n",
        "\n",
        "if age >= 18:\n",
        "  print(\"You can enter.\")\n",
        "else:\n",
        "  print(\"Entry is not allowed.\")"
      ],
      "metadata": {
        "colab": {
          "base_uri": "https://localhost:8080/"
        },
        "id": "5U18VG0U1ZWh",
        "outputId": "32168dc0-cc2a-4264-e657-8501626a7464"
      },
      "execution_count": 27,
      "outputs": [
        {
          "output_type": "stream",
          "name": "stdout",
          "text": [
            "How old are you: 21\n",
            "You can enter.\n"
          ]
        }
      ]
    },
    {
      "cell_type": "code",
      "source": [
        "# Checking the if condition with an expression\n",
        "login = input(\"Enter login: \")\n",
        "\n",
        "if len(login) <= 5:\n",
        "  print(\"Login must be more than 5 characters.\")"
      ],
      "metadata": {
        "colab": {
          "base_uri": "https://localhost:8080/"
        },
        "id": "-fArnq055g9c",
        "outputId": "01bfe3ba-ac37-4c20-d7fe-a40330983c2b"
      },
      "execution_count": 28,
      "outputs": [
        {
          "name": "stdout",
          "output_type": "stream",
          "text": [
            "Enter login: izzat2004\n"
          ]
        }
      ]
    },
    {
      "cell_type": "code",
      "source": [
        "year = int(input(\"What year were you born: \"))\n",
        "\n",
        "if 2025 - year <= 20:\n",
        "  print(\"You are not allowed to enter.\")\n",
        "else:\n",
        "  print(\"Welcome.\")"
      ],
      "metadata": {
        "id": "37bbztag6EJX",
        "colab": {
          "base_uri": "https://localhost:8080/"
        },
        "outputId": "a889b6c7-dc50-48eb-90bf-fd0aab6d003e"
      },
      "execution_count": 29,
      "outputs": [
        {
          "output_type": "stream",
          "name": "stdout",
          "text": [
            "What year were you born: 2004\n",
            "Welcome.\n"
          ]
        }
      ]
    },
    {
      "cell_type": "code",
      "source": [
        "number1 = int(input(\"Enter the 1st number: \"))\n",
        "number2 = int(input(\"Enter the 2nd number: \"))\n",
        "\n",
        "if number1 == number2:\n",
        "  print(\"The numbers are equal.\")"
      ],
      "metadata": {
        "colab": {
          "base_uri": "https://localhost:8080/"
        },
        "id": "KGHv6vx5QiHy",
        "outputId": "efc4c559-20c3-42d2-ce4b-243b991159b7"
      },
      "execution_count": 30,
      "outputs": [
        {
          "name": "stdout",
          "output_type": "stream",
          "text": [
            "Enter the 1st number: 3\n",
            "Enter the 2nd number: 1\n"
          ]
        }
      ]
    },
    {
      "cell_type": "code",
      "source": [
        "# Writing short code on the same line as if\n",
        "\n",
        "number3 = int(input(\"number: \"))\n",
        "if number3 < 5: print(\"Enter a number greater than 5.\")"
      ],
      "metadata": {
        "colab": {
          "base_uri": "https://localhost:8080/"
        },
        "id": "vdUHcNHqP7sO",
        "outputId": "768c5f2d-807f-4e99-b632-25403a6e5ad6"
      },
      "execution_count": 31,
      "outputs": [
        {
          "name": "stdout",
          "output_type": "stream",
          "text": [
            "number: 6\n"
          ]
        }
      ]
    },
    {
      "cell_type": "code",
      "source": [
        "# Writing on the same line with the else part\n",
        "\n",
        "temperature = float(input(\"What is your temperature: \"))\n",
        "print(\"You do not have covid.\") if temperature <= 36.9 else print(\"You may have covid.\")"
      ],
      "metadata": {
        "colab": {
          "base_uri": "https://localhost:8080/"
        },
        "id": "N4kgyyuHRNhc",
        "outputId": "4eababdf-b41c-4c55-a50b-d152a8224a70"
      },
      "execution_count": 32,
      "outputs": [
        {
          "output_type": "stream",
          "name": "stdout",
          "text": [
            "What is your temperature: 36.7\n",
            "You do not have covid.\n"
          ]
        }
      ]
    }
  ]
}