{
  "nbformat": 4,
  "nbformat_minor": 0,
  "metadata": {
    "colab": {
      "provenance": [],
      "authorship_tag": "ABX9TyNC6KncM7HNfMqSk7ClPSHq",
      "include_colab_link": true
    },
    "kernelspec": {
      "name": "python3",
      "display_name": "Python 3"
    },
    "language_info": {
      "name": "python"
    }
  },
  "cells": [
    {
      "cell_type": "markdown",
      "metadata": {
        "id": "view-in-github",
        "colab_type": "text"
      },
      "source": [
        "<a href=\"https://colab.research.google.com/github/izzat-ai/learning-ai/blob/main/python/while_practice2.ipynb\" target=\"_parent\"><img src=\"https://colab.research.google.com/assets/colab-badge.svg\" alt=\"Open In Colab\"/></a>"
      ]
    },
    {
      "cell_type": "code",
      "source": [
        "votes = {\n",
        "    'Sarvar':0,\n",
        "    'Aziz':0,\n",
        "    'Mirasil':0\n",
        "}"
      ],
      "metadata": {
        "id": "RuISVtnyLGLu"
      },
      "execution_count": 1,
      "outputs": []
    },
    {
      "cell_type": "code",
      "source": [
        "print(\"\"\"\n",
        "      MENU\n",
        "  1. View vote count\n",
        "  2. Vote\n",
        "  3. Exit\n",
        "\"\"\")\n",
        "\n",
        "sign = True\n",
        "while sign:\n",
        "  number = int(input(\"\\nChoose from the menu: \"))\n",
        "  if number == 1:\n",
        "    for key, value in votes.items():\n",
        "      print(f\"{key}'s votes: {value}\")\n",
        "\n",
        "  elif number == 2:\n",
        "    choice = input(\"Who do you want to vote for: \").capitalize()\n",
        "    if choice in votes.keys():\n",
        "      votes[choice] += 1\n",
        "    else:\n",
        "      print(\"wrong choice!\")\n",
        "\n",
        "  elif number == 3:\n",
        "    print(\"Exit!\")\n",
        "    sign = False"
      ],
      "metadata": {
        "colab": {
          "base_uri": "https://localhost:8080/"
        },
        "id": "COFa9SC8J2PK",
        "outputId": "0936d9c3-10e1-4be1-954c-1cad272a4f69"
      },
      "execution_count": 3,
      "outputs": [
        {
          "output_type": "stream",
          "name": "stdout",
          "text": [
            " \n",
            "      MENU  \n",
            "  1. View vote count\n",
            "  2. Vote\n",
            "  3. Exit\n",
            "\n",
            "\n",
            "Choose from the menu: 1\n",
            "Sarvar's votes: 0\n",
            "Aziz's votes: 2\n",
            "Mirasil's votes: 0\n",
            "\n",
            "Choose from the menu: 2\n",
            "Who do you want to vote for: Aziz\n",
            "\n",
            "Choose from the menu: 2\n",
            "Who do you want to vote for: aziz\n",
            "\n",
            "Choose from the menu: 1\n",
            "Sarvar's votes: 0\n",
            "Aziz's votes: 4\n",
            "Mirasil's votes: 0\n",
            "\n",
            "Choose from the menu: 3\n",
            "Exit!\n"
          ]
        }
      ]
    },
    {
      "cell_type": "code",
      "source": [],
      "metadata": {
        "id": "IvG89V1CJrWK"
      },
      "execution_count": null,
      "outputs": []
    }
  ]
}