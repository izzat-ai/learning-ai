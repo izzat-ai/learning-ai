{
  "nbformat": 4,
  "nbformat_minor": 0,
  "metadata": {
    "colab": {
      "provenance": [],
      "authorship_tag": "ABX9TyMRz50UdkdBx9gGYiezT8xV",
      "include_colab_link": true
    },
    "kernelspec": {
      "name": "python3",
      "display_name": "Python 3"
    },
    "language_info": {
      "name": "python"
    }
  },
  "cells": [
    {
      "cell_type": "markdown",
      "metadata": {
        "id": "view-in-github",
        "colab_type": "text"
      },
      "source": [
        "<a href=\"https://colab.research.google.com/github/izzat-ai/learning-ai/blob/main/python/for.ipynb\" target=\"_parent\"><img src=\"https://colab.research.google.com/assets/colab-badge.svg\" alt=\"Open In Colab\"/></a>"
      ]
    },
    {
      "cell_type": "code",
      "execution_count": 14,
      "metadata": {
        "id": "VHO6B8IEV_DT"
      },
      "outputs": [],
      "source": [
        "friends = ['Muhlisbek', 'Samandar', 'Aziz', 'Sarvar', 'Abdurashid', 'Mirasil']"
      ]
    },
    {
      "cell_type": "code",
      "source": [
        "print(\"Hello\", friends[0], \"how are you.\")"
      ],
      "metadata": {
        "colab": {
          "base_uri": "https://localhost:8080/"
        },
        "id": "ZcitBdrHWNXf",
        "outputId": "3bcec728-2e30-4c34-8a06-1a59c9eaff78"
      },
      "execution_count": 15,
      "outputs": [
        {
          "output_type": "stream",
          "name": "stdout",
          "text": [
            "Hello Muhlisbek how are you.\n"
          ]
        }
      ]
    },
    {
      "cell_type": "code",
      "source": [
        "print(\"Hello\", friends[1], \"how are you doing\")"
      ],
      "metadata": {
        "colab": {
          "base_uri": "https://localhost:8080/"
        },
        "id": "hWRtRSwdWS8E",
        "outputId": "87077ae8-53a8-4d59-f172-326fd09658e4"
      },
      "execution_count": 16,
      "outputs": [
        {
          "output_type": "stream",
          "name": "stdout",
          "text": [
            "Hello Samandar how are you doing\n"
          ]
        }
      ]
    },
    {
      "cell_type": "code",
      "source": [
        "for friend in friends:\n",
        "  print(\"Hello\", friend, \"how are you ?\")"
      ],
      "metadata": {
        "colab": {
          "base_uri": "https://localhost:8080/"
        },
        "id": "iFsMr520WXuG",
        "outputId": "2f821a68-b2ba-430c-92d8-7321f62a006a"
      },
      "execution_count": 17,
      "outputs": [
        {
          "output_type": "stream",
          "name": "stdout",
          "text": [
            "Hello Muhlisbek how are you ?\n",
            "Hello Samandar how are you ?\n",
            "Hello Aziz how are you ?\n",
            "Hello Sarvar how are you ?\n",
            "Hello Abdurashid how are you ?\n",
            "Hello Mirasil how are you ?\n"
          ]
        }
      ]
    },
    {
      "cell_type": "code",
      "source": [
        "guests = ['Azizbek', 'Muhammad', 'Javohir', 'Abdurashid', 'Begzod', 'Salohiddin']\n",
        "for guest in guests:\n",
        "  print(f\"Assalomu alaykum dear {guest} . We invite you to tomorrow's morning pilaf.\")\n",
        "  print(\"Respectfully, the Falonchiyevs family !\")"
      ],
      "metadata": {
        "colab": {
          "base_uri": "https://localhost:8080/"
        },
        "id": "V9-HkbqHWh3r",
        "outputId": "4ddd3f73-3c60-4f54-c703-d71bd8cbb512"
      },
      "execution_count": 18,
      "outputs": [
        {
          "output_type": "stream",
          "name": "stdout",
          "text": [
            "Assalomu alaykum dear Azizbek . We invite you to tomorrow's morning pilaf.\n",
            "Respectfully, the Falonchiyevs family !\n",
            "Assalomu alaykum dear Muhammad . We invite you to tomorrow's morning pilaf.\n",
            "Respectfully, the Falonchiyevs family !\n",
            "Assalomu alaykum dear Javohir . We invite you to tomorrow's morning pilaf.\n",
            "Respectfully, the Falonchiyevs family !\n",
            "Assalomu alaykum dear Abdurashid . We invite you to tomorrow's morning pilaf.\n",
            "Respectfully, the Falonchiyevs family !\n",
            "Assalomu alaykum dear Begzod . We invite you to tomorrow's morning pilaf.\n",
            "Respectfully, the Falonchiyevs family !\n",
            "Assalomu alaykum dear Salohiddin . We invite you to tomorrow's morning pilaf.\n",
            "Respectfully, the Falonchiyevs family !\n"
          ]
        }
      ]
    },
    {
      "cell_type": "code",
      "source": [
        "numbers = list(range(1, 11))\n",
        "\n",
        "for num in numbers:\n",
        "  print(f\"The square of {num} is equal to {num**2}.\")"
      ],
      "metadata": {
        "colab": {
          "base_uri": "https://localhost:8080/"
        },
        "id": "pg8bKM0mXHG-",
        "outputId": "72357beb-1cc2-423d-8d8d-125e8fcf904b"
      },
      "execution_count": 19,
      "outputs": [
        {
          "output_type": "stream",
          "name": "stdout",
          "text": [
            "The square of 1 is equal to 1.\n",
            "The square of 2 is equal to 4.\n",
            "The square of 3 is equal to 9.\n",
            "The square of 4 is equal to 16.\n",
            "The square of 5 is equal to 25.\n",
            "The square of 6 is equal to 36.\n",
            "The square of 7 is equal to 49.\n",
            "The square of 8 is equal to 64.\n",
            "The square of 9 is equal to 81.\n",
            "The square of 10 is equal to 100.\n"
          ]
        }
      ]
    },
    {
      "cell_type": "code",
      "source": [
        "odd_numbers = list(range(5, 24, 2))\n",
        "print(odd_numbers)"
      ],
      "metadata": {
        "colab": {
          "base_uri": "https://localhost:8080/"
        },
        "id": "lu7VV7CFXX4v",
        "outputId": "9f669e11-c8ce-4d7a-c4db-cbc478b02e78"
      },
      "execution_count": 20,
      "outputs": [
        {
          "output_type": "stream",
          "name": "stdout",
          "text": [
            "[5, 7, 9, 11, 13, 15, 17, 19, 21, 23]\n"
          ]
        }
      ]
    },
    {
      "cell_type": "code",
      "source": [
        "odd_numbers_sq = []\n",
        "\n",
        "for i in odd_numbers:\n",
        "  odd_numbers_sq.append(i**2)\n",
        "  print(f\"The square of {i} has been added to the new list !\")\n",
        "\n",
        "print(\"\\nNew list is ready:\\n\", odd_numbers_sq)"
      ],
      "metadata": {
        "colab": {
          "base_uri": "https://localhost:8080/"
        },
        "id": "Kfgy2JpOYOMC",
        "outputId": "8474c886-e580-4592-be65-b481507c1f25"
      },
      "execution_count": 21,
      "outputs": [
        {
          "output_type": "stream",
          "name": "stdout",
          "text": [
            "The square of 5 has been added to the new list !\n",
            "The square of 7 has been added to the new list !\n",
            "The square of 9 has been added to the new list !\n",
            "The square of 11 has been added to the new list !\n",
            "The square of 13 has been added to the new list !\n",
            "The square of 15 has been added to the new list !\n",
            "The square of 17 has been added to the new list !\n",
            "The square of 19 has been added to the new list !\n",
            "The square of 21 has been added to the new list !\n",
            "The square of 23 has been added to the new list !\n",
            "\n",
            "New list is ready:\n",
            " [25, 49, 81, 121, 169, 225, 289, 361, 441, 529]\n"
          ]
        }
      ]
    },
    {
      "cell_type": "code",
      "source": [
        "my_friends = []\n",
        "for f_num in range(5):\n",
        "  my_friends.append(input(f\"{f_num+1}-Enter your friend's name: \"))\n",
        "\n",
        "print(f\"\\nYour friends list is ready:\\n\", my_friends)"
      ],
      "metadata": {
        "colab": {
          "base_uri": "https://localhost:8080/"
        },
        "id": "FbJ89UTTYmEd",
        "outputId": "600e644a-35f4-45b9-b9ba-b6d637c1db87"
      },
      "execution_count": 22,
      "outputs": [
        {
          "output_type": "stream",
          "name": "stdout",
          "text": [
            "1-Enter your friend's name: aziz\n",
            "2-Enter your friend's name: bobur\n",
            "3-Enter your friend's name: sarvar\n",
            "4-Enter your friend's name: abdurashid\n",
            "5-Enter your friend's name: yahyo\n",
            "\n",
            "Your friends list is ready:\n",
            " ['aziz', 'bobur', 'sarvar', 'abdurashid', 'yahyo']\n"
          ]
        }
      ]
    },
    {
      "cell_type": "code",
      "source": [
        "my_friends"
      ],
      "metadata": {
        "colab": {
          "base_uri": "https://localhost:8080/"
        },
        "id": "a4ujYwuGZP06",
        "outputId": "9cca44d9-51f6-4782-ff4d-50c07b61ccc5"
      },
      "execution_count": 23,
      "outputs": [
        {
          "output_type": "execute_result",
          "data": {
            "text/plain": [
              "['aziz', 'bobur', 'sarvar', 'abdurashid', 'yahyo']"
            ]
          },
          "metadata": {},
          "execution_count": 23
        }
      ]
    },
    {
      "cell_type": "markdown",
      "source": [
        "**Practice**"
      ],
      "metadata": {
        "id": "LW4N_tYiZjqG"
      }
    },
    {
      "cell_type": "code",
      "source": [
        "names = ['Javohir', 'Jasurbek', 'Muhammadjon', 'Lazizbek', 'Azizbek']\n",
        "i = 0\n",
        "for name in names:\n",
        "  print(f\"Dear {name}, welcome to our lesson.\")\n",
        "  i += 1\n",
        "\n",
        "print(\"Code repeated\", i, \"times !\")"
      ],
      "metadata": {
        "colab": {
          "base_uri": "https://localhost:8080/"
        },
        "id": "aPVgQkZkZZFz",
        "outputId": "5eadb86b-67fc-4322-b074-641db722c8e3"
      },
      "execution_count": 24,
      "outputs": [
        {
          "output_type": "stream",
          "name": "stdout",
          "text": [
            "Dear Javohir, welcome to our lesson.\n",
            "Dear Jasurbek, welcome to our lesson.\n",
            "Dear Muhammadjon, welcome to our lesson.\n",
            "Dear Lazizbek, welcome to our lesson.\n",
            "Dear Azizbek, welcome to our lesson.\n",
            "Code repeated 5 times !\n"
          ]
        }
      ]
    },
    {
      "cell_type": "code",
      "source": [
        "odd_numbers = list(range(11, 100, 2))\n",
        "for num in odd_numbers:\n",
        "  print(num**3, end='\\n')"
      ],
      "metadata": {
        "colab": {
          "base_uri": "https://localhost:8080/"
        },
        "id": "MnbHQcnSaQ5y",
        "outputId": "c250f40e-9b87-4a2c-d838-a01f7abadddf"
      },
      "execution_count": 25,
      "outputs": [
        {
          "output_type": "stream",
          "name": "stdout",
          "text": [
            "1331\n",
            "2197\n",
            "3375\n",
            "4913\n",
            "6859\n",
            "9261\n",
            "12167\n",
            "15625\n",
            "19683\n",
            "24389\n",
            "29791\n",
            "35937\n",
            "42875\n",
            "50653\n",
            "59319\n",
            "68921\n",
            "79507\n",
            "91125\n",
            "103823\n",
            "117649\n",
            "132651\n",
            "148877\n",
            "166375\n",
            "185193\n",
            "205379\n",
            "226981\n",
            "250047\n",
            "274625\n",
            "300763\n",
            "328509\n",
            "357911\n",
            "389017\n",
            "421875\n",
            "456533\n",
            "493039\n",
            "531441\n",
            "571787\n",
            "614125\n",
            "658503\n",
            "704969\n",
            "753571\n",
            "804357\n",
            "857375\n",
            "912673\n",
            "970299\n"
          ]
        }
      ]
    },
    {
      "cell_type": "code",
      "source": [
        "movies = []\n",
        "for i in range(5):\n",
        "  movies.append(input(f\"{i+1}-Enter the name of your favorite movie: \"))\n",
        "\n",
        "print(\"List of your favorite movies: \", movies)"
      ],
      "metadata": {
        "colab": {
          "base_uri": "https://localhost:8080/"
        },
        "id": "BZa2d7Dza7pS",
        "outputId": "26724c77-a798-4bd2-821e-25b6f0a68703"
      },
      "execution_count": 26,
      "outputs": [
        {
          "output_type": "stream",
          "name": "stdout",
          "text": [
            "1-Enter the name of your favorite movie: olamga nur sochgan oy\n",
            "2-Enter the name of your favorite movie: abdulhamid\n",
            "3-Enter the name of your favorite movie: merlin\n",
            "4-Enter the name of your favorite movie: taksi\n",
            "5-Enter the name of your favorite movie: uxlamaysizmi\n",
            "List of your favorite movies:  ['olamga nur sochgan oy', 'abdulhamid', 'merlin', 'taksi', 'uxlamaysizmi']\n"
          ]
        }
      ]
    }
  ]
}