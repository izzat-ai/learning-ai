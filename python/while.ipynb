{
  "nbformat": 4,
  "nbformat_minor": 0,
  "metadata": {
    "colab": {
      "provenance": [],
      "authorship_tag": "ABX9TyN1kXM4wx3xDwcrIzL+l1OV",
      "include_colab_link": true
    },
    "kernelspec": {
      "name": "python3",
      "display_name": "Python 3"
    },
    "language_info": {
      "name": "python"
    }
  },
  "cells": [
    {
      "cell_type": "markdown",
      "metadata": {
        "id": "view-in-github",
        "colab_type": "text"
      },
      "source": [
        "<a href=\"https://colab.research.google.com/github/izzat-ai/learning-ai/blob/main/python/while.ipynb\" target=\"_parent\"><img src=\"https://colab.research.google.com/assets/colab-badge.svg\" alt=\"Open In Colab\"/></a>"
      ]
    },
    {
      "cell_type": "code",
      "metadata": {
        "colab": {
          "base_uri": "https://localhost:8080/"
        },
        "id": "39b5ffe5",
        "outputId": "6d9e3def-6001-42a5-a4c5-ae9b96d7433f"
      },
      "source": [
        "# calculate the square of the number\n",
        "condition = True\n",
        "while condition:\n",
        "  number = int(input(\"Enter any number: \"))\n",
        "  number = number**2\n",
        "  print(number)\n",
        "  question = input(\"Do you want to enter another number (yes/no): \")\n",
        "  if question == 'no':\n",
        "    condition = False"
      ],
      "execution_count": 1,
      "outputs": [
        {
          "name": "stdout",
          "output_type": "stream",
          "text": [
            "Enter any number: 21\n",
            "441\n",
            "Do you want to enter another number (yes/no): yes\n",
            "Enter any number: 9\n",
            "81\n",
            "Do you want to enter another number (yes/no): yes\n",
            "Enter any number: 8\n",
            "64\n",
            "Do you want to enter another number (yes/no): no\n"
          ]
        }
      ]
    },
    {
      "cell_type": "code",
      "source": [
        "# stopping the loop using break\n",
        "i = 1\n",
        "while True:\n",
        "  print(i, end=' ')\n",
        "  i+=1\n",
        "  if i==8:\n",
        "    break"
      ],
      "metadata": {
        "colab": {
          "base_uri": "https://localhost:8080/"
        },
        "id": "zLUza33cOISo",
        "outputId": "e4bb18df-de70-4649-d28b-7dfd8070bb3a"
      },
      "execution_count": 2,
      "outputs": [
        {
          "output_type": "stream",
          "name": "stdout",
          "text": [
            "1 2 3 4 5 6 7 "
          ]
        }
      ]
    },
    {
      "cell_type": "code",
      "source": [
        "# Creating a list of friends\n",
        "friends = []\n",
        "i = 1\n",
        "while True:\n",
        "    friends.append(input(f\"{i}-Enter your friend's name: \"))\n",
        "    i+=1\n",
        "    # Yana ism qo'shishni xohlaysizmi (ha/yoq)\n",
        "    question = input(\"Do you want to add more names (yes/no): \")\n",
        "    if question == 'no':\n",
        "        break\n",
        "print(\"List of your friends:\", friends)"
      ],
      "metadata": {
        "colab": {
          "base_uri": "https://localhost:8080/"
        },
        "id": "QMnaIwKaOki1",
        "outputId": "959be751-eacd-4fb8-aad6-bc5d2187d526"
      },
      "execution_count": 3,
      "outputs": [
        {
          "output_type": "stream",
          "name": "stdout",
          "text": [
            "1-Enter your friend's name: yaho\n",
            "Do you want to add more names (yes/no): yes\n",
            "2-Enter your friend's name: elyor\n",
            "Do you want to add more names (yes/no): yes\n",
            "3-Enter your friend's name: shuhrat\n",
            "Do you want to add more names (yes/no): yes\n",
            "4-Enter your friend's name: murotali\n",
            "Do you want to add more names (yes/no): no\n",
            "List of your friends: ['yaho', 'elyor', 'shuhrat', 'murotali']\n"
          ]
        }
      ]
    },
    {
      "cell_type": "code",
      "source": [
        "# Creating a dictionary of friends with their names and ages\n",
        "friends_dict = {}\n",
        "condition = True\n",
        "i = 1\n",
        "while condition:\n",
        "  name = input(f\"{i}-Enter your friend's name: \")\n",
        "  age = int(input(\"Enter the age of this friend: \"))\n",
        "  i+=1\n",
        "  friends_dict[name] = age\n",
        "  question = input(\"Do you want to add more (yes/no): \")\n",
        "  if question == 'no':\n",
        "    condition = False\n",
        "    print(\"\")\n",
        "\n",
        "for key, value in friends_dict.items():\n",
        "  print(f\"{key.capitalize()}'s age: {value}\")"
      ],
      "metadata": {
        "colab": {
          "base_uri": "https://localhost:8080/"
        },
        "id": "cFpL4PRgP98O",
        "outputId": "356075f1-0f23-4d16-e567-f9cee01f091f"
      },
      "execution_count": 4,
      "outputs": [
        {
          "output_type": "stream",
          "name": "stdout",
          "text": [
            "1-Enter your friend's name: murotali\n",
            "Enter the age of this friend: 28\n",
            "Do you want to add more (yes/no): yes\n",
            "2-Enter your friend's name: qudratulloh\n",
            "Enter the age of this friend: 21\n",
            "Do you want to add more (yes/no): no\n",
            "\n",
            "Murotali's age: 28\n",
            "Qudratulloh's age: 21\n"
          ]
        }
      ]
    },
    {
      "cell_type": "code",
      "source": [
        "cars = ['nexia', 'lacetti', 'nexia', 'gentra', 'damas', 'tiko', 'nexia', 'cobalt']\n",
        "while 'nexia' in cars:\n",
        "  cars.remove('nexia')\n",
        "print(cars)"
      ],
      "metadata": {
        "id": "Hq9FdQh5R2ap",
        "colab": {
          "base_uri": "https://localhost:8080/"
        },
        "outputId": "7572605b-b430-44a6-cf5e-77cd832e61e7"
      },
      "execution_count": 8,
      "outputs": [
        {
          "output_type": "stream",
          "name": "stdout",
          "text": [
            "['lacetti', 'gentra', 'damas', 'tiko', 'cobalt']\n"
          ]
        }
      ]
    },
    {
      "cell_type": "code",
      "source": [
        "# to form a list of students\n",
        "students = []\n",
        "while True:\n",
        "    student = input(\"student's name: \")\n",
        "    students.append(student)\n",
        "    question = input(\"do you want to add more (yes/no): \")\n",
        "    if question == 'no':\n",
        "        break\n",
        "print(\"\\nStudents: \", students)\n",
        "\n",
        "# student assessment\n",
        "evaluated = {}\n",
        "i = 0\n",
        "while students:\n",
        "  student = students.pop()\n",
        "  grade = int(input(f\"{student}'s grade: \"))\n",
        "  evaluated[student] = grade\n",
        "print(evaluated)"
      ],
      "metadata": {
        "colab": {
          "base_uri": "https://localhost:8080/"
        },
        "id": "hhg0GKwt4f8X",
        "outputId": "85e7d6d4-3b6e-4910-a845-68bcaa03719d"
      },
      "execution_count": 15,
      "outputs": [
        {
          "output_type": "stream",
          "name": "stdout",
          "text": [
            "student's name: muborakxon\n",
            "do you want to add more (yes/no): yes\n",
            "student's name: normurod\n",
            "do you want to add more (yes/no): yes\n",
            "student's name: muslimaxon\n",
            "do you want to add more (yes/no): yes\n",
            "student's name: abdulloh\n",
            "do you want to add more (yes/no): yes\n",
            "student's name: shahnozahon\n",
            "do you want to add more (yes/no): yes\n",
            "student's name: shohjahon\n",
            "do you want to add more (yes/no): yes\n",
            "student's name: sarvinoz\n",
            "do you want to add more (yes/no): yes\n",
            "student's name: jakbarali\n",
            "do you want to add more (yes/no): no\n",
            "\n",
            "Students:  ['muborakxon', 'normurod', 'muslimaxon', 'abdulloh', 'shahnozahon', 'shohjahon', 'sarvinoz', 'jakbarali']\n",
            "jakbarali's grade: 4\n",
            "sarvinoz's grade: 5\n",
            "shohjahon's grade: 4\n",
            "shahnozahon's grade: 5\n",
            "abdulloh's grade: 4\n",
            "muslimaxon's grade: 5\n",
            "normurod's grade: 3\n",
            "muborakxon's grade: 5\n",
            "{'jakbarali': 4, 'sarvinoz': 5, 'shohjahon': 4, 'shahnozahon': 5, 'abdulloh': 4, 'muslimaxon': 5, 'normurod': 3, 'muborakxon': 5}\n"
          ]
        }
      ]
    },
    {
      "cell_type": "code",
      "source": [],
      "metadata": {
        "id": "WLOrKfV-87Jt"
      },
      "execution_count": null,
      "outputs": []
    }
  ]
}