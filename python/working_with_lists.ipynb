{
  "nbformat": 4,
  "nbformat_minor": 0,
  "metadata": {
    "colab": {
      "provenance": [],
      "authorship_tag": "ABX9TyPj2uu01V0pg72CyfS27BiJ",
      "include_colab_link": true
    },
    "kernelspec": {
      "name": "python3",
      "display_name": "Python 3"
    },
    "language_info": {
      "name": "python"
    }
  },
  "cells": [
    {
      "cell_type": "markdown",
      "metadata": {
        "id": "view-in-github",
        "colab_type": "text"
      },
      "source": [
        "<a href=\"https://colab.research.google.com/github/izzat-ai/learning-ai/blob/main/python/working_with_lists.ipynb\" target=\"_parent\"><img src=\"https://colab.research.google.com/assets/colab-badge.svg\" alt=\"Open In Colab\"/></a>"
      ]
    },
    {
      "cell_type": "code",
      "execution_count": 52,
      "metadata": {
        "id": "6628z6HxXNxp",
        "colab": {
          "base_uri": "https://localhost:8080/"
        },
        "outputId": "a28e1a70-bd16-4eac-dbbd-468ce4e3bffa"
      },
      "outputs": [
        {
          "output_type": "execute_result",
          "data": {
            "text/plain": [
              "list"
            ]
          },
          "metadata": {},
          "execution_count": 52
        }
      ],
      "source": [
        "cars = ['toyota', 'volswagen', 'honda', 'ford', 'bmw', 'mercadez', 'chevrolet']\n",
        "type(cars)"
      ]
    },
    {
      "cell_type": "code",
      "source": [
        "# Sort elements in alphabetical order\n",
        "\n",
        "cars.sort()"
      ],
      "metadata": {
        "id": "wJK26tQB_360"
      },
      "execution_count": 53,
      "outputs": []
    },
    {
      "cell_type": "code",
      "source": [
        "print(cars)"
      ],
      "metadata": {
        "colab": {
          "base_uri": "https://localhost:8080/"
        },
        "id": "dXDkH4YKAAAl",
        "outputId": "91ea45c3-0699-4b0e-845e-7cee4bf5d5ca"
      },
      "execution_count": 54,
      "outputs": [
        {
          "output_type": "stream",
          "name": "stdout",
          "text": [
            "['bmw', 'chevrolet', 'ford', 'honda', 'mercadez', 'toyota', 'volswagen']\n"
          ]
        }
      ]
    },
    {
      "cell_type": "code",
      "source": [
        "# Add new elements to the list\n",
        "cars.append('Hundai')\n",
        "cars.append('Nissan')\n",
        "cars.append('kia')"
      ],
      "metadata": {
        "id": "Ugdh_C5tABBH"
      },
      "execution_count": 55,
      "outputs": []
    },
    {
      "cell_type": "code",
      "source": [
        "print(cars)"
      ],
      "metadata": {
        "colab": {
          "base_uri": "https://localhost:8080/"
        },
        "id": "-PtByKuXASlF",
        "outputId": "e45e9160-e6d2-441b-f337-8e440e8d7f0a"
      },
      "execution_count": 56,
      "outputs": [
        {
          "output_type": "stream",
          "name": "stdout",
          "text": [
            "['bmw', 'chevrolet', 'ford', 'honda', 'mercadez', 'toyota', 'volswagen', 'Hundai', 'Nissan', 'kia']\n"
          ]
        }
      ]
    },
    {
      "cell_type": "code",
      "source": [
        "# Sort in alphabetical order\n",
        "cars.sort()\n",
        "print(cars)"
      ],
      "metadata": {
        "colab": {
          "base_uri": "https://localhost:8080/"
        },
        "id": "aaDwtV8pATQe",
        "outputId": "023dc54e-19d4-40a9-d391-62dfe31f0923"
      },
      "execution_count": 57,
      "outputs": [
        {
          "output_type": "stream",
          "name": "stdout",
          "text": [
            "['Hundai', 'Nissan', 'bmw', 'chevrolet', 'ford', 'honda', 'kia', 'mercadez', 'toyota', 'volswagen']\n"
          ]
        }
      ]
    },
    {
      "cell_type": "code",
      "source": [
        "# Reverse the list\n",
        "cars.sort(reverse=True)"
      ],
      "metadata": {
        "id": "wyWgPhp-A6Lo"
      },
      "execution_count": 58,
      "outputs": []
    },
    {
      "cell_type": "code",
      "source": [
        "print(cars)"
      ],
      "metadata": {
        "colab": {
          "base_uri": "https://localhost:8080/"
        },
        "id": "xigd39YjBzDp",
        "outputId": "0d469865-9dd8-4b3d-b6c4-ba5b226b0d7c"
      },
      "execution_count": 59,
      "outputs": [
        {
          "output_type": "stream",
          "name": "stdout",
          "text": [
            "['volswagen', 'toyota', 'mercadez', 'kia', 'honda', 'ford', 'chevrolet', 'bmw', 'Nissan', 'Hundai']\n"
          ]
        }
      ]
    },
    {
      "cell_type": "code",
      "source": [
        "# Display in sorted order only\n",
        "\n",
        "print(sorted(cars))"
      ],
      "metadata": {
        "colab": {
          "base_uri": "https://localhost:8080/"
        },
        "id": "Q7K1SlTHBzxM",
        "outputId": "721b3392-0505-4bb1-c12d-5484a0ce1d51"
      },
      "execution_count": 60,
      "outputs": [
        {
          "output_type": "stream",
          "name": "stdout",
          "text": [
            "['Hundai', 'Nissan', 'bmw', 'chevrolet', 'ford', 'honda', 'kia', 'mercadez', 'toyota', 'volswagen']\n"
          ]
        }
      ]
    },
    {
      "cell_type": "code",
      "source": [
        "# The original list does not change\n",
        "print(cars)"
      ],
      "metadata": {
        "colab": {
          "base_uri": "https://localhost:8080/"
        },
        "id": "g0qYVGHIB8Sv",
        "outputId": "ef31d7d3-5cd2-451b-e782-d5c062ff1882"
      },
      "execution_count": 61,
      "outputs": [
        {
          "output_type": "stream",
          "name": "stdout",
          "text": [
            "['volswagen', 'toyota', 'mercadez', 'kia', 'honda', 'ford', 'chevrolet', 'bmw', 'Nissan', 'Hundai']\n"
          ]
        }
      ]
    },
    {
      "cell_type": "code",
      "source": [
        "# Display in reverse sorted order only\n",
        "\n",
        "print(sorted(cars, reverse=True))"
      ],
      "metadata": {
        "colab": {
          "base_uri": "https://localhost:8080/"
        },
        "id": "tMBQU20qB_aF",
        "outputId": "d1f3692c-c103-4699-d8f7-0f008d52d51c"
      },
      "execution_count": 62,
      "outputs": [
        {
          "output_type": "stream",
          "name": "stdout",
          "text": [
            "['volswagen', 'toyota', 'mercadez', 'kia', 'honda', 'ford', 'chevrolet', 'bmw', 'Nissan', 'Hundai']\n"
          ]
        }
      ]
    },
    {
      "cell_type": "code",
      "source": [
        "# The original list does not change\n",
        "\n",
        "print(cars)"
      ],
      "metadata": {
        "colab": {
          "base_uri": "https://localhost:8080/"
        },
        "id": "5TUqeW0mCGNQ",
        "outputId": "2e188bef-de09-4ecb-844e-3d4cceab22ed"
      },
      "execution_count": 63,
      "outputs": [
        {
          "output_type": "stream",
          "name": "stdout",
          "text": [
            "['volswagen', 'toyota', 'mercadez', 'kia', 'honda', 'ford', 'chevrolet', 'bmw', 'Nissan', 'Hundai']\n"
          ]
        }
      ]
    },
    {
      "cell_type": "code",
      "source": [
        "nums = [12, 31, 42, 24, 45, 54, -6, 76, -33]\n",
        "print(nums)"
      ],
      "metadata": {
        "colab": {
          "base_uri": "https://localhost:8080/"
        },
        "id": "96eTw3cbCVyf",
        "outputId": "685c1600-d051-442c-eca9-655fab8543ae"
      },
      "execution_count": 64,
      "outputs": [
        {
          "output_type": "stream",
          "name": "stdout",
          "text": [
            "[12, 31, 42, 24, 45, 54, -6, 76, -33]\n"
          ]
        }
      ]
    },
    {
      "cell_type": "code",
      "source": [
        "# Display only in sorted order\n",
        "\n",
        "print(sorted(nums))"
      ],
      "metadata": {
        "colab": {
          "base_uri": "https://localhost:8080/"
        },
        "id": "Hr_wxjIsCgbt",
        "outputId": "861a3731-b691-4ae7-f01c-44a5ed48afc3"
      },
      "execution_count": 65,
      "outputs": [
        {
          "output_type": "stream",
          "name": "stdout",
          "text": [
            "[-33, -6, 12, 24, 31, 42, 45, 54, 76]\n"
          ]
        }
      ]
    },
    {
      "cell_type": "code",
      "source": [
        "# original list\n",
        "print(nums)"
      ],
      "metadata": {
        "colab": {
          "base_uri": "https://localhost:8080/"
        },
        "id": "pv1Vi-C3CkFP",
        "outputId": "435e8501-32cf-426e-8547-c0428de522ff"
      },
      "execution_count": 66,
      "outputs": [
        {
          "output_type": "stream",
          "name": "stdout",
          "text": [
            "[12, 31, 42, 24, 45, 54, -6, 76, -33]\n"
          ]
        }
      ]
    },
    {
      "cell_type": "code",
      "source": [
        "# display in reverse order\n",
        "print(sorted(nums, reverse=True))"
      ],
      "metadata": {
        "colab": {
          "base_uri": "https://localhost:8080/"
        },
        "id": "lmkFzM2yCl9e",
        "outputId": "2213da5c-eebf-4c4e-b1df-7747155c8711"
      },
      "execution_count": 67,
      "outputs": [
        {
          "output_type": "stream",
          "name": "stdout",
          "text": [
            "[76, 54, 45, 42, 31, 24, 12, -6, -33]\n"
          ]
        }
      ]
    },
    {
      "cell_type": "code",
      "source": [
        "# sort\n",
        "\n",
        "nums.sort()\n",
        "print(nums) # original list"
      ],
      "metadata": {
        "colab": {
          "base_uri": "https://localhost:8080/"
        },
        "id": "pa6CSjo5Cwsf",
        "outputId": "aa04df3c-3ee3-4955-b81e-a95ff85248c4"
      },
      "execution_count": 68,
      "outputs": [
        {
          "output_type": "stream",
          "name": "stdout",
          "text": [
            "[-33, -6, 12, 24, 31, 42, 45, 54, 76]\n"
          ]
        }
      ]
    },
    {
      "cell_type": "code",
      "source": [
        "print(cars)"
      ],
      "metadata": {
        "colab": {
          "base_uri": "https://localhost:8080/"
        },
        "id": "WShzbV2sC_bI",
        "outputId": "d3c6eb3a-01b4-4ece-caca-4b8ed80cac3e"
      },
      "execution_count": 69,
      "outputs": [
        {
          "output_type": "stream",
          "name": "stdout",
          "text": [
            "['volswagen', 'toyota', 'mercadez', 'kia', 'honda', 'ford', 'chevrolet', 'bmw', 'Nissan', 'Hundai']\n"
          ]
        }
      ]
    },
    {
      "cell_type": "code",
      "source": [
        "# reverse the list of strings\n",
        "cars.reverse()"
      ],
      "metadata": {
        "id": "IV3M2hNzC3Re"
      },
      "execution_count": 70,
      "outputs": []
    },
    {
      "cell_type": "code",
      "source": [
        "print(cars)"
      ],
      "metadata": {
        "colab": {
          "base_uri": "https://localhost:8080/"
        },
        "id": "FH53mXYLGErh",
        "outputId": "b833505f-9a8a-45e5-899c-85e86c840272"
      },
      "execution_count": 71,
      "outputs": [
        {
          "output_type": "stream",
          "name": "stdout",
          "text": [
            "['Hundai', 'Nissan', 'bmw', 'chevrolet', 'ford', 'honda', 'kia', 'mercadez', 'toyota', 'volswagen']\n"
          ]
        }
      ]
    },
    {
      "cell_type": "code",
      "source": [
        "# range\n",
        "nums2 = list(range(22, 33))\n",
        "print(nums2)"
      ],
      "metadata": {
        "colab": {
          "base_uri": "https://localhost:8080/"
        },
        "id": "7J2py3W0GIHc",
        "outputId": "2e467892-9eb9-4d53-8524-9ab7a497c284"
      },
      "execution_count": 72,
      "outputs": [
        {
          "output_type": "stream",
          "name": "stdout",
          "text": [
            "[22, 23, 24, 25, 26, 27, 28, 29, 30, 31, 32]\n"
          ]
        }
      ]
    },
    {
      "cell_type": "code",
      "source": [
        "odd_numbers = list(range(1, 22, 2))\n",
        "print(odd_numbers)"
      ],
      "metadata": {
        "colab": {
          "base_uri": "https://localhost:8080/"
        },
        "id": "PEVZLr6QGsid",
        "outputId": "d4a19a2b-28aa-44c1-d9be-4064314888e3"
      },
      "execution_count": 73,
      "outputs": [
        {
          "output_type": "stream",
          "name": "stdout",
          "text": [
            "[1, 3, 5, 7, 9, 11, 13, 15, 17, 19, 21]\n"
          ]
        }
      ]
    },
    {
      "cell_type": "code",
      "source": [
        "even_numbers = list(range(0, 22, 2))\n",
        "print(even_numbers)"
      ],
      "metadata": {
        "colab": {
          "base_uri": "https://localhost:8080/"
        },
        "id": "6nsin2FgGzFN",
        "outputId": "30327824-559d-4367-f7ee-8cb419da38f8"
      },
      "execution_count": 74,
      "outputs": [
        {
          "output_type": "stream",
          "name": "stdout",
          "text": [
            "[0, 2, 4, 6, 8, 10, 12, 14, 16, 18, 20]\n"
          ]
        }
      ]
    },
    {
      "cell_type": "code",
      "source": [
        "nums"
      ],
      "metadata": {
        "colab": {
          "base_uri": "https://localhost:8080/"
        },
        "id": "tXujafygG8WR",
        "outputId": "2eb01b69-4a49-48a6-b56b-58bc60550e6f"
      },
      "execution_count": 75,
      "outputs": [
        {
          "output_type": "execute_result",
          "data": {
            "text/plain": [
              "[-33, -6, 12, 24, 31, 42, 45, 54, 76]"
            ]
          },
          "metadata": {},
          "execution_count": 75
        }
      ]
    },
    {
      "cell_type": "code",
      "source": [
        "# find max, min, sum values\n",
        "print(\"Maximum number =\", max(nums))\n",
        "print(\"Minimum number =\", min(nums))\n",
        "print(\"Sum of numbers =\", sum(nums))"
      ],
      "metadata": {
        "colab": {
          "base_uri": "https://localhost:8080/"
        },
        "id": "owD1foF0G214",
        "outputId": "79ce8efb-2489-428a-d95b-2e20ef3a8e7f"
      },
      "execution_count": 76,
      "outputs": [
        {
          "output_type": "stream",
          "name": "stdout",
          "text": [
            "Maximum number = 76\n",
            "Minimum number = -33\n",
            "Sum of numbers = 245\n"
          ]
        }
      ]
    },
    {
      "cell_type": "code",
      "source": [
        "print(cars)"
      ],
      "metadata": {
        "colab": {
          "base_uri": "https://localhost:8080/"
        },
        "id": "SGcYXtvTHRBY",
        "outputId": "9f7f9704-d429-4624-d651-69e45b50f27d"
      },
      "execution_count": 77,
      "outputs": [
        {
          "output_type": "stream",
          "name": "stdout",
          "text": [
            "['Hundai', 'Nissan', 'bmw', 'chevrolet', 'ford', 'honda', 'kia', 'mercadez', 'toyota', 'volswagen']\n"
          ]
        }
      ]
    },
    {
      "cell_type": "code",
      "source": [
        "# Getting multiple values from a text list at once\n",
        "\n",
        "# Get from bmw to kia\n",
        "print(cars[2:6])"
      ],
      "metadata": {
        "colab": {
          "base_uri": "https://localhost:8080/"
        },
        "id": "hFyb1EsvHHfg",
        "outputId": "fa8b214b-f51c-4917-fc2a-8b2fd0a64932"
      },
      "execution_count": 78,
      "outputs": [
        {
          "output_type": "stream",
          "name": "stdout",
          "text": [
            "['bmw', 'chevrolet', 'ford', 'honda']\n"
          ]
        }
      ]
    },
    {
      "cell_type": "code",
      "source": [
        "nums"
      ],
      "metadata": {
        "colab": {
          "base_uri": "https://localhost:8080/"
        },
        "id": "3gA1IpE0HZ2T",
        "outputId": "fb6577ef-cecd-4f7a-d44a-a4c53f745506"
      },
      "execution_count": 79,
      "outputs": [
        {
          "output_type": "execute_result",
          "data": {
            "text/plain": [
              "[-33, -6, 12, 24, 31, 42, 45, 54, 76]"
            ]
          },
          "metadata": {},
          "execution_count": 79
        }
      ]
    },
    {
      "cell_type": "code",
      "source": [
        "# Get from 45 to the end\n",
        "print(nums[-3:-1])"
      ],
      "metadata": {
        "colab": {
          "base_uri": "https://localhost:8080/"
        },
        "id": "b7UCpmxFHbWP",
        "outputId": "5360c971-1f18-4e0b-9398-ba934315bca1"
      },
      "execution_count": 80,
      "outputs": [
        {
          "output_type": "stream",
          "name": "stdout",
          "text": [
            "[45, 54]\n"
          ]
        }
      ]
    },
    {
      "cell_type": "code",
      "source": [
        "# Get from mercadez to the end\n",
        "print(cars[-3:])"
      ],
      "metadata": {
        "colab": {
          "base_uri": "https://localhost:8080/"
        },
        "id": "Oo9eCBxWHiQz",
        "outputId": "ed3f5970-3ded-4c18-c57e-d5f7dbcf8e85"
      },
      "execution_count": 81,
      "outputs": [
        {
          "output_type": "stream",
          "name": "stdout",
          "text": [
            "['mercadez', 'toyota', 'volswagen']\n"
          ]
        }
      ]
    },
    {
      "cell_type": "code",
      "source": [
        "# Get from -33 to 24\n",
        "print(nums[:3])"
      ],
      "metadata": {
        "colab": {
          "base_uri": "https://localhost:8080/"
        },
        "id": "yTfa8J2zHrOi",
        "outputId": "6df6727f-5f37-45d4-8762-cd9471ae99ca"
      },
      "execution_count": 82,
      "outputs": [
        {
          "output_type": "stream",
          "name": "stdout",
          "text": [
            "[-33, -6, 12]\n"
          ]
        }
      ]
    },
    {
      "cell_type": "code",
      "source": [
        "# Make a copy of the cars list\n",
        "my_cars = cars[:]"
      ],
      "metadata": {
        "id": "PlttLHHOHw5i"
      },
      "execution_count": 83,
      "outputs": []
    },
    {
      "cell_type": "code",
      "source": [
        "print(cars)"
      ],
      "metadata": {
        "colab": {
          "base_uri": "https://localhost:8080/"
        },
        "id": "VXwudl6fIVfL",
        "outputId": "9174922e-d27c-45bf-8015-0c1554df87e1"
      },
      "execution_count": 84,
      "outputs": [
        {
          "output_type": "stream",
          "name": "stdout",
          "text": [
            "['Hundai', 'Nissan', 'bmw', 'chevrolet', 'ford', 'honda', 'kia', 'mercadez', 'toyota', 'volswagen']\n"
          ]
        }
      ]
    },
    {
      "cell_type": "code",
      "source": [
        "print(my_cars)"
      ],
      "metadata": {
        "colab": {
          "base_uri": "https://localhost:8080/"
        },
        "id": "XwHR9ZFcIWMh",
        "outputId": "af7d6657-1ca3-4d0d-da7d-b84c96e86031"
      },
      "execution_count": 85,
      "outputs": [
        {
          "output_type": "stream",
          "name": "stdout",
          "text": [
            "['Hundai', 'Nissan', 'bmw', 'chevrolet', 'ford', 'honda', 'kia', 'mercadez', 'toyota', 'volswagen']\n"
          ]
        }
      ]
    },
    {
      "cell_type": "code",
      "source": [
        "my_cars.remove('Hundai')\n",
        "my_cars.remove('Nissan')"
      ],
      "metadata": {
        "id": "E7W0WG-SIXAi"
      },
      "execution_count": 86,
      "outputs": []
    },
    {
      "cell_type": "code",
      "source": [
        "print(my_cars)"
      ],
      "metadata": {
        "colab": {
          "base_uri": "https://localhost:8080/"
        },
        "id": "OkD3_04FIcq-",
        "outputId": "47fa3056-ae44-498b-c213-7c91bdd8b220"
      },
      "execution_count": 87,
      "outputs": [
        {
          "output_type": "stream",
          "name": "stdout",
          "text": [
            "['bmw', 'chevrolet', 'ford', 'honda', 'kia', 'mercadez', 'toyota', 'volswagen']\n"
          ]
        }
      ]
    },
    {
      "cell_type": "code",
      "source": [
        "print(cars)"
      ],
      "metadata": {
        "colab": {
          "base_uri": "https://localhost:8080/"
        },
        "id": "l2uoKXcIIdz-",
        "outputId": "1dada928-8b3b-48cc-f3d8-122a8d3d8435"
      },
      "execution_count": 88,
      "outputs": [
        {
          "output_type": "stream",
          "name": "stdout",
          "text": [
            "['Hundai', 'Nissan', 'bmw', 'chevrolet', 'ford', 'honda', 'kia', 'mercadez', 'toyota', 'volswagen']\n"
          ]
        }
      ]
    },
    {
      "cell_type": "code",
      "source": [
        "len(cars)"
      ],
      "metadata": {
        "colab": {
          "base_uri": "https://localhost:8080/"
        },
        "id": "7Tcuj-jPIedt",
        "outputId": "a11b69e1-5f40-469d-d31b-10665cbf0886"
      },
      "execution_count": 89,
      "outputs": [
        {
          "output_type": "execute_result",
          "data": {
            "text/plain": [
              "10"
            ]
          },
          "metadata": {},
          "execution_count": 89
        }
      ]
    },
    {
      "cell_type": "code",
      "source": [
        "len(my_cars)"
      ],
      "metadata": {
        "colab": {
          "base_uri": "https://localhost:8080/"
        },
        "id": "-OUsoTVAIk_R",
        "outputId": "b650e1ce-801f-40e0-a2cd-30afacee246a"
      },
      "execution_count": 90,
      "outputs": [
        {
          "output_type": "execute_result",
          "data": {
            "text/plain": [
              "8"
            ]
          },
          "metadata": {},
          "execution_count": 90
        }
      ]
    },
    {
      "cell_type": "markdown",
      "source": [
        "**Tuple**"
      ],
      "metadata": {
        "id": "hc9ThI44Ipg4"
      }
    },
    {
      "cell_type": "code",
      "source": [
        "new_cars = ('tico', 'damas', 'lacetti', 'jiguli', 'nexia')"
      ],
      "metadata": {
        "id": "ordvjKwpImG0"
      },
      "execution_count": 91,
      "outputs": []
    },
    {
      "cell_type": "code",
      "source": [
        "print(type(new_cars))\n",
        "print(new_cars)"
      ],
      "metadata": {
        "colab": {
          "base_uri": "https://localhost:8080/"
        },
        "id": "4GmGM0f8Ixv5",
        "outputId": "5daa33d0-a226-4fde-e600-7203a6ab0fe5"
      },
      "execution_count": 92,
      "outputs": [
        {
          "output_type": "stream",
          "name": "stdout",
          "text": [
            "<class 'tuple'>\n",
            "('tico', 'damas', 'lacetti', 'jiguli', 'nexia')\n"
          ]
        }
      ]
    },
    {
      "cell_type": "code",
      "source": [
        "# getting elements\n",
        "new_cars[1] # damas"
      ],
      "metadata": {
        "colab": {
          "base_uri": "https://localhost:8080/",
          "height": 36
        },
        "id": "PY1mZRsuI0g7",
        "outputId": "d22b434c-1e92-4d56-d530-c8ace87b7e6f"
      },
      "execution_count": 93,
      "outputs": [
        {
          "output_type": "execute_result",
          "data": {
            "text/plain": [
              "'damas'"
            ],
            "application/vnd.google.colaboratory.intrinsic+json": {
              "type": "string"
            }
          },
          "metadata": {},
          "execution_count": 93
        }
      ]
    },
    {
      "cell_type": "code",
      "source": [
        "new_cars[1:-1]"
      ],
      "metadata": {
        "colab": {
          "base_uri": "https://localhost:8080/"
        },
        "id": "6_fl2bc4I4t6",
        "outputId": "784e2997-0f38-4464-9dbf-6d1f3d8f845b"
      },
      "execution_count": 94,
      "outputs": [
        {
          "output_type": "execute_result",
          "data": {
            "text/plain": [
              "('damas', 'lacetti', 'jiguli')"
            ]
          },
          "metadata": {},
          "execution_count": 94
        }
      ]
    },
    {
      "cell_type": "code",
      "source": [
        "# if changing is mandatory\n",
        "new_cars = list(new_cars)"
      ],
      "metadata": {
        "id": "Joq4X0q4JHIU"
      },
      "execution_count": 95,
      "outputs": []
    },
    {
      "cell_type": "code",
      "source": [
        "type(new_cars)"
      ],
      "metadata": {
        "colab": {
          "base_uri": "https://localhost:8080/"
        },
        "id": "LRhzudK6JQHR",
        "outputId": "5aaec42b-8f2a-4b31-84de-17ad5302b0c7"
      },
      "execution_count": 96,
      "outputs": [
        {
          "output_type": "execute_result",
          "data": {
            "text/plain": [
              "list"
            ]
          },
          "metadata": {},
          "execution_count": 96
        }
      ]
    },
    {
      "cell_type": "code",
      "source": [
        "new_cars.append('gentra')\n",
        "new_cars.append('nexia3')"
      ],
      "metadata": {
        "id": "DPDDYxY8JQ_C"
      },
      "execution_count": 97,
      "outputs": []
    },
    {
      "cell_type": "code",
      "source": [
        "del new_cars[1] # damas is deleted"
      ],
      "metadata": {
        "id": "80-hEe2IJUlU"
      },
      "execution_count": 98,
      "outputs": []
    },
    {
      "cell_type": "code",
      "source": [
        "print(new_cars)"
      ],
      "metadata": {
        "colab": {
          "base_uri": "https://localhost:8080/"
        },
        "id": "kG9ZMD4ZJhKh",
        "outputId": "b6c100e1-8150-48b3-e214-e6ae1c1804f4"
      },
      "execution_count": 99,
      "outputs": [
        {
          "output_type": "stream",
          "name": "stdout",
          "text": [
            "['tico', 'lacetti', 'jiguli', 'nexia', 'gentra', 'nexia3']\n"
          ]
        }
      ]
    },
    {
      "cell_type": "code",
      "source": [
        "# make a tuple\n",
        "new_cars = tuple(new_cars)"
      ],
      "metadata": {
        "id": "1UOUfNoNJiiJ"
      },
      "execution_count": 100,
      "outputs": []
    },
    {
      "cell_type": "code",
      "source": [
        "type(new_cars)"
      ],
      "metadata": {
        "colab": {
          "base_uri": "https://localhost:8080/"
        },
        "id": "w4VrmdEkJmiP",
        "outputId": "17856e7c-5196-434f-a116-9f87ba796cc0"
      },
      "execution_count": 101,
      "outputs": [
        {
          "output_type": "execute_result",
          "data": {
            "text/plain": [
              "tuple"
            ]
          },
          "metadata": {},
          "execution_count": 101
        }
      ]
    },
    {
      "cell_type": "code",
      "source": [
        "print(new_cars)"
      ],
      "metadata": {
        "colab": {
          "base_uri": "https://localhost:8080/"
        },
        "id": "tRgpXOgoJqdq",
        "outputId": "528a09d6-65ac-4df0-ad79-a314d068a0e3"
      },
      "execution_count": 102,
      "outputs": [
        {
          "output_type": "stream",
          "name": "stdout",
          "text": [
            "('tico', 'lacetti', 'jiguli', 'nexia', 'gentra', 'nexia3')\n"
          ]
        }
      ]
    }
  ]
}