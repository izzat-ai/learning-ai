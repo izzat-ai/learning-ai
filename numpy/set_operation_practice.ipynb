{
  "nbformat": 4,
  "nbformat_minor": 0,
  "metadata": {
    "colab": {
      "provenance": [],
      "authorship_tag": "ABX9TyPPiYsQnvsWqp4NO+12t/7b",
      "include_colab_link": true
    },
    "kernelspec": {
      "name": "python3",
      "display_name": "Python 3"
    },
    "language_info": {
      "name": "python"
    }
  },
  "cells": [
    {
      "cell_type": "markdown",
      "metadata": {
        "id": "view-in-github",
        "colab_type": "text"
      },
      "source": [
        "<a href=\"https://colab.research.google.com/github/izzat-ai/learning-ai/blob/main/numpy/set_operation_practice.ipynb\" target=\"_parent\"><img src=\"https://colab.research.google.com/assets/colab-badge.svg\" alt=\"Open In Colab\"/></a>"
      ]
    },
    {
      "cell_type": "code",
      "execution_count": 1,
      "metadata": {
        "id": "QUcaQFj9seiA"
      },
      "outputs": [],
      "source": [
        "import numpy as np"
      ]
    },
    {
      "cell_type": "markdown",
      "source": [
        "###N1\n",
        "**What will be the output of the following code ?**\n",
        "```\n",
        "arr = np.array([2, 3, 2, 5, 6, 3, 7])\n",
        "print(np.unique(arr))\n",
        "```\n",
        "\n",
        "a) [2, 3, 2, 5, 6, 3, 7]\n",
        "\n",
        "b) [2, 3, 5, 6, 7]\n",
        "\n",
        "c) [2, 2, 3, 3, 5, 6, 7]\n",
        "\n",
        "d) [7, 6, 5, 3, 2]\n",
        "\n"
      ],
      "metadata": {
        "id": "AN_ZfZf9sxwK"
      }
    },
    {
      "cell_type": "code",
      "source": [
        "# 2, 3, 5, 6, 7"
      ],
      "metadata": {
        "id": "AbXd2WCdsxKE"
      },
      "execution_count": 2,
      "outputs": []
    },
    {
      "cell_type": "markdown",
      "source": [
        "###N2\n",
        "**Which function should be used to find common elements between two NumPy arrays ?**\n",
        "\n",
        "a) np.unique()\n",
        "\n",
        "b) np.setdiff1d()\n",
        "\n",
        "c) np.intersect1d()\n",
        "\n",
        "d) np.union1d()\n",
        "\n"
      ],
      "metadata": {
        "id": "6tbZBbL6tF3F"
      }
    },
    {
      "cell_type": "code",
      "source": [
        "# c"
      ],
      "metadata": {
        "id": "RNlGeL5XtM3f"
      },
      "execution_count": 3,
      "outputs": []
    },
    {
      "cell_type": "markdown",
      "source": [
        "###N3\n",
        "**Given the arrays below, what will np.setdiff1d(arr1, arr2) return?**\n",
        "```\n",
        "arr1 = np.array([10, 20, 30, 40, 50])\n",
        "arr2 = np.array([30, 40, 60])\n",
        "```\n",
        "\n",
        "a) [10, 20, 50]\n",
        "\n",
        "b) [10, 20, 30]\n",
        "\n",
        "c) [60]\n",
        "\n",
        "d) [10, 20, 30, 40, 50]\n"
      ],
      "metadata": {
        "id": "0NQ_mYDqtNnt"
      }
    },
    {
      "cell_type": "code",
      "source": [
        "# a"
      ],
      "metadata": {
        "id": "5uEIcGxltYKt"
      },
      "execution_count": 4,
      "outputs": []
    },
    {
      "cell_type": "markdown",
      "source": [
        "###N4\n",
        "**Which function is used to get elements that are present in only one of the two arrays?**\n",
        "\n",
        "a) np.setdiff1d()\n",
        "\n",
        "b) np.setxor1d()\n",
        "\n",
        "c) np.intersect1d()\n",
        "\n",
        "d) np.union1d()\n",
        "\n"
      ],
      "metadata": {
        "id": "aDpDIyeNtZiz"
      }
    },
    {
      "cell_type": "code",
      "source": [
        "# b"
      ],
      "metadata": {
        "id": "YwSBn1pYtg5r"
      },
      "execution_count": 5,
      "outputs": []
    },
    {
      "cell_type": "markdown",
      "source": [
        "###N5\n",
        "**Given `arr1 = np.array([3, 5, 7, 9, 11])` and `arr2 = np.array([1, 3, 5, 7, 13])`, what will `np.setdiff1d(arr2, arr1)` return?**"
      ],
      "metadata": {
        "id": "mMalymifvLF-"
      }
    },
    {
      "cell_type": "code",
      "source": [
        "# 9, 11"
      ],
      "metadata": {
        "id": "-j3zdtVgux7i"
      },
      "execution_count": 6,
      "outputs": []
    },
    {
      "cell_type": "markdown",
      "source": [
        "###N6\n",
        "**What is the difference between `np.unique(arr, return_counts=True)` and `np.bincount(arr)` ?**"
      ],
      "metadata": {
        "id": "tfsw6f3-vUCo"
      }
    },
    {
      "cell_type": "code",
      "source": [
        "# unique(arr, return_counts=True) - determines how many times the elements of an array are repeated\n",
        "# bincount(arr) - is used only for positive integers. The index number indicates how many times the element at which index is repeated"
      ],
      "metadata": {
        "id": "qVsMvJl4vZ9k"
      },
      "execution_count": 7,
      "outputs": []
    },
    {
      "cell_type": "markdown",
      "source": [
        "###N7\n",
        "**If `arr = np.array([4, 2, 2, 8, 4, 4, 8, 2])`, how can you find the most frequently occurring element using NumPy ?**"
      ],
      "metadata": {
        "id": "mXD2mKfTva1m"
      }
    },
    {
      "cell_type": "code",
      "source": [
        "# we can find out using - np.unique(arr, return_counts=True)"
      ],
      "metadata": {
        "id": "kM_SHy1KvhOl"
      },
      "execution_count": 8,
      "outputs": []
    },
    {
      "cell_type": "markdown",
      "source": [
        "###N8\n",
        "**What is the output of the following code ?**\n",
        "```\n",
        "arr1 = np.array([10, 20, 30, 40])\n",
        "arr2 = np.array([20, 30, 50, 60])\n",
        "res = np.union1d(arr1, arr2)\n",
        "print(res)\n",
        "```"
      ],
      "metadata": {
        "id": "ymRLbYk4vjVk"
      }
    },
    {
      "cell_type": "code",
      "source": [
        "# 10, 20, 30, 40, 50, 60"
      ],
      "metadata": {
        "id": "73frZDY5vnGP"
      },
      "execution_count": 9,
      "outputs": []
    }
  ]
}