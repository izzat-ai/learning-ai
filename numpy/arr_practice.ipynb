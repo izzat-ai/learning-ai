{
  "nbformat": 4,
  "nbformat_minor": 0,
  "metadata": {
    "colab": {
      "provenance": [],
      "authorship_tag": "ABX9TyNYFde3/d2AXyE4KjC6GXpA",
      "include_colab_link": true
    },
    "kernelspec": {
      "name": "python3",
      "display_name": "Python 3"
    },
    "language_info": {
      "name": "python"
    }
  },
  "cells": [
    {
      "cell_type": "markdown",
      "metadata": {
        "id": "view-in-github",
        "colab_type": "text"
      },
      "source": [
        "<a href=\"https://colab.research.google.com/github/izzat-ai/learning-ai/blob/main/numpy/arr_practice.ipynb\" target=\"_parent\"><img src=\"https://colab.research.google.com/assets/colab-badge.svg\" alt=\"Open In Colab\"/></a>"
      ]
    },
    {
      "cell_type": "markdown",
      "source": [
        "#### N1\n",
        "**How create a simple array using the NumPy library? Give an example**\n"
      ],
      "metadata": {
        "id": "avBVxcvTRECi"
      }
    },
    {
      "cell_type": "code",
      "execution_count": 1,
      "metadata": {
        "id": "5KKC87LyQk1T"
      },
      "outputs": [],
      "source": [
        "import numpy as np"
      ]
    },
    {
      "cell_type": "code",
      "source": [
        "arr = np.array([1, 2.2, -3, 4, -5.5])\n",
        "arr"
      ],
      "metadata": {
        "colab": {
          "base_uri": "https://localhost:8080/"
        },
        "id": "qjQV5DUGRWrV",
        "outputId": "30e5c2df-ce69-451f-9b41-8c4e036359e4"
      },
      "execution_count": 2,
      "outputs": [
        {
          "output_type": "execute_result",
          "data": {
            "text/plain": [
              "array([ 1. ,  2.2, -3. ,  4. , -5.5])"
            ]
          },
          "metadata": {},
          "execution_count": 2
        }
      ]
    },
    {
      "cell_type": "markdown",
      "source": [
        "#### N2\n",
        "**What kind of array does the code np.zeros((2,3)) create?**"
      ],
      "metadata": {
        "id": "CoARzLdfRwXr"
      }
    },
    {
      "cell_type": "markdown",
      "source": [
        "- creates an array of size 2x3 with all elements set to 0"
      ],
      "metadata": {
        "id": "BKQ7ic0SVbs2"
      }
    },
    {
      "cell_type": "markdown",
      "source": [
        "###N3\n",
        "**What does the following code return?**\n",
        "\n",
        "`import numpy as np`\n",
        "\n",
        "`arr = np.array([10, 20, 30, 40])`\n",
        "\n",
        "`print(arr.shape)`"
      ],
      "metadata": {
        "id": "6dINmCZ9R0ps"
      }
    },
    {
      "cell_type": "markdown",
      "source": [
        "- specifies the number of rows and columns of the array in the variable arr"
      ],
      "metadata": {
        "id": "HFhCVYXzVzF4"
      }
    },
    {
      "cell_type": "markdown",
      "source": [
        "###N4\n",
        "**What kind of array does the code np.arange(5, 20, 3) create ?**"
      ],
      "metadata": {
        "id": "cRDhVEpDV_px"
      }
    },
    {
      "cell_type": "markdown",
      "source": [
        "- Creates a one-dimensional array with numbers from 5 to 20 in 3 steps"
      ],
      "metadata": {
        "id": "Y0ZDw1tUXu--"
      }
    },
    {
      "cell_type": "markdown",
      "source": [
        "###N5\n",
        "**What would be the possible result of the code**\n",
        "\n",
        "`np.random.randint(1, 50, (3, 3))?`"
      ],
      "metadata": {
        "id": "qML4LjikWJch"
      }
    },
    {
      "cell_type": "markdown",
      "source": [
        "- Creates a 3x3 array whose elements are random numbers between 1 and 50"
      ],
      "metadata": {
        "id": "BbXHGATgYAiO"
      }
    },
    {
      "cell_type": "markdown",
      "source": [
        "###N6\n",
        "**What is the response from the code below ?**\n",
        "\n",
        "`arr = np.linspace(0, 10, 5)`\n",
        "\n",
        "`print(arr)`"
      ],
      "metadata": {
        "id": "9aT5ur3BWalC"
      }
    },
    {
      "cell_type": "markdown",
      "source": [
        "- Creates an array of 5 evenly distributed numbers from 0 to 10"
      ],
      "metadata": {
        "id": "8VCEK0yEYmuF"
      }
    },
    {
      "cell_type": "markdown",
      "source": [
        "###N7\n",
        "**Reshape the given array into a 3x4 matrix using reshape**\n",
        "\n",
        "`arr = np.arange(12)`"
      ],
      "metadata": {
        "id": "T6DGoF2rXDTU"
      }
    },
    {
      "cell_type": "code",
      "source": [
        "arr2 = np.arange(12).reshape(3, 4)\n",
        "arr2"
      ],
      "metadata": {
        "colab": {
          "base_uri": "https://localhost:8080/"
        },
        "id": "IyE-DQQjXLkw",
        "outputId": "769934a2-838c-4fdb-d5b4-c190c2c415b7"
      },
      "execution_count": 4,
      "outputs": [
        {
          "output_type": "execute_result",
          "data": {
            "text/plain": [
              "array([[ 0,  1,  2,  3],\n",
              "       [ 4,  5,  6,  7],\n",
              "       [ 8,  9, 10, 11]])"
            ]
          },
          "metadata": {},
          "execution_count": 4
        }
      ]
    },
    {
      "cell_type": "markdown",
      "source": [
        "###N8\n",
        "**Create a 4x4 array of randomly distributed numbers and round each element to 2 decimal places**"
      ],
      "metadata": {
        "id": "yC2gQVMrXME9"
      }
    },
    {
      "cell_type": "code",
      "source": [
        "arr3 = np.random.rand(4, 4) # generates random numbers between 0 and 1\n",
        "# integration\n",
        "arr3 = np.round(arr3, 2)\n",
        "arr3"
      ],
      "metadata": {
        "colab": {
          "base_uri": "https://localhost:8080/"
        },
        "id": "YwqiF1FVXRyR",
        "outputId": "ae173558-192f-43ac-d297-6c5b6526f084"
      },
      "execution_count": 5,
      "outputs": [
        {
          "output_type": "execute_result",
          "data": {
            "text/plain": [
              "array([[0.07, 0.55, 0.62, 0.53],\n",
              "       [0.34, 0.32, 0.88, 0.81],\n",
              "       [0.93, 0.84, 0.02, 0.55],\n",
              "       [0.84, 0.94, 0.49, 0.43]])"
            ]
          },
          "metadata": {},
          "execution_count": 5
        }
      ]
    },
    {
      "cell_type": "markdown",
      "source": [
        "###N9\n",
        "**What will be the output of the following code and why ?**\n",
        "\n",
        "`arr1 = np.array([1, 2, 3])`\n",
        "\n",
        "`arr2 = np.array([4, 5])`\n",
        "\n",
        "`result = np.concatenate((arr1, arr2))`\n",
        "\n",
        "`print(result)`"
      ],
      "metadata": {
        "id": "b_JBAcYdXSoM"
      }
    },
    {
      "cell_type": "markdown",
      "source": [
        "- Two one-dimensional arrays are created (arr1 and arr2). concatenate combines them, because both arrays have the same size"
      ],
      "metadata": {
        "id": "wogaJJCKZleb"
      }
    },
    {
      "cell_type": "markdown",
      "source": [
        "###N10\n",
        "**How do you create a NumPy array filled with ones? Provide an example**"
      ],
      "metadata": {
        "id": "FK6ENThgZ4XT"
      }
    },
    {
      "cell_type": "code",
      "source": [
        "arr4 = np.ones(5)\n",
        "arr4"
      ],
      "metadata": {
        "colab": {
          "base_uri": "https://localhost:8080/"
        },
        "id": "vIaWGaz8Z6nI",
        "outputId": "5d28cad7-fc17-4755-f4a7-c83118e095eb"
      },
      "execution_count": 6,
      "outputs": [
        {
          "output_type": "execute_result",
          "data": {
            "text/plain": [
              "array([1., 1., 1., 1., 1.])"
            ]
          },
          "metadata": {},
          "execution_count": 6
        }
      ]
    },
    {
      "cell_type": "markdown",
      "source": [
        "###N11\n",
        "**What does the following code output?**\n",
        "\n",
        "```\n",
        "arr = np.full((2, 3), 7)\n",
        "print(arr)\n",
        "```"
      ],
      "metadata": {
        "id": "xMnN7UFgZ7Gc"
      }
    },
    {
      "cell_type": "markdown",
      "source": [
        "- creates an array of size 2x3 with all elements consisting of 7"
      ],
      "metadata": {
        "id": "OhxJsIeVfUzT"
      }
    },
    {
      "cell_type": "markdown",
      "source": [
        "###N12\n",
        "**How can you create a NumPy array from a Python list [10, 20, 30, 40, 50]?**"
      ],
      "metadata": {
        "id": "6mzYl8c6aF5c"
      }
    },
    {
      "cell_type": "code",
      "source": [
        "lst = [10, 20, 30, 40, 50]\n",
        "arr5 = np.array(lst)\n",
        "arr5"
      ],
      "metadata": {
        "colab": {
          "base_uri": "https://localhost:8080/"
        },
        "id": "IyLcHvEqaLxP",
        "outputId": "9c1f203e-05ce-4f80-e78a-7cd7df3812d0"
      },
      "execution_count": 13,
      "outputs": [
        {
          "output_type": "execute_result",
          "data": {
            "text/plain": [
              "array([10, 20, 30, 40, 50])"
            ]
          },
          "metadata": {},
          "execution_count": 13
        }
      ]
    },
    {
      "cell_type": "markdown",
      "source": [
        "###N13\n",
        "**What does the function np.identity(4) generate?**"
      ],
      "metadata": {
        "id": "BgYoJVrXaMRb"
      }
    },
    {
      "cell_type": "markdown",
      "source": [
        "- creates a 4x4 array with diagonal elements 1 and remaining elements 0"
      ],
      "metadata": {
        "id": "oPTHvaOSf33p"
      }
    },
    {
      "cell_type": "markdown",
      "source": [
        "###N14\n",
        "**How do you generate a 5x5 matrix of random integers between 10 and 100?**"
      ],
      "metadata": {
        "id": "cGajsXwoaSOX"
      }
    },
    {
      "cell_type": "code",
      "source": [
        "arr6 = np.random.randint(10, 100, (5, 5))\n",
        "arr6"
      ],
      "metadata": {
        "colab": {
          "base_uri": "https://localhost:8080/"
        },
        "id": "awWe4PLQaW6q",
        "outputId": "8a19274d-6f9b-41da-c8ef-5e74bb4260a0"
      },
      "execution_count": 14,
      "outputs": [
        {
          "output_type": "execute_result",
          "data": {
            "text/plain": [
              "array([[60, 13, 60, 71, 66],\n",
              "       [86, 75, 24, 44, 39],\n",
              "       [60, 27, 88, 65, 47],\n",
              "       [86, 12, 40, 40, 34],\n",
              "       [55, 69, 61, 84, 63]])"
            ]
          },
          "metadata": {},
          "execution_count": 14
        }
      ]
    },
    {
      "cell_type": "markdown",
      "source": [
        "###N15\n",
        "**What is the difference between np.zeros((3,3)) and np.empty((3,3))?**"
      ],
      "metadata": {
        "id": "rGiqdrsfaXmr"
      }
    },
    {
      "cell_type": "markdown",
      "source": [
        "- `zeros function` - creates a 3x3 array with all elements 0\n",
        "\n",
        "  `empty function` - allocates empty space with random values"
      ],
      "metadata": {
        "id": "wkaWryh3gERD"
      }
    },
    {
      "cell_type": "markdown",
      "source": [
        "###N16\n",
        "**Create a 3x3 matrix where all diagonal elements are 5, and the rest are zeros**"
      ],
      "metadata": {
        "id": "VICpmpOEacyR"
      }
    },
    {
      "cell_type": "code",
      "source": [
        "arr7 = np.eye(3)*5\n",
        "arr7"
      ],
      "metadata": {
        "colab": {
          "base_uri": "https://localhost:8080/"
        },
        "id": "ki_d2gd2ah8P",
        "outputId": "4af040fe-4406-47f7-d1e4-0c38a04863af"
      },
      "execution_count": 15,
      "outputs": [
        {
          "output_type": "execute_result",
          "data": {
            "text/plain": [
              "array([[5., 0., 0.],\n",
              "       [0., 5., 0.],\n",
              "       [0., 0., 5.]])"
            ]
          },
          "metadata": {},
          "execution_count": 15
        }
      ]
    },
    {
      "cell_type": "markdown",
      "source": [
        "###N17\n",
        "**Generate a 4x4 NumPy array with random numbers between 0 and 1, then replace all values greater than 0.5 with 1 and others with 0**"
      ],
      "metadata": {
        "id": "ElGt4cW_aiZO"
      }
    },
    {
      "cell_type": "code",
      "source": [
        "arr8 = np.random.rand(4, 4)\n",
        "arr8"
      ],
      "metadata": {
        "colab": {
          "base_uri": "https://localhost:8080/"
        },
        "id": "5sFJmKRTanXc",
        "outputId": "b800d8f9-b333-4ffb-8a6c-1a911d3a2b7f"
      },
      "execution_count": 17,
      "outputs": [
        {
          "output_type": "execute_result",
          "data": {
            "text/plain": [
              "array([[0.41345631, 0.02605144, 0.33984527, 0.89625913],\n",
              "       [0.68740249, 0.86419914, 0.46908543, 0.11877545],\n",
              "       [0.12343627, 0.60064166, 0.98405915, 0.73008133],\n",
              "       [0.04941514, 0.24609203, 0.70213607, 0.32022285]])"
            ]
          },
          "metadata": {},
          "execution_count": 17
        }
      ]
    },
    {
      "cell_type": "code",
      "source": [
        "arr8[arr8 > 0.5] = 1\n",
        "arr8[arr8 < 0.5] = 0\n",
        "arr8"
      ],
      "metadata": {
        "colab": {
          "base_uri": "https://localhost:8080/"
        },
        "id": "RvdyqdLJhYYW",
        "outputId": "404f686c-0d9a-4747-a31e-3cc8ace832c2"
      },
      "execution_count": 18,
      "outputs": [
        {
          "output_type": "execute_result",
          "data": {
            "text/plain": [
              "array([[0., 0., 0., 1.],\n",
              "       [1., 1., 0., 0.],\n",
              "       [0., 1., 1., 1.],\n",
              "       [0., 0., 1., 0.]])"
            ]
          },
          "metadata": {},
          "execution_count": 18
        }
      ]
    },
    {
      "cell_type": "markdown",
      "source": [
        "###N18\n",
        "**Given the following array, reshape it into a 3D array with shape (2, 3, 2):**\n",
        "\n",
        "`arr = np.arange(12)`"
      ],
      "metadata": {
        "id": "PeNE7YsPapD_"
      }
    },
    {
      "cell_type": "code",
      "source": [
        "arr9 = np.arange(12).reshape(2, 3, 2)\n",
        "arr9"
      ],
      "metadata": {
        "colab": {
          "base_uri": "https://localhost:8080/"
        },
        "id": "QbXNQxxpavza",
        "outputId": "feb5b7d1-1b3e-43f5-e477-2b3282c90fc4"
      },
      "execution_count": 19,
      "outputs": [
        {
          "output_type": "execute_result",
          "data": {
            "text/plain": [
              "array([[[ 0,  1],\n",
              "        [ 2,  3],\n",
              "        [ 4,  5]],\n",
              "\n",
              "       [[ 6,  7],\n",
              "        [ 8,  9],\n",
              "        [10, 11]]])"
            ]
          },
          "metadata": {},
          "execution_count": 19
        }
      ]
    }
  ]
}