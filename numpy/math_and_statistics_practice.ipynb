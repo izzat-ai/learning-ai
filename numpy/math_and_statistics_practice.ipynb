{
  "nbformat": 4,
  "nbformat_minor": 0,
  "metadata": {
    "colab": {
      "provenance": [],
      "authorship_tag": "ABX9TyMExDFAX+SWyIFhHK93k50K",
      "include_colab_link": true
    },
    "kernelspec": {
      "name": "python3",
      "display_name": "Python 3"
    },
    "language_info": {
      "name": "python"
    }
  },
  "cells": [
    {
      "cell_type": "markdown",
      "metadata": {
        "id": "view-in-github",
        "colab_type": "text"
      },
      "source": [
        "<a href=\"https://colab.research.google.com/github/izzat-ai/learning-ai/blob/main/numpy/math_and_statistics_practice.ipynb\" target=\"_parent\"><img src=\"https://colab.research.google.com/assets/colab-badge.svg\" alt=\"Open In Colab\"/></a>"
      ]
    },
    {
      "cell_type": "code",
      "execution_count": 1,
      "metadata": {
        "id": "Qhz5ImD7xDFM"
      },
      "outputs": [],
      "source": [
        "import numpy as np"
      ]
    },
    {
      "cell_type": "markdown",
      "source": [
        "###N1\n",
        "**Given `arr = np.array([3, 6, 9, 12, 15])`, compute the mean and standard deviation of the array**"
      ],
      "metadata": {
        "id": "xlXJjT3sxqhv"
      }
    },
    {
      "cell_type": "code",
      "source": [
        "arr = np.array([3, 6, 9, 12, 15])\n",
        "# average value\n",
        "print(np.mean(arr))\n",
        "# standard deviation\n",
        "print(np.std(arr))"
      ],
      "metadata": {
        "colab": {
          "base_uri": "https://localhost:8080/"
        },
        "id": "Otpij3QZxUWe",
        "outputId": "4dcabc7a-4d68-4686-9c80-019b09b5a9a3"
      },
      "execution_count": 2,
      "outputs": [
        {
          "output_type": "stream",
          "name": "stdout",
          "text": [
            "9.0\n",
            "4.242640687119285\n"
          ]
        }
      ]
    },
    {
      "cell_type": "markdown",
      "source": [
        "###N2\n",
        "**How do you find the sum of each row in a 3x3 NumPy array? Provide an example**"
      ],
      "metadata": {
        "id": "n8M1eHRfxvy-"
      }
    },
    {
      "cell_type": "code",
      "source": [
        "arr2 = np.random.randint(10, 100, (3, 3))\n",
        "print(arr2)\n",
        "print(np.sum(arr2, axis=1))"
      ],
      "metadata": {
        "colab": {
          "base_uri": "https://localhost:8080/"
        },
        "id": "TOPqABgbx1ud",
        "outputId": "34b60576-3386-4498-c9a9-12f9945628b4"
      },
      "execution_count": 7,
      "outputs": [
        {
          "output_type": "stream",
          "name": "stdout",
          "text": [
            "[[85 17 66]\n",
            " [56 87 53]\n",
            " [96 67 65]]\n",
            "[168 196 228]\n"
          ]
        }
      ]
    },
    {
      "cell_type": "markdown",
      "source": [
        "###N3\n",
        "**What is the output of `np.cumsum(np.array([1, 2, 3, 4]))`? Explain how it works**"
      ],
      "metadata": {
        "id": "sdUC_ICDx64c"
      }
    },
    {
      "cell_type": "code",
      "source": [
        "# 1, 3, 6, 10"
      ],
      "metadata": {
        "id": "JrgvYH_Cx-2O"
      },
      "execution_count": 8,
      "outputs": []
    },
    {
      "cell_type": "markdown",
      "source": [
        "###N4\n",
        "**How can you find the minimum and maximum values in a NumPy array along a specific axis? Provide an example**"
      ],
      "metadata": {
        "id": "386BOWYjyGWl"
      }
    },
    {
      "cell_type": "code",
      "source": [
        "arr3 = np.arange(30, 42).reshape(3, 4)\n",
        "# min\n",
        "print(arr3.min(axis=0)) # by column\n",
        "\n",
        "# by row\n",
        "print(arr3.min(axis=1))"
      ],
      "metadata": {
        "colab": {
          "base_uri": "https://localhost:8080/"
        },
        "id": "v0y0wZE9yH05",
        "outputId": "52fa7a3a-fa80-493d-f214-5a8d01118fed"
      },
      "execution_count": 11,
      "outputs": [
        {
          "output_type": "stream",
          "name": "stdout",
          "text": [
            "[30 31 32 33]\n",
            "[30 34 38]\n"
          ]
        }
      ]
    },
    {
      "cell_type": "code",
      "source": [
        "print(arr3.max(axis=0)) # by column\n",
        "\n",
        "# by row\n",
        "print(arr3.max(axis=1))"
      ],
      "metadata": {
        "colab": {
          "base_uri": "https://localhost:8080/"
        },
        "id": "8VFCHdrQz6Sm",
        "outputId": "90f3712f-5670-4c1c-dc1c-88d643f2a0ab"
      },
      "execution_count": 12,
      "outputs": [
        {
          "output_type": "stream",
          "name": "stdout",
          "text": [
            "[38 39 40 41]\n",
            "[33 37 41]\n"
          ]
        }
      ]
    }
  ]
}