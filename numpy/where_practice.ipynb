{
  "nbformat": 4,
  "nbformat_minor": 0,
  "metadata": {
    "colab": {
      "provenance": [],
      "authorship_tag": "ABX9TyP1ZdaSkOzXFmJDF3SvyRJc",
      "include_colab_link": true
    },
    "kernelspec": {
      "name": "python3",
      "display_name": "Python 3"
    },
    "language_info": {
      "name": "python"
    }
  },
  "cells": [
    {
      "cell_type": "markdown",
      "metadata": {
        "id": "view-in-github",
        "colab_type": "text"
      },
      "source": [
        "<a href=\"https://colab.research.google.com/github/izzat-ai/learning-ai/blob/main/numpy/where_practice.ipynb\" target=\"_parent\"><img src=\"https://colab.research.google.com/assets/colab-badge.svg\" alt=\"Open In Colab\"/></a>"
      ]
    },
    {
      "cell_type": "code",
      "execution_count": 1,
      "metadata": {
        "id": "3vCC0eJslm3s"
      },
      "outputs": [],
      "source": [
        "import numpy as np"
      ]
    },
    {
      "cell_type": "markdown",
      "source": [
        "###N1\n",
        "**What will be the output of the following code ?**\n",
        "```\n",
        "import numpy as np  \n",
        "arr = np.array([10, 20, 30, 40, 50])  \n",
        "result = np.where(arr > 25, \"Big\", \"Small\")  \n",
        "print(result)\n",
        "```"
      ],
      "metadata": {
        "id": "CiyT8mnclqnI"
      }
    },
    {
      "cell_type": "code",
      "source": [
        "# Small, Small, Big, Big, Big"
      ],
      "metadata": {
        "id": "VL5OvvARlp0V"
      },
      "execution_count": 2,
      "outputs": []
    },
    {
      "cell_type": "markdown",
      "source": [
        "###N2\n",
        "**Use where to replace even numbers with themselves and odd numbers with 0 in a given array**"
      ],
      "metadata": {
        "id": "nQetesrtlyJ_"
      }
    },
    {
      "cell_type": "code",
      "source": [
        "arr1 = np.array([1, 2, 3, 4, 5, 6, 7])\n",
        "res1 = np.where(arr1%2==0, arr1, 0)\n",
        "print(res1)"
      ],
      "metadata": {
        "colab": {
          "base_uri": "https://localhost:8080/"
        },
        "id": "2JjASeTpl2Eq",
        "outputId": "52bc83b4-16a8-47de-ae6c-90f7cc119aee"
      },
      "execution_count": 3,
      "outputs": [
        {
          "output_type": "stream",
          "name": "stdout",
          "text": [
            "[0 2 0 4 0 6 0]\n"
          ]
        }
      ]
    },
    {
      "cell_type": "markdown",
      "source": [
        "###N3\n",
        "**Given an array, use np.where to keep positive numbers unchanged and convert negative numbers to their absolute values**"
      ],
      "metadata": {
        "id": "CA5T7qcKl2it"
      }
    },
    {
      "cell_type": "code",
      "source": [
        "arr2 = np.array([1, -2, 3, -4, 5, -6])\n",
        "res2 = np.where(arr2>0, arr2, np.abs(arr2))\n",
        "print(res2)"
      ],
      "metadata": {
        "colab": {
          "base_uri": "https://localhost:8080/"
        },
        "id": "EMbnvxBVl5qc",
        "outputId": "b421e50b-85b0-43c3-bb7f-cfb4b723c900"
      },
      "execution_count": 4,
      "outputs": [
        {
          "output_type": "stream",
          "name": "stdout",
          "text": [
            "[1 2 3 4 5 6]\n"
          ]
        }
      ]
    },
    {
      "cell_type": "markdown",
      "source": [
        "###N4\n",
        "**Use where to compare two arrays arr1 and arr2, selecting the larger value from each pair**\n",
        "```\n",
        "arr1 = np.array([3, 10, 7, 5])  \n",
        "arr2 = np.array([4, 9, 8, 6])\n",
        "```"
      ],
      "metadata": {
        "id": "arhMjgfjl6N0"
      }
    },
    {
      "cell_type": "code",
      "source": [
        "arr3 = np.array([3, 10, 7, 5])\n",
        "arr4 = np.array([4, 9, 8, 6])\n",
        "res3 = np.where(arr3>arr4, arr3, arr4)\n",
        "print(res3)"
      ],
      "metadata": {
        "colab": {
          "base_uri": "https://localhost:8080/"
        },
        "id": "JD21ANtamALr",
        "outputId": "076c4d35-c594-4c10-fa9d-4f7097df83c0"
      },
      "execution_count": 7,
      "outputs": [
        {
          "output_type": "stream",
          "name": "stdout",
          "text": [
            "[ 4 10  8  6]\n"
          ]
        }
      ]
    },
    {
      "cell_type": "markdown",
      "source": [
        "###N5\n",
        "**Use where to replace all 0s with 1 and keep other elements unchanged in a given array**"
      ],
      "metadata": {
        "id": "UO-vflrnmBFW"
      }
    },
    {
      "cell_type": "code",
      "source": [
        "arr5 = np.array([0, 2, 0, 4, 0, 5, 0, 6])\n",
        "res4 = np.where(arr5==0, 1, arr5)\n",
        "print(res4)"
      ],
      "metadata": {
        "colab": {
          "base_uri": "https://localhost:8080/"
        },
        "id": "GPg6RTcVmFXh",
        "outputId": "84b91b3b-0867-4a70-d1f4-047a822faf8f"
      },
      "execution_count": 9,
      "outputs": [
        {
          "output_type": "stream",
          "name": "stdout",
          "text": [
            "[1 2 1 4 1 5 1 6]\n"
          ]
        }
      ]
    },
    {
      "cell_type": "markdown",
      "source": [
        "###N6\n",
        "**Given the array below, use where to replace negative numbers with their squares and keep positive numbers unchanged**\n",
        "\n",
        "`arr = np.array([-2, 3, -5, 7, -1, 6])`"
      ],
      "metadata": {
        "id": "WbDZJaw7pFq7"
      }
    },
    {
      "cell_type": "code",
      "source": [
        "arr6 = np.array([-2, 3, -5, 7, -1, 6])\n",
        "res5 = np.where(arr6<0, arr6**2, arr6)\n",
        "print(res5)"
      ],
      "metadata": {
        "colab": {
          "base_uri": "https://localhost:8080/"
        },
        "id": "58pq_iz2olqK",
        "outputId": "86559326-6b5b-448a-b221-4ffe638d18b9"
      },
      "execution_count": 10,
      "outputs": [
        {
          "output_type": "stream",
          "name": "stdout",
          "text": [
            "[ 4  3 25  7  1  6]\n"
          ]
        }
      ]
    },
    {
      "cell_type": "markdown",
      "source": [
        "###N7\n",
        "**You have two arrays, arr1 and arr2. Use where to select elements from arr1 if they are divisible by 3, otherwise select elements from arr2**\n",
        "```\n",
        "arr1 = np.array([9, 15, 22, 30, 41, 60])  \n",
        "arr2 = np.array([1, 2, 3, 4, 5, 6])\n",
        "```"
      ],
      "metadata": {
        "id": "dDkcXvvDpJvH"
      }
    },
    {
      "cell_type": "code",
      "source": [
        "arr7 = np.array([9, 15, 22, 30, 41, 60])\n",
        "arr8 = np.array([1, 2, 3, 4, 5, 6])\n",
        "res6 = np.where(arr7%3==0, arr7, arr8)\n",
        "print(res6)"
      ],
      "metadata": {
        "colab": {
          "base_uri": "https://localhost:8080/"
        },
        "id": "NgEU4DImpUet",
        "outputId": "ac876027-14ec-4355-81ac-b981146a7d00"
      },
      "execution_count": 11,
      "outputs": [
        {
          "output_type": "stream",
          "name": "stdout",
          "text": [
            "[ 9 15  3 30  5 60]\n"
          ]
        }
      ]
    },
    {
      "cell_type": "markdown",
      "source": [
        "###N8\n",
        "**Create a 3x3 random matrix with values between 1 and 100. Use where to replace elements greater than 50 with \"High\" and others with \"Low\"**"
      ],
      "metadata": {
        "id": "q8hifGSfpVI9"
      }
    },
    {
      "cell_type": "code",
      "source": [
        "arr9 = np.random.randint(1, 100, (3, 3))\n",
        "res7 = np.where(arr9>50, \"High\", \"Low\")\n",
        "print(res7)"
      ],
      "metadata": {
        "colab": {
          "base_uri": "https://localhost:8080/"
        },
        "id": "kwhW37qlpkEp",
        "outputId": "f8bf7aeb-240b-4b8d-be46-0153c94c0992"
      },
      "execution_count": 13,
      "outputs": [
        {
          "output_type": "stream",
          "name": "stdout",
          "text": [
            "[['Low' 'Low' 'High']\n",
            " ['Low' 'High' 'Low']\n",
            " ['Low' 'Low' 'High']]\n"
          ]
        }
      ]
    }
  ]
}