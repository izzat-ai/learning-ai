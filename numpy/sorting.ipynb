{
  "nbformat": 4,
  "nbformat_minor": 0,
  "metadata": {
    "colab": {
      "provenance": [],
      "authorship_tag": "ABX9TyNGgBPbTykwU+nYzNnC9Xu+",
      "include_colab_link": true
    },
    "kernelspec": {
      "name": "python3",
      "display_name": "Python 3"
    },
    "language_info": {
      "name": "python"
    }
  },
  "cells": [
    {
      "cell_type": "markdown",
      "metadata": {
        "id": "view-in-github",
        "colab_type": "text"
      },
      "source": [
        "<a href=\"https://colab.research.google.com/github/izzat-ai/learning-ai/blob/main/numpy/sorting.ipynb\" target=\"_parent\"><img src=\"https://colab.research.google.com/assets/colab-badge.svg\" alt=\"Open In Colab\"/></a>"
      ]
    },
    {
      "cell_type": "code",
      "execution_count": 1,
      "metadata": {
        "id": "E4IjDK_zQYyk"
      },
      "outputs": [],
      "source": [
        "import numpy as np"
      ]
    },
    {
      "cell_type": "markdown",
      "source": [
        "**We will learn to sort array elements using the sort function**"
      ],
      "metadata": {
        "id": "vkKuwrqTQjiE"
      }
    },
    {
      "cell_type": "code",
      "source": [
        "arr = np.array([10, 1, 9, 2, 8, 3, 7, 4])\n",
        "sort_arr = np.sort(arr)\n",
        "print(sort_arr)"
      ],
      "metadata": {
        "colab": {
          "base_uri": "https://localhost:8080/"
        },
        "id": "fiwWCbxlQcVQ",
        "outputId": "5e593654-ec18-43c5-dcc6-4130cfef25a8"
      },
      "execution_count": 2,
      "outputs": [
        {
          "output_type": "stream",
          "name": "stdout",
          "text": [
            "[ 1  2  3  4  7  8  9 10]\n"
          ]
        }
      ]
    },
    {
      "cell_type": "code",
      "source": [
        "arr2 = np.array([11, -1, 3, 2, -3, 5, 7, 9])\n",
        "arr2_sort = np.sort(arr2)\n",
        "print(arr2_sort)"
      ],
      "metadata": {
        "colab": {
          "base_uri": "https://localhost:8080/"
        },
        "id": "iacVVz_3RKo8",
        "outputId": "bbecbacb-78ef-4330-db44-fb3a22481ae6"
      },
      "execution_count": 3,
      "outputs": [
        {
          "output_type": "stream",
          "name": "stdout",
          "text": [
            "[-3 -1  2  3  5  7  9 11]\n"
          ]
        }
      ]
    },
    {
      "cell_type": "markdown",
      "source": [
        "**reverse order**"
      ],
      "metadata": {
        "id": "dll5H1V_Rx-c"
      }
    },
    {
      "cell_type": "code",
      "source": [
        "arr3 = np.arange(10, 20)\n",
        "arr3_rev = -np.sort(-arr3)\n",
        "print(arr3_rev)"
      ],
      "metadata": {
        "colab": {
          "base_uri": "https://localhost:8080/"
        },
        "id": "FfYhMQA2Ra22",
        "outputId": "5cebb820-6c59-454b-d70f-cedfb74f10c6"
      },
      "execution_count": 4,
      "outputs": [
        {
          "output_type": "stream",
          "name": "stdout",
          "text": [
            "[19 18 17 16 15 14 13 12 11 10]\n"
          ]
        }
      ]
    },
    {
      "cell_type": "code",
      "source": [
        "arr4 = np.arange(1, 10)\n",
        "arr4_rev = -np.sort(-arr4)\n",
        "print(arr4_rev)"
      ],
      "metadata": {
        "colab": {
          "base_uri": "https://localhost:8080/"
        },
        "id": "oLTT-qv4R-8-",
        "outputId": "00aa7ec9-2854-4719-d3bd-ca7a9f1c4b0d"
      },
      "execution_count": 6,
      "outputs": [
        {
          "output_type": "stream",
          "name": "stdout",
          "text": [
            "[9 8 7 6 5 4 3 2 1]\n"
          ]
        }
      ]
    },
    {
      "cell_type": "markdown",
      "source": [
        "**Sorting in a two-dimensional array is done by: axis=0, axis=1**"
      ],
      "metadata": {
        "id": "ahPaLVIbSgUU"
      }
    },
    {
      "cell_type": "code",
      "source": [
        "arr2d = np.array([[4, 3, 2, 1], [8, 7, 6, 5], [9, 11, 10, 12]])\n",
        "arr2d_sort = np.sort(arr2d, axis=1)\n",
        "print(arr2d)"
      ],
      "metadata": {
        "colab": {
          "base_uri": "https://localhost:8080/"
        },
        "id": "xmN8nrsuSO08",
        "outputId": "b34e6997-07ff-4130-9aa9-e6393e180fe2"
      },
      "execution_count": 12,
      "outputs": [
        {
          "output_type": "stream",
          "name": "stdout",
          "text": [
            "[[ 4  3  2  1]\n",
            " [ 8  7  6  5]\n",
            " [ 9 11 10 12]]\n"
          ]
        }
      ]
    },
    {
      "cell_type": "code",
      "source": [
        "print(arr2d_sort)"
      ],
      "metadata": {
        "colab": {
          "base_uri": "https://localhost:8080/"
        },
        "id": "W80QXchbSpcE",
        "outputId": "1120882c-729b-4015-cb3b-0aa840ae1919"
      },
      "execution_count": 13,
      "outputs": [
        {
          "output_type": "stream",
          "name": "stdout",
          "text": [
            "[[ 1  2  3  4]\n",
            " [ 5  6  7  8]\n",
            " [ 9 10 11 12]]\n"
          ]
        }
      ]
    },
    {
      "cell_type": "code",
      "source": [
        "# reverse order\n",
        "arr2d_rev = -np.sort(-arr2d)\n",
        "print(arr2d_rev)"
      ],
      "metadata": {
        "colab": {
          "base_uri": "https://localhost:8080/"
        },
        "id": "J8_ZOypCTaf-",
        "outputId": "e422d408-7079-4c6c-9c2e-8cfd4d7af4a6"
      },
      "execution_count": 14,
      "outputs": [
        {
          "output_type": "stream",
          "name": "stdout",
          "text": [
            "[[ 4  3  2  1]\n",
            " [ 8  7  6  5]\n",
            " [12 11 10  9]]\n"
          ]
        }
      ]
    }
  ]
}