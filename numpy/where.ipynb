{
  "nbformat": 4,
  "nbformat_minor": 0,
  "metadata": {
    "colab": {
      "provenance": [],
      "authorship_tag": "ABX9TyOWLyN/WC/XixlAOlGtgpv2",
      "include_colab_link": true
    },
    "kernelspec": {
      "name": "python3",
      "display_name": "Python 3"
    },
    "language_info": {
      "name": "python"
    }
  },
  "cells": [
    {
      "cell_type": "markdown",
      "metadata": {
        "id": "view-in-github",
        "colab_type": "text"
      },
      "source": [
        "<a href=\"https://colab.research.google.com/github/izzat-ai/learning-ai/blob/main/numpy/where.ipynb\" target=\"_parent\"><img src=\"https://colab.research.google.com/assets/colab-badge.svg\" alt=\"Open In Colab\"/></a>"
      ]
    },
    {
      "cell_type": "code",
      "execution_count": 1,
      "metadata": {
        "id": "ujxerU3Meo_G"
      },
      "outputs": [],
      "source": [
        "import numpy as np"
      ]
    },
    {
      "cell_type": "markdown",
      "source": [
        "**Using where as a conditional operator**"
      ],
      "metadata": {
        "id": "rvTyh-w1e2Bo"
      }
    },
    {
      "cell_type": "markdown",
      "source": [
        "- in the following example: elements greater than 4 are retrieved"
      ],
      "metadata": {
        "id": "u2dRyspoe4ly"
      }
    },
    {
      "cell_type": "code",
      "source": [
        "arr = np.arange(1, 11)\n",
        "cond1 = np.where(arr > 4)\n",
        "print(arr)\n",
        "print(cond1)"
      ],
      "metadata": {
        "colab": {
          "base_uri": "https://localhost:8080/"
        },
        "id": "Oo9njZFEet-3",
        "outputId": "2d7872ee-36e7-421e-d35f-d1382541f889"
      },
      "execution_count": 5,
      "outputs": [
        {
          "output_type": "stream",
          "name": "stdout",
          "text": [
            "[ 1  2  3  4  5  6  7  8  9 10]\n",
            "(array([4, 5, 6, 7, 8, 9]),)\n"
          ]
        }
      ]
    },
    {
      "cell_type": "markdown",
      "source": [
        "- if the array element is positive, it will set it to 1, if it is negative, it will set it to 0"
      ],
      "metadata": {
        "id": "5-3EkbdFfbLx"
      }
    },
    {
      "cell_type": "code",
      "source": [
        "arr2 = np.array([1, -2, 3, -4, -5, 6, -7, 8])\n",
        "cond2 = np.where(arr2 > 0, 1, 0)\n",
        "print(cond2)"
      ],
      "metadata": {
        "colab": {
          "base_uri": "https://localhost:8080/"
        },
        "id": "DFKgVajcfMuG",
        "outputId": "a7be9d19-ceff-4724-8a97-e6ae5f8a9fca"
      },
      "execution_count": 6,
      "outputs": [
        {
          "output_type": "stream",
          "name": "stdout",
          "text": [
            "[1 0 1 0 0 1 0 1]\n"
          ]
        }
      ]
    },
    {
      "cell_type": "code",
      "source": [
        "print(arr2)"
      ],
      "metadata": {
        "colab": {
          "base_uri": "https://localhost:8080/"
        },
        "id": "LXp3TjMlfrsy",
        "outputId": "9fdb2aa5-bacb-421e-922c-ff01fcf9c46e"
      },
      "execution_count": 7,
      "outputs": [
        {
          "output_type": "stream",
          "name": "stdout",
          "text": [
            "[ 1 -2  3 -4 -5  6 -7  8]\n"
          ]
        }
      ]
    },
    {
      "cell_type": "markdown",
      "source": [
        "- if the condition is True, it takes the element of x_arr, otherwise it takes the element of y_arr"
      ],
      "metadata": {
        "id": "A7ZDaL6hf1Oj"
      }
    },
    {
      "cell_type": "code",
      "source": [
        "x_arr = np.array([1.1, 1.2, 1.3, 1.4])\n",
        "y_arr = np.array([2.1, 2.2, 2.3, 2.4])\n",
        "\n",
        "t_f = np.array([True, False, False, True])\n",
        "cond3 = np.where(t_f, x_arr, y_arr)"
      ],
      "metadata": {
        "id": "5kN1pmhVftj0"
      },
      "execution_count": 8,
      "outputs": []
    },
    {
      "cell_type": "code",
      "source": [
        "print(cond3)"
      ],
      "metadata": {
        "colab": {
          "base_uri": "https://localhost:8080/"
        },
        "id": "6EAcvNXEiN_O",
        "outputId": "3a2ce6b2-3e92-4bcd-afa3-27b40610a806"
      },
      "execution_count": 9,
      "outputs": [
        {
          "output_type": "stream",
          "name": "stdout",
          "text": [
            "[1.1 2.2 2.3 1.4]\n"
          ]
        }
      ]
    }
  ]
}