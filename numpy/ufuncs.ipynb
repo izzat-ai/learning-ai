{
  "nbformat": 4,
  "nbformat_minor": 0,
  "metadata": {
    "colab": {
      "provenance": [],
      "authorship_tag": "ABX9TyPIpO81ovE7Ma46njgJMN+9",
      "include_colab_link": true
    },
    "kernelspec": {
      "name": "python3",
      "display_name": "Python 3"
    },
    "language_info": {
      "name": "python"
    }
  },
  "cells": [
    {
      "cell_type": "markdown",
      "metadata": {
        "id": "view-in-github",
        "colab_type": "text"
      },
      "source": [
        "<a href=\"https://colab.research.google.com/github/izzat-ai/learning-ai/blob/main/numpy/ufuncs.ipynb\" target=\"_parent\"><img src=\"https://colab.research.google.com/assets/colab-badge.svg\" alt=\"Open In Colab\"/></a>"
      ]
    },
    {
      "cell_type": "code",
      "execution_count": 1,
      "metadata": {
        "id": "2ogHFiojNWco"
      },
      "outputs": [],
      "source": [
        "import numpy as np"
      ]
    },
    {
      "cell_type": "markdown",
      "source": [
        "- **universal functions are mathematical functions that allow vectorized calculations**\n",
        "\n",
        "- *Universal functions are divided into two:*\n",
        "  1. unary functions. They take one argument\n",
        "  2. binary functions. They take two arguments"
      ],
      "metadata": {
        "id": "0TVIXwOLD5cQ"
      }
    },
    {
      "cell_type": "markdown",
      "source": [
        "We will learn unary functions: `sqrt, square, exp, log, modf, sign, isnan`\n",
        "\n",
        "and binary functions: `add, multiply, maximum`"
      ],
      "metadata": {
        "id": "2JbbzyABExXf"
      }
    },
    {
      "cell_type": "code",
      "source": [
        "# sqrt - returns the square root of each element\n",
        "arr = np.arange(1, 11)\n",
        "print(arr)\n",
        "sqrt_arr = np.sqrt(arr)\n",
        "print(sqrt_arr)"
      ],
      "metadata": {
        "colab": {
          "base_uri": "https://localhost:8080/"
        },
        "id": "veuIV_vuDt-d",
        "outputId": "a9b87707-38be-4416-cb8f-9fa9be085927"
      },
      "execution_count": 12,
      "outputs": [
        {
          "output_type": "stream",
          "name": "stdout",
          "text": [
            "[ 1  2  3  4  5  6  7  8  9 10]\n",
            "[1.         1.41421356 1.73205081 2.         2.23606798 2.44948974\n",
            " 2.64575131 2.82842712 3.         3.16227766]\n"
          ]
        }
      ]
    },
    {
      "cell_type": "code",
      "source": [
        "arr2 = np.arange(11, 21)\n",
        "print(arr2)"
      ],
      "metadata": {
        "colab": {
          "base_uri": "https://localhost:8080/"
        },
        "id": "Wo32CPRHFSip",
        "outputId": "ae99f072-a1c2-4b4d-9615-42e8720cf768"
      },
      "execution_count": 5,
      "outputs": [
        {
          "output_type": "stream",
          "name": "stdout",
          "text": [
            "[11 12 13 14 15 16 17 18 19 20]\n"
          ]
        }
      ]
    },
    {
      "cell_type": "code",
      "source": [
        "# Let's give the sqrt function two arguments\n",
        "np.sqrt(arr, arr2)"
      ],
      "metadata": {
        "colab": {
          "base_uri": "https://localhost:8080/",
          "height": 176
        },
        "id": "vTxGqOsGFI62",
        "outputId": "9c162dcf-ea8c-4b70-cdc2-789febba1719"
      },
      "execution_count": 6,
      "outputs": [
        {
          "output_type": "error",
          "ename": "UFuncTypeError",
          "evalue": "Cannot cast ufunc 'sqrt' output from dtype('float64') to dtype('int64') with casting rule 'same_kind'",
          "traceback": [
            "\u001b[0;31m---------------------------------------------------------------------------\u001b[0m",
            "\u001b[0;31mUFuncTypeError\u001b[0m                            Traceback (most recent call last)",
            "\u001b[0;32m<ipython-input-6-949801c99b27>\u001b[0m in \u001b[0;36m<cell line: 0>\u001b[0;34m()\u001b[0m\n\u001b[1;32m      1\u001b[0m \u001b[0;31m# Let's give the sqrt function two arguments\u001b[0m\u001b[0;34m\u001b[0m\u001b[0;34m\u001b[0m\u001b[0m\n\u001b[0;32m----> 2\u001b[0;31m \u001b[0mnp\u001b[0m\u001b[0;34m.\u001b[0m\u001b[0msqrt\u001b[0m\u001b[0;34m(\u001b[0m\u001b[0marr\u001b[0m\u001b[0;34m,\u001b[0m \u001b[0marr2\u001b[0m\u001b[0;34m)\u001b[0m\u001b[0;34m\u001b[0m\u001b[0;34m\u001b[0m\u001b[0m\n\u001b[0m",
            "\u001b[0;31mUFuncTypeError\u001b[0m: Cannot cast ufunc 'sqrt' output from dtype('float64') to dtype('int64') with casting rule 'same_kind'"
          ]
        }
      ]
    },
    {
      "cell_type": "markdown",
      "source": [
        "- The sqrt function is unary, meaning it takes one argument"
      ],
      "metadata": {
        "id": "p07beLzkFg8u"
      }
    },
    {
      "cell_type": "code",
      "source": [
        "# square - square each element of an array\n",
        "square_arr = np.square(arr)\n",
        "print(square_arr)"
      ],
      "metadata": {
        "colab": {
          "base_uri": "https://localhost:8080/"
        },
        "id": "sjJEh4xpFaQV",
        "outputId": "2e076fce-c760-4efb-b2f7-bc29810e70e8"
      },
      "execution_count": 7,
      "outputs": [
        {
          "output_type": "stream",
          "name": "stdout",
          "text": [
            "[  1   4   9  16  25  36  49  64  81 100]\n"
          ]
        }
      ]
    },
    {
      "cell_type": "code",
      "source": [
        "square_arr2 = np.square(arr2)\n",
        "print(square_arr2)"
      ],
      "metadata": {
        "colab": {
          "base_uri": "https://localhost:8080/"
        },
        "id": "FaXxSX2oF3EI",
        "outputId": "d3f53190-43ce-4c2a-d8bf-1d39de93332e"
      },
      "execution_count": 9,
      "outputs": [
        {
          "output_type": "stream",
          "name": "stdout",
          "text": [
            "[121 144 169 196 225 256 289 324 361 400]\n"
          ]
        }
      ]
    },
    {
      "cell_type": "code",
      "source": [
        "# exp - returns the exponent of each element\n",
        "exp_arr = np.exp(arr)\n",
        "print(exp_arr)"
      ],
      "metadata": {
        "colab": {
          "base_uri": "https://localhost:8080/"
        },
        "id": "m85_2AElGDZf",
        "outputId": "c521391e-a03b-4588-8afc-cca82d883f09"
      },
      "execution_count": 13,
      "outputs": [
        {
          "output_type": "stream",
          "name": "stdout",
          "text": [
            "[2.71828183e+00 7.38905610e+00 2.00855369e+01 5.45981500e+01\n",
            " 1.48413159e+02 4.03428793e+02 1.09663316e+03 2.98095799e+03\n",
            " 8.10308393e+03 2.20264658e+04]\n"
          ]
        }
      ]
    },
    {
      "cell_type": "code",
      "source": [
        "exp_arr2 = np.exp(arr2)\n",
        "print(exp_arr2)"
      ],
      "metadata": {
        "colab": {
          "base_uri": "https://localhost:8080/"
        },
        "id": "QHMz7QldGW7l",
        "outputId": "3911a0e2-1a2a-4a7c-8d82-47d0d92ddb80"
      },
      "execution_count": 14,
      "outputs": [
        {
          "output_type": "stream",
          "name": "stdout",
          "text": [
            "[2.71828183e+00 5.45981500e+01 8.10308393e+03 8.88611052e+06\n",
            " 7.20048993e+10 4.31123155e+15 1.90734657e+21 6.23514908e+27\n",
            " 1.50609731e+35 2.68811714e+43]\n"
          ]
        }
      ]
    },
    {
      "cell_type": "code",
      "source": [
        "# log - returns the logarithm of each element according to loge\n",
        "log_arr = np.log(arr)\n",
        "print(log_arr)"
      ],
      "metadata": {
        "colab": {
          "base_uri": "https://localhost:8080/"
        },
        "id": "8GFlWtneGajH",
        "outputId": "5d25dd6e-f787-418a-cf89-3b0ebbc05f6d"
      },
      "execution_count": 15,
      "outputs": [
        {
          "output_type": "stream",
          "name": "stdout",
          "text": [
            "[0.         0.69314718 1.09861229 1.38629436 1.60943791 1.79175947\n",
            " 1.94591015 2.07944154 2.19722458 2.30258509]\n"
          ]
        }
      ]
    },
    {
      "cell_type": "code",
      "source": [
        "log_arr2 = np.log(arr2)\n",
        "print(log_arr2)"
      ],
      "metadata": {
        "colab": {
          "base_uri": "https://localhost:8080/"
        },
        "id": "Rl0V0CraGvaW",
        "outputId": "eba96903-e3f1-472e-d5f5-f0769656a3a5"
      },
      "execution_count": 16,
      "outputs": [
        {
          "output_type": "stream",
          "name": "stdout",
          "text": [
            "[0.         1.38629436 2.19722458 2.77258872 3.21887582 3.58351894\n",
            " 3.8918203  4.15888308 4.39444915 4.60517019]\n"
          ]
        }
      ]
    },
    {
      "cell_type": "code",
      "source": [
        "# create float numbers - array\n",
        "float_arr = np.random.rand(10)\n",
        "float_arr"
      ],
      "metadata": {
        "colab": {
          "base_uri": "https://localhost:8080/"
        },
        "id": "q1ZY4I2sHWXp",
        "outputId": "07f93cd6-8f83-44b6-dc8f-965da1125729"
      },
      "execution_count": 19,
      "outputs": [
        {
          "output_type": "execute_result",
          "data": {
            "text/plain": [
              "array([0.27287349, 0.67660517, 0.89591732, 0.87839501, 0.34362305,\n",
              "       0.73611805, 0.61878957, 0.94744651, 0.99314909, 0.21960314])"
            ]
          },
          "metadata": {},
          "execution_count": 19
        }
      ]
    },
    {
      "cell_type": "code",
      "source": [
        "# modf - separates float numbers into integer and remainder parts\n",
        "residue, whole = np.modf(float_arr)"
      ],
      "metadata": {
        "id": "_zUCVu_mGzKq"
      },
      "execution_count": 26,
      "outputs": []
    },
    {
      "cell_type": "code",
      "source": [
        "# residue\n",
        "print(residue)"
      ],
      "metadata": {
        "colab": {
          "base_uri": "https://localhost:8080/"
        },
        "id": "zHdrDrn1Husr",
        "outputId": "fd8d58ab-b6eb-4426-af46-33b6a454bf0c"
      },
      "execution_count": 28,
      "outputs": [
        {
          "output_type": "stream",
          "name": "stdout",
          "text": [
            "[0.27287349 0.67660517 0.89591732 0.87839501 0.34362305 0.73611805\n",
            " 0.61878957 0.94744651 0.99314909 0.21960314]\n"
          ]
        }
      ]
    },
    {
      "cell_type": "code",
      "source": [
        "# whole\n",
        "print(whole)"
      ],
      "metadata": {
        "colab": {
          "base_uri": "https://localhost:8080/"
        },
        "id": "pg70smFKHQoZ",
        "outputId": "ebd310eb-4080-457a-9198-236c64e2853a"
      },
      "execution_count": 29,
      "outputs": [
        {
          "output_type": "stream",
          "name": "stdout",
          "text": [
            "[0. 0. 0. 0. 0. 0. 0. 0. 0. 0.]\n"
          ]
        }
      ]
    },
    {
      "cell_type": "code",
      "source": [
        "# create an array of positive and negative numbers\n",
        "min_plus_arr = np.array([1, -2, 3, -4, 5, -6, 7, -8, 9, 10])\n",
        "min_plus_arr"
      ],
      "metadata": {
        "colab": {
          "base_uri": "https://localhost:8080/"
        },
        "id": "nb3P0YCGIq2r",
        "outputId": "d71e90f9-b990-4fd7-97be-aab03f7984b2"
      },
      "execution_count": 30,
      "outputs": [
        {
          "output_type": "execute_result",
          "data": {
            "text/plain": [
              "array([ 1, -2,  3, -4,  5, -6,  7, -8,  9, 10])"
            ]
          },
          "metadata": {},
          "execution_count": 30
        }
      ]
    },
    {
      "cell_type": "code",
      "source": [
        "# sign - returns -1 if the array load is negative, 1 if it is positive\n",
        "sgn_arr = np.sign(min_plus_arr)\n",
        "print(sgn_arr)"
      ],
      "metadata": {
        "colab": {
          "base_uri": "https://localhost:8080/"
        },
        "id": "6qkzfXTsH0hg",
        "outputId": "dc8e9936-ef7c-4011-af32-17c58d98ab60"
      },
      "execution_count": 31,
      "outputs": [
        {
          "output_type": "stream",
          "name": "stdout",
          "text": [
            "[ 1 -1  1 -1  1 -1  1 -1  1  1]\n"
          ]
        }
      ]
    },
    {
      "cell_type": "code",
      "source": [],
      "metadata": {
        "id": "Ads8sy99I9bA"
      },
      "execution_count": null,
      "outputs": []
    }
  ]
}