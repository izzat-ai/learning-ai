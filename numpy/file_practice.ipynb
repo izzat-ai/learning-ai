{
  "nbformat": 4,
  "nbformat_minor": 0,
  "metadata": {
    "colab": {
      "provenance": [],
      "authorship_tag": "ABX9TyOeox7ynX6TjmcoX/W2hwVn",
      "include_colab_link": true
    },
    "kernelspec": {
      "name": "python3",
      "display_name": "Python 3"
    },
    "language_info": {
      "name": "python"
    }
  },
  "cells": [
    {
      "cell_type": "markdown",
      "metadata": {
        "id": "view-in-github",
        "colab_type": "text"
      },
      "source": [
        "<a href=\"https://colab.research.google.com/github/izzat-ai/learning-ai/blob/main/numpy/file_practice.ipynb\" target=\"_parent\"><img src=\"https://colab.research.google.com/assets/colab-badge.svg\" alt=\"Open In Colab\"/></a>"
      ]
    },
    {
      "cell_type": "code",
      "execution_count": 1,
      "metadata": {
        "id": "atrgdIUha1-Z"
      },
      "outputs": [],
      "source": [
        "import numpy as np"
      ]
    },
    {
      "cell_type": "markdown",
      "source": [
        "###N1\n",
        "**What is the difference between `np.save()` and `np.savez()` ? Provide an example**"
      ],
      "metadata": {
        "id": "WrnabNYgbDMh"
      }
    },
    {
      "cell_type": "code",
      "source": [
        "\"\"\"\n",
        "save - saves only one array or variable\n",
        "savez - can save multiple arrays or variables at the same time\n",
        "\"\"\""
      ],
      "metadata": {
        "colab": {
          "base_uri": "https://localhost:8080/",
          "height": 53
        },
        "id": "680eidKha7E4",
        "outputId": "4b8d7a01-08c3-4f44-94c1-d5c5dec7c8da"
      },
      "execution_count": 4,
      "outputs": [
        {
          "output_type": "execute_result",
          "data": {
            "text/plain": [
              "'\\nsave - saves only one array or variable\\nsavez - can save multiple arrays or variables at the same time\\n'"
            ],
            "application/vnd.google.colaboratory.intrinsic+json": {
              "type": "string"
            }
          },
          "metadata": {},
          "execution_count": 4
        }
      ]
    },
    {
      "cell_type": "markdown",
      "source": [
        "###N2\n",
        "**How can you load a CSV file into a NumPy array while specifying a delimiter ?**"
      ],
      "metadata": {
        "id": "an9JH0DxbNlY"
      }
    },
    {
      "cell_type": "code",
      "source": [
        "\"\"\"\n",
        "np.load('file_name.csv', delimiter=\",\")\n",
        "\"\"\""
      ],
      "metadata": {
        "colab": {
          "base_uri": "https://localhost:8080/",
          "height": 35
        },
        "id": "1l0HrSqzbPY_",
        "outputId": "4caeb00f-59f4-4930-92f5-d88c8978c3ce"
      },
      "execution_count": 5,
      "outputs": [
        {
          "output_type": "execute_result",
          "data": {
            "text/plain": [
              "'\\nnp.load(\\'file_name.csv\\', delimiter=\",\")\\n'"
            ],
            "application/vnd.google.colaboratory.intrinsic+json": {
              "type": "string"
            }
          },
          "metadata": {},
          "execution_count": 5
        }
      ]
    },
    {
      "cell_type": "markdown",
      "source": [
        "###N3\n",
        "**How do you save and load multiple arrays in a single `.npz` file? Provide an example**"
      ],
      "metadata": {
        "id": "eTlaEXw0bbYn"
      }
    },
    {
      "cell_type": "code",
      "source": [
        "arr3 = np.arange(1, 10)\n",
        "arr4 = np.arange(11, 20)\n",
        "np.savez('arrs', a=arr3, b=arr4)"
      ],
      "metadata": {
        "id": "edUK7l_3bcub"
      },
      "execution_count": 2,
      "outputs": []
    },
    {
      "cell_type": "code",
      "source": [
        "arrs = np.load('arrs.npz')\n",
        "# arr3\n",
        "print(arrs['a'])\n",
        "# arr4\n",
        "print(arrs['b'])"
      ],
      "metadata": {
        "colab": {
          "base_uri": "https://localhost:8080/"
        },
        "id": "8kREY-LycGVd",
        "outputId": "ab580572-1f92-4d92-e308-c85f388c4479"
      },
      "execution_count": 3,
      "outputs": [
        {
          "output_type": "stream",
          "name": "stdout",
          "text": [
            "[1 2 3 4 5 6 7 8 9]\n",
            "[11 12 13 14 15 16 17 18 19]\n"
          ]
        }
      ]
    },
    {
      "cell_type": "markdown",
      "source": [
        "###N4\n",
        "**What happens if you try to load a `.npy` file using `np.genfromtxt()` instead of `np.load()` ? Explain the difference**"
      ],
      "metadata": {
        "id": "OUuobSoKoCqQ"
      }
    },
    {
      "cell_type": "code",
      "source": [
        "\"\"\"\n",
        "'np.load( )' - used only to load data in .npy format\n",
        "'np.genfromtxt( )' - is used to load data in text format (csv, txt) only. It accepts data consisting of rows and columns only\n",
        "If we try to load a .npy file with np.genfromtxt(), it will give an error. Because genfromtxt can only understand text data.\n",
        "\"\"\""
      ],
      "metadata": {
        "colab": {
          "base_uri": "https://localhost:8080/",
          "height": 70
        },
        "id": "SQZfZX0NcRbu",
        "outputId": "ef6ca7c0-74ae-4edc-f341-50f251b7ff21"
      },
      "execution_count": 6,
      "outputs": [
        {
          "output_type": "execute_result",
          "data": {
            "text/plain": [
              "\" \\n'np.load( )' - used only to load data in .npy format\\n'np.genfromtxt( )' - is used to load data in text format (csv, txt) only. It accepts data consisting of rows and columns only\\nIf we try to load a .npy file with np.genfromtxt(), it will give an error. Because genfromtxt can only understand text data.\\n\""
            ],
            "application/vnd.google.colaboratory.intrinsic+json": {
              "type": "string"
            }
          },
          "metadata": {},
          "execution_count": 6
        }
      ]
    },
    {
      "cell_type": "markdown",
      "source": [
        "###N5\n",
        "**How can you efficiently save and load a large NumPy array to a compressed file format without losing precision ?**"
      ],
      "metadata": {
        "id": "wY-0YxN2oIs8"
      }
    },
    {
      "cell_type": "code",
      "source": [
        "# Can be saved compressed using np.savez_compressed()"
      ],
      "metadata": {
        "id": "lxUEmlNKoKne"
      },
      "execution_count": 7,
      "outputs": []
    },
    {
      "cell_type": "markdown",
      "source": [
        "###N6\n",
        "**What parameter in `np.genfromtxt()` allows handling missing values, and how can you replace missing values with a default value during file loading ?**"
      ],
      "metadata": {
        "id": "2iSC5ZpEoMfS"
      }
    },
    {
      "cell_type": "code",
      "source": [
        "\"\"\"\n",
        "By giving it the argument filling_values=0 we can fill the missing values ​​with 0.\n",
        "This prevents various errors that may occur\n",
        "\"\"\""
      ],
      "metadata": {
        "colab": {
          "base_uri": "https://localhost:8080/",
          "height": 53
        },
        "id": "Ger7yfe-oQHR",
        "outputId": "6a83e85a-b015-4051-ab6a-039bf6470657"
      },
      "execution_count": 8,
      "outputs": [
        {
          "output_type": "execute_result",
          "data": {
            "text/plain": [
              "'\\nBy giving it the argument filling_values=0 we can fill the missing values \\u200b\\u200bwith 0. \\nThis prevents various errors that may occur\\n'"
            ],
            "application/vnd.google.colaboratory.intrinsic+json": {
              "type": "string"
            }
          },
          "metadata": {},
          "execution_count": 8
        }
      ]
    },
    {
      "cell_type": "markdown",
      "source": [
        "###N7\n",
        "**How does `np.savetxt()` handle multi-dimensional arrays? What workaround can be used to store a multi-dimensional array in a text file and correctly reload it ?**"
      ],
      "metadata": {
        "id": "bJD0Uq3OoSCr"
      }
    },
    {
      "cell_type": "code",
      "source": [
        "\"\"\"\n",
        "savetxt - can only save two-dimensional arrays.\n",
        "Saving 3D or 4D arrays larger than that will cause an error.\n",
        "You should use .npy to save such large arrays\n",
        "\"\"\""
      ],
      "metadata": {
        "colab": {
          "base_uri": "https://localhost:8080/",
          "height": 53
        },
        "id": "rPHcN4eeoU8B",
        "outputId": "caa94145-52c0-44d7-d5b6-e7a6e46a9b01"
      },
      "execution_count": 9,
      "outputs": [
        {
          "output_type": "execute_result",
          "data": {
            "text/plain": [
              "'\\nsavetxt - can only save two-dimensional arrays. \\nSaving 3D or 4D arrays larger than that will cause an error. \\nYou should use .npy to save such large arrays\\n'"
            ],
            "application/vnd.google.colaboratory.intrinsic+json": {
              "type": "string"
            }
          },
          "metadata": {},
          "execution_count": 9
        }
      ]
    }
  ]
}