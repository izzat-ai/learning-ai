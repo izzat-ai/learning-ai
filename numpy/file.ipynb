{
  "nbformat": 4,
  "nbformat_minor": 0,
  "metadata": {
    "colab": {
      "provenance": [],
      "authorship_tag": "ABX9TyPidtBa64qPkIeDtdlT8UnI",
      "include_colab_link": true
    },
    "kernelspec": {
      "name": "python3",
      "display_name": "Python 3"
    },
    "language_info": {
      "name": "python"
    }
  },
  "cells": [
    {
      "cell_type": "markdown",
      "metadata": {
        "id": "view-in-github",
        "colab_type": "text"
      },
      "source": [
        "<a href=\"https://colab.research.google.com/github/izzat-ai/learning-ai/blob/main/numpy/file.ipynb\" target=\"_parent\"><img src=\"https://colab.research.google.com/assets/colab-badge.svg\" alt=\"Open In Colab\"/></a>"
      ]
    },
    {
      "cell_type": "code",
      "execution_count": 1,
      "metadata": {
        "id": "DRDYDE2cYJVf"
      },
      "outputs": [],
      "source": [
        "import numpy as np"
      ]
    },
    {
      "cell_type": "markdown",
      "source": [
        "**When working with the numpy library, we can save various necessary arrays and variables to a file and use them later**"
      ],
      "metadata": {
        "id": "1tNCRlEUYeQ1"
      }
    },
    {
      "cell_type": "code",
      "source": [
        "# Save an array to a file with save function\n",
        "arr = np.arange(80, 100, 2)\n",
        "np.save('even_nums', arr)"
      ],
      "metadata": {
        "id": "BMRojgDqYN6J"
      },
      "execution_count": 3,
      "outputs": []
    },
    {
      "cell_type": "code",
      "source": [
        "# read our saved file\n",
        "arr_nums = np.load('even_nums.npy')\n",
        "print(arr_nums)"
      ],
      "metadata": {
        "colab": {
          "base_uri": "https://localhost:8080/"
        },
        "id": "r1wH_mS7YzRW",
        "outputId": "0b2162fb-9bb8-4ce5-d104-ae1f5dc44b0f"
      },
      "execution_count": 4,
      "outputs": [
        {
          "output_type": "stream",
          "name": "stdout",
          "text": [
            "[80 82 84 86 88 90 92 94 96 98]\n"
          ]
        }
      ]
    },
    {
      "cell_type": "code",
      "source": [
        "# repetition\n",
        "arr2 = np.random.rand(5)\n",
        "arr2"
      ],
      "metadata": {
        "colab": {
          "base_uri": "https://localhost:8080/"
        },
        "id": "w6AJv42uZKkt",
        "outputId": "207db686-6857-46d3-a523-e95cdaec546b"
      },
      "execution_count": 5,
      "outputs": [
        {
          "output_type": "execute_result",
          "data": {
            "text/plain": [
              "array([0.53183609, 0.47746795, 0.66122838, 0.8735272 , 0.47971673])"
            ]
          },
          "metadata": {},
          "execution_count": 5
        }
      ]
    },
    {
      "cell_type": "code",
      "source": [
        "np.save('random_nums', arr2)"
      ],
      "metadata": {
        "id": "cOruTXLsZUAH"
      },
      "execution_count": 6,
      "outputs": []
    },
    {
      "cell_type": "code",
      "source": [
        "arr2_nums = np.load('random_nums.npy')\n",
        "print(arr2_nums)"
      ],
      "metadata": {
        "colab": {
          "base_uri": "https://localhost:8080/"
        },
        "id": "JHEyISD4ZXWO",
        "outputId": "04173447-7c79-443e-9e0a-7134ac37b0fa"
      },
      "execution_count": 7,
      "outputs": [
        {
          "output_type": "stream",
          "name": "stdout",
          "text": [
            "[0.53183609 0.47746795 0.66122838 0.8735272  0.47971673]\n"
          ]
        }
      ]
    },
    {
      "cell_type": "markdown",
      "source": [
        "**savez**\n",
        "\n",
        "- stores multiple arrays or variables"
      ],
      "metadata": {
        "id": "66ofFlswZipo"
      }
    },
    {
      "cell_type": "code",
      "source": [
        "# save the arrays arr and arr2 to a file\n",
        "np.savez('two_arrs', a=arr, b=arr2)"
      ],
      "metadata": {
        "id": "_5RubUQVZeip"
      },
      "execution_count": 8,
      "outputs": []
    },
    {
      "cell_type": "code",
      "source": [
        "# read from file\n",
        "two_arrs = np.load('two_arrs.npz')"
      ],
      "metadata": {
        "id": "O3fuo8q9Z4oE"
      },
      "execution_count": 9,
      "outputs": []
    },
    {
      "cell_type": "code",
      "source": [
        "# arr\n",
        "two_arrs['a']"
      ],
      "metadata": {
        "colab": {
          "base_uri": "https://localhost:8080/"
        },
        "id": "1H1dAQeLaBZt",
        "outputId": "3080c552-9e68-4ee7-b905-eadc5dd39e59"
      },
      "execution_count": 11,
      "outputs": [
        {
          "output_type": "execute_result",
          "data": {
            "text/plain": [
              "array([80, 82, 84, 86, 88, 90, 92, 94, 96, 98])"
            ]
          },
          "metadata": {},
          "execution_count": 11
        }
      ]
    },
    {
      "cell_type": "code",
      "source": [
        "# arr2\n",
        "two_arrs['b']"
      ],
      "metadata": {
        "colab": {
          "base_uri": "https://localhost:8080/"
        },
        "id": "tgTPdTSHaDcp",
        "outputId": "0921818d-91b4-48e3-8e2b-59ee017eaf0b"
      },
      "execution_count": 12,
      "outputs": [
        {
          "output_type": "execute_result",
          "data": {
            "text/plain": [
              "array([0.53183609, 0.47746795, 0.66122838, 0.8735272 , 0.47971673])"
            ]
          },
          "metadata": {},
          "execution_count": 12
        }
      ]
    },
    {
      "cell_type": "markdown",
      "source": [
        "`savez_compressed` - performs the same function as savez . The only difference is that it saves the file compressed, which saves memory space"
      ],
      "metadata": {
        "id": "nHve1bvCaVE2"
      }
    }
  ]
}