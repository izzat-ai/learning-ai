{
  "nbformat": 4,
  "nbformat_minor": 0,
  "metadata": {
    "colab": {
      "provenance": [],
      "authorship_tag": "ABX9TyM6xCnvPpig40QQEtSA1udp",
      "include_colab_link": true
    },
    "kernelspec": {
      "name": "python3",
      "display_name": "Python 3"
    },
    "language_info": {
      "name": "python"
    }
  },
  "cells": [
    {
      "cell_type": "markdown",
      "metadata": {
        "id": "view-in-github",
        "colab_type": "text"
      },
      "source": [
        "<a href=\"https://colab.research.google.com/github/izzat-ai/learning-ai/blob/main/numpy/sorting_practice.ipynb\" target=\"_parent\"><img src=\"https://colab.research.google.com/assets/colab-badge.svg\" alt=\"Open In Colab\"/></a>"
      ]
    },
    {
      "cell_type": "code",
      "execution_count": 17,
      "metadata": {
        "id": "yf2Xnms8T4Gu"
      },
      "outputs": [],
      "source": [
        "import numpy as np"
      ]
    },
    {
      "cell_type": "markdown",
      "source": [
        "###N1\n",
        "**Given `arr = np.array([5, 1, 8, 3, 2])`, what will be the output of `np.sort(arr)`?**"
      ],
      "metadata": {
        "id": "EXKHRBN1UP2c"
      }
    },
    {
      "cell_type": "code",
      "source": [
        "# 1, 2, 3, 5, 8"
      ],
      "metadata": {
        "id": "HQHHHrIlT7bA"
      },
      "execution_count": 18,
      "outputs": []
    },
    {
      "cell_type": "markdown",
      "source": [
        "###N2\n",
        "**How can you sort a 2D NumPy array along columns ?**"
      ],
      "metadata": {
        "id": "CseIj_fEUWEl"
      }
    },
    {
      "cell_type": "code",
      "source": [
        "arr = np.random.randint(10, 100, (3, 4))\n",
        "arr_sort = np.sort(arr, axis=0)\n",
        "print(arr)"
      ],
      "metadata": {
        "colab": {
          "base_uri": "https://localhost:8080/"
        },
        "id": "o3UTDF9aUX-M",
        "outputId": "7fc58073-8632-4678-f337-94a630660634"
      },
      "execution_count": 19,
      "outputs": [
        {
          "output_type": "stream",
          "name": "stdout",
          "text": [
            "[[94 52 17 13]\n",
            " [77 51 88 54]\n",
            " [39 80 22 12]]\n"
          ]
        }
      ]
    },
    {
      "cell_type": "code",
      "source": [
        "print(arr_sort)"
      ],
      "metadata": {
        "colab": {
          "base_uri": "https://localhost:8080/"
        },
        "id": "d7wz0atcVKkx",
        "outputId": "b1a0e264-3464-431b-a2bf-7edb4897811a"
      },
      "execution_count": 20,
      "outputs": [
        {
          "output_type": "stream",
          "name": "stdout",
          "text": [
            "[[39 51 17 12]\n",
            " [77 52 22 13]\n",
            " [94 80 88 54]]\n"
          ]
        }
      ]
    },
    {
      "cell_type": "markdown",
      "source": [
        "###N3\n",
        "**What is the difference between `np.sort(arr)` and `arr.sort()` ?**"
      ],
      "metadata": {
        "id": "QsJZ3LtbUaaM"
      }
    },
    {
      "cell_type": "code",
      "source": [
        "# There is no difference, they both perform the same function"
      ],
      "metadata": {
        "id": "suEq8rOpUd0q"
      },
      "execution_count": 21,
      "outputs": []
    },
    {
      "cell_type": "markdown",
      "source": [
        "###N4\n",
        "**Suppose you have an array with NaN values. How can you sort it while ensuring that NaN values appear at the end of the array ?**"
      ],
      "metadata": {
        "id": "YFOzMqAyWff4"
      }
    },
    {
      "cell_type": "code",
      "source": [
        "arr4 = np.array([1, np.nan, 3, np.nan, 5, 6, np.nan])\n",
        "arr4_sort = np.sort(arr4)\n",
        "print(arr4_sort)"
      ],
      "metadata": {
        "colab": {
          "base_uri": "https://localhost:8080/"
        },
        "id": "nARMZzInWhc4",
        "outputId": "5d1e071b-1e9a-4024-dc3b-55dd7dc7ac50"
      },
      "execution_count": 22,
      "outputs": [
        {
          "output_type": "stream",
          "name": "stdout",
          "text": [
            "[ 1.  3.  5.  6. nan nan nan]\n"
          ]
        }
      ]
    }
  ]
}