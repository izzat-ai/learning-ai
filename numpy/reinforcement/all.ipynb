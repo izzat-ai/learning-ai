{
  "nbformat": 4,
  "nbformat_minor": 0,
  "metadata": {
    "colab": {
      "provenance": [],
      "gpuType": "T4",
      "authorship_tag": "ABX9TyO8tkWRwd0SjKAL202Ahl3k",
      "include_colab_link": true
    },
    "kernelspec": {
      "name": "python3",
      "display_name": "Python 3"
    },
    "language_info": {
      "name": "python"
    },
    "accelerator": "GPU"
  },
  "cells": [
    {
      "cell_type": "markdown",
      "metadata": {
        "id": "view-in-github",
        "colab_type": "text"
      },
      "source": [
        "<a href=\"https://colab.research.google.com/github/izzat-ai/learning-ai/blob/main/numpy/reinforcement/all.ipynb\" target=\"_parent\"><img src=\"https://colab.research.google.com/assets/colab-badge.svg\" alt=\"Open In Colab\"/></a>"
      ]
    },
    {
      "cell_type": "code",
      "execution_count": 1,
      "metadata": {
        "id": "dh9shxSNfVgX"
      },
      "outputs": [],
      "source": [
        "import numpy as np"
      ]
    },
    {
      "cell_type": "code",
      "source": [
        "arr2d1 = np.arange(1, 13).reshape(3, 4)\n",
        "arr2d1"
      ],
      "metadata": {
        "colab": {
          "base_uri": "https://localhost:8080/"
        },
        "id": "qjiPGXtmfYmT",
        "outputId": "1d3fe698-3fda-46f6-fea3-5db888ae3a9d"
      },
      "execution_count": 2,
      "outputs": [
        {
          "output_type": "execute_result",
          "data": {
            "text/plain": [
              "array([[ 1,  2,  3,  4],\n",
              "       [ 5,  6,  7,  8],\n",
              "       [ 9, 10, 11, 12]])"
            ]
          },
          "metadata": {},
          "execution_count": 2
        }
      ]
    },
    {
      "cell_type": "code",
      "source": [
        "# 7\n",
        "arr2d1[1, 2]"
      ],
      "metadata": {
        "colab": {
          "base_uri": "https://localhost:8080/"
        },
        "id": "7c1EnbCBhDFI",
        "outputId": "d46a6d6c-8bb3-4723-844e-22b5b9f0cce3"
      },
      "execution_count": 3,
      "outputs": [
        {
          "output_type": "execute_result",
          "data": {
            "text/plain": [
              "np.int64(7)"
            ]
          },
          "metadata": {},
          "execution_count": 3
        }
      ]
    },
    {
      "cell_type": "code",
      "source": [
        "# 10\n",
        "print(arr2d1[-1, 1])"
      ],
      "metadata": {
        "colab": {
          "base_uri": "https://localhost:8080/"
        },
        "id": "j8aEfMbNhICS",
        "outputId": "29217334-5581-49fa-e197-8c098ecdc74e"
      },
      "execution_count": 4,
      "outputs": [
        {
          "output_type": "stream",
          "name": "stdout",
          "text": [
            "10\n"
          ]
        }
      ]
    },
    {
      "cell_type": "code",
      "source": [
        "# 1, 2\n",
        "print(arr2d1[0, 0:2])"
      ],
      "metadata": {
        "colab": {
          "base_uri": "https://localhost:8080/"
        },
        "id": "oufXBuzPhMfy",
        "outputId": "6f84df4f-aa80-426d-f509-a0ebeacd0762"
      },
      "execution_count": 5,
      "outputs": [
        {
          "output_type": "stream",
          "name": "stdout",
          "text": [
            "[1 2]\n"
          ]
        }
      ]
    },
    {
      "cell_type": "code",
      "source": [
        "# 6, 7\n",
        "print(arr2d1[1, 1:3])"
      ],
      "metadata": {
        "colab": {
          "base_uri": "https://localhost:8080/"
        },
        "id": "3qc1brJThP7M",
        "outputId": "e4a9db8c-02b5-4047-e269-56039db09de1"
      },
      "execution_count": 6,
      "outputs": [
        {
          "output_type": "stream",
          "name": "stdout",
          "text": [
            "[6 7]\n"
          ]
        }
      ]
    },
    {
      "cell_type": "code",
      "source": [
        "# 11, 12\n",
        "print(arr2d1[-1, 2:])"
      ],
      "metadata": {
        "colab": {
          "base_uri": "https://localhost:8080/"
        },
        "id": "EgYlgx_nhUN1",
        "outputId": "d715b113-be8f-4b14-8d17-c9ec41ebce6f"
      },
      "execution_count": 7,
      "outputs": [
        {
          "output_type": "stream",
          "name": "stdout",
          "text": [
            "[11 12]\n"
          ]
        }
      ]
    },
    {
      "cell_type": "code",
      "source": [
        "arr3d1 = np.random.randint(1, 100, size=(3, 3, 3))\n",
        "print(arr3d1)"
      ],
      "metadata": {
        "colab": {
          "base_uri": "https://localhost:8080/"
        },
        "id": "X-Z-dyz1ha9V",
        "outputId": "78502ea1-30c7-4028-a043-9401e2d47dec"
      },
      "execution_count": 8,
      "outputs": [
        {
          "output_type": "stream",
          "name": "stdout",
          "text": [
            "[[[44 70  1]\n",
            "  [ 6 93 92]\n",
            "  [19 13 70]]\n",
            "\n",
            " [[ 8 42 66]\n",
            "  [68 10 33]\n",
            "  [65 49 88]]\n",
            "\n",
            " [[62  7 10]\n",
            "  [ 8 49 73]\n",
            "  [82 68 42]]]\n"
          ]
        }
      ]
    },
    {
      "cell_type": "code",
      "source": [
        "# 90, 21\n",
        "print(arr3d1[0][0, 1:])"
      ],
      "metadata": {
        "colab": {
          "base_uri": "https://localhost:8080/"
        },
        "id": "bIu2d7pFhm8R",
        "outputId": "a5cd5c81-b0fb-4f61-d276-01b6ca951ff1"
      },
      "execution_count": 9,
      "outputs": [
        {
          "output_type": "stream",
          "name": "stdout",
          "text": [
            "[70  1]\n"
          ]
        }
      ]
    },
    {
      "cell_type": "code",
      "source": [
        "# 78\n",
        "print(arr3d1[0][1, 0])"
      ],
      "metadata": {
        "colab": {
          "base_uri": "https://localhost:8080/"
        },
        "id": "NqhONGVMiTO6",
        "outputId": "4dbf547e-cdc2-463d-f204-854686b67780"
      },
      "execution_count": 10,
      "outputs": [
        {
          "output_type": "stream",
          "name": "stdout",
          "text": [
            "6\n"
          ]
        }
      ]
    },
    {
      "cell_type": "code",
      "source": [
        "# 30, 5\n",
        "print(arr3d1[0][-1, 1:])"
      ],
      "metadata": {
        "colab": {
          "base_uri": "https://localhost:8080/"
        },
        "id": "PLKrtYdKiX7n",
        "outputId": "ca02a775-6809-4ecf-fe9a-f16124e119e5"
      },
      "execution_count": 11,
      "outputs": [
        {
          "output_type": "stream",
          "name": "stdout",
          "text": [
            "[13 70]\n"
          ]
        }
      ]
    },
    {
      "cell_type": "code",
      "source": [
        "# 34, 19, 27\n",
        "print(arr3d1[1][-1, :])"
      ],
      "metadata": {
        "colab": {
          "base_uri": "https://localhost:8080/"
        },
        "id": "Nd5BGks0ic9I",
        "outputId": "e8568809-c056-40d7-9eef-17a18680b469"
      },
      "execution_count": 12,
      "outputs": [
        {
          "output_type": "stream",
          "name": "stdout",
          "text": [
            "[65 49 88]\n"
          ]
        }
      ]
    },
    {
      "cell_type": "code",
      "source": [
        "# 8, 5\n",
        "print(arr3d1[2][-1, 1:])"
      ],
      "metadata": {
        "colab": {
          "base_uri": "https://localhost:8080/"
        },
        "id": "oEE0txBbinbT",
        "outputId": "aa58dc00-6ca6-4408-c6ea-5c4b41d54a2b"
      },
      "execution_count": 13,
      "outputs": [
        {
          "output_type": "stream",
          "name": "stdout",
          "text": [
            "[68 42]\n"
          ]
        }
      ]
    },
    {
      "cell_type": "code",
      "source": [
        "arr2d1[arr2d1 < 6] = 0\n",
        "print(arr2d1)"
      ],
      "metadata": {
        "colab": {
          "base_uri": "https://localhost:8080/"
        },
        "id": "ZCXCKe55ivQz",
        "outputId": "33ff8d38-7871-4a9b-81a0-88d69cd97a04"
      },
      "execution_count": 14,
      "outputs": [
        {
          "output_type": "stream",
          "name": "stdout",
          "text": [
            "[[ 0  0  0  0]\n",
            " [ 0  6  7  8]\n",
            " [ 9 10 11 12]]\n"
          ]
        }
      ]
    },
    {
      "cell_type": "code",
      "source": [
        "arr2d2 = np.arange(6).reshape(3, 2)\n",
        "print(arr2d2)"
      ],
      "metadata": {
        "colab": {
          "base_uri": "https://localhost:8080/"
        },
        "id": "fKdEx82ZjTe4",
        "outputId": "51ab4d58-5702-43c2-8f3c-257e097886a5"
      },
      "execution_count": 15,
      "outputs": [
        {
          "output_type": "stream",
          "name": "stdout",
          "text": [
            "[[0 1]\n",
            " [2 3]\n",
            " [4 5]]\n"
          ]
        }
      ]
    },
    {
      "cell_type": "code",
      "source": [
        "arr2d2.T"
      ],
      "metadata": {
        "colab": {
          "base_uri": "https://localhost:8080/"
        },
        "id": "WdStM4T1k2MK",
        "outputId": "3e83f43d-374e-4001-a0cf-904bcad1b473"
      },
      "execution_count": 16,
      "outputs": [
        {
          "output_type": "execute_result",
          "data": {
            "text/plain": [
              "array([[0, 2, 4],\n",
              "       [1, 3, 5]])"
            ]
          },
          "metadata": {},
          "execution_count": 16
        }
      ]
    },
    {
      "cell_type": "code",
      "source": [
        "arr3d2 = np.arange(65, 92).reshape(3, 3, 3)\n",
        "print(arr3d2)"
      ],
      "metadata": {
        "colab": {
          "base_uri": "https://localhost:8080/"
        },
        "id": "6e0uMroqlNJy",
        "outputId": "07ebb449-1e41-40c0-8d29-953f0ee8c392"
      },
      "execution_count": 17,
      "outputs": [
        {
          "output_type": "stream",
          "name": "stdout",
          "text": [
            "[[[65 66 67]\n",
            "  [68 69 70]\n",
            "  [71 72 73]]\n",
            "\n",
            " [[74 75 76]\n",
            "  [77 78 79]\n",
            "  [80 81 82]]\n",
            "\n",
            " [[83 84 85]\n",
            "  [86 87 88]\n",
            "  [89 90 91]]]\n"
          ]
        }
      ]
    },
    {
      "cell_type": "code",
      "source": [
        "arr3d2.swapaxes(0, 1)"
      ],
      "metadata": {
        "colab": {
          "base_uri": "https://localhost:8080/"
        },
        "id": "oy6B-qhuldDT",
        "outputId": "14ad2740-0b9e-45c1-e617-b055203f10d9"
      },
      "execution_count": 18,
      "outputs": [
        {
          "output_type": "execute_result",
          "data": {
            "text/plain": [
              "array([[[65, 66, 67],\n",
              "        [74, 75, 76],\n",
              "        [83, 84, 85]],\n",
              "\n",
              "       [[68, 69, 70],\n",
              "        [77, 78, 79],\n",
              "        [86, 87, 88]],\n",
              "\n",
              "       [[71, 72, 73],\n",
              "        [80, 81, 82],\n",
              "        [89, 90, 91]]])"
            ]
          },
          "metadata": {},
          "execution_count": 18
        }
      ]
    },
    {
      "cell_type": "code",
      "source": [
        "arr3d3 = np.arange(63, 87).reshape(3, 4, 2)\n",
        "print(arr3d3)"
      ],
      "metadata": {
        "id": "LJZuKeMAljpF",
        "colab": {
          "base_uri": "https://localhost:8080/"
        },
        "outputId": "18c49fe6-ab42-42fb-b55a-3b24ff6a07cb"
      },
      "execution_count": 19,
      "outputs": [
        {
          "output_type": "stream",
          "name": "stdout",
          "text": [
            "[[[63 64]\n",
            "  [65 66]\n",
            "  [67 68]\n",
            "  [69 70]]\n",
            "\n",
            " [[71 72]\n",
            "  [73 74]\n",
            "  [75 76]\n",
            "  [77 78]]\n",
            "\n",
            " [[79 80]\n",
            "  [81 82]\n",
            "  [83 84]\n",
            "  [85 86]]]\n"
          ]
        }
      ]
    },
    {
      "cell_type": "code",
      "source": [
        "# 2D massivlar soni va qatorlar sonini almashtirish\n",
        "arr3d3.swapaxes(0, 1)\n",
        "# natija : 4 ta 2D massiv va 3 qator 2 ustunli massivlar hosil bo'lishi kerak"
      ],
      "metadata": {
        "colab": {
          "base_uri": "https://localhost:8080/"
        },
        "id": "6KJ433610bJC",
        "outputId": "f542f072-1c4e-4081-ed38-e0aa16c1f7e7"
      },
      "execution_count": 20,
      "outputs": [
        {
          "output_type": "execute_result",
          "data": {
            "text/plain": [
              "array([[[63, 64],\n",
              "        [71, 72],\n",
              "        [79, 80]],\n",
              "\n",
              "       [[65, 66],\n",
              "        [73, 74],\n",
              "        [81, 82]],\n",
              "\n",
              "       [[67, 68],\n",
              "        [75, 76],\n",
              "        [83, 84]],\n",
              "\n",
              "       [[69, 70],\n",
              "        [77, 78],\n",
              "        [85, 86]]])"
            ]
          },
          "metadata": {},
          "execution_count": 20
        }
      ]
    },
    {
      "cell_type": "code",
      "source": [
        "# 2D massivlar soni va ustunlar sonini almashtirish\n",
        "arr3d3.swapaxes(0, 2)"
      ],
      "metadata": {
        "colab": {
          "base_uri": "https://localhost:8080/"
        },
        "id": "nNYbn-qQ08Jd",
        "outputId": "2e2ce36e-0cb1-472a-f5df-9f827eb367ce"
      },
      "execution_count": 21,
      "outputs": [
        {
          "output_type": "execute_result",
          "data": {
            "text/plain": [
              "array([[[63, 71, 79],\n",
              "        [65, 73, 81],\n",
              "        [67, 75, 83],\n",
              "        [69, 77, 85]],\n",
              "\n",
              "       [[64, 72, 80],\n",
              "        [66, 74, 82],\n",
              "        [68, 76, 84],\n",
              "        [70, 78, 86]]])"
            ]
          },
          "metadata": {},
          "execution_count": 21
        }
      ]
    },
    {
      "cell_type": "code",
      "source": [
        "arr1 = np.arange(11, 21)\n",
        "print(arr1)"
      ],
      "metadata": {
        "colab": {
          "base_uri": "https://localhost:8080/"
        },
        "id": "fS_sbrq31WyW",
        "outputId": "eab36569-d93e-48e5-9c66-cedfaf4eae59"
      },
      "execution_count": 22,
      "outputs": [
        {
          "output_type": "stream",
          "name": "stdout",
          "text": [
            "[11 12 13 14 15 16 17 18 19 20]\n"
          ]
        }
      ]
    },
    {
      "cell_type": "code",
      "source": [
        "# barcha ellarning kvadrat ildizni qaytaradi\n",
        "np.sqrt(arr1)"
      ],
      "metadata": {
        "colab": {
          "base_uri": "https://localhost:8080/"
        },
        "id": "hIv8j4uh1dnT",
        "outputId": "568b6d55-0dbd-4940-bfdc-c6d6892ee622"
      },
      "execution_count": 23,
      "outputs": [
        {
          "output_type": "execute_result",
          "data": {
            "text/plain": [
              "array([3.31662479, 3.46410162, 3.60555128, 3.74165739, 3.87298335,\n",
              "       4.        , 4.12310563, 4.24264069, 4.35889894, 4.47213595])"
            ]
          },
          "metadata": {},
          "execution_count": 23
        }
      ]
    },
    {
      "cell_type": "code",
      "source": [
        "# square - barcha ellarni kvadratga oshiradi\n",
        "np.square(arr1)"
      ],
      "metadata": {
        "colab": {
          "base_uri": "https://localhost:8080/"
        },
        "id": "MgiKHlWN1ytv",
        "outputId": "7d6271ee-8ded-46c5-8ccc-961908019033"
      },
      "execution_count": 24,
      "outputs": [
        {
          "output_type": "execute_result",
          "data": {
            "text/plain": [
              "array([121, 144, 169, 196, 225, 256, 289, 324, 361, 400])"
            ]
          },
          "metadata": {},
          "execution_count": 24
        }
      ]
    },
    {
      "cell_type": "code",
      "source": [
        "arr_float = np.random.rand(5)\n",
        "print(arr_float)"
      ],
      "metadata": {
        "colab": {
          "base_uri": "https://localhost:8080/"
        },
        "id": "SDoMydVN2wjS",
        "outputId": "8d064493-20b3-4bd7-c642-970154ab2cb1"
      },
      "execution_count": 25,
      "outputs": [
        {
          "output_type": "stream",
          "name": "stdout",
          "text": [
            "[0.71303435 0.7858013  0.84366827 0.35159768 0.49772616]\n"
          ]
        }
      ]
    },
    {
      "cell_type": "code",
      "source": [
        "# modf - float sonlarni butun va qoldiqlarini ajratadi\n",
        "qold, but = np.modf(arr_float)\n",
        "print(f\"butun qism: {but}\\nqoldiq qism: {qold}\")"
      ],
      "metadata": {
        "colab": {
          "base_uri": "https://localhost:8080/"
        },
        "id": "wdmDeFvu2EK_",
        "outputId": "96c0c7cc-3172-4ada-86e8-be609621f38a"
      },
      "execution_count": 26,
      "outputs": [
        {
          "output_type": "stream",
          "name": "stdout",
          "text": [
            "butun qism: [0. 0. 0. 0. 0.]\n",
            "qoldiq qism: [0.71303435 0.7858013  0.84366827 0.35159768 0.49772616]\n"
          ]
        }
      ]
    },
    {
      "cell_type": "code",
      "source": [
        "# sign - musbat sonlar"
      ],
      "metadata": {
        "id": "NTanWkWP3Oif"
      },
      "execution_count": 27,
      "outputs": []
    }
  ]
}