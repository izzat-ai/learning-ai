{
  "nbformat": 4,
  "nbformat_minor": 0,
  "metadata": {
    "colab": {
      "provenance": [],
      "authorship_tag": "ABX9TyNj5NYo2Zja9YOfo+Vomr2j",
      "include_colab_link": true
    },
    "kernelspec": {
      "name": "python3",
      "display_name": "Python 3"
    },
    "language_info": {
      "name": "python"
    }
  },
  "cells": [
    {
      "cell_type": "markdown",
      "metadata": {
        "id": "view-in-github",
        "colab_type": "text"
      },
      "source": [
        "<a href=\"https://colab.research.google.com/github/izzat-ai/learning-ai/blob/main/numpy/reinforcement/transpose.ipynb\" target=\"_parent\"><img src=\"https://colab.research.google.com/assets/colab-badge.svg\" alt=\"Open In Colab\"/></a>"
      ]
    },
    {
      "cell_type": "code",
      "execution_count": 8,
      "metadata": {
        "id": "yHbSVAOUpH6U"
      },
      "outputs": [],
      "source": [
        "import numpy as np"
      ]
    },
    {
      "cell_type": "code",
      "source": [
        "arr = np.arange(6).reshape(3, 2)\n",
        "print(arr)"
      ],
      "metadata": {
        "colab": {
          "base_uri": "https://localhost:8080/"
        },
        "id": "dFWhRUfFrZR1",
        "outputId": "edebd8fe-72ef-4b4a-abfb-819f6e4e45c7"
      },
      "execution_count": 9,
      "outputs": [
        {
          "output_type": "stream",
          "name": "stdout",
          "text": [
            "[[0 1]\n",
            " [2 3]\n",
            " [4 5]]\n"
          ]
        }
      ]
    },
    {
      "cell_type": "code",
      "source": [
        "arr.T"
      ],
      "metadata": {
        "colab": {
          "base_uri": "https://localhost:8080/"
        },
        "id": "ykRU7Ee7riGH",
        "outputId": "691e9c1d-5fb3-44ed-c5a2-720863451422"
      },
      "execution_count": 10,
      "outputs": [
        {
          "output_type": "execute_result",
          "data": {
            "text/plain": [
              "array([[0, 2, 4],\n",
              "       [1, 3, 5]])"
            ]
          },
          "metadata": {},
          "execution_count": 10
        }
      ]
    },
    {
      "cell_type": "code",
      "source": [
        "arr.swapaxes(1, 0)"
      ],
      "metadata": {
        "colab": {
          "base_uri": "https://localhost:8080/"
        },
        "id": "dHwqksxLrjCa",
        "outputId": "0a91033d-8c4d-47c5-8b2f-7eacc3282fc0"
      },
      "execution_count": 11,
      "outputs": [
        {
          "output_type": "execute_result",
          "data": {
            "text/plain": [
              "array([[0, 2, 4],\n",
              "       [1, 3, 5]])"
            ]
          },
          "metadata": {},
          "execution_count": 11
        }
      ]
    },
    {
      "cell_type": "code",
      "source": [
        "arr2 = np.random.randint(1, 100, (3, 4))\n",
        "print(arr2)"
      ],
      "metadata": {
        "colab": {
          "base_uri": "https://localhost:8080/"
        },
        "id": "Zr0H-kjarm4s",
        "outputId": "43bb2811-ffac-41bc-a1af-df0ce9b19ee5"
      },
      "execution_count": 12,
      "outputs": [
        {
          "output_type": "stream",
          "name": "stdout",
          "text": [
            "[[14 69  2 40]\n",
            " [52 18 59 28]\n",
            " [48 66 41 58]]\n"
          ]
        }
      ]
    },
    {
      "cell_type": "code",
      "source": [
        "arr2.ndim"
      ],
      "metadata": {
        "colab": {
          "base_uri": "https://localhost:8080/"
        },
        "id": "ByQSyugkrsHw",
        "outputId": "e82c9338-5561-4aaa-fc79-cec326d22ada"
      },
      "execution_count": 13,
      "outputs": [
        {
          "output_type": "execute_result",
          "data": {
            "text/plain": [
              "2"
            ]
          },
          "metadata": {},
          "execution_count": 13
        }
      ]
    },
    {
      "cell_type": "code",
      "source": [
        "arr2.T"
      ],
      "metadata": {
        "colab": {
          "base_uri": "https://localhost:8080/"
        },
        "id": "7uoa_6tUrvc0",
        "outputId": "99557469-168c-4ccc-ae43-a6d412b259fb"
      },
      "execution_count": 16,
      "outputs": [
        {
          "output_type": "execute_result",
          "data": {
            "text/plain": [
              "array([[14, 52, 48],\n",
              "       [69, 18, 66],\n",
              "       [ 2, 59, 41],\n",
              "       [40, 28, 58]])"
            ]
          },
          "metadata": {},
          "execution_count": 16
        }
      ]
    },
    {
      "cell_type": "code",
      "source": [
        "arr2.swapaxes(0, 1)"
      ],
      "metadata": {
        "colab": {
          "base_uri": "https://localhost:8080/"
        },
        "id": "QOLdh96Zrw9u",
        "outputId": "63cdcc50-d2b4-4c8a-9834-4a09f4c43b0a"
      },
      "execution_count": 18,
      "outputs": [
        {
          "output_type": "execute_result",
          "data": {
            "text/plain": [
              "array([[14, 52, 48],\n",
              "       [69, 18, 66],\n",
              "       [ 2, 59, 41],\n",
              "       [40, 28, 58]])"
            ]
          },
          "metadata": {},
          "execution_count": 18
        }
      ]
    },
    {
      "cell_type": "code",
      "source": [
        "arr2"
      ],
      "metadata": {
        "colab": {
          "base_uri": "https://localhost:8080/"
        },
        "id": "DERJGYHysGhR",
        "outputId": "2d5b732c-52ef-4b8b-aee7-3cf43dca8eab"
      },
      "execution_count": 19,
      "outputs": [
        {
          "output_type": "execute_result",
          "data": {
            "text/plain": [
              "array([[14, 69,  2, 40],\n",
              "       [52, 18, 59, 28],\n",
              "       [48, 66, 41, 58]])"
            ]
          },
          "metadata": {},
          "execution_count": 19
        }
      ]
    },
    {
      "cell_type": "code",
      "source": [
        "arr2.swapaxes(0, 1) # 0-rows , 1-columns"
      ],
      "metadata": {
        "colab": {
          "base_uri": "https://localhost:8080/"
        },
        "id": "C9v3dtTssejz",
        "outputId": "57dcc647-7e2b-4a15-a593-639ae48a8c84"
      },
      "execution_count": 21,
      "outputs": [
        {
          "output_type": "execute_result",
          "data": {
            "text/plain": [
              "array([[14, 52, 48],\n",
              "       [69, 18, 66],\n",
              "       [ 2, 59, 41],\n",
              "       [40, 28, 58]])"
            ]
          },
          "metadata": {},
          "execution_count": 21
        }
      ]
    },
    {
      "cell_type": "code",
      "source": [
        "arr3 = np.arange(24).reshape((2, 3, 4))\n",
        "print(f\"Asl massiv (shakli: {arr3.shape}):\\n{arr3}\")\n",
        "# Shakli: (2, 3, 4) - 2 ta namuna, har birida 3 qator va 4 ustun\n",
        "\n",
        "# 0-chi (namunalar) va 1-chi (qatorlar) o'lchamlarni almashtirish\n",
        "swapped_arr3_01 = np.swapaxes(arr3, 0, 1)\n",
        "print(f\"\\n0 va 1 almashtirilgan (shakli: {swapped_arr3_01.shape}):\\n{swapped_arr3_01}\")\n",
        "# Shakli: (3, 2, 4) - endi 3 ta 'namuna' (oldingi qatorlar), har birida 2 ta 'qator' (oldingi namunalar) va 4 ta ustun\n",
        "\n",
        "# 1-chi (oldingi qatorlar) va 2-chi (ustunlar) o'lchamlarni almashtirish\n",
        "swapped_arr3_12 = np.swapaxes(arr3, 1, 2)\n",
        "print(f\"\\n1 va 2 almashtirilgan (shakli: {swapped_arr3_12.shape}):\\n{swapped_arr3_12}\")\n",
        "# Shakli: (2, 4, 3) - 2 ta namuna, har birida 4 ta 'qator' (oldingi ustunlar) va 3 ta 'ustun' (oldingi qatorlar)"
      ],
      "metadata": {
        "colab": {
          "base_uri": "https://localhost:8080/"
        },
        "id": "isqN_Lj8uVcZ",
        "outputId": "0c3b1b48-cd46-498c-dfb7-f74fb39dc887"
      },
      "execution_count": 24,
      "outputs": [
        {
          "output_type": "stream",
          "name": "stdout",
          "text": [
            "Asl massiv (shakli: (2, 3, 4)):\n",
            "[[[ 0  1  2  3]\n",
            "  [ 4  5  6  7]\n",
            "  [ 8  9 10 11]]\n",
            "\n",
            " [[12 13 14 15]\n",
            "  [16 17 18 19]\n",
            "  [20 21 22 23]]]\n",
            "\n",
            "0 va 1 almashtirilgan (shakli: (3, 2, 4)):\n",
            "[[[ 0  1  2  3]\n",
            "  [12 13 14 15]]\n",
            "\n",
            " [[ 4  5  6  7]\n",
            "  [16 17 18 19]]\n",
            "\n",
            " [[ 8  9 10 11]\n",
            "  [20 21 22 23]]]\n",
            "\n",
            "1 va 2 almashtirilgan (shakli: (2, 4, 3)):\n",
            "[[[ 0  4  8]\n",
            "  [ 1  5  9]\n",
            "  [ 2  6 10]\n",
            "  [ 3  7 11]]\n",
            "\n",
            " [[12 16 20]\n",
            "  [13 17 21]\n",
            "  [14 18 22]\n",
            "  [15 19 23]]]\n"
          ]
        }
      ]
    },
    {
      "cell_type": "code",
      "source": [],
      "metadata": {
        "id": "rrNvoZqbun0t"
      },
      "execution_count": null,
      "outputs": []
    }
  ]
}