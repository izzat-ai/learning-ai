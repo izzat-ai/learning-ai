{
  "nbformat": 4,
  "nbformat_minor": 0,
  "metadata": {
    "colab": {
      "provenance": [],
      "authorship_tag": "ABX9TyPJuBNf9Bd0ZZIO1G/oQGYg",
      "include_colab_link": true
    },
    "kernelspec": {
      "name": "python3",
      "display_name": "Python 3"
    },
    "language_info": {
      "name": "python"
    }
  },
  "cells": [
    {
      "cell_type": "markdown",
      "metadata": {
        "id": "view-in-github",
        "colab_type": "text"
      },
      "source": [
        "<a href=\"https://colab.research.google.com/github/izzat-ai/learning-ai/blob/main/numpy/reinforcement/indexing_slic.ipynb\" target=\"_parent\"><img src=\"https://colab.research.google.com/assets/colab-badge.svg\" alt=\"Open In Colab\"/></a>"
      ]
    },
    {
      "cell_type": "code",
      "execution_count": 1,
      "metadata": {
        "id": "A51yeIAxyRDN"
      },
      "outputs": [],
      "source": [
        "import numpy as np"
      ]
    },
    {
      "cell_type": "code",
      "source": [
        "arr = np.arange(10, 110, 10)\n",
        "print(arr)"
      ],
      "metadata": {
        "colab": {
          "base_uri": "https://localhost:8080/"
        },
        "id": "csEr-BcoyiA-",
        "outputId": "83f1e8d6-72c0-420e-be24-c1b4c55414c9"
      },
      "execution_count": 2,
      "outputs": [
        {
          "output_type": "stream",
          "name": "stdout",
          "text": [
            "[ 10  20  30  40  50  60  70  80  90 100]\n"
          ]
        }
      ]
    },
    {
      "cell_type": "code",
      "source": [
        "# 20\n",
        "arr[1]"
      ],
      "metadata": {
        "colab": {
          "base_uri": "https://localhost:8080/"
        },
        "id": "l3a88YSfylbr",
        "outputId": "d9d9eed6-96e4-4dd7-f42d-f4130e6e8311"
      },
      "execution_count": 3,
      "outputs": [
        {
          "output_type": "execute_result",
          "data": {
            "text/plain": [
              "np.int64(20)"
            ]
          },
          "metadata": {},
          "execution_count": 3
        }
      ]
    },
    {
      "cell_type": "code",
      "source": [
        "# 40\n",
        "arr[3]"
      ],
      "metadata": {
        "colab": {
          "base_uri": "https://localhost:8080/"
        },
        "id": "56ntsJXcynFN",
        "outputId": "c0ce2891-6f70-4a3f-b9a3-a20b7bf3f0de"
      },
      "execution_count": 4,
      "outputs": [
        {
          "output_type": "execute_result",
          "data": {
            "text/plain": [
              "np.int64(40)"
            ]
          },
          "metadata": {},
          "execution_count": 4
        }
      ]
    },
    {
      "cell_type": "code",
      "source": [
        "# 60, 70\n",
        "arr[5:7]"
      ],
      "metadata": {
        "colab": {
          "base_uri": "https://localhost:8080/"
        },
        "id": "3NzZkDDWypRB",
        "outputId": "225d7a04-3530-403e-f609-02e1494fbd05"
      },
      "execution_count": 5,
      "outputs": [
        {
          "output_type": "execute_result",
          "data": {
            "text/plain": [
              "array([60, 70])"
            ]
          },
          "metadata": {},
          "execution_count": 5
        }
      ]
    },
    {
      "cell_type": "code",
      "source": [
        "# 90, 100\n",
        "arr[-2:]"
      ],
      "metadata": {
        "colab": {
          "base_uri": "https://localhost:8080/"
        },
        "id": "h1UZFOY5ysuB",
        "outputId": "b7dad597-5f0a-49b4-beac-0515d004da2f"
      },
      "execution_count": 6,
      "outputs": [
        {
          "output_type": "execute_result",
          "data": {
            "text/plain": [
              "array([ 90, 100])"
            ]
          },
          "metadata": {},
          "execution_count": 6
        }
      ]
    },
    {
      "cell_type": "code",
      "source": [
        "# 100\n",
        "arr[-1]"
      ],
      "metadata": {
        "colab": {
          "base_uri": "https://localhost:8080/"
        },
        "id": "k3AlRTgZywDf",
        "outputId": "6ae6c5c1-0612-4831-c105-dabe4dcc8436"
      },
      "execution_count": 7,
      "outputs": [
        {
          "output_type": "execute_result",
          "data": {
            "text/plain": [
              "np.int64(100)"
            ]
          },
          "metadata": {},
          "execution_count": 7
        }
      ]
    },
    {
      "cell_type": "markdown",
      "source": [
        "- *cutting elements from an array and modifying them*"
      ],
      "metadata": {
        "id": "8NVgt-jOy7xR"
      }
    },
    {
      "cell_type": "code",
      "source": [
        "# 60, 70, 80\n",
        "arr_slic = arr[5:8]\n",
        "arr_slic"
      ],
      "metadata": {
        "colab": {
          "base_uri": "https://localhost:8080/"
        },
        "id": "DQ0HVygsyx2Y",
        "outputId": "f20894a6-7188-4046-c05f-ebea912a828e"
      },
      "execution_count": 8,
      "outputs": [
        {
          "output_type": "execute_result",
          "data": {
            "text/plain": [
              "array([60, 70, 80])"
            ]
          },
          "metadata": {},
          "execution_count": 8
        }
      ]
    },
    {
      "cell_type": "code",
      "source": [
        "arr_slic[0] = -11\n",
        "arr_slic[1] = -22\n",
        "arr_slic[0] = -33\n",
        "print(arr_slic)"
      ],
      "metadata": {
        "colab": {
          "base_uri": "https://localhost:8080/"
        },
        "id": "z426u0wEzFUm",
        "outputId": "fd7adf4b-0260-413f-8858-6db685248cca"
      },
      "execution_count": 9,
      "outputs": [
        {
          "output_type": "stream",
          "name": "stdout",
          "text": [
            "[-33 -22  80]\n"
          ]
        }
      ]
    },
    {
      "cell_type": "code",
      "source": [
        "print(arr)\n",
        "print(arr_slic)"
      ],
      "metadata": {
        "colab": {
          "base_uri": "https://localhost:8080/"
        },
        "id": "_QwVqxuhzLYe",
        "outputId": "c763a585-d7cd-4c6b-cde9-d9ce19ef79d5"
      },
      "execution_count": 10,
      "outputs": [
        {
          "output_type": "stream",
          "name": "stdout",
          "text": [
            "[ 10  20  30  40  50 -33 -22  80  90 100]\n",
            "[-33 -22  80]\n"
          ]
        }
      ]
    },
    {
      "cell_type": "markdown",
      "source": [
        "- *affected the elements of the main array*"
      ],
      "metadata": {
        "id": "qYOWCfSmzT42"
      }
    },
    {
      "cell_type": "code",
      "source": [
        "# slicing without affecting the elements of the main array : 10, 20, 30\n",
        "arr2_slic = arr[0:3].copy()\n",
        "arr2_slic"
      ],
      "metadata": {
        "colab": {
          "base_uri": "https://localhost:8080/"
        },
        "id": "A9utblmMzNmj",
        "outputId": "d3b3a621-a01b-4d90-c2ba-22f6cf27f41e"
      },
      "execution_count": 11,
      "outputs": [
        {
          "output_type": "execute_result",
          "data": {
            "text/plain": [
              "array([10, 20, 30])"
            ]
          },
          "metadata": {},
          "execution_count": 11
        }
      ]
    },
    {
      "cell_type": "code",
      "source": [
        "arr2_slic[0] = -1\n",
        "arr2_slic[1] = -2\n",
        "arr2_slic[2] = -3"
      ],
      "metadata": {
        "id": "Dbmi2HQ-znmv"
      },
      "execution_count": 12,
      "outputs": []
    },
    {
      "cell_type": "code",
      "source": [
        "print(arr)\n",
        "print(arr2_slic)"
      ],
      "metadata": {
        "colab": {
          "base_uri": "https://localhost:8080/"
        },
        "id": "ApWKGF15zt47",
        "outputId": "655315bf-828c-43a3-e91e-a25a10e0690f"
      },
      "execution_count": 13,
      "outputs": [
        {
          "output_type": "stream",
          "name": "stdout",
          "text": [
            "[ 10  20  30  40  50 -33 -22  80  90 100]\n",
            "[-1 -2 -3]\n"
          ]
        }
      ]
    },
    {
      "cell_type": "code",
      "source": [
        "arr_str = np.array(['Bobur', 'Aziz', 'Dilshod'])\n",
        "arr_str"
      ],
      "metadata": {
        "colab": {
          "base_uri": "https://localhost:8080/"
        },
        "id": "4DToP3zBzw_D",
        "outputId": "177f7266-d91c-4ea5-870f-682c898d39f7"
      },
      "execution_count": 14,
      "outputs": [
        {
          "output_type": "execute_result",
          "data": {
            "text/plain": [
              "array(['Bobur', 'Aziz', 'Dilshod'], dtype='<U7')"
            ]
          },
          "metadata": {},
          "execution_count": 14
        }
      ]
    },
    {
      "cell_type": "code",
      "source": [
        "arr_str2 = arr_str[:].copy()\n",
        "arr_str2"
      ],
      "metadata": {
        "colab": {
          "base_uri": "https://localhost:8080/"
        },
        "id": "zYwMwWAs0ZeD",
        "outputId": "be78fbfb-70cc-42e5-cacd-5e91303d1713"
      },
      "execution_count": 15,
      "outputs": [
        {
          "output_type": "execute_result",
          "data": {
            "text/plain": [
              "array(['Bobur', 'Aziz', 'Dilshod'], dtype='<U7')"
            ]
          },
          "metadata": {},
          "execution_count": 15
        }
      ]
    },
    {
      "cell_type": "code",
      "source": [
        "arr_str2[1] = 'Sherzod'"
      ],
      "metadata": {
        "id": "UL_UIfGc0eGt"
      },
      "execution_count": 16,
      "outputs": []
    },
    {
      "cell_type": "code",
      "source": [
        "print(arr_str)\n",
        "print(arr_str2)"
      ],
      "metadata": {
        "colab": {
          "base_uri": "https://localhost:8080/"
        },
        "id": "Mz4x0oLC0iwG",
        "outputId": "fd0402dd-c979-4b6c-cd8c-c4f37c14deb9"
      },
      "execution_count": 17,
      "outputs": [
        {
          "output_type": "stream",
          "name": "stdout",
          "text": [
            "['Bobur' 'Aziz' 'Dilshod']\n",
            "['Bobur' 'Sherzod' 'Dilshod']\n"
          ]
        }
      ]
    },
    {
      "cell_type": "code",
      "source": [
        "arr2d = np.array([[1, 2, 3, 4], [5, 6, 7, 8], [9, 10, 11, 12], [13, 14, 15, 16]])\n",
        "arr2d"
      ],
      "metadata": {
        "colab": {
          "base_uri": "https://localhost:8080/"
        },
        "id": "vZvcVtnX6UHG",
        "outputId": "29d2559e-7088-4bdd-e721-ab8b1281ade1"
      },
      "execution_count": 18,
      "outputs": [
        {
          "output_type": "execute_result",
          "data": {
            "text/plain": [
              "array([[ 1,  2,  3,  4],\n",
              "       [ 5,  6,  7,  8],\n",
              "       [ 9, 10, 11, 12],\n",
              "       [13, 14, 15, 16]])"
            ]
          },
          "metadata": {},
          "execution_count": 18
        }
      ]
    },
    {
      "cell_type": "code",
      "source": [
        "# 2\n",
        "print(arr2d[0, 1])"
      ],
      "metadata": {
        "colab": {
          "base_uri": "https://localhost:8080/"
        },
        "id": "njSKWLGj6fsU",
        "outputId": "37a3dce9-4366-4c44-e46e-8b5f435a245c"
      },
      "execution_count": 20,
      "outputs": [
        {
          "output_type": "stream",
          "name": "stdout",
          "text": [
            "2\n"
          ]
        }
      ]
    },
    {
      "cell_type": "code",
      "source": [
        "# 4\n",
        "print(arr2d[0, -1])"
      ],
      "metadata": {
        "colab": {
          "base_uri": "https://localhost:8080/"
        },
        "id": "fuSAEke16jum",
        "outputId": "5b59bb59-9252-4faa-ce55-81204171da29"
      },
      "execution_count": 21,
      "outputs": [
        {
          "output_type": "stream",
          "name": "stdout",
          "text": [
            "4\n"
          ]
        }
      ]
    },
    {
      "cell_type": "code",
      "source": [
        "# 5, 6\n",
        "print(arr2d[1, 0:2])"
      ],
      "metadata": {
        "colab": {
          "base_uri": "https://localhost:8080/"
        },
        "id": "VITNohNJ6nqy",
        "outputId": "42521488-402e-49ff-b239-86df227190ef"
      },
      "execution_count": 22,
      "outputs": [
        {
          "output_type": "stream",
          "name": "stdout",
          "text": [
            "[5 6]\n"
          ]
        }
      ]
    },
    {
      "cell_type": "code",
      "source": [
        "# 10, 11, 12\n",
        "print(arr2d[2, 1:])"
      ],
      "metadata": {
        "colab": {
          "base_uri": "https://localhost:8080/"
        },
        "id": "Qvfvwlvq6ryq",
        "outputId": "e1d0d5b0-d320-47cd-8b08-ded314801212"
      },
      "execution_count": 23,
      "outputs": [
        {
          "output_type": "stream",
          "name": "stdout",
          "text": [
            "[10 11 12]\n"
          ]
        }
      ]
    },
    {
      "cell_type": "code",
      "source": [
        "# 11, 12, 15, 16\n",
        "print(arr2d[2:, 2:])"
      ],
      "metadata": {
        "colab": {
          "base_uri": "https://localhost:8080/"
        },
        "id": "K0cbHY2X6xTl",
        "outputId": "dfe9af16-d661-4ed0-c883-50d2719be944"
      },
      "execution_count": 24,
      "outputs": [
        {
          "output_type": "stream",
          "name": "stdout",
          "text": [
            "[[11 12]\n",
            " [15 16]]\n"
          ]
        }
      ]
    },
    {
      "cell_type": "code",
      "source": [
        "# indexing and slicing in 3D array\n",
        "arr3d = np.arange(41, 59).reshape(3, 2, 3)\n",
        "arr3d"
      ],
      "metadata": {
        "colab": {
          "base_uri": "https://localhost:8080/"
        },
        "id": "woln7Fja64e2",
        "outputId": "8e82042b-2f83-4474-e888-f0d7e3224058"
      },
      "execution_count": 26,
      "outputs": [
        {
          "output_type": "execute_result",
          "data": {
            "text/plain": [
              "array([[[41, 42, 43],\n",
              "        [44, 45, 46]],\n",
              "\n",
              "       [[47, 48, 49],\n",
              "        [50, 51, 52]],\n",
              "\n",
              "       [[53, 54, 55],\n",
              "        [56, 57, 58]]])"
            ]
          },
          "metadata": {},
          "execution_count": 26
        }
      ]
    },
    {
      "cell_type": "code",
      "source": [
        "# 42\n",
        "print(arr3d[0][0, 1])"
      ],
      "metadata": {
        "colab": {
          "base_uri": "https://localhost:8080/"
        },
        "id": "YijmYyJW7QcT",
        "outputId": "469ab064-9820-4efa-ebc8-79fd3507d57b"
      },
      "execution_count": 28,
      "outputs": [
        {
          "output_type": "stream",
          "name": "stdout",
          "text": [
            "42\n"
          ]
        }
      ]
    },
    {
      "cell_type": "code",
      "source": [
        "# 45, 46\n",
        "print(arr3d[0][1, 1:])"
      ],
      "metadata": {
        "colab": {
          "base_uri": "https://localhost:8080/"
        },
        "id": "W4UwIOxM7WkR",
        "outputId": "17144188-848e-47f6-8718-fc5a5f7ff76d"
      },
      "execution_count": 30,
      "outputs": [
        {
          "output_type": "stream",
          "name": "stdout",
          "text": [
            "[45 46]\n"
          ]
        }
      ]
    },
    {
      "cell_type": "code",
      "source": [
        "# 47, 50\n",
        "print(arr3d[1][:, 0])"
      ],
      "metadata": {
        "colab": {
          "base_uri": "https://localhost:8080/"
        },
        "id": "Ut_NZxdW7d4S",
        "outputId": "e28f38d1-151c-4b76-f3d8-4980377cc825"
      },
      "execution_count": 32,
      "outputs": [
        {
          "output_type": "stream",
          "name": "stdout",
          "text": [
            "[47 50]\n"
          ]
        }
      ]
    },
    {
      "cell_type": "code",
      "source": [
        "# 55, 58\n",
        "print(arr3d[-1][:, -1])"
      ],
      "metadata": {
        "colab": {
          "base_uri": "https://localhost:8080/"
        },
        "id": "gyWLxq_Z7kI6",
        "outputId": "7803a44e-2926-4a9f-d0ff-d80b7dc6a01d"
      },
      "execution_count": 34,
      "outputs": [
        {
          "output_type": "stream",
          "name": "stdout",
          "text": [
            "[55 58]\n"
          ]
        }
      ]
    }
  ]
}