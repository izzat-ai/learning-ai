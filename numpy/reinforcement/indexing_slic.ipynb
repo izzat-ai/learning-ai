{
  "nbformat": 4,
  "nbformat_minor": 0,
  "metadata": {
    "colab": {
      "provenance": [],
      "authorship_tag": "ABX9TyOhkmFud4g+FDZynwFR+SN0",
      "include_colab_link": true
    },
    "kernelspec": {
      "name": "python3",
      "display_name": "Python 3"
    },
    "language_info": {
      "name": "python"
    }
  },
  "cells": [
    {
      "cell_type": "markdown",
      "metadata": {
        "id": "view-in-github",
        "colab_type": "text"
      },
      "source": [
        "<a href=\"https://colab.research.google.com/github/izzat-ai/learning-ai/blob/main/numpy/reinforcement/indexing_slic.ipynb\" target=\"_parent\"><img src=\"https://colab.research.google.com/assets/colab-badge.svg\" alt=\"Open In Colab\"/></a>"
      ]
    },
    {
      "cell_type": "code",
      "execution_count": 1,
      "metadata": {
        "id": "A51yeIAxyRDN"
      },
      "outputs": [],
      "source": [
        "import numpy as np"
      ]
    },
    {
      "cell_type": "code",
      "source": [
        "arr = np.arange(10, 110, 10)\n",
        "print(arr)"
      ],
      "metadata": {
        "colab": {
          "base_uri": "https://localhost:8080/"
        },
        "id": "csEr-BcoyiA-",
        "outputId": "d1ff886b-d2b2-4363-96b9-3d976350c0e9"
      },
      "execution_count": 2,
      "outputs": [
        {
          "output_type": "stream",
          "name": "stdout",
          "text": [
            "[ 10  20  30  40  50  60  70  80  90 100]\n"
          ]
        }
      ]
    },
    {
      "cell_type": "code",
      "source": [
        "# 20\n",
        "arr[1]"
      ],
      "metadata": {
        "colab": {
          "base_uri": "https://localhost:8080/"
        },
        "id": "l3a88YSfylbr",
        "outputId": "772ce8fc-4f74-4118-cc0d-ef1292edbb15"
      },
      "execution_count": 3,
      "outputs": [
        {
          "output_type": "execute_result",
          "data": {
            "text/plain": [
              "np.int64(20)"
            ]
          },
          "metadata": {},
          "execution_count": 3
        }
      ]
    },
    {
      "cell_type": "code",
      "source": [
        "# 40\n",
        "arr[3]"
      ],
      "metadata": {
        "colab": {
          "base_uri": "https://localhost:8080/"
        },
        "id": "56ntsJXcynFN",
        "outputId": "dcc57291-eb4d-48e9-efab-92671b9f132d"
      },
      "execution_count": 4,
      "outputs": [
        {
          "output_type": "execute_result",
          "data": {
            "text/plain": [
              "np.int64(40)"
            ]
          },
          "metadata": {},
          "execution_count": 4
        }
      ]
    },
    {
      "cell_type": "code",
      "source": [
        "# 60, 70\n",
        "arr[5:7]"
      ],
      "metadata": {
        "colab": {
          "base_uri": "https://localhost:8080/"
        },
        "id": "3NzZkDDWypRB",
        "outputId": "21f9fb25-e6a0-4e02-feb5-9672210bf231"
      },
      "execution_count": 5,
      "outputs": [
        {
          "output_type": "execute_result",
          "data": {
            "text/plain": [
              "array([60, 70])"
            ]
          },
          "metadata": {},
          "execution_count": 5
        }
      ]
    },
    {
      "cell_type": "code",
      "source": [
        "# 90, 100\n",
        "arr[-2:]"
      ],
      "metadata": {
        "colab": {
          "base_uri": "https://localhost:8080/"
        },
        "id": "h1UZFOY5ysuB",
        "outputId": "d5ba8917-8d02-41bc-f9ef-d00000b4bb0a"
      },
      "execution_count": 6,
      "outputs": [
        {
          "output_type": "execute_result",
          "data": {
            "text/plain": [
              "array([ 90, 100])"
            ]
          },
          "metadata": {},
          "execution_count": 6
        }
      ]
    },
    {
      "cell_type": "code",
      "source": [
        "# 100\n",
        "arr[-1]"
      ],
      "metadata": {
        "colab": {
          "base_uri": "https://localhost:8080/"
        },
        "id": "k3AlRTgZywDf",
        "outputId": "eb8276a8-6cd5-4775-9af2-f13bb736ded6"
      },
      "execution_count": 7,
      "outputs": [
        {
          "output_type": "execute_result",
          "data": {
            "text/plain": [
              "np.int64(100)"
            ]
          },
          "metadata": {},
          "execution_count": 7
        }
      ]
    },
    {
      "cell_type": "markdown",
      "source": [
        "- *cutting elements from an array and modifying them*"
      ],
      "metadata": {
        "id": "8NVgt-jOy7xR"
      }
    },
    {
      "cell_type": "code",
      "source": [
        "# 60, 70, 80\n",
        "arr_slic = arr[5:8]\n",
        "arr_slic"
      ],
      "metadata": {
        "colab": {
          "base_uri": "https://localhost:8080/"
        },
        "id": "DQ0HVygsyx2Y",
        "outputId": "5645dcad-b049-4fe9-a85e-188fe830a6dd"
      },
      "execution_count": 8,
      "outputs": [
        {
          "output_type": "execute_result",
          "data": {
            "text/plain": [
              "array([60, 70, 80])"
            ]
          },
          "metadata": {},
          "execution_count": 8
        }
      ]
    },
    {
      "cell_type": "code",
      "source": [
        "arr_slic[0] = -11\n",
        "arr_slic[1] = -22\n",
        "arr_slic[0] = -33\n",
        "print(arr_slic)"
      ],
      "metadata": {
        "colab": {
          "base_uri": "https://localhost:8080/"
        },
        "id": "z426u0wEzFUm",
        "outputId": "5e9eb04c-56a6-4e74-8d49-b230c62b461a"
      },
      "execution_count": 9,
      "outputs": [
        {
          "output_type": "stream",
          "name": "stdout",
          "text": [
            "[-33 -22  80]\n"
          ]
        }
      ]
    },
    {
      "cell_type": "code",
      "source": [
        "print(arr)\n",
        "print(arr_slic)"
      ],
      "metadata": {
        "colab": {
          "base_uri": "https://localhost:8080/"
        },
        "id": "_QwVqxuhzLYe",
        "outputId": "5e8e5f3d-1b1a-4e35-e66b-8fa53ecb727b"
      },
      "execution_count": 10,
      "outputs": [
        {
          "output_type": "stream",
          "name": "stdout",
          "text": [
            "[ 10  20  30  40  50 -33 -22  80  90 100]\n",
            "[-33 -22  80]\n"
          ]
        }
      ]
    },
    {
      "cell_type": "markdown",
      "source": [
        "- *affected the elements of the main array*"
      ],
      "metadata": {
        "id": "qYOWCfSmzT42"
      }
    },
    {
      "cell_type": "code",
      "source": [
        "# slicing without affecting the elements of the main array : 10, 20, 30\n",
        "arr2_slic = arr[0:3].copy()\n",
        "arr2_slic"
      ],
      "metadata": {
        "colab": {
          "base_uri": "https://localhost:8080/"
        },
        "id": "A9utblmMzNmj",
        "outputId": "8412686f-59a6-40d8-dbbf-80a23fea8b64"
      },
      "execution_count": 12,
      "outputs": [
        {
          "output_type": "execute_result",
          "data": {
            "text/plain": [
              "array([10, 20, 30])"
            ]
          },
          "metadata": {},
          "execution_count": 12
        }
      ]
    },
    {
      "cell_type": "code",
      "source": [
        "arr2_slic[0] = -1\n",
        "arr2_slic[1] = -2\n",
        "arr2_slic[2] = -3"
      ],
      "metadata": {
        "id": "Dbmi2HQ-znmv"
      },
      "execution_count": 13,
      "outputs": []
    },
    {
      "cell_type": "code",
      "source": [
        "print(arr)\n",
        "print(arr2_slic)"
      ],
      "metadata": {
        "colab": {
          "base_uri": "https://localhost:8080/"
        },
        "id": "ApWKGF15zt47",
        "outputId": "d88363c1-a599-4ff2-e9f1-1ba572bbd729"
      },
      "execution_count": 14,
      "outputs": [
        {
          "output_type": "stream",
          "name": "stdout",
          "text": [
            "[ 10  20  30  40  50 -33 -22  80  90 100]\n",
            "[-1 -2 -3]\n"
          ]
        }
      ]
    },
    {
      "cell_type": "code",
      "source": [
        "arr_str = np.array(['Bobur', 'Aziz', 'Dilshod'])\n",
        "arr_str"
      ],
      "metadata": {
        "colab": {
          "base_uri": "https://localhost:8080/"
        },
        "id": "4DToP3zBzw_D",
        "outputId": "0bb242d9-b4a7-4622-a9b3-436a91b7f764"
      },
      "execution_count": 19,
      "outputs": [
        {
          "output_type": "execute_result",
          "data": {
            "text/plain": [
              "array(['Bobur', 'Aziz', 'Dilshod'], dtype='<U7')"
            ]
          },
          "metadata": {},
          "execution_count": 19
        }
      ]
    },
    {
      "cell_type": "code",
      "source": [
        "arr_str2 = arr_str[:].copy()\n",
        "arr_str2"
      ],
      "metadata": {
        "colab": {
          "base_uri": "https://localhost:8080/"
        },
        "id": "zYwMwWAs0ZeD",
        "outputId": "6b7e35b7-ccdf-400c-dd5d-802040e534e8"
      },
      "execution_count": 20,
      "outputs": [
        {
          "output_type": "execute_result",
          "data": {
            "text/plain": [
              "array(['Bobur', 'Aziz', 'Dilshod'], dtype='<U7')"
            ]
          },
          "metadata": {},
          "execution_count": 20
        }
      ]
    },
    {
      "cell_type": "code",
      "source": [
        "arr_str2[1] = 'Sherzod'"
      ],
      "metadata": {
        "id": "UL_UIfGc0eGt"
      },
      "execution_count": 21,
      "outputs": []
    },
    {
      "cell_type": "code",
      "source": [
        "print(arr_str)\n",
        "print(arr_str2)"
      ],
      "metadata": {
        "colab": {
          "base_uri": "https://localhost:8080/"
        },
        "id": "Mz4x0oLC0iwG",
        "outputId": "6537b1be-75a5-44c5-c9e3-65a9c6a3c40a"
      },
      "execution_count": 22,
      "outputs": [
        {
          "output_type": "stream",
          "name": "stdout",
          "text": [
            "['Bobur' 'Aziz' 'Dilshod']\n",
            "['Bobur' 'Sherzod' 'Dilshod']\n"
          ]
        }
      ]
    }
  ]
}