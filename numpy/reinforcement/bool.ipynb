{
  "nbformat": 4,
  "nbformat_minor": 0,
  "metadata": {
    "colab": {
      "provenance": [],
      "authorship_tag": "ABX9TyN1ymlwjcV3waqN+xPl0mQw",
      "include_colab_link": true
    },
    "kernelspec": {
      "name": "python3",
      "display_name": "Python 3"
    },
    "language_info": {
      "name": "python"
    }
  },
  "cells": [
    {
      "cell_type": "markdown",
      "metadata": {
        "id": "view-in-github",
        "colab_type": "text"
      },
      "source": [
        "<a href=\"https://colab.research.google.com/github/izzat-ai/learning-ai/blob/main/numpy/reinforcement/bool.ipynb\" target=\"_parent\"><img src=\"https://colab.research.google.com/assets/colab-badge.svg\" alt=\"Open In Colab\"/></a>"
      ]
    },
    {
      "cell_type": "code",
      "execution_count": 1,
      "metadata": {
        "id": "biD1PRsddynY"
      },
      "outputs": [],
      "source": [
        "import numpy as np"
      ]
    },
    {
      "cell_type": "code",
      "source": [
        "names = np.array(['Hasan', 'Husan', 'Elyor', 'Mirasil', 'Hasan', 'Abdurashid', 'Elyor', 'Abror', 'Javohir'])\n",
        "names"
      ],
      "metadata": {
        "id": "t0hlXHUAeG-P",
        "colab": {
          "base_uri": "https://localhost:8080/"
        },
        "outputId": "f93c6950-b9d1-4a76-cc8d-80c016fa332e"
      },
      "execution_count": 2,
      "outputs": [
        {
          "output_type": "execute_result",
          "data": {
            "text/plain": [
              "array(['Hasan', 'Husan', 'Elyor', 'Mirasil', 'Hasan', 'Abdurashid',\n",
              "       'Elyor', 'Abror', 'Javohir'], dtype='<U10')"
            ]
          },
          "metadata": {},
          "execution_count": 2
        }
      ]
    },
    {
      "cell_type": "code",
      "source": [
        "data = np.random.rand(9, 4)\n",
        "data"
      ],
      "metadata": {
        "colab": {
          "base_uri": "https://localhost:8080/"
        },
        "id": "63aWe7Ku4T4t",
        "outputId": "eb75b778-8ab4-4a8d-de2a-e183ad41471c"
      },
      "execution_count": 3,
      "outputs": [
        {
          "output_type": "execute_result",
          "data": {
            "text/plain": [
              "array([[0.60772105, 0.51690904, 0.47587714, 0.49959237],\n",
              "       [0.34561948, 0.32190688, 0.81247601, 0.46543106],\n",
              "       [0.65961477, 0.23203385, 0.33289681, 0.33259878],\n",
              "       [0.73812994, 0.64211784, 0.09533755, 0.68210558],\n",
              "       [0.34641604, 0.55476335, 0.98544032, 0.04098587],\n",
              "       [0.21562993, 0.70389242, 0.49270305, 0.92959049],\n",
              "       [0.284825  , 0.74977021, 0.46652483, 0.68043066],\n",
              "       [0.96003979, 0.8345763 , 0.44913055, 0.55325273],\n",
              "       [0.89515238, 0.19074516, 0.0310086 , 0.22454645]])"
            ]
          },
          "metadata": {},
          "execution_count": 3
        }
      ]
    },
    {
      "cell_type": "markdown",
      "source": [
        "- each row is the data of one person"
      ],
      "metadata": {
        "id": "vTq7-ytN4fU2"
      }
    },
    {
      "cell_type": "code",
      "source": [
        "# boolean index\n",
        "names == 'Abdurashid'"
      ],
      "metadata": {
        "colab": {
          "base_uri": "https://localhost:8080/"
        },
        "id": "Vn-5NDeJ4VEc",
        "outputId": "57bc40c7-10fc-412d-f2d6-9b91e2427d46"
      },
      "execution_count": 4,
      "outputs": [
        {
          "output_type": "execute_result",
          "data": {
            "text/plain": [
              "array([False, False, False, False, False,  True, False, False, False])"
            ]
          },
          "metadata": {},
          "execution_count": 4
        }
      ]
    },
    {
      "cell_type": "code",
      "source": [
        "names == 'Elyor'"
      ],
      "metadata": {
        "colab": {
          "base_uri": "https://localhost:8080/"
        },
        "id": "4ohZy8IJ4mP4",
        "outputId": "a289da24-39f3-48a1-c121-0294eca91dad"
      },
      "execution_count": 5,
      "outputs": [
        {
          "output_type": "execute_result",
          "data": {
            "text/plain": [
              "array([False, False,  True, False, False, False,  True, False, False])"
            ]
          },
          "metadata": {},
          "execution_count": 5
        }
      ]
    },
    {
      "cell_type": "code",
      "source": [
        "# Slicing Abdurashid's data using boolean indexing\n",
        "data[names == 'Abdurashid']"
      ],
      "metadata": {
        "colab": {
          "base_uri": "https://localhost:8080/"
        },
        "id": "unks-wL14nuq",
        "outputId": "a6658b17-d56a-4d2a-87ca-92544369a8f0"
      },
      "execution_count": 6,
      "outputs": [
        {
          "output_type": "execute_result",
          "data": {
            "text/plain": [
              "array([[0.21562993, 0.70389242, 0.49270305, 0.92959049]])"
            ]
          },
          "metadata": {},
          "execution_count": 6
        }
      ]
    },
    {
      "cell_type": "code",
      "source": [
        "# Elyor's data\n",
        "data[names == 'Elyor']"
      ],
      "metadata": {
        "colab": {
          "base_uri": "https://localhost:8080/"
        },
        "id": "JkrmvjQN5GB0",
        "outputId": "798499f4-5464-4c7a-c06c-455f8a1daf94"
      },
      "execution_count": 7,
      "outputs": [
        {
          "output_type": "execute_result",
          "data": {
            "text/plain": [
              "array([[0.65961477, 0.23203385, 0.33289681, 0.33259878],\n",
              "       [0.284825  , 0.74977021, 0.46652483, 0.68043066]])"
            ]
          },
          "metadata": {},
          "execution_count": 7
        }
      ]
    },
    {
      "cell_type": "code",
      "source": [
        "# Hasan's data\n",
        "data[names == 'Hasan']"
      ],
      "metadata": {
        "colab": {
          "base_uri": "https://localhost:8080/"
        },
        "id": "O-36dBlk5PtP",
        "outputId": "a55c79a6-8537-4527-e640-7ea377749392"
      },
      "execution_count": 8,
      "outputs": [
        {
          "output_type": "execute_result",
          "data": {
            "text/plain": [
              "array([[0.60772105, 0.51690904, 0.47587714, 0.49959237],\n",
              "       [0.34641604, 0.55476335, 0.98544032, 0.04098587]])"
            ]
          },
          "metadata": {},
          "execution_count": 8
        }
      ]
    },
    {
      "cell_type": "code",
      "source": [
        "# get all the data except for hasan's data\n",
        "data[names != 'Hasan']"
      ],
      "metadata": {
        "colab": {
          "base_uri": "https://localhost:8080/"
        },
        "id": "k9L7nLhL5TZp",
        "outputId": "e297a417-961b-4156-db49-0d4d96e88020"
      },
      "execution_count": 9,
      "outputs": [
        {
          "output_type": "execute_result",
          "data": {
            "text/plain": [
              "array([[0.34561948, 0.32190688, 0.81247601, 0.46543106],\n",
              "       [0.65961477, 0.23203385, 0.33289681, 0.33259878],\n",
              "       [0.73812994, 0.64211784, 0.09533755, 0.68210558],\n",
              "       [0.21562993, 0.70389242, 0.49270305, 0.92959049],\n",
              "       [0.284825  , 0.74977021, 0.46652483, 0.68043066],\n",
              "       [0.96003979, 0.8345763 , 0.44913055, 0.55325273],\n",
              "       [0.89515238, 0.19074516, 0.0310086 , 0.22454645]])"
            ]
          },
          "metadata": {},
          "execution_count": 9
        }
      ]
    },
    {
      "cell_type": "code",
      "source": [
        "# get all the data except for elyor's data\n",
        "data[names != 'Elyor']"
      ],
      "metadata": {
        "colab": {
          "base_uri": "https://localhost:8080/"
        },
        "id": "B5rQKx4h5res",
        "outputId": "f14b6582-1b10-4871-eb61-ffd73a3b0608"
      },
      "execution_count": 10,
      "outputs": [
        {
          "output_type": "execute_result",
          "data": {
            "text/plain": [
              "array([[0.60772105, 0.51690904, 0.47587714, 0.49959237],\n",
              "       [0.34561948, 0.32190688, 0.81247601, 0.46543106],\n",
              "       [0.73812994, 0.64211784, 0.09533755, 0.68210558],\n",
              "       [0.34641604, 0.55476335, 0.98544032, 0.04098587],\n",
              "       [0.21562993, 0.70389242, 0.49270305, 0.92959049],\n",
              "       [0.96003979, 0.8345763 , 0.44913055, 0.55325273],\n",
              "       [0.89515238, 0.19074516, 0.0310086 , 0.22454645]])"
            ]
          },
          "metadata": {},
          "execution_count": 10
        }
      ]
    },
    {
      "cell_type": "code",
      "source": [
        "# Get Mirasil and Abror's data in one place\n",
        "two = (names == 'Mirasil') | (names == 'Abror')\n",
        "data[two]"
      ],
      "metadata": {
        "colab": {
          "base_uri": "https://localhost:8080/"
        },
        "id": "lV4MnuVs5yIG",
        "outputId": "dfd8bf0f-36e5-45e2-ba7d-9443d01bf283"
      },
      "execution_count": 11,
      "outputs": [
        {
          "output_type": "execute_result",
          "data": {
            "text/plain": [
              "array([[0.73812994, 0.64211784, 0.09533755, 0.68210558],\n",
              "       [0.96003979, 0.8345763 , 0.44913055, 0.55325273]])"
            ]
          },
          "metadata": {},
          "execution_count": 11
        }
      ]
    },
    {
      "cell_type": "code",
      "source": [
        "# get information from 3 people in one\n",
        "three = (names =='Javohir') | (names == 'Mirasil') | (names == 'Abdurashid')\n",
        "three"
      ],
      "metadata": {
        "colab": {
          "base_uri": "https://localhost:8080/"
        },
        "id": "YDmVC3Hc6Yzq",
        "outputId": "8e7d5879-6221-4c8c-f5cc-b5d7dc5fe3e4"
      },
      "execution_count": 16,
      "outputs": [
        {
          "output_type": "execute_result",
          "data": {
            "text/plain": [
              "array([False, False, False,  True, False,  True, False, False,  True])"
            ]
          },
          "metadata": {},
          "execution_count": 16
        }
      ]
    },
    {
      "cell_type": "code",
      "source": [
        "data[three]"
      ],
      "metadata": {
        "id": "zH4oPv-26oQy",
        "colab": {
          "base_uri": "https://localhost:8080/"
        },
        "outputId": "ecb4b06d-a1ec-4cc1-9aee-f5565a47bc50"
      },
      "execution_count": 17,
      "outputs": [
        {
          "output_type": "execute_result",
          "data": {
            "text/plain": [
              "array([[0.73812994, 0.64211784, 0.09533755, 0.68210558],\n",
              "       [0.21562993, 0.70389242, 0.49270305, 0.92959049],\n",
              "       [0.89515238, 0.19074516, 0.0310086 , 0.22454645]])"
            ]
          },
          "metadata": {},
          "execution_count": 17
        }
      ]
    },
    {
      "cell_type": "code",
      "source": [
        "# get the last 2 details of abdurashid\n",
        "data[names == 'Abdurashid', 2:]"
      ],
      "metadata": {
        "colab": {
          "base_uri": "https://localhost:8080/"
        },
        "id": "DLlApWN4e1py",
        "outputId": "faf0426e-bcf1-4ffd-9ed0-1fe137d433be"
      },
      "execution_count": 20,
      "outputs": [
        {
          "output_type": "execute_result",
          "data": {
            "text/plain": [
              "array([[0.49270305, 0.92959049]])"
            ]
          },
          "metadata": {},
          "execution_count": 20
        }
      ]
    },
    {
      "cell_type": "code",
      "source": [
        "data[names == 'Elyor']"
      ],
      "metadata": {
        "colab": {
          "base_uri": "https://localhost:8080/"
        },
        "id": "dWOU45X_fQsl",
        "outputId": "09811f3e-f1ad-40f1-835f-c31347ac8a96"
      },
      "execution_count": 23,
      "outputs": [
        {
          "output_type": "execute_result",
          "data": {
            "text/plain": [
              "array([[0.65961477, 0.23203385, 0.33289681, 0.33259878],\n",
              "       [0.284825  , 0.74977021, 0.46652483, 0.68043066]])"
            ]
          },
          "metadata": {},
          "execution_count": 23
        }
      ]
    },
    {
      "cell_type": "code",
      "source": [
        "data[names == 'Elyor', 1:3]"
      ],
      "metadata": {
        "colab": {
          "base_uri": "https://localhost:8080/"
        },
        "id": "s-lyouLHfeB_",
        "outputId": "829ebc72-e0e1-4022-f584-e9cb0f35f137"
      },
      "execution_count": 25,
      "outputs": [
        {
          "output_type": "execute_result",
          "data": {
            "text/plain": [
              "array([[0.23203385, 0.33289681],\n",
              "       [0.74977021, 0.46652483]])"
            ]
          },
          "metadata": {},
          "execution_count": 25
        }
      ]
    },
    {
      "cell_type": "markdown",
      "source": [
        "- *boolean indexing with numeric data*"
      ],
      "metadata": {
        "id": "shch3HnBfzO6"
      }
    },
    {
      "cell_type": "code",
      "source": [
        "arr = np.array([1, -2, 3, -4, 5, -6, 7, 8, -9, 10])\n",
        "arr"
      ],
      "metadata": {
        "colab": {
          "base_uri": "https://localhost:8080/"
        },
        "id": "UDSqhr4HfmC-",
        "outputId": "dd5b3f27-eb0c-4a4d-f102-f7626bea479f"
      },
      "execution_count": 30,
      "outputs": [
        {
          "output_type": "execute_result",
          "data": {
            "text/plain": [
              "array([ 1, -2,  3, -4,  5, -6,  7,  8, -9, 10])"
            ]
          },
          "metadata": {},
          "execution_count": 30
        }
      ]
    },
    {
      "cell_type": "code",
      "source": [
        "# set elements less than 0 to 0\n",
        "arr[arr < 0] = 0"
      ],
      "metadata": {
        "id": "eflqiBqMf-G7"
      },
      "execution_count": 33,
      "outputs": []
    },
    {
      "cell_type": "code",
      "source": [
        "print(arr)"
      ],
      "metadata": {
        "colab": {
          "base_uri": "https://localhost:8080/"
        },
        "id": "uAgJzzeXgy3p",
        "outputId": "c4202fca-1a55-4b04-e7fa-2d7076815ddd"
      },
      "execution_count": 34,
      "outputs": [
        {
          "output_type": "stream",
          "name": "stdout",
          "text": [
            "[ 1  0  3  0  5  0  7  8  0 10]\n"
          ]
        }
      ]
    },
    {
      "cell_type": "code",
      "source": [
        "# making numbers less than 7 into 1\n",
        "arr[arr < 7] = 1\n",
        "print(arr)"
      ],
      "metadata": {
        "colab": {
          "base_uri": "https://localhost:8080/"
        },
        "id": "RSMwu9A-gzkz",
        "outputId": "0d595d11-ae65-41e7-8d09-32e4d0359e77"
      },
      "execution_count": 35,
      "outputs": [
        {
          "output_type": "stream",
          "name": "stdout",
          "text": [
            "[ 1  1  1  1  1  1  7  8  1 10]\n"
          ]
        }
      ]
    },
    {
      "cell_type": "code",
      "source": [
        "# displaying numbers 7 and greater\n",
        "print(arr[arr>=7])"
      ],
      "metadata": {
        "colab": {
          "base_uri": "https://localhost:8080/"
        },
        "id": "oHCdNY0NhFuB",
        "outputId": "8527a0ef-63a3-4e19-e95e-46ab8e5f73eb"
      },
      "execution_count": 36,
      "outputs": [
        {
          "output_type": "stream",
          "name": "stdout",
          "text": [
            "[ 7  8 10]\n"
          ]
        }
      ]
    }
  ]
}