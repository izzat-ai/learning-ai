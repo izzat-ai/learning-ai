{
  "nbformat": 4,
  "nbformat_minor": 0,
  "metadata": {
    "colab": {
      "provenance": [],
      "authorship_tag": "ABX9TyPev/p1kmA4HlXc9lS4xdn3",
      "include_colab_link": true
    },
    "kernelspec": {
      "name": "python3",
      "display_name": "Python 3"
    },
    "language_info": {
      "name": "python"
    }
  },
  "cells": [
    {
      "cell_type": "markdown",
      "metadata": {
        "id": "view-in-github",
        "colab_type": "text"
      },
      "source": [
        "<a href=\"https://colab.research.google.com/github/izzat-ai/learning-ai/blob/main/numpy/reinforcement/bool.ipynb\" target=\"_parent\"><img src=\"https://colab.research.google.com/assets/colab-badge.svg\" alt=\"Open In Colab\"/></a>"
      ]
    },
    {
      "cell_type": "code",
      "execution_count": 1,
      "metadata": {
        "id": "biD1PRsddynY"
      },
      "outputs": [],
      "source": [
        "import numpy as np"
      ]
    },
    {
      "cell_type": "code",
      "source": [
        "names = np.array(['Hasan', 'Husan', 'Elyor', 'Mirasil', 'Hasan', 'Abdurashid', 'Elyor', 'Abror', 'Javohir'])\n",
        "names"
      ],
      "metadata": {
        "id": "t0hlXHUAeG-P",
        "colab": {
          "base_uri": "https://localhost:8080/"
        },
        "outputId": "f6c83656-f2ac-4eb1-dc1f-921d0c25267f"
      },
      "execution_count": 2,
      "outputs": [
        {
          "output_type": "execute_result",
          "data": {
            "text/plain": [
              "array(['Hasan', 'Husan', 'Elyor', 'Mirasil', 'Hasan', 'Abdurashid',\n",
              "       'Elyor', 'Abror', 'Javohir'], dtype='<U10')"
            ]
          },
          "metadata": {},
          "execution_count": 2
        }
      ]
    },
    {
      "cell_type": "code",
      "source": [
        "data = np.random.rand(9, 4)\n",
        "data"
      ],
      "metadata": {
        "colab": {
          "base_uri": "https://localhost:8080/"
        },
        "id": "63aWe7Ku4T4t",
        "outputId": "ba435e61-ab6a-4122-efbb-530636444141"
      },
      "execution_count": 4,
      "outputs": [
        {
          "output_type": "execute_result",
          "data": {
            "text/plain": [
              "array([[0.77027187, 0.57285044, 0.11768574, 0.50467435],\n",
              "       [0.39977593, 0.46409184, 0.63676399, 0.05169233],\n",
              "       [0.38733323, 0.19718726, 0.38807466, 0.70885309],\n",
              "       [0.79453258, 0.29464133, 0.61899376, 0.64039975],\n",
              "       [0.8904553 , 0.69478069, 0.72018387, 0.38915406],\n",
              "       [0.37191931, 0.2716145 , 0.95053089, 0.09398536],\n",
              "       [0.48213768, 0.99898781, 0.21529348, 0.74246691],\n",
              "       [0.14755477, 0.55186031, 0.62320631, 0.42870728],\n",
              "       [0.38297398, 0.70436564, 0.08555166, 0.62350197]])"
            ]
          },
          "metadata": {},
          "execution_count": 4
        }
      ]
    },
    {
      "cell_type": "markdown",
      "source": [
        "- each row is the data of one person"
      ],
      "metadata": {
        "id": "vTq7-ytN4fU2"
      }
    },
    {
      "cell_type": "code",
      "source": [
        "# boolean index\n",
        "names == 'Abdurashid'"
      ],
      "metadata": {
        "colab": {
          "base_uri": "https://localhost:8080/"
        },
        "id": "Vn-5NDeJ4VEc",
        "outputId": "997aa998-2bd6-4adb-cf4c-9ffbffa15280"
      },
      "execution_count": 5,
      "outputs": [
        {
          "output_type": "execute_result",
          "data": {
            "text/plain": [
              "array([False, False, False, False, False,  True, False, False, False])"
            ]
          },
          "metadata": {},
          "execution_count": 5
        }
      ]
    },
    {
      "cell_type": "code",
      "source": [
        "names == 'Elyor'"
      ],
      "metadata": {
        "colab": {
          "base_uri": "https://localhost:8080/"
        },
        "id": "4ohZy8IJ4mP4",
        "outputId": "5ac51fd7-b543-4be0-a7be-4d3eeb62f361"
      },
      "execution_count": 6,
      "outputs": [
        {
          "output_type": "execute_result",
          "data": {
            "text/plain": [
              "array([False, False,  True, False, False, False,  True, False, False])"
            ]
          },
          "metadata": {},
          "execution_count": 6
        }
      ]
    },
    {
      "cell_type": "code",
      "source": [
        "# Slicing Abdurashid's data using boolean indexing\n",
        "data[names == 'Abdurashid']"
      ],
      "metadata": {
        "colab": {
          "base_uri": "https://localhost:8080/"
        },
        "id": "unks-wL14nuq",
        "outputId": "9eba2f24-8309-45f1-98c0-cc78cf73476d"
      },
      "execution_count": 7,
      "outputs": [
        {
          "output_type": "execute_result",
          "data": {
            "text/plain": [
              "array([[0.37191931, 0.2716145 , 0.95053089, 0.09398536]])"
            ]
          },
          "metadata": {},
          "execution_count": 7
        }
      ]
    },
    {
      "cell_type": "code",
      "source": [
        "# Elyor's data\n",
        "data[names == 'Elyor']"
      ],
      "metadata": {
        "colab": {
          "base_uri": "https://localhost:8080/"
        },
        "id": "JkrmvjQN5GB0",
        "outputId": "c8ffdffc-6da1-4c97-bb07-3e8d7673e220"
      },
      "execution_count": 8,
      "outputs": [
        {
          "output_type": "execute_result",
          "data": {
            "text/plain": [
              "array([[0.38733323, 0.19718726, 0.38807466, 0.70885309],\n",
              "       [0.48213768, 0.99898781, 0.21529348, 0.74246691]])"
            ]
          },
          "metadata": {},
          "execution_count": 8
        }
      ]
    },
    {
      "cell_type": "code",
      "source": [
        "# Hasan's data\n",
        "data[names == 'Hasan']"
      ],
      "metadata": {
        "colab": {
          "base_uri": "https://localhost:8080/"
        },
        "id": "O-36dBlk5PtP",
        "outputId": "5e0b0361-ee8f-4f71-a3f5-fbf79d9cd21e"
      },
      "execution_count": 9,
      "outputs": [
        {
          "output_type": "execute_result",
          "data": {
            "text/plain": [
              "array([[0.77027187, 0.57285044, 0.11768574, 0.50467435],\n",
              "       [0.8904553 , 0.69478069, 0.72018387, 0.38915406]])"
            ]
          },
          "metadata": {},
          "execution_count": 9
        }
      ]
    },
    {
      "cell_type": "code",
      "source": [
        "# get all the data except for hasan's data\n",
        "data[names != 'Hasan']"
      ],
      "metadata": {
        "colab": {
          "base_uri": "https://localhost:8080/"
        },
        "id": "k9L7nLhL5TZp",
        "outputId": "4b89b8b6-832b-48ae-85a0-fdc527659ccb"
      },
      "execution_count": 10,
      "outputs": [
        {
          "output_type": "execute_result",
          "data": {
            "text/plain": [
              "array([[0.39977593, 0.46409184, 0.63676399, 0.05169233],\n",
              "       [0.38733323, 0.19718726, 0.38807466, 0.70885309],\n",
              "       [0.79453258, 0.29464133, 0.61899376, 0.64039975],\n",
              "       [0.37191931, 0.2716145 , 0.95053089, 0.09398536],\n",
              "       [0.48213768, 0.99898781, 0.21529348, 0.74246691],\n",
              "       [0.14755477, 0.55186031, 0.62320631, 0.42870728],\n",
              "       [0.38297398, 0.70436564, 0.08555166, 0.62350197]])"
            ]
          },
          "metadata": {},
          "execution_count": 10
        }
      ]
    },
    {
      "cell_type": "code",
      "source": [
        "# get all the data except for elyor's data\n",
        "data[names != 'Elyor']"
      ],
      "metadata": {
        "colab": {
          "base_uri": "https://localhost:8080/"
        },
        "id": "B5rQKx4h5res",
        "outputId": "78f84c68-35b7-4bb8-b366-9217b4d6c8af"
      },
      "execution_count": 11,
      "outputs": [
        {
          "output_type": "execute_result",
          "data": {
            "text/plain": [
              "array([[0.77027187, 0.57285044, 0.11768574, 0.50467435],\n",
              "       [0.39977593, 0.46409184, 0.63676399, 0.05169233],\n",
              "       [0.79453258, 0.29464133, 0.61899376, 0.64039975],\n",
              "       [0.8904553 , 0.69478069, 0.72018387, 0.38915406],\n",
              "       [0.37191931, 0.2716145 , 0.95053089, 0.09398536],\n",
              "       [0.14755477, 0.55186031, 0.62320631, 0.42870728],\n",
              "       [0.38297398, 0.70436564, 0.08555166, 0.62350197]])"
            ]
          },
          "metadata": {},
          "execution_count": 11
        }
      ]
    },
    {
      "cell_type": "code",
      "source": [],
      "metadata": {
        "id": "lV4MnuVs5yIG"
      },
      "execution_count": null,
      "outputs": []
    }
  ]
}