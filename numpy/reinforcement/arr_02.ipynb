{
  "nbformat": 4,
  "nbformat_minor": 0,
  "metadata": {
    "colab": {
      "provenance": [],
      "gpuType": "T4",
      "authorship_tag": "ABX9TyNUFeJrllEgOyckXJvsEwkn",
      "include_colab_link": true
    },
    "kernelspec": {
      "name": "python3",
      "display_name": "Python 3"
    },
    "language_info": {
      "name": "python"
    },
    "accelerator": "GPU"
  },
  "cells": [
    {
      "cell_type": "markdown",
      "metadata": {
        "id": "view-in-github",
        "colab_type": "text"
      },
      "source": [
        "<a href=\"https://colab.research.google.com/github/izzat-ai/learning-ai/blob/main/numpy/reinforcement/arr_02.ipynb\" target=\"_parent\"><img src=\"https://colab.research.google.com/assets/colab-badge.svg\" alt=\"Open In Colab\"/></a>"
      ]
    },
    {
      "cell_type": "code",
      "source": [
        "import numpy as np"
      ],
      "metadata": {
        "id": "hWYxngE3sYFN"
      },
      "execution_count": 1,
      "outputs": []
    },
    {
      "cell_type": "code",
      "source": [
        "# create an array with array function\n",
        "lst = [1, 2.2, 3, -4.4, -5, 6]\n",
        "arr1 = np.array(lst)"
      ],
      "metadata": {
        "id": "Zb1x6Yblsa40"
      },
      "execution_count": 2,
      "outputs": []
    },
    {
      "cell_type": "code",
      "source": [
        "print(list)"
      ],
      "metadata": {
        "colab": {
          "base_uri": "https://localhost:8080/"
        },
        "id": "xVE4s9ntsw3P",
        "outputId": "5c697256-dd75-4439-b2cd-7ede0db126ab"
      },
      "execution_count": 3,
      "outputs": [
        {
          "output_type": "stream",
          "name": "stdout",
          "text": [
            "<class 'list'>\n"
          ]
        }
      ]
    },
    {
      "cell_type": "code",
      "source": [
        "print(arr1)"
      ],
      "metadata": {
        "colab": {
          "base_uri": "https://localhost:8080/"
        },
        "id": "i7m_4ngdsyG3",
        "outputId": "5a7679f9-f806-4543-b3a8-9135eccf573d"
      },
      "execution_count": 4,
      "outputs": [
        {
          "output_type": "stream",
          "name": "stdout",
          "text": [
            "[ 1.   2.2  3.  -4.4 -5.   6. ]\n"
          ]
        }
      ]
    },
    {
      "cell_type": "code",
      "source": [
        "type(arr1)"
      ],
      "metadata": {
        "colab": {
          "base_uri": "https://localhost:8080/"
        },
        "id": "7oiyBnNusy19",
        "outputId": "818da809-cef7-472d-b594-b6ed7e113bfd"
      },
      "execution_count": 5,
      "outputs": [
        {
          "output_type": "execute_result",
          "data": {
            "text/plain": [
              "numpy.ndarray"
            ]
          },
          "metadata": {},
          "execution_count": 5
        }
      ]
    },
    {
      "cell_type": "code",
      "source": [
        "lst2 = ['a', 'b', 'c', 'd']\n",
        "arr2 = np.array(lst2)\n",
        "print(lst2)\n",
        "print(arr2)\n",
        "print(type(arr2))"
      ],
      "metadata": {
        "colab": {
          "base_uri": "https://localhost:8080/"
        },
        "id": "70oF2pBzs0xA",
        "outputId": "8a69e646-a2f6-49fa-c94b-d3b83cb2638d"
      },
      "execution_count": 6,
      "outputs": [
        {
          "output_type": "stream",
          "name": "stdout",
          "text": [
            "['a', 'b', 'c', 'd']\n",
            "['a' 'b' 'c' 'd']\n",
            "<class 'numpy.ndarray'>\n"
          ]
        }
      ]
    },
    {
      "cell_type": "code",
      "source": [
        "# create an array with zeros function\n",
        "z_arr = np.zeros(5)\n",
        "print(z_arr)"
      ],
      "metadata": {
        "colab": {
          "base_uri": "https://localhost:8080/"
        },
        "id": "vA76fogBs-GS",
        "outputId": "82768c39-0dfa-4789-a8f7-f1d3997dc670"
      },
      "execution_count": 7,
      "outputs": [
        {
          "output_type": "stream",
          "name": "stdout",
          "text": [
            "[0. 0. 0. 0. 0.]\n"
          ]
        }
      ]
    },
    {
      "cell_type": "code",
      "source": [
        "type(z_arr)"
      ],
      "metadata": {
        "colab": {
          "base_uri": "https://localhost:8080/"
        },
        "id": "dueos6HXtG3E",
        "outputId": "a08422e9-1dfb-4616-b767-af10d4910829"
      },
      "execution_count": 8,
      "outputs": [
        {
          "output_type": "execute_result",
          "data": {
            "text/plain": [
              "numpy.ndarray"
            ]
          },
          "metadata": {},
          "execution_count": 8
        }
      ]
    },
    {
      "cell_type": "code",
      "source": [
        "z_arr2 = np.zeros((3, 4))\n",
        "print(z_arr2)"
      ],
      "metadata": {
        "colab": {
          "base_uri": "https://localhost:8080/"
        },
        "id": "oDUXEfFWtIM2",
        "outputId": "90e88f91-ebba-4f91-f7f3-d0e597310f84"
      },
      "execution_count": 9,
      "outputs": [
        {
          "output_type": "stream",
          "name": "stdout",
          "text": [
            "[[0. 0. 0. 0.]\n",
            " [0. 0. 0. 0.]\n",
            " [0. 0. 0. 0.]]\n"
          ]
        }
      ]
    },
    {
      "cell_type": "code",
      "source": [
        "# create an array with ones function\n",
        "o_arr = np.ones(5)\n",
        "print(o_arr)"
      ],
      "metadata": {
        "colab": {
          "base_uri": "https://localhost:8080/"
        },
        "id": "uBeCA7VatLjE",
        "outputId": "4fa4cb61-3106-4d65-9a24-36ddeb8665cc"
      },
      "execution_count": 10,
      "outputs": [
        {
          "output_type": "stream",
          "name": "stdout",
          "text": [
            "[1. 1. 1. 1. 1.]\n"
          ]
        }
      ]
    },
    {
      "cell_type": "code",
      "source": [
        "type(o_arr)"
      ],
      "metadata": {
        "colab": {
          "base_uri": "https://localhost:8080/"
        },
        "id": "9vBhsyFRtTNh",
        "outputId": "e205c681-57b2-44c5-ec50-9f1d34dd4059"
      },
      "execution_count": 11,
      "outputs": [
        {
          "output_type": "execute_result",
          "data": {
            "text/plain": [
              "numpy.ndarray"
            ]
          },
          "metadata": {},
          "execution_count": 11
        }
      ]
    },
    {
      "cell_type": "code",
      "source": [
        "o_arr2 = np.ones((3, 4))\n",
        "print(o_arr2)"
      ],
      "metadata": {
        "colab": {
          "base_uri": "https://localhost:8080/"
        },
        "id": "-C0GbIABtUBc",
        "outputId": "5466aeb3-f2fe-4838-993d-3eb3e9873620"
      },
      "execution_count": 12,
      "outputs": [
        {
          "output_type": "stream",
          "name": "stdout",
          "text": [
            "[[1. 1. 1. 1.]\n",
            " [1. 1. 1. 1.]\n",
            " [1. 1. 1. 1.]]\n"
          ]
        }
      ]
    },
    {
      "cell_type": "code",
      "source": [
        "# create an array with arange function\n",
        "a_arr = np.arange(5)\n",
        "print(a_arr)"
      ],
      "metadata": {
        "colab": {
          "base_uri": "https://localhost:8080/"
        },
        "id": "xj3T_W_StXAW",
        "outputId": "fadf5c3e-c459-482c-ca9b-e0abfa77d815"
      },
      "execution_count": 13,
      "outputs": [
        {
          "output_type": "stream",
          "name": "stdout",
          "text": [
            "[0 1 2 3 4]\n"
          ]
        }
      ]
    },
    {
      "cell_type": "code",
      "source": [
        "a_arr2 = np.arange(1, 11)\n",
        "print(a_arr2)"
      ],
      "metadata": {
        "colab": {
          "base_uri": "https://localhost:8080/"
        },
        "id": "mdwAw1_atdpD",
        "outputId": "54c6b85e-da80-4145-8c18-79db2f451d7d"
      },
      "execution_count": 14,
      "outputs": [
        {
          "output_type": "stream",
          "name": "stdout",
          "text": [
            "[ 1  2  3  4  5  6  7  8  9 10]\n"
          ]
        }
      ]
    },
    {
      "cell_type": "code",
      "source": [
        "a_arr3 = np.arange(10, 100, 10)\n",
        "print(a_arr3)"
      ],
      "metadata": {
        "colab": {
          "base_uri": "https://localhost:8080/"
        },
        "id": "jSw-3v9sthy9",
        "outputId": "ee7acba8-5c7d-4704-fabf-5ed0b6d96db8"
      },
      "execution_count": 15,
      "outputs": [
        {
          "output_type": "stream",
          "name": "stdout",
          "text": [
            "[10 20 30 40 50 60 70 80 90]\n"
          ]
        }
      ]
    },
    {
      "cell_type": "code",
      "source": [
        "# create an array with random function\n",
        "r_arr = np.random.rand(5)\n",
        "print(r_arr)"
      ],
      "metadata": {
        "colab": {
          "base_uri": "https://localhost:8080/"
        },
        "id": "y2rf2oqitlnO",
        "outputId": "5454a46c-cc7a-4f81-9ea7-d5cded77ede9"
      },
      "execution_count": 16,
      "outputs": [
        {
          "output_type": "stream",
          "name": "stdout",
          "text": [
            "[0.83413943 0.55581016 0.42449416 0.63829174 0.74972208]\n"
          ]
        }
      ]
    },
    {
      "cell_type": "code",
      "source": [
        "r_arr2 = np.random.rand(3, 4)\n",
        "print(r_arr2)"
      ],
      "metadata": {
        "colab": {
          "base_uri": "https://localhost:8080/"
        },
        "id": "uZNRSK-Itsio",
        "outputId": "c3345d17-1a71-4620-f2a9-bb6f517be157"
      },
      "execution_count": 17,
      "outputs": [
        {
          "output_type": "stream",
          "name": "stdout",
          "text": [
            "[[0.94346356 0.15156882 0.74242277 0.12540296]\n",
            " [0.23918963 0.85792571 0.9555784  0.89010847]\n",
            " [0.45242421 0.57851337 0.61693675 0.00542051]]\n"
          ]
        }
      ]
    },
    {
      "cell_type": "code",
      "source": [
        "# with randn\n",
        "r_arr3 = np.random.randn(5)\n",
        "print(r_arr3)"
      ],
      "metadata": {
        "colab": {
          "base_uri": "https://localhost:8080/"
        },
        "id": "kiToVH09tzNU",
        "outputId": "fc4cf7f7-5162-4305-9991-55e400fee724"
      },
      "execution_count": 18,
      "outputs": [
        {
          "output_type": "stream",
          "name": "stdout",
          "text": [
            "[-0.31570315 -0.09005388  0.17538983 -1.27337834 -0.85596161]\n"
          ]
        }
      ]
    },
    {
      "cell_type": "code",
      "source": [
        "r_arr4 = np.random.randn(3, 4)\n",
        "print(r_arr4)"
      ],
      "metadata": {
        "colab": {
          "base_uri": "https://localhost:8080/"
        },
        "id": "Bsn1uhx7t7U-",
        "outputId": "d593ada9-8bc2-41f0-865a-14483e0ce049"
      },
      "execution_count": 19,
      "outputs": [
        {
          "output_type": "stream",
          "name": "stdout",
          "text": [
            "[[ 2.24143568e+00  4.10791472e-02 -2.87312170e-01  1.68977041e-01]\n",
            " [ 9.03891917e-01 -8.16515797e-01 -9.93756674e-02  6.52505835e-01]\n",
            " [ 6.56354218e-01  1.15231886e+00 -8.28564611e-04  1.35306577e+00]]\n"
          ]
        }
      ]
    },
    {
      "cell_type": "code",
      "source": [
        "# with randint\n",
        "r_arr5 = np.random.randint(4)\n",
        "print(r_arr5)"
      ],
      "metadata": {
        "colab": {
          "base_uri": "https://localhost:8080/"
        },
        "id": "Y0ZsA89et_PT",
        "outputId": "57a102d5-de68-4a49-c6c2-e535e9f5c84e"
      },
      "execution_count": 34,
      "outputs": [
        {
          "output_type": "stream",
          "name": "stdout",
          "text": [
            "3\n"
          ]
        }
      ]
    },
    {
      "cell_type": "code",
      "source": [
        "r_arr6 = np.random.randint(1, 11, 4)\n",
        "print(r_arr6)"
      ],
      "metadata": {
        "colab": {
          "base_uri": "https://localhost:8080/"
        },
        "id": "CX9Ga-VJuYEl",
        "outputId": "228b2931-7944-4d24-9bbe-90e14e9ec42c"
      },
      "execution_count": 35,
      "outputs": [
        {
          "output_type": "stream",
          "name": "stdout",
          "text": [
            "[8 8 6 9]\n"
          ]
        }
      ]
    },
    {
      "cell_type": "code",
      "source": [
        "r_arr7 = np.random.randint(1, 111, (3, 4))\n",
        "print(r_arr7)"
      ],
      "metadata": {
        "colab": {
          "base_uri": "https://localhost:8080/"
        },
        "id": "JV8VLGWsukRu",
        "outputId": "3931c479-da40-4a2d-976d-3716db1bb1dc"
      },
      "execution_count": 36,
      "outputs": [
        {
          "output_type": "stream",
          "name": "stdout",
          "text": [
            "[[ 54 106  50  63]\n",
            " [  7  40  78   4]\n",
            " [ 93  48  38  15]]\n"
          ]
        }
      ]
    },
    {
      "cell_type": "code",
      "source": [
        "# with random_sample\n",
        "r_arr8 = np.random.random_sample(5)\n",
        "print(r_arr8)"
      ],
      "metadata": {
        "colab": {
          "base_uri": "https://localhost:8080/"
        },
        "id": "p3Vg8Wlfupg2",
        "outputId": "526ed78c-66a5-4fc2-b666-e359717079f8"
      },
      "execution_count": 37,
      "outputs": [
        {
          "output_type": "stream",
          "name": "stdout",
          "text": [
            "[0.83055323 0.36564386 0.15638025 0.3759261  0.59637538]\n"
          ]
        }
      ]
    },
    {
      "cell_type": "code",
      "source": [
        "# with random.random\n",
        "r_arr9 = np.random.random((3, 4))\n",
        "print(r_arr9)"
      ],
      "metadata": {
        "colab": {
          "base_uri": "https://localhost:8080/"
        },
        "id": "OqhGxLmyu6mD",
        "outputId": "99366752-865e-49be-e0ca-5fca15cc5757"
      },
      "execution_count": 39,
      "outputs": [
        {
          "output_type": "stream",
          "name": "stdout",
          "text": [
            "[[0.88906927 0.62806193 0.98495661 0.7340969 ]\n",
            " [0.13207635 0.80489341 0.09366124 0.05552808]\n",
            " [0.56146277 0.91898648 0.50727138 0.13955118]]\n"
          ]
        }
      ]
    },
    {
      "cell_type": "code",
      "source": [
        "# determining array size\n",
        "z_arr2.ndim"
      ],
      "metadata": {
        "colab": {
          "base_uri": "https://localhost:8080/"
        },
        "id": "1i4BEFojvAoo",
        "outputId": "94f8f018-6644-464c-ff38-6f10ea6b1215"
      },
      "execution_count": 40,
      "outputs": [
        {
          "output_type": "execute_result",
          "data": {
            "text/plain": [
              "2"
            ]
          },
          "metadata": {},
          "execution_count": 40
        }
      ]
    },
    {
      "cell_type": "code",
      "source": [
        "r_arr2.ndim"
      ],
      "metadata": {
        "colab": {
          "base_uri": "https://localhost:8080/"
        },
        "id": "o0-V16FovPou",
        "outputId": "e1754518-ce62-488a-dc9b-ca9eefd448f6"
      },
      "execution_count": 41,
      "outputs": [
        {
          "output_type": "execute_result",
          "data": {
            "text/plain": [
              "2"
            ]
          },
          "metadata": {},
          "execution_count": 41
        }
      ]
    },
    {
      "cell_type": "code",
      "source": [
        "# determine the number of rows and columns of an array\n",
        "z_arr.shape"
      ],
      "metadata": {
        "colab": {
          "base_uri": "https://localhost:8080/"
        },
        "id": "_ZuBI1q-vTc_",
        "outputId": "5706541f-b26e-4992-9b2c-fac7bc7ed9da"
      },
      "execution_count": 42,
      "outputs": [
        {
          "output_type": "execute_result",
          "data": {
            "text/plain": [
              "(5,)"
            ]
          },
          "metadata": {},
          "execution_count": 42
        }
      ]
    },
    {
      "cell_type": "code",
      "source": [
        "z_arr2.shape"
      ],
      "metadata": {
        "colab": {
          "base_uri": "https://localhost:8080/"
        },
        "id": "DmLpb4BSvfFN",
        "outputId": "00113c5b-20c5-4d70-b824-13b19b4442a3"
      },
      "execution_count": 43,
      "outputs": [
        {
          "output_type": "execute_result",
          "data": {
            "text/plain": [
              "(3, 4)"
            ]
          },
          "metadata": {},
          "execution_count": 43
        }
      ]
    },
    {
      "cell_type": "code",
      "source": [
        "# determine the number of all elements of an array\n",
        "r_arr2.size"
      ],
      "metadata": {
        "colab": {
          "base_uri": "https://localhost:8080/"
        },
        "id": "gmgdRDskvgbe",
        "outputId": "faef9322-ff1d-4c5e-bdf3-35dc474ea871"
      },
      "execution_count": 44,
      "outputs": [
        {
          "output_type": "execute_result",
          "data": {
            "text/plain": [
              "12"
            ]
          },
          "metadata": {},
          "execution_count": 44
        }
      ]
    },
    {
      "cell_type": "code",
      "source": [
        "z_arr.size"
      ],
      "metadata": {
        "colab": {
          "base_uri": "https://localhost:8080/"
        },
        "id": "ibnb6E7Qvlkj",
        "outputId": "e6ad12c9-d31e-4ee7-991e-c59990e64439"
      },
      "execution_count": 45,
      "outputs": [
        {
          "output_type": "execute_result",
          "data": {
            "text/plain": [
              "5"
            ]
          },
          "metadata": {},
          "execution_count": 45
        }
      ]
    }
  ]
}