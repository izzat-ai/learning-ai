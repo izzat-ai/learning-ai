{
  "nbformat": 4,
  "nbformat_minor": 0,
  "metadata": {
    "colab": {
      "provenance": [],
      "gpuType": "T4",
      "authorship_tag": "ABX9TyM+JweWrXRYcm0r7Tv02Opz",
      "include_colab_link": true
    },
    "kernelspec": {
      "name": "python3",
      "display_name": "Python 3"
    },
    "language_info": {
      "name": "python"
    },
    "accelerator": "GPU"
  },
  "cells": [
    {
      "cell_type": "markdown",
      "metadata": {
        "id": "view-in-github",
        "colab_type": "text"
      },
      "source": [
        "<a href=\"https://colab.research.google.com/github/izzat-ai/learning-ai/blob/main/numpy/reinforcement/arr.ipynb\" target=\"_parent\"><img src=\"https://colab.research.google.com/assets/colab-badge.svg\" alt=\"Open In Colab\"/></a>"
      ]
    },
    {
      "cell_type": "code",
      "execution_count": 1,
      "metadata": {
        "id": "JQ6qg852HAlf"
      },
      "outputs": [],
      "source": [
        "import numpy as np"
      ]
    },
    {
      "cell_type": "code",
      "source": [
        "# Creating an array using the array function\n",
        "lst = [1, 2.2, -3, 4, -5.5]\n",
        "arr = np.array(lst)\n",
        "print(arr)"
      ],
      "metadata": {
        "colab": {
          "base_uri": "https://localhost:8080/"
        },
        "id": "za--eAOlIgWr",
        "outputId": "e84d49b0-384e-4055-8790-5b141dd413bb"
      },
      "execution_count": 2,
      "outputs": [
        {
          "output_type": "stream",
          "name": "stdout",
          "text": [
            "[ 1.   2.2 -3.   4.  -5.5]\n"
          ]
        }
      ]
    },
    {
      "cell_type": "code",
      "source": [
        "tpl = (1.1, -2.2, 3, -4, 5)\n",
        "arr2 = np.array(tpl)\n",
        "print(arr2)"
      ],
      "metadata": {
        "colab": {
          "base_uri": "https://localhost:8080/"
        },
        "id": "doKBcYyvI2j1",
        "outputId": "39cf0bfd-d88a-4e69-92ae-66ac68c407da"
      },
      "execution_count": 3,
      "outputs": [
        {
          "output_type": "stream",
          "name": "stdout",
          "text": [
            "[ 1.1 -2.2  3.  -4.   5. ]\n"
          ]
        }
      ]
    },
    {
      "cell_type": "code",
      "source": [
        "# create using array creation functions | zeros\n",
        "zer = np.zeros(5)\n",
        "print(zer)"
      ],
      "metadata": {
        "colab": {
          "base_uri": "https://localhost:8080/"
        },
        "id": "mqCvbj_tI_pJ",
        "outputId": "8e8747ed-9bfa-4122-ce80-2895ce09e2fd"
      },
      "execution_count": 4,
      "outputs": [
        {
          "output_type": "stream",
          "name": "stdout",
          "text": [
            "[0. 0. 0. 0. 0.]\n"
          ]
        }
      ]
    },
    {
      "cell_type": "code",
      "source": [
        "# create by shaping\n",
        "zer2 = np.zeros((3, 4))\n",
        "print(zer2)"
      ],
      "metadata": {
        "colab": {
          "base_uri": "https://localhost:8080/"
        },
        "id": "EGnhPEDMJbhv",
        "outputId": "d5f93488-2998-4fbd-caad-560b43d3cf55"
      },
      "execution_count": 5,
      "outputs": [
        {
          "output_type": "stream",
          "name": "stdout",
          "text": [
            "[[0. 0. 0. 0.]\n",
            " [0. 0. 0. 0.]\n",
            " [0. 0. 0. 0.]]\n"
          ]
        }
      ]
    },
    {
      "cell_type": "code",
      "source": [
        "# create with ones function\n",
        "ons = np.ones(5)\n",
        "print(ons)"
      ],
      "metadata": {
        "colab": {
          "base_uri": "https://localhost:8080/"
        },
        "id": "FZOYLs2XJlc1",
        "outputId": "3967d103-2699-4bf5-9231-9d40d74e264c"
      },
      "execution_count": 6,
      "outputs": [
        {
          "output_type": "stream",
          "name": "stdout",
          "text": [
            "[1. 1. 1. 1. 1.]\n"
          ]
        }
      ]
    },
    {
      "cell_type": "code",
      "source": [
        "# shape\n",
        "ons2 = np.ones((3, 4))\n",
        "print(ons2)"
      ],
      "metadata": {
        "colab": {
          "base_uri": "https://localhost:8080/"
        },
        "id": "OnHWtDqSJ5lS",
        "outputId": "148b46c2-e685-4fff-f377-0803c6da5004"
      },
      "execution_count": 7,
      "outputs": [
        {
          "output_type": "stream",
          "name": "stdout",
          "text": [
            "[[1. 1. 1. 1.]\n",
            " [1. 1. 1. 1.]\n",
            " [1. 1. 1. 1.]]\n"
          ]
        }
      ]
    },
    {
      "cell_type": "code",
      "source": [
        "# create using the arange function\n",
        "arng = np.arange(5)\n",
        "print(arng)"
      ],
      "metadata": {
        "colab": {
          "base_uri": "https://localhost:8080/"
        },
        "id": "6MfuJNtnKEyo",
        "outputId": "7acc15df-8b22-4365-9349-0855caf5dc32"
      },
      "execution_count": 8,
      "outputs": [
        {
          "output_type": "stream",
          "name": "stdout",
          "text": [
            "[0 1 2 3 4]\n"
          ]
        }
      ]
    },
    {
      "cell_type": "code",
      "source": [
        "# start, stop, step\n",
        "arng2 = np.arange(1, 11, 2)\n",
        "print(arng2)"
      ],
      "metadata": {
        "colab": {
          "base_uri": "https://localhost:8080/"
        },
        "id": "U-aASzq4KgQM",
        "outputId": "03e9a173-ebc1-45b1-f1ea-ed27f601ec14"
      },
      "execution_count": 9,
      "outputs": [
        {
          "output_type": "stream",
          "name": "stdout",
          "text": [
            "[1 3 5 7 9]\n"
          ]
        }
      ]
    },
    {
      "cell_type": "code",
      "source": [
        "# create using the random function\n",
        "rand = np.random.rand(5)\n",
        "print(rand)"
      ],
      "metadata": {
        "colab": {
          "base_uri": "https://localhost:8080/"
        },
        "id": "0KwVywMCKmTs",
        "outputId": "e19be4eb-3bfc-448a-8b7d-12949ab75fa8"
      },
      "execution_count": 10,
      "outputs": [
        {
          "output_type": "stream",
          "name": "stdout",
          "text": [
            "[0.2512648  0.27443142 0.98115848 0.98110047 0.31317964]\n"
          ]
        }
      ]
    },
    {
      "cell_type": "code",
      "source": [
        "rand2 = np.random.rand(3, 4)\n",
        "rand2"
      ],
      "metadata": {
        "colab": {
          "base_uri": "https://localhost:8080/"
        },
        "id": "lfb9YZPUK5oz",
        "outputId": "c91df5f4-b68d-4bf6-8381-05a7007f66d6"
      },
      "execution_count": 11,
      "outputs": [
        {
          "output_type": "execute_result",
          "data": {
            "text/plain": [
              "array([[0.76794463, 0.33055865, 0.82594592, 0.34100968],\n",
              "       [0.39539904, 0.38152229, 0.72218244, 0.50693452],\n",
              "       [0.62792244, 0.20122735, 0.93513711, 0.77289373]])"
            ]
          },
          "metadata": {},
          "execution_count": 11
        }
      ]
    },
    {
      "cell_type": "code",
      "source": [
        "# random.randn\n",
        "rand3 = np.random.randn(5)\n",
        "rand3"
      ],
      "metadata": {
        "colab": {
          "base_uri": "https://localhost:8080/"
        },
        "id": "s0VScx5qLGuM",
        "outputId": "7b805703-e825-4ab3-f343-d46d0eee8e58"
      },
      "execution_count": 12,
      "outputs": [
        {
          "output_type": "execute_result",
          "data": {
            "text/plain": [
              "array([ 0.49929788, -0.11696983, -0.07823918,  0.16837787, -0.28977409])"
            ]
          },
          "metadata": {},
          "execution_count": 12
        }
      ]
    },
    {
      "cell_type": "code",
      "source": [
        "rand4 = np.random.randn(3, 4)\n",
        "print(rand4)"
      ],
      "metadata": {
        "colab": {
          "base_uri": "https://localhost:8080/"
        },
        "id": "q-OKtf2CLsm2",
        "outputId": "66e9886e-4820-4cb6-9801-4f1109c7c665"
      },
      "execution_count": 13,
      "outputs": [
        {
          "output_type": "stream",
          "name": "stdout",
          "text": [
            "[[-1.19747551  0.75779286 -1.159123   -0.5144872 ]\n",
            " [-0.07071313 -0.84872955  0.97534295 -1.56901838]\n",
            " [ 0.64389421  0.83195043  0.59788696 -0.49476138]]\n"
          ]
        }
      ]
    },
    {
      "cell_type": "code",
      "source": [
        "rand5 = np.random.randint(10, 100, 5)\n",
        "rand5"
      ],
      "metadata": {
        "colab": {
          "base_uri": "https://localhost:8080/"
        },
        "id": "PLTI1FpGLw6Y",
        "outputId": "503b8426-6d09-4b90-d83e-6b32eb0b9343"
      },
      "execution_count": 15,
      "outputs": [
        {
          "output_type": "execute_result",
          "data": {
            "text/plain": [
              "array([41, 69, 11, 37, 64])"
            ]
          },
          "metadata": {},
          "execution_count": 15
        }
      ]
    },
    {
      "cell_type": "code",
      "source": [
        "rand6 = np.random.randint(10, 110, (2, 3))\n",
        "rand6"
      ],
      "metadata": {
        "colab": {
          "base_uri": "https://localhost:8080/"
        },
        "id": "dmNLFKNrTbpK",
        "outputId": "29f74e82-e4e1-4b44-f8c8-80a96c103722"
      },
      "execution_count": 16,
      "outputs": [
        {
          "output_type": "execute_result",
          "data": {
            "text/plain": [
              "array([[22, 22, 55],\n",
              "       [98, 17, 19]])"
            ]
          },
          "metadata": {},
          "execution_count": 16
        }
      ]
    },
    {
      "cell_type": "code",
      "source": [
        "rand7 = np.random.random_sample(5)\n",
        "rand7"
      ],
      "metadata": {
        "colab": {
          "base_uri": "https://localhost:8080/"
        },
        "id": "GqxM5XYHTg02",
        "outputId": "94eede32-6290-4daf-fafe-25649088e476"
      },
      "execution_count": 17,
      "outputs": [
        {
          "output_type": "execute_result",
          "data": {
            "text/plain": [
              "array([0.65922733, 0.76893538, 0.46525817, 0.5396953 , 0.34676992])"
            ]
          },
          "metadata": {},
          "execution_count": 17
        }
      ]
    },
    {
      "cell_type": "code",
      "source": [
        "rand8 = np.random.random_sample((3, 4))\n",
        "rand8"
      ],
      "metadata": {
        "colab": {
          "base_uri": "https://localhost:8080/"
        },
        "id": "tB-23P4uTpxQ",
        "outputId": "129c2d81-50bd-40b6-b840-18f1603d5593"
      },
      "execution_count": 20,
      "outputs": [
        {
          "output_type": "execute_result",
          "data": {
            "text/plain": [
              "array([[0.24779123, 0.6540256 , 0.07772819, 0.8572894 ],\n",
              "       [0.70022065, 0.62837278, 0.03824234, 0.22192309],\n",
              "       [0.65148171, 0.99337522, 0.43924326, 0.60897413]])"
            ]
          },
          "metadata": {},
          "execution_count": 20
        }
      ]
    },
    {
      "cell_type": "code",
      "source": [
        "rand9 = np.random.random(5)\n",
        "rand9"
      ],
      "metadata": {
        "colab": {
          "base_uri": "https://localhost:8080/"
        },
        "id": "2L0U5pJ3Ts9c",
        "outputId": "cfd7f277-eb12-40f4-b3c5-d7124480b64d"
      },
      "execution_count": 21,
      "outputs": [
        {
          "output_type": "execute_result",
          "data": {
            "text/plain": [
              "array([0.58688392, 0.08110796, 0.15481117, 0.49879823, 0.78042607])"
            ]
          },
          "metadata": {},
          "execution_count": 21
        }
      ]
    },
    {
      "cell_type": "code",
      "source": [
        "rand10 = np.random.random((3, 4))\n",
        "rand10"
      ],
      "metadata": {
        "colab": {
          "base_uri": "https://localhost:8080/"
        },
        "id": "sn9m70uvT2W8",
        "outputId": "2178de4b-ad4f-4d72-e925-fb9f043eae9c"
      },
      "execution_count": 22,
      "outputs": [
        {
          "output_type": "execute_result",
          "data": {
            "text/plain": [
              "array([[0.22089554, 0.91901181, 0.9922807 , 0.85384888],\n",
              "       [0.47270562, 0.5168624 , 0.27763147, 0.23709891],\n",
              "       [0.53926562, 0.85454626, 0.82644318, 0.25453371]])"
            ]
          },
          "metadata": {},
          "execution_count": 22
        }
      ]
    },
    {
      "cell_type": "code",
      "source": [
        "# determining array size\n",
        "arr.ndim"
      ],
      "metadata": {
        "colab": {
          "base_uri": "https://localhost:8080/"
        },
        "id": "KMzPylsET48L",
        "outputId": "ec193901-39a8-41d0-e86f-cc6fdfc6319a"
      },
      "execution_count": 24,
      "outputs": [
        {
          "output_type": "execute_result",
          "data": {
            "text/plain": [
              "1"
            ]
          },
          "metadata": {},
          "execution_count": 24
        }
      ]
    },
    {
      "cell_type": "code",
      "source": [
        "rand2.ndim"
      ],
      "metadata": {
        "colab": {
          "base_uri": "https://localhost:8080/"
        },
        "id": "m0usZotRT_Sl",
        "outputId": "0c4b6b19-187c-4040-d6b1-30dce6be329d"
      },
      "execution_count": 25,
      "outputs": [
        {
          "output_type": "execute_result",
          "data": {
            "text/plain": [
              "2"
            ]
          },
          "metadata": {},
          "execution_count": 25
        }
      ]
    },
    {
      "cell_type": "code",
      "source": [
        "# determine the number of rows and columns\n",
        "arr2.shape"
      ],
      "metadata": {
        "colab": {
          "base_uri": "https://localhost:8080/"
        },
        "id": "y6ojKMK8UGdL",
        "outputId": "b9c350e0-63fb-4b2b-e164-12a6029cd44f"
      },
      "execution_count": 26,
      "outputs": [
        {
          "output_type": "execute_result",
          "data": {
            "text/plain": [
              "(5,)"
            ]
          },
          "metadata": {},
          "execution_count": 26
        }
      ]
    },
    {
      "cell_type": "code",
      "source": [
        "rand5.shape"
      ],
      "metadata": {
        "colab": {
          "base_uri": "https://localhost:8080/"
        },
        "id": "oRH3aUmxULK1",
        "outputId": "1726e0a2-1f21-43ae-93c7-de9567070d7d"
      },
      "execution_count": 27,
      "outputs": [
        {
          "output_type": "execute_result",
          "data": {
            "text/plain": [
              "(5,)"
            ]
          },
          "metadata": {},
          "execution_count": 27
        }
      ]
    },
    {
      "cell_type": "code",
      "source": [
        "rand10.shape"
      ],
      "metadata": {
        "colab": {
          "base_uri": "https://localhost:8080/"
        },
        "id": "S5osv6e9UMu9",
        "outputId": "6297dd06-c31d-4ed4-a610-2bd17f14dea1"
      },
      "execution_count": 28,
      "outputs": [
        {
          "output_type": "execute_result",
          "data": {
            "text/plain": [
              "(3, 4)"
            ]
          },
          "metadata": {},
          "execution_count": 28
        }
      ]
    },
    {
      "cell_type": "code",
      "source": [
        "# determine the number of elements\n",
        "rand10.size"
      ],
      "metadata": {
        "colab": {
          "base_uri": "https://localhost:8080/"
        },
        "id": "8zAlmP5OUOXX",
        "outputId": "8ec12ca7-0bb2-49e8-8b0b-262a60d2da7e"
      },
      "execution_count": 30,
      "outputs": [
        {
          "output_type": "execute_result",
          "data": {
            "text/plain": [
              "12"
            ]
          },
          "metadata": {},
          "execution_count": 30
        }
      ]
    },
    {
      "cell_type": "code",
      "source": [
        "arr2.size"
      ],
      "metadata": {
        "colab": {
          "base_uri": "https://localhost:8080/"
        },
        "id": "6HODtPjmUSOw",
        "outputId": "ea462ca1-7b78-4771-98d3-16b82ba033cf"
      },
      "execution_count": 31,
      "outputs": [
        {
          "output_type": "execute_result",
          "data": {
            "text/plain": [
              "5"
            ]
          },
          "metadata": {},
          "execution_count": 31
        }
      ]
    }
  ]
}