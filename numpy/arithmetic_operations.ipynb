{
  "nbformat": 4,
  "nbformat_minor": 0,
  "metadata": {
    "colab": {
      "provenance": [],
      "authorship_tag": "ABX9TyNoJYzs7NZLQL1Lhbp9cRaD",
      "include_colab_link": true
    },
    "kernelspec": {
      "name": "python3",
      "display_name": "Python 3"
    },
    "language_info": {
      "name": "python"
    }
  },
  "cells": [
    {
      "cell_type": "markdown",
      "metadata": {
        "id": "view-in-github",
        "colab_type": "text"
      },
      "source": [
        "<a href=\"https://colab.research.google.com/github/izzat-ai/learning-ai/blob/main/numpy/arithmetic_operations.ipynb\" target=\"_parent\"><img src=\"https://colab.research.google.com/assets/colab-badge.svg\" alt=\"Open In Colab\"/></a>"
      ]
    },
    {
      "cell_type": "code",
      "execution_count": 9,
      "metadata": {
        "id": "VN7xDZWbr3Rp"
      },
      "outputs": [],
      "source": [
        "import numpy as np"
      ]
    },
    {
      "cell_type": "markdown",
      "source": [
        "This lesson teaches you how to add, subtract, multiply, and divide array elements in a simple way"
      ],
      "metadata": {
        "id": "CTJxz4cIsUFV"
      }
    },
    {
      "cell_type": "markdown",
      "source": [
        "**multiplication**\n",
        "\n",
        "- multiplies by corresponding elements of two arrays"
      ],
      "metadata": {
        "id": "KfXrt5L6skOH"
      }
    },
    {
      "cell_type": "code",
      "source": [
        "arr1 = np.array([1, 2, 3, 4])\n",
        "arr2 = np.array([4, 3, 2, 1])\n",
        "print(arr1*arr2)"
      ],
      "metadata": {
        "colab": {
          "base_uri": "https://localhost:8080/"
        },
        "id": "BpQ0QmKYsJeH",
        "outputId": "799da3ba-28a0-44c6-f44b-226ac1b2d4de"
      },
      "execution_count": 10,
      "outputs": [
        {
          "output_type": "stream",
          "name": "stdout",
          "text": [
            "[4 6 6 4]\n"
          ]
        }
      ]
    },
    {
      "cell_type": "markdown",
      "source": [
        "- the same rule for multiplication works for addition, subtraction, and division"
      ],
      "metadata": {
        "id": "idNpqZ9LtHVh"
      }
    },
    {
      "cell_type": "code",
      "source": [
        "arr3 = np.arange(10, 100, 10)\n",
        "arr4 = np.arange(2, 20, 2)\n",
        "\n",
        "# division\n",
        "print(arr3/arr4)\n",
        "\n",
        "# division 2\n",
        "print(arr3//arr4)"
      ],
      "metadata": {
        "colab": {
          "base_uri": "https://localhost:8080/"
        },
        "id": "q6QkRKZGs6nf",
        "outputId": "269015d7-4e44-482b-b2e7-b94df09de5b2"
      },
      "execution_count": 11,
      "outputs": [
        {
          "output_type": "stream",
          "name": "stdout",
          "text": [
            "[5. 5. 5. 5. 5. 5. 5. 5. 5.]\n",
            "[5 5 5 5 5 5 5 5 5]\n"
          ]
        }
      ]
    },
    {
      "cell_type": "markdown",
      "source": [],
      "metadata": {
        "id": "c06AVdifuOUH"
      }
    },
    {
      "cell_type": "code",
      "source": [
        "# addition\n",
        "arr1+arr2"
      ],
      "metadata": {
        "colab": {
          "base_uri": "https://localhost:8080/"
        },
        "id": "LpzybBZYtUcf",
        "outputId": "f7d34155-81dd-451f-cea6-14f92145af56"
      },
      "execution_count": 12,
      "outputs": [
        {
          "output_type": "execute_result",
          "data": {
            "text/plain": [
              "array([5, 5, 5, 5])"
            ]
          },
          "metadata": {},
          "execution_count": 12
        }
      ]
    },
    {
      "cell_type": "code",
      "source": [
        "# substraction\n",
        "arr3-arr4"
      ],
      "metadata": {
        "id": "VyfTeuNFtkd4",
        "outputId": "e613c705-d0e4-46ad-93a4-00af3b8360f6",
        "colab": {
          "base_uri": "https://localhost:8080/"
        }
      },
      "execution_count": 13,
      "outputs": [
        {
          "output_type": "execute_result",
          "data": {
            "text/plain": [
              "array([ 8, 16, 24, 32, 40, 48, 56, 64, 72])"
            ]
          },
          "metadata": {},
          "execution_count": 13
        }
      ]
    },
    {
      "cell_type": "markdown",
      "source": [
        "**square or other powers of the array elements**"
      ],
      "metadata": {
        "id": "xNHAoudruQ-k"
      }
    },
    {
      "cell_type": "code",
      "source": [
        "# squaring\n",
        "arr2**2"
      ],
      "metadata": {
        "colab": {
          "base_uri": "https://localhost:8080/"
        },
        "id": "dyU4-qssuUbw",
        "outputId": "ede3696f-f414-4ab5-b21c-2d3a1da4622a"
      },
      "execution_count": 14,
      "outputs": [
        {
          "output_type": "execute_result",
          "data": {
            "text/plain": [
              "array([16,  9,  4,  1])"
            ]
          },
          "metadata": {},
          "execution_count": 14
        }
      ]
    },
    {
      "cell_type": "code",
      "source": [
        "# cube\n",
        "arr2**3"
      ],
      "metadata": {
        "colab": {
          "base_uri": "https://localhost:8080/"
        },
        "id": "ZZmiG1DLuaKe",
        "outputId": "d1f3ebd3-731d-40b1-832c-2c1b40e5ca92"
      },
      "execution_count": 15,
      "outputs": [
        {
          "output_type": "execute_result",
          "data": {
            "text/plain": [
              "array([64, 27,  8,  1])"
            ]
          },
          "metadata": {},
          "execution_count": 15
        }
      ]
    },
    {
      "cell_type": "code",
      "source": [
        "# it is increased to other levels in the same way\n",
        "arr2**5"
      ],
      "metadata": {
        "colab": {
          "base_uri": "https://localhost:8080/"
        },
        "id": "ahJlrtg6udxC",
        "outputId": "9102261c-8d14-4c1a-a4a9-6f22f3dc1731"
      },
      "execution_count": 16,
      "outputs": [
        {
          "output_type": "execute_result",
          "data": {
            "text/plain": [
              "array([1024,  243,   32,    1])"
            ]
          },
          "metadata": {},
          "execution_count": 16
        }
      ]
    }
  ]
}