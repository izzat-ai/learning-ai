{
  "nbformat": 4,
  "nbformat_minor": 0,
  "metadata": {
    "colab": {
      "provenance": [],
      "authorship_tag": "ABX9TyNL5vRpAubYQXEQWo3bBgas",
      "include_colab_link": true
    },
    "kernelspec": {
      "name": "python3",
      "display_name": "Python 3"
    },
    "language_info": {
      "name": "python"
    }
  },
  "cells": [
    {
      "cell_type": "markdown",
      "metadata": {
        "id": "view-in-github",
        "colab_type": "text"
      },
      "source": [
        "<a href=\"https://colab.research.google.com/github/izzat-ai/learning-ai/blob/main/numpy/arithmetic_operations.ipynb\" target=\"_parent\"><img src=\"https://colab.research.google.com/assets/colab-badge.svg\" alt=\"Open In Colab\"/></a>"
      ]
    },
    {
      "cell_type": "code",
      "execution_count": 1,
      "metadata": {
        "id": "VN7xDZWbr3Rp"
      },
      "outputs": [],
      "source": [
        "import numpy as np"
      ]
    },
    {
      "cell_type": "markdown",
      "source": [
        "This lesson teaches you how to add, subtract, multiply, and divide array elements in a simple way"
      ],
      "metadata": {
        "id": "CTJxz4cIsUFV"
      }
    },
    {
      "cell_type": "markdown",
      "source": [
        "**multiplication**\n",
        "\n",
        "- multiplies by corresponding elements of two arrays"
      ],
      "metadata": {
        "id": "KfXrt5L6skOH"
      }
    },
    {
      "cell_type": "code",
      "source": [
        "arr1 = np.array([1, 2, 3, 4])\n",
        "arr2 = np.array([4, 3, 2, 1])\n",
        "print(arr1*arr2)"
      ],
      "metadata": {
        "colab": {
          "base_uri": "https://localhost:8080/"
        },
        "id": "BpQ0QmKYsJeH",
        "outputId": "5c3e0cff-3959-45ff-e711-46ef5449785b"
      },
      "execution_count": 2,
      "outputs": [
        {
          "output_type": "stream",
          "name": "stdout",
          "text": [
            "[4 6 6 4]\n"
          ]
        }
      ]
    },
    {
      "cell_type": "markdown",
      "source": [
        "- the same rule for multiplication works for addition, subtraction, and division"
      ],
      "metadata": {
        "id": "idNpqZ9LtHVh"
      }
    },
    {
      "cell_type": "code",
      "source": [
        "arr3 = np.arange(10, 100, 10)\n",
        "arr4 = np.arange(2, 20, 2)\n",
        "\n",
        "# division\n",
        "print(arr3/arr4)\n",
        "\n",
        "# division 2\n",
        "print(arr3//arr4)"
      ],
      "metadata": {
        "colab": {
          "base_uri": "https://localhost:8080/"
        },
        "id": "q6QkRKZGs6nf",
        "outputId": "88379a68-3fb1-4491-d036-6a218908b806"
      },
      "execution_count": 5,
      "outputs": [
        {
          "output_type": "stream",
          "name": "stdout",
          "text": [
            "[5. 5. 5. 5. 5. 5. 5. 5. 5.]\n",
            "[5 5 5 5 5 5 5 5 5]\n"
          ]
        }
      ]
    },
    {
      "cell_type": "code",
      "source": [
        "# addition\n",
        "arr1+arr2"
      ],
      "metadata": {
        "colab": {
          "base_uri": "https://localhost:8080/"
        },
        "id": "LpzybBZYtUcf",
        "outputId": "83c7f940-98b4-4239-b72d-7103a73d26c5"
      },
      "execution_count": 7,
      "outputs": [
        {
          "output_type": "execute_result",
          "data": {
            "text/plain": [
              "array([5, 5, 5, 5])"
            ]
          },
          "metadata": {},
          "execution_count": 7
        }
      ]
    },
    {
      "cell_type": "code",
      "source": [
        "# substraction\n",
        "arr3-arr4"
      ],
      "metadata": {
        "colab": {
          "base_uri": "https://localhost:8080/"
        },
        "id": "VyfTeuNFtkd4",
        "outputId": "37f5354f-fb70-4ef4-8ff8-b4394f146376"
      },
      "execution_count": 8,
      "outputs": [
        {
          "output_type": "execute_result",
          "data": {
            "text/plain": [
              "array([ 8, 16, 24, 32, 40, 48, 56, 64, 72])"
            ]
          },
          "metadata": {},
          "execution_count": 8
        }
      ]
    }
  ]
}