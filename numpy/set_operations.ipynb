{
  "nbformat": 4,
  "nbformat_minor": 0,
  "metadata": {
    "colab": {
      "provenance": [],
      "authorship_tag": "ABX9TyMZ5/1MYHqMK0vU5C3gvDDz",
      "include_colab_link": true
    },
    "kernelspec": {
      "name": "python3",
      "display_name": "Python 3"
    },
    "language_info": {
      "name": "python"
    }
  },
  "cells": [
    {
      "cell_type": "markdown",
      "metadata": {
        "id": "view-in-github",
        "colab_type": "text"
      },
      "source": [
        "<a href=\"https://colab.research.google.com/github/izzat-ai/learning-ai/blob/main/numpy/set_operations.ipynb\" target=\"_parent\"><img src=\"https://colab.research.google.com/assets/colab-badge.svg\" alt=\"Open In Colab\"/></a>"
      ]
    },
    {
      "cell_type": "code",
      "execution_count": 1,
      "metadata": {
        "id": "1bTIANKMnBIW"
      },
      "outputs": [],
      "source": [
        "import numpy as np"
      ]
    },
    {
      "cell_type": "markdown",
      "source": [
        "**In this topic we will learn the following functions:**\n",
        "\n",
        "`unique , intersect1d , union1d , setdiff1d , setxor1d`"
      ],
      "metadata": {
        "id": "B05BhXoBnZGi"
      }
    },
    {
      "cell_type": "markdown",
      "source": [
        "**unique**"
      ],
      "metadata": {
        "id": "L8gGTHQkpriT"
      }
    },
    {
      "cell_type": "code",
      "source": [
        "# unique - returns non-repeating elements of an array\n",
        "arr = np.array([1, 1, 2, 3, 3, 4, 5, 5, 6])\n",
        "print(np.unique(arr))"
      ],
      "metadata": {
        "colab": {
          "base_uri": "https://localhost:8080/"
        },
        "id": "_UPO1OAvnFK3",
        "outputId": "17617858-a508-41a0-c4ce-0dbe8636976f"
      },
      "execution_count": 2,
      "outputs": [
        {
          "output_type": "stream",
          "name": "stdout",
          "text": [
            "[1 2 3 4 5 6]\n"
          ]
        }
      ]
    },
    {
      "cell_type": "code",
      "source": [
        "# determine the number of times each element of an array is repeated\n",
        "arr_c = np.unique(arr, return_counts=True)\n",
        "print(arr_c)"
      ],
      "metadata": {
        "colab": {
          "base_uri": "https://localhost:8080/"
        },
        "id": "RCHiMJCDoIjN",
        "outputId": "f4244951-f7f6-4048-88e6-2fda52e504a6"
      },
      "execution_count": 3,
      "outputs": [
        {
          "output_type": "stream",
          "name": "stdout",
          "text": [
            "(array([1, 2, 3, 4, 5, 6]), array([2, 1, 2, 1, 2, 1]))\n"
          ]
        }
      ]
    },
    {
      "cell_type": "code",
      "source": [
        "# writing the above two actions in one line of code\n",
        "values, counts = np.unique(arr, return_counts=True)\n",
        "print(values)\n",
        "print(counts)"
      ],
      "metadata": {
        "colab": {
          "base_uri": "https://localhost:8080/"
        },
        "id": "0bipUMWeoh-f",
        "outputId": "eb011869-de28-4bb6-dabe-1e0cfe670ab4"
      },
      "execution_count": 4,
      "outputs": [
        {
          "output_type": "stream",
          "name": "stdout",
          "text": [
            "[1 2 3 4 5 6]\n",
            "[2 1 2 1 2 1]\n"
          ]
        }
      ]
    },
    {
      "cell_type": "code",
      "source": [
        "# determining the indices of non-repeating elements in an array\n",
        "arr_idx = np.unique(arr, return_index=True)\n",
        "print(arr_idx)"
      ],
      "metadata": {
        "colab": {
          "base_uri": "https://localhost:8080/"
        },
        "id": "VR8VVpHwo2Ln",
        "outputId": "37f111f6-8455-407a-ca3d-ece1491ed267"
      },
      "execution_count": 6,
      "outputs": [
        {
          "output_type": "stream",
          "name": "stdout",
          "text": [
            "(array([1, 2, 3, 4, 5, 6]), array([0, 2, 3, 5, 6, 8]))\n"
          ]
        }
      ]
    },
    {
      "cell_type": "markdown",
      "source": [
        "**intersect1d**\n",
        "\n",
        "- returns the same elements that exist in both arrays. There will be no duplicate elements and it will always be sorted"
      ],
      "metadata": {
        "id": "BX0wvGx1ptVU"
      }
    },
    {
      "cell_type": "code",
      "source": [
        "arr1 = np.array([1, 2, 3, 4, 5])\n",
        "arr2 = np.array([3, 4, 5, 6, 7])\n",
        "\n",
        "common = np.intersect1d(arr1, arr2)\n",
        "print(common)"
      ],
      "metadata": {
        "colab": {
          "base_uri": "https://localhost:8080/"
        },
        "id": "nMh85sRZpR3Y",
        "outputId": "b7412049-0e43-481b-a87a-b1f349a9f2b1"
      },
      "execution_count": 9,
      "outputs": [
        {
          "output_type": "stream",
          "name": "stdout",
          "text": [
            "[3 4 5]\n"
          ]
        }
      ]
    },
    {
      "cell_type": "markdown",
      "source": [
        "**union1d**\n",
        "\n",
        "- combines the elements of both arrays. Makes the elements unique and always sorted"
      ],
      "metadata": {
        "id": "nz_HMQ4tqTNw"
      }
    },
    {
      "cell_type": "code",
      "source": [
        "arr3 = np.array([1, 2, 3])\n",
        "arr4 = np.array([3, 4, 5])\n",
        "\n",
        "union = np.union1d(arr3, arr4)\n",
        "print(union)"
      ],
      "metadata": {
        "colab": {
          "base_uri": "https://localhost:8080/"
        },
        "id": "f-KEDSEGqEed",
        "outputId": "ce934cd2-136f-45e4-9694-e2cd8ebe988b"
      },
      "execution_count": 10,
      "outputs": [
        {
          "output_type": "stream",
          "name": "stdout",
          "text": [
            "[1 2 3 4 5]\n"
          ]
        }
      ]
    },
    {
      "cell_type": "markdown",
      "source": [
        "**setdiff1d**\n",
        "\n",
        "- extracts elements from one array that are not present in another\n",
        "- i.e. it removes the elements in arr2 from the elements in arr1"
      ],
      "metadata": {
        "id": "_iZPhm2YqxMy"
      }
    },
    {
      "cell_type": "code",
      "source": [
        "arr5 = np.array([1, 2, 3, 4, 5])\n",
        "arr6 = np.array([3, 4, 5, 6, 7])\n",
        "\n",
        "setd = np.setdiff1d(arr5, arr6)\n",
        "print(setd)"
      ],
      "metadata": {
        "colab": {
          "base_uri": "https://localhost:8080/"
        },
        "id": "oBS_oPXeqb7F",
        "outputId": "c95d59ac-0e1b-4c5e-cf9a-d4d464119f79"
      },
      "execution_count": 11,
      "outputs": [
        {
          "output_type": "stream",
          "name": "stdout",
          "text": [
            "[1 2]\n"
          ]
        }
      ]
    },
    {
      "cell_type": "markdown",
      "source": [
        "**setxor1d**\n",
        "\n",
        "- returns elements that are present in either array but not in both"
      ],
      "metadata": {
        "id": "9uzlHdkrrYMC"
      }
    },
    {
      "cell_type": "code",
      "source": [
        "arr7 = np.array([1, 2, 3, 4, 5])\n",
        "arr8 = np.array([3, 4, 5, 6, 7])\n",
        "\n",
        "xor1 = np.setxor1d(arr7, arr8)\n",
        "print(xor1)"
      ],
      "metadata": {
        "colab": {
          "base_uri": "https://localhost:8080/"
        },
        "id": "Eg3LYhPsrRwB",
        "outputId": "972ef56d-46aa-43c0-cef0-8fde4ff6a6bc"
      },
      "execution_count": 12,
      "outputs": [
        {
          "output_type": "stream",
          "name": "stdout",
          "text": [
            "[1 2 6 7]\n"
          ]
        }
      ]
    }
  ]
}