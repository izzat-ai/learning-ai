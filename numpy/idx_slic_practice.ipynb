{
  "nbformat": 4,
  "nbformat_minor": 0,
  "metadata": {
    "colab": {
      "provenance": [],
      "authorship_tag": "ABX9TyNev1nvUpq2CrVN9oWl6Yb8",
      "include_colab_link": true
    },
    "kernelspec": {
      "name": "python3",
      "display_name": "Python 3"
    },
    "language_info": {
      "name": "python"
    }
  },
  "cells": [
    {
      "cell_type": "markdown",
      "metadata": {
        "id": "view-in-github",
        "colab_type": "text"
      },
      "source": [
        "<a href=\"https://colab.research.google.com/github/izzat-ai/learning-ai/blob/main/numpy/idx_slic_practice.ipynb\" target=\"_parent\"><img src=\"https://colab.research.google.com/assets/colab-badge.svg\" alt=\"Open In Colab\"/></a>"
      ]
    },
    {
      "cell_type": "code",
      "execution_count": 1,
      "metadata": {
        "id": "q-vQUWsIvNaA"
      },
      "outputs": [],
      "source": [
        "import numpy as np"
      ]
    },
    {
      "cell_type": "markdown",
      "source": [
        "###N1\n",
        "**What will be the output of the following code?**\n",
        "```\n",
        "arr = np.array([[10, 20, 30], [40, 50, 60], [70, 80, 90]])\n",
        "print(arr[1, :2])\n",
        "```\n",
        "A) [40, 50]\n",
        "\n",
        "B) [10, 20]\n",
        "\n",
        "C) [40, 50, 60]\n",
        "\n",
        "D) [70, 80]"
      ],
      "metadata": {
        "id": "gBbrvxNJvZfE"
      }
    },
    {
      "cell_type": "code",
      "source": [
        "# A"
      ],
      "metadata": {
        "id": "IhqTfoI8vRmK"
      },
      "execution_count": 3,
      "outputs": []
    },
    {
      "cell_type": "markdown",
      "source": [
        "###N2\n",
        "**Find the result of the following slicing operation:**\n",
        "```\n",
        "arr = np.array([5, 10, 15, 20, 25, 30])\n",
        "print(arr[1:5:2])\n",
        "```\n",
        "A) [5, 15, 25]\n",
        "\n",
        "B) [10, 20]\n",
        "\n",
        "C) [10, 15, 20]\n",
        "\n",
        "D) [15, 25]\n",
        "\n"
      ],
      "metadata": {
        "id": "rC-lUcgpvlSA"
      }
    },
    {
      "cell_type": "code",
      "source": [
        "# B"
      ],
      "metadata": {
        "id": "iGPGQEHyvqom"
      },
      "execution_count": 5,
      "outputs": []
    },
    {
      "cell_type": "markdown",
      "source": [
        "###N3\n",
        "**Which indexing method will cause an error in the following code?**\n",
        "`arr = np.array([1, 2, 3, 4, 5])`\n",
        "\n",
        "A) arr[2]\n",
        "\n",
        "B) arr[-1]\n",
        "\n",
        "C) arr[1:4]\n",
        "\n",
        "D) arr[10]\n"
      ],
      "metadata": {
        "id": "JwWN1H3YKraS"
      }
    },
    {
      "cell_type": "code",
      "source": [
        "# D"
      ],
      "metadata": {
        "id": "HxD6hwGTK0I5"
      },
      "execution_count": 7,
      "outputs": []
    },
    {
      "cell_type": "markdown",
      "source": [
        "###N4\n",
        "**How can you extract all column values of the second row from the following 2D array?**\n",
        "\n",
        "`arr = np.array([[3, 6, 9], [12, 15, 18], [21, 24, 27]])`\n",
        "\n",
        "A) arr[:, 1]\n",
        "\n",
        "B) arr[1, :]\n",
        "\n",
        "C) arr[1]\n",
        "\n",
        "D) arr[:, 2]\n"
      ],
      "metadata": {
        "id": "5_hbzT9IK1mN"
      }
    },
    {
      "cell_type": "code",
      "source": [
        "# B"
      ],
      "metadata": {
        "id": "_n8afb9aK9Z9"
      },
      "execution_count": 14,
      "outputs": []
    },
    {
      "cell_type": "markdown",
      "source": [
        "###N5\n",
        "**Find the result of the following slicing operation:**\n",
        "```\n",
        "arr = np.array([10, 20, 30, 40, 50])\n",
        "print(arr[::-2])\n",
        "```\n",
        "\n",
        "A) [50, 30, 10]\n",
        "\n",
        "B) [40, 20]\n",
        "\n",
        "C) [50, 40, 30, 20, 10]\n",
        "\n",
        "D) [10, 30, 50]\n"
      ],
      "metadata": {
        "id": "vZHc4D-aK-4Q"
      }
    },
    {
      "cell_type": "code",
      "source": [
        "# A"
      ],
      "metadata": {
        "id": "aNKYMWYXLHJm"
      },
      "execution_count": 15,
      "outputs": []
    },
    {
      "cell_type": "markdown",
      "source": [
        "###N6\n",
        "**What will be the output of the following code?**\n",
        "```\n",
        "arr = np.array([[5, 10, 15], [20, 25, 30], [35, 40, 45], [50, 55, 60]])\n",
        "print(arr[::2, 1:])\n",
        "\n",
        "```\n",
        "A) [[10, 15], [40, 45]]\n",
        "\n",
        "B) [[20, 25], [50, 55]]\n",
        "\n",
        "C) [[10, 15], [25, 30], [40, 45]]\n",
        "\n",
        "D) [[10, 15], [40, 45], [55, 60]]\n"
      ],
      "metadata": {
        "id": "CDbjD21bNyW9"
      }
    },
    {
      "cell_type": "code",
      "source": [
        "# A"
      ],
      "metadata": {
        "id": "iKeb9w8tNLV1"
      },
      "execution_count": 26,
      "outputs": []
    },
    {
      "cell_type": "markdown",
      "source": [
        "###N7\n",
        "**Which of the following slicing operations will extract only the odd-indexed rows of a 2D NumPy array?**\n",
        "```\n",
        "arr = np.array([\n",
        "    [1, 2, 3],\n",
        "    [4, 5, 6],\n",
        "    [7, 8, 9],\n",
        "    [10, 11, 12]\n",
        "])\n",
        "```\n",
        "A) arr[:, 1::2]\n",
        "\n",
        "B) arr[1::2, :]\n",
        "\n",
        "C) arr[::2, :]\n",
        "\n",
        "D) arr[1:, ::2]\n",
        "\n",
        "\n"
      ],
      "metadata": {
        "id": "u3ZEZ9wHN8iT"
      }
    },
    {
      "cell_type": "code",
      "source": [
        "# B"
      ],
      "metadata": {
        "id": "5CY5W0B5OFTx"
      },
      "execution_count": 27,
      "outputs": []
    },
    {
      "cell_type": "markdown",
      "source": [
        "###N8\n",
        "**What will be the output of the following slicing operation?**\n",
        "`arr = np.arange(27).reshape(3, 3, 3)`\n",
        "\n",
        "`print(arr[:, 1, :])`\n",
        "\n",
        "A) A 2D array with the second row of each 3x3 matrix\n",
        "\n",
        "B) A 1D array with all elements from index 1\n",
        "\n",
        "C) A 3D array where all middle layers are extracted\n",
        "\n",
        "D) A transposed version of the original array\n",
        "\n"
      ],
      "metadata": {
        "id": "OxyFzUbFOGv9"
      }
    },
    {
      "cell_type": "code",
      "source": [
        "# A"
      ],
      "metadata": {
        "id": "EAlmEJM4RK9x"
      },
      "execution_count": 21,
      "outputs": []
    },
    {
      "cell_type": "markdown",
      "source": [
        "###N9\n",
        "**Which of the following operations will correctly reverse both rows and columns of a 2D NumPy array?**\n",
        "```\n",
        "arr = np.array([\n",
        "    [1, 2, 3],\n",
        "    [4, 5, 6],\n",
        "    [7, 8, 9]\n",
        "])\n",
        "```\n",
        "A) arr[::-1, :]\n",
        "\n",
        "B) arr[:, ::-1]\n",
        "\n",
        "C) arr[::-1, ::-1]\n",
        "\n",
        "D) arr[::, ::-1]\n",
        "\n"
      ],
      "metadata": {
        "id": "yQ1-dMXuOQvV"
      }
    },
    {
      "cell_type": "code",
      "source": [
        "#B"
      ],
      "metadata": {
        "id": "MGV-coskOO37"
      },
      "execution_count": 28,
      "outputs": []
    },
    {
      "cell_type": "markdown",
      "source": [
        "###N10\n",
        "**What will be the output of the following slicing operation?**\n",
        "```\n",
        "arr = np.array([100, 200, 300, 400, 500, 600, 700])\n",
        "print(arr[-2:1:-2])\n",
        "```\n",
        "\n",
        "A) [600, 400]\n",
        "\n",
        "B) [700, 500, 300]\n",
        "\n",
        "C) [600, 400, 200]\n",
        "\n",
        "D) [500, 300]\n",
        "\n"
      ],
      "metadata": {
        "id": "9WtR_YrROtdE"
      }
    },
    {
      "cell_type": "code",
      "source": [
        "# C"
      ],
      "metadata": {
        "id": "qaCpqehUOxMf"
      },
      "execution_count": 19,
      "outputs": []
    }
  ]
}