{
  "nbformat": 4,
  "nbformat_minor": 0,
  "metadata": {
    "colab": {
      "provenance": [],
      "authorship_tag": "ABX9TyOix560k5e2e9QU8JvWlaaO",
      "include_colab_link": true
    },
    "kernelspec": {
      "name": "python3",
      "display_name": "Python 3"
    },
    "language_info": {
      "name": "python"
    }
  },
  "cells": [
    {
      "cell_type": "markdown",
      "metadata": {
        "id": "view-in-github",
        "colab_type": "text"
      },
      "source": [
        "<a href=\"https://colab.research.google.com/github/izzat-ai/learning-ai/blob/main/numpy/idx_slic_practice.ipynb\" target=\"_parent\"><img src=\"https://colab.research.google.com/assets/colab-badge.svg\" alt=\"Open In Colab\"/></a>"
      ]
    },
    {
      "cell_type": "code",
      "execution_count": 1,
      "metadata": {
        "id": "q-vQUWsIvNaA"
      },
      "outputs": [],
      "source": [
        "import numpy as np"
      ]
    },
    {
      "cell_type": "markdown",
      "source": [
        "###N1\n",
        "**What will be the output of the following code?**\n",
        "```\n",
        "arr = np.array([[10, 20, 30], [40, 50, 60], [70, 80, 90]])\n",
        "print(arr[1, :2])\n",
        "```"
      ],
      "metadata": {
        "id": "gBbrvxNJvZfE"
      }
    },
    {
      "cell_type": "code",
      "source": [],
      "metadata": {
        "id": "IhqTfoI8vRmK"
      },
      "execution_count": null,
      "outputs": []
    },
    {
      "cell_type": "markdown",
      "source": [
        "###N2\n",
        "**Find the result of the following slicing operation:**\n",
        "```\n",
        "arr = np.array([5, 10, 15, 20, 25, 30])\n",
        "print(arr[1:5:2])\n",
        "```"
      ],
      "metadata": {
        "id": "rC-lUcgpvlSA"
      }
    },
    {
      "cell_type": "code",
      "source": [],
      "metadata": {
        "id": "iGPGQEHyvqom"
      },
      "execution_count": null,
      "outputs": []
    }
  ]
}