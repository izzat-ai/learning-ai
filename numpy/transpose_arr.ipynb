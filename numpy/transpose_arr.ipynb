{
  "nbformat": 4,
  "nbformat_minor": 0,
  "metadata": {
    "colab": {
      "provenance": [],
      "authorship_tag": "ABX9TyP1zvZKAj7R2hzsVmAiIMcr",
      "include_colab_link": true
    },
    "kernelspec": {
      "name": "python3",
      "display_name": "Python 3"
    },
    "language_info": {
      "name": "python"
    }
  },
  "cells": [
    {
      "cell_type": "markdown",
      "metadata": {
        "id": "view-in-github",
        "colab_type": "text"
      },
      "source": [
        "<a href=\"https://colab.research.google.com/github/izzat-ai/learning-ai/blob/main/numpy/transpose_arr.ipynb\" target=\"_parent\"><img src=\"https://colab.research.google.com/assets/colab-badge.svg\" alt=\"Open In Colab\"/></a>"
      ]
    },
    {
      "cell_type": "code",
      "execution_count": 14,
      "metadata": {
        "id": "mIc01utg3mY4"
      },
      "outputs": [],
      "source": [
        "import numpy as np"
      ]
    },
    {
      "cell_type": "markdown",
      "source": [
        "**transpose - used to control the size of arrays**"
      ],
      "metadata": {
        "id": "U4EoUfriWS9e"
      }
    },
    {
      "cell_type": "code",
      "source": [
        "arr = np.arange(1, 13).reshape(3, 4)\n",
        "arr"
      ],
      "metadata": {
        "id": "f0uNnlzD3qZB",
        "colab": {
          "base_uri": "https://localhost:8080/"
        },
        "outputId": "45275c72-ea05-4a20-884d-1145d53e87e5"
      },
      "execution_count": 15,
      "outputs": [
        {
          "output_type": "execute_result",
          "data": {
            "text/plain": [
              "array([[ 1,  2,  3,  4],\n",
              "       [ 5,  6,  7,  8],\n",
              "       [ 9, 10, 11, 12]])"
            ]
          },
          "metadata": {},
          "execution_count": 15
        }
      ]
    },
    {
      "cell_type": "code",
      "source": [
        "# transpose an array\n",
        "arr.T"
      ],
      "metadata": {
        "colab": {
          "base_uri": "https://localhost:8080/"
        },
        "id": "Lg9jaXm5WuGM",
        "outputId": "2ef19c31-cf57-4031-ebb8-72f812c66828"
      },
      "execution_count": 16,
      "outputs": [
        {
          "output_type": "execute_result",
          "data": {
            "text/plain": [
              "array([[ 1,  5,  9],\n",
              "       [ 2,  6, 10],\n",
              "       [ 3,  7, 11],\n",
              "       [ 4,  8, 12]])"
            ]
          },
          "metadata": {},
          "execution_count": 16
        }
      ]
    },
    {
      "cell_type": "code",
      "source": [
        "arr2 = np.arange(24).reshape(3, 8)\n",
        "arr2"
      ],
      "metadata": {
        "colab": {
          "base_uri": "https://localhost:8080/"
        },
        "id": "_YlPmRmzWyBf",
        "outputId": "0618cc67-c97d-410d-ff3c-d2eac608721a"
      },
      "execution_count": 17,
      "outputs": [
        {
          "output_type": "execute_result",
          "data": {
            "text/plain": [
              "array([[ 0,  1,  2,  3,  4,  5,  6,  7],\n",
              "       [ 8,  9, 10, 11, 12, 13, 14, 15],\n",
              "       [16, 17, 18, 19, 20, 21, 22, 23]])"
            ]
          },
          "metadata": {},
          "execution_count": 17
        }
      ]
    },
    {
      "cell_type": "code",
      "source": [
        "# transpose\n",
        "arr2.T"
      ],
      "metadata": {
        "colab": {
          "base_uri": "https://localhost:8080/"
        },
        "id": "txZ0MWYWW8ig",
        "outputId": "ff01bc29-0bf4-4b71-878e-5a9c377985af"
      },
      "execution_count": 18,
      "outputs": [
        {
          "output_type": "execute_result",
          "data": {
            "text/plain": [
              "array([[ 0,  8, 16],\n",
              "       [ 1,  9, 17],\n",
              "       [ 2, 10, 18],\n",
              "       [ 3, 11, 19],\n",
              "       [ 4, 12, 20],\n",
              "       [ 5, 13, 21],\n",
              "       [ 6, 14, 22],\n",
              "       [ 7, 15, 23]])"
            ]
          },
          "metadata": {},
          "execution_count": 18
        }
      ]
    },
    {
      "cell_type": "markdown",
      "source": [
        "- **transpose - can work with 1D and 2D arrays**"
      ],
      "metadata": {
        "id": "QtdAVKh1XM_b"
      }
    },
    {
      "cell_type": "code",
      "source": [
        "arr"
      ],
      "metadata": {
        "colab": {
          "base_uri": "https://localhost:8080/"
        },
        "id": "HzG6B0zBXdCY",
        "outputId": "9cb0eed6-64b4-47c8-a8fd-2bc6523457de"
      },
      "execution_count": 19,
      "outputs": [
        {
          "output_type": "execute_result",
          "data": {
            "text/plain": [
              "array([[ 1,  2,  3,  4],\n",
              "       [ 5,  6,  7,  8],\n",
              "       [ 9, 10, 11, 12]])"
            ]
          },
          "metadata": {},
          "execution_count": 19
        }
      ]
    },
    {
      "cell_type": "code",
      "source": [
        "# swapping axes\n",
        "arr.swapaxes(1, 0)"
      ],
      "metadata": {
        "colab": {
          "base_uri": "https://localhost:8080/"
        },
        "id": "PC4WKddjW-M3",
        "outputId": "9b8a58ba-ed22-48c9-bc6c-5f1e2cecfe40"
      },
      "execution_count": 20,
      "outputs": [
        {
          "output_type": "execute_result",
          "data": {
            "text/plain": [
              "array([[ 1,  5,  9],\n",
              "       [ 2,  6, 10],\n",
              "       [ 3,  7, 11],\n",
              "       [ 4,  8, 12]])"
            ]
          },
          "metadata": {},
          "execution_count": 20
        }
      ]
    },
    {
      "cell_type": "code",
      "source": [
        "arr2"
      ],
      "metadata": {
        "colab": {
          "base_uri": "https://localhost:8080/"
        },
        "id": "A75g5XwpXYAB",
        "outputId": "2d605508-68d9-4786-b4dc-6a85f4c0bd7b"
      },
      "execution_count": 21,
      "outputs": [
        {
          "output_type": "execute_result",
          "data": {
            "text/plain": [
              "array([[ 0,  1,  2,  3,  4,  5,  6,  7],\n",
              "       [ 8,  9, 10, 11, 12, 13, 14, 15],\n",
              "       [16, 17, 18, 19, 20, 21, 22, 23]])"
            ]
          },
          "metadata": {},
          "execution_count": 21
        }
      ]
    },
    {
      "cell_type": "code",
      "source": [
        "# swapping axes\n",
        "arr2.swapaxes(1, 0)"
      ],
      "metadata": {
        "colab": {
          "base_uri": "https://localhost:8080/"
        },
        "id": "ab6j8J4hXfCu",
        "outputId": "cd5dadb5-f7ed-4911-9b79-e7829f719cfc"
      },
      "execution_count": 22,
      "outputs": [
        {
          "output_type": "execute_result",
          "data": {
            "text/plain": [
              "array([[ 0,  8, 16],\n",
              "       [ 1,  9, 17],\n",
              "       [ 2, 10, 18],\n",
              "       [ 3, 11, 19],\n",
              "       [ 4, 12, 20],\n",
              "       [ 5, 13, 21],\n",
              "       [ 6, 14, 22],\n",
              "       [ 7, 15, 23]])"
            ]
          },
          "metadata": {},
          "execution_count": 22
        }
      ]
    },
    {
      "cell_type": "markdown",
      "source": [
        "- **swapping axes - can work with 2D and higher dimensional arrays**"
      ],
      "metadata": {
        "id": "s_VSQ4ipXkXU"
      }
    },
    {
      "cell_type": "markdown",
      "source": [
        "**Transposing and swapping axes on 3D arrays**"
      ],
      "metadata": {
        "id": "k6f8yJK7DV8G"
      }
    },
    {
      "cell_type": "code",
      "source": [
        "# create a 3D array\n",
        "arr3 = np.array([\n",
        "    [[1, 2, 3], [4, 5, 6]],\n",
        "    [[7, 8, 9], [10, 11, 12]]\n",
        "])\n",
        "print(arr3)"
      ],
      "metadata": {
        "colab": {
          "base_uri": "https://localhost:8080/"
        },
        "id": "lXDN4Vf3DdMn",
        "outputId": "582bdf4f-39ab-40d3-aee8-405da5a50f0a"
      },
      "execution_count": 23,
      "outputs": [
        {
          "output_type": "stream",
          "name": "stdout",
          "text": [
            "[[[ 1  2  3]\n",
            "  [ 4  5  6]]\n",
            "\n",
            " [[ 7  8  9]\n",
            "  [10 11 12]]]\n"
          ]
        }
      ]
    },
    {
      "cell_type": "code",
      "source": [
        "# shape\n",
        "arr3.shape"
      ],
      "metadata": {
        "colab": {
          "base_uri": "https://localhost:8080/"
        },
        "id": "ynw5WSdJDpK_",
        "outputId": "eac228ee-31d7-44be-dacc-8a1333cf6bd0"
      },
      "execution_count": 24,
      "outputs": [
        {
          "output_type": "execute_result",
          "data": {
            "text/plain": [
              "(2, 2, 3)"
            ]
          },
          "metadata": {},
          "execution_count": 24
        }
      ]
    },
    {
      "cell_type": "markdown",
      "source": [
        "- `2` - depth\n",
        "- `2` - rows\n",
        "- `3` - columns"
      ],
      "metadata": {
        "id": "Bx7sOUijDvmB"
      }
    },
    {
      "cell_type": "markdown",
      "source": [
        "*when transposing -> you need to give the axes indices* - (axis0, axis1, axis2)\n",
        "\n",
        "\n",
        "the axes can be placed in any order\n",
        "\n",
        "\n",
        "- `swapaxes` - allows you to swap only two axes"
      ],
      "metadata": {
        "id": "bwO6n3lhEpYM"
      }
    },
    {
      "cell_type": "code",
      "source": [
        "# transpose\n",
        "arr3_t = arr3.transpose(1, 0, 2)\n",
        "arr3_t"
      ],
      "metadata": {
        "colab": {
          "base_uri": "https://localhost:8080/"
        },
        "id": "O8QGa8mmDsS7",
        "outputId": "cf02b474-7bd9-425b-af01-3db2ec4a6141"
      },
      "execution_count": 25,
      "outputs": [
        {
          "output_type": "execute_result",
          "data": {
            "text/plain": [
              "array([[[ 1,  2,  3],\n",
              "        [ 7,  8,  9]],\n",
              "\n",
              "       [[ 4,  5,  6],\n",
              "        [10, 11, 12]]])"
            ]
          },
          "metadata": {},
          "execution_count": 25
        }
      ]
    }
  ]
}