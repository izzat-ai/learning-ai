{
  "nbformat": 4,
  "nbformat_minor": 0,
  "metadata": {
    "colab": {
      "provenance": [],
      "authorship_tag": "ABX9TyPJoNCIRKkig3FbaDorinh0",
      "include_colab_link": true
    },
    "kernelspec": {
      "name": "python3",
      "display_name": "Python 3"
    },
    "language_info": {
      "name": "python"
    }
  },
  "cells": [
    {
      "cell_type": "markdown",
      "metadata": {
        "id": "view-in-github",
        "colab_type": "text"
      },
      "source": [
        "<a href=\"https://colab.research.google.com/github/izzat-ai/learning-ai/blob/main/numpy/dtype_practice.ipynb\" target=\"_parent\"><img src=\"https://colab.research.google.com/assets/colab-badge.svg\" alt=\"Open In Colab\"/></a>"
      ]
    },
    {
      "cell_type": "code",
      "execution_count": 1,
      "metadata": {
        "id": "oKSSYALNUn5u"
      },
      "outputs": [],
      "source": [
        "import numpy as np"
      ]
    },
    {
      "cell_type": "markdown",
      "source": [
        "###N1\n",
        "**How can you check the data type of a NumPy array? Provide an example**"
      ],
      "metadata": {
        "id": "6O0yYgfmU4ON"
      }
    },
    {
      "cell_type": "code",
      "source": [
        "arr = np.arange(1, 10, 2)\n",
        "arr.dtype"
      ],
      "metadata": {
        "colab": {
          "base_uri": "https://localhost:8080/"
        },
        "id": "9_BRVG7mUsGd",
        "outputId": "32178507-385b-40b7-910a-3c24738050da"
      },
      "execution_count": 2,
      "outputs": [
        {
          "output_type": "execute_result",
          "data": {
            "text/plain": [
              "dtype('int64')"
            ]
          },
          "metadata": {},
          "execution_count": 2
        }
      ]
    },
    {
      "cell_type": "markdown",
      "source": [
        "###N2\n",
        "**What will be the output of the following code?**\n",
        "```\n",
        "arr = np.array([1, 2, 3, 4.5])\n",
        "print(arr.dtype)\n",
        "```"
      ],
      "metadata": {
        "id": "cTzqfpl1VCVZ"
      }
    },
    {
      "cell_type": "code",
      "source": [
        "# dtype('int64')"
      ],
      "metadata": {
        "id": "zfAph7wKVFop"
      },
      "execution_count": 3,
      "outputs": []
    },
    {
      "cell_type": "markdown",
      "source": [
        "###N3\n",
        "**How can you create a NumPy array with a specific data type? (e.g., int32, float64)?**"
      ],
      "metadata": {
        "id": "kg8P5SvOVGWS"
      }
    },
    {
      "cell_type": "code",
      "source": [
        "arr2 = np.array([1.1, 2.2, -3.3, 4.4], dtype=np.float16)\n",
        "arr2.dtype"
      ],
      "metadata": {
        "colab": {
          "base_uri": "https://localhost:8080/"
        },
        "id": "HbYtNGJEVKCE",
        "outputId": "665d334e-1f12-4935-990b-38d6b91d278d"
      },
      "execution_count": 4,
      "outputs": [
        {
          "output_type": "execute_result",
          "data": {
            "text/plain": [
              "dtype('float16')"
            ]
          },
          "metadata": {},
          "execution_count": 4
        }
      ]
    },
    {
      "cell_type": "markdown",
      "source": [
        "###N4\n",
        "**What is the purpose of the astype() method? Explain with an example**"
      ],
      "metadata": {
        "id": "4qDAVTT7VKfe"
      }
    },
    {
      "cell_type": "code",
      "source": [
        "arr2_int = arr2.astype(np.int8)\n",
        "print(arr2.dtype)\n",
        "print(arr2_int.dtype)"
      ],
      "metadata": {
        "colab": {
          "base_uri": "https://localhost:8080/"
        },
        "id": "SmlsKUhFVNeQ",
        "outputId": "925c4386-6fa8-48c9-d368-dc15f082b8f3"
      },
      "execution_count": 6,
      "outputs": [
        {
          "output_type": "stream",
          "name": "stdout",
          "text": [
            "float16\n",
            "int8\n"
          ]
        }
      ]
    },
    {
      "cell_type": "markdown",
      "source": [
        "###N5\n",
        "**How can you convert a NumPy array np.array([True, False, True]) into an integer array containing 1s and 0s?**"
      ],
      "metadata": {
        "id": "LLeb1mWQVOIW"
      }
    },
    {
      "cell_type": "code",
      "source": [
        "arr3 = np.array([True, False, True])\n",
        "arr3_int = arr3.astype(np.int8)\n",
        "print(arr3.dtype)\n",
        "print(arr3_int.dtype)"
      ],
      "metadata": {
        "colab": {
          "base_uri": "https://localhost:8080/"
        },
        "id": "BI5pZsg-VRnj",
        "outputId": "50abc8e4-5f13-421f-e77a-0b00afba6fbc"
      },
      "execution_count": 10,
      "outputs": [
        {
          "output_type": "stream",
          "name": "stdout",
          "text": [
            "bool\n",
            "int8\n"
          ]
        }
      ]
    },
    {
      "cell_type": "markdown",
      "source": [
        "###N6\n",
        "**What will be the output of the following code and why?**\n",
        "```\n",
        "arr = np.array([1000, 2000, 3000], dtype=np.int8)\n",
        "print(arr)\n",
        "```"
      ],
      "metadata": {
        "id": "7kffzwPwVZM3"
      }
    },
    {
      "cell_type": "code",
      "source": [
        "\"\"\"\n",
        "np.int8 only stores numbers from -128 to 127, so numbers like 1000, 2000, 3000\n",
        "will give incorrect results.\n",
        "\"\"\""
      ],
      "metadata": {
        "colab": {
          "base_uri": "https://localhost:8080/",
          "height": 53
        },
        "id": "k3Lr3tB0Veht",
        "outputId": "1035784b-c9a8-4e95-c89c-7a394fb1b66b"
      },
      "execution_count": 16,
      "outputs": [
        {
          "output_type": "execute_result",
          "data": {
            "text/plain": [
              "'\\nnp.int8 only stores numbers from -128 to 127, so numbers like 1000, 2000, 3000 \\nwill give incorrect results.\\n'"
            ],
            "application/vnd.google.colaboratory.intrinsic+json": {
              "type": "string"
            }
          },
          "metadata": {},
          "execution_count": 16
        }
      ]
    },
    {
      "cell_type": "markdown",
      "source": [
        "###N7\n",
        "**What happens when you combine different data types (int, float, string) in a NumPy array? Explain with an example**"
      ],
      "metadata": {
        "id": "SD4BrhfRVgqL"
      }
    },
    {
      "cell_type": "code",
      "source": [
        "\"\"\"\n",
        "If int, float, and string types are in the same array, all elements are automatically\n",
        "converted to string (<U) type\n",
        "\"\"\"\n",
        "\n",
        "arr4 = np.array([1, -2.2, 'hello'])\n",
        "arr4.dtype"
      ],
      "metadata": {
        "colab": {
          "base_uri": "https://localhost:8080/"
        },
        "id": "BNxK8pWzVjZc",
        "outputId": "ccaf80d2-a518-4766-d865-dbbad66bc0c7"
      },
      "execution_count": 17,
      "outputs": [
        {
          "output_type": "execute_result",
          "data": {
            "text/plain": [
              "dtype('<U32')"
            ]
          },
          "metadata": {},
          "execution_count": 17
        }
      ]
    },
    {
      "cell_type": "markdown",
      "source": [
        "###N8\n",
        "**What is the difference between np.float32 and np.float64? When is it recommended to use float32?**"
      ],
      "metadata": {
        "id": "DfQ0RZIFVj31"
      }
    },
    {
      "cell_type": "code",
      "source": [
        "\"\"\"\n",
        "float32 requires less memory, while float64 is used for more accurate results\n",
        "\"\"\""
      ],
      "metadata": {
        "colab": {
          "base_uri": "https://localhost:8080/",
          "height": 35
        },
        "id": "1TFr0230Vmj9",
        "outputId": "9847806c-ea3d-42d9-c8e7-6e050f95d135"
      },
      "execution_count": 19,
      "outputs": [
        {
          "output_type": "execute_result",
          "data": {
            "text/plain": [
              "'\\nfloat32 requires less memory, while float64 is used for more accurate results\\n'"
            ],
            "application/vnd.google.colaboratory.intrinsic+json": {
              "type": "string"
            }
          },
          "metadata": {},
          "execution_count": 19
        }
      ]
    },
    {
      "cell_type": "markdown",
      "source": [
        "###N9\n",
        "**What will be the output of the following code and why?**\n",
        "```\n",
        "arr = np.array([0.1, 0.2, 0.3])\n",
        "print(arr.sum() == 0.6)\n",
        "```"
      ],
      "metadata": {
        "id": "Z9melH7EVoLj"
      }
    },
    {
      "cell_type": "code",
      "source": [
        "\"\"\"\n",
        "Returns False! Because floating-point calculation precision is problematic.\n",
        "\"\"\""
      ],
      "metadata": {
        "colab": {
          "base_uri": "https://localhost:8080/",
          "height": 35
        },
        "id": "aIP5CzlhZicd",
        "outputId": "4c5eb670-fbc7-4dec-a2a2-d23f754edf19"
      },
      "execution_count": 18,
      "outputs": [
        {
          "output_type": "execute_result",
          "data": {
            "text/plain": [
              "'\\nReturns False! Because floating-point calculation precision is problematic.\\n'"
            ],
            "application/vnd.google.colaboratory.intrinsic+json": {
              "type": "string"
            }
          },
          "metadata": {},
          "execution_count": 18
        }
      ]
    },
    {
      "cell_type": "markdown",
      "source": [
        "###N10\n",
        "**What will the following code output? Explain the result**\n",
        "```\n",
        "arr = np.array([3.7, 2.2, -1.9, 0.0, 5.5])\n",
        "arr_int = arr.astype(np.int8)\n",
        "print(arr_int)\n",
        "```"
      ],
      "metadata": {
        "id": "SrMH8TFJbFfx"
      }
    },
    {
      "cell_type": "code",
      "source": [
        "\"\"\"The answers of this code are: 3, 2, -1, 0 and 5. Because we have converted the array of\n",
        "float data type to int data type using astype. Int data type takes only the integer part of the numbers\n",
        "\"\"\""
      ],
      "metadata": {
        "colab": {
          "base_uri": "https://localhost:8080/",
          "height": 53
        },
        "id": "oRlZ38vebO1G",
        "outputId": "c4c03135-d5a7-4f89-e72c-f472709427b6"
      },
      "execution_count": 21,
      "outputs": [
        {
          "output_type": "execute_result",
          "data": {
            "text/plain": [
              "'The answers of this code are: 3, 2, -1, 0 and 5. Because we have converted the array of \\nfloat data type to int data type using astype. Int data type takes only the integer part of the numbers\\n'"
            ],
            "application/vnd.google.colaboratory.intrinsic+json": {
              "type": "string"
            }
          },
          "metadata": {},
          "execution_count": 21
        }
      ]
    },
    {
      "cell_type": "markdown",
      "source": [
        "###N11\n",
        "**Run the code and explain the result**\n",
        "```\n",
        "arr = np.array([127, 128, 255, -128, -129], dtype=np.int8)\n",
        "print(arr)\n",
        "```"
      ],
      "metadata": {
        "id": "vnFn4e3rbPVn"
      }
    },
    {
      "cell_type": "code",
      "source": [
        "# 128, 255, -129 larni omiydi chunki int8 : -128 -> 127 gacha\n"
      ],
      "metadata": {
        "id": "4OlLF4xZbUng"
      },
      "execution_count": 23,
      "outputs": []
    },
    {
      "cell_type": "markdown",
      "source": [
        "###N12\n",
        "**Convert the given array from int32 to float64 and analyze the result**\n",
        "```\n",
        "arr = np.array([10, 20, 30, 40], dtype=np.int32)\n",
        "# Convert data type to float64\n",
        "```"
      ],
      "metadata": {
        "id": "q6ikz9F5bVZe"
      }
    },
    {
      "cell_type": "code",
      "source": [
        "arr5 = np.array([10, 20, 30, 40], dtype=np.int32)\n",
        "arr5_float = arr5.astype(np.float64)\n",
        "print(arr5.dtype)\n",
        "print(arr5_float.dtype)"
      ],
      "metadata": {
        "colab": {
          "base_uri": "https://localhost:8080/"
        },
        "id": "pDxCkiWHbb1X",
        "outputId": "d75d2b28-e2d4-4d85-c621-e78e22dfd5c8"
      },
      "execution_count": 24,
      "outputs": [
        {
          "output_type": "stream",
          "name": "stdout",
          "text": [
            "int32\n",
            "float64\n"
          ]
        }
      ]
    },
    {
      "cell_type": "markdown",
      "source": [
        "###N13\n",
        "**Run the following code and explain the output**\n",
        "```\n",
        "arr = np.array([10, 20.5, '30'])\n",
        "print(arr.dtype)\n",
        "```"
      ],
      "metadata": {
        "id": "KJenxt-Nbc_D"
      }
    },
    {
      "cell_type": "code",
      "source": [
        "arr6 = np.array([10, 20.5, '30'])\n",
        "print(arr6.dtype)\n",
        "\n",
        "\"\"\"\n",
        "because when creating an array, we specified that the 30 element is of string data type by\n",
        "enclosing it in single quotes. Once an element of the array is a string, its data type automatically\n",
        "becomes string, that is, U\n",
        "\"\"\""
      ],
      "metadata": {
        "colab": {
          "base_uri": "https://localhost:8080/",
          "height": 87
        },
        "id": "U0cn_gbLbiKX",
        "outputId": "275ec1bf-8484-466f-c526-38d3b615b732"
      },
      "execution_count": 26,
      "outputs": [
        {
          "output_type": "stream",
          "name": "stdout",
          "text": [
            "<U32\n"
          ]
        },
        {
          "output_type": "execute_result",
          "data": {
            "text/plain": [
              "'\\nbecause when creating an array, we specified that the 30 element is of string data type by \\nenclosing it in single quotes. Once an element of the array is a string, its data type automatically \\nbecomes string, that is, U\\n'"
            ],
            "application/vnd.google.colaboratory.intrinsic+json": {
              "type": "string"
            }
          },
          "metadata": {},
          "execution_count": 26
        }
      ]
    },
    {
      "cell_type": "markdown",
      "source": [
        "###N14\n",
        "**What will this code output? Why?**\n",
        "```\n",
        "arr = np.array([0.1, 0.2, 0.3])\n",
        "print(arr.sum() == 0.6)\n",
        "```"
      ],
      "metadata": {
        "id": "g36IFM-2bi78"
      }
    },
    {
      "cell_type": "code",
      "source": [
        "arr7 = np.array([0.1, 0.2, 0.3])\n",
        "print(arr7.sum() == 0.6)\n",
        "\n",
        "\"\"\"\n",
        "The answer will be False. Because the answer of the sum of the float numbers in the\n",
        "array will be long, and I think it is not equal to 0.6\n",
        "\"\"\""
      ],
      "metadata": {
        "colab": {
          "base_uri": "https://localhost:8080/",
          "height": 70
        },
        "id": "M1QVhxX2bosM",
        "outputId": "0071701c-de05-417e-d1ee-bf64ab66971c"
      },
      "execution_count": 32,
      "outputs": [
        {
          "output_type": "stream",
          "name": "stdout",
          "text": [
            "False\n"
          ]
        },
        {
          "output_type": "execute_result",
          "data": {
            "text/plain": [
              "'\\nThe answer will be False. Because the answer of the sum of the float numbers in the \\narray will be long, and I think it is not equal to 0.6\\n'"
            ],
            "application/vnd.google.colaboratory.intrinsic+json": {
              "type": "string"
            }
          },
          "metadata": {},
          "execution_count": 32
        }
      ]
    }
  ]
}