{
  "nbformat": 4,
  "nbformat_minor": 0,
  "metadata": {
    "colab": {
      "provenance": [],
      "authorship_tag": "ABX9TyNOClmYn4cDpSeyV3Koi5V/",
      "include_colab_link": true
    },
    "kernelspec": {
      "name": "python3",
      "display_name": "Python 3"
    },
    "language_info": {
      "name": "python"
    }
  },
  "cells": [
    {
      "cell_type": "markdown",
      "metadata": {
        "id": "view-in-github",
        "colab_type": "text"
      },
      "source": [
        "<a href=\"https://colab.research.google.com/github/izzat-ai/learning-ai/blob/main/numpy/dtype.ipynb\" target=\"_parent\"><img src=\"https://colab.research.google.com/assets/colab-badge.svg\" alt=\"Open In Colab\"/></a>"
      ]
    },
    {
      "cell_type": "code",
      "source": [
        "import numpy as np"
      ],
      "metadata": {
        "id": "2t4EwM_vlDqA"
      },
      "execution_count": 2,
      "outputs": []
    },
    {
      "cell_type": "code",
      "execution_count": 3,
      "metadata": {
        "colab": {
          "base_uri": "https://localhost:8080/"
        },
        "id": "YxIj1TSHkUKD",
        "outputId": "978a1c80-2add-429c-d222-1ce112a8b413"
      },
      "outputs": [
        {
          "output_type": "execute_result",
          "data": {
            "text/plain": [
              "array([1, 2, 3, 4], dtype=int8)"
            ]
          },
          "metadata": {},
          "execution_count": 3
        }
      ],
      "source": [
        "# create array with data type\n",
        "arr = np.array([1, 2, 3, 4], dtype=np.int8)\n",
        "arr"
      ]
    },
    {
      "cell_type": "code",
      "source": [
        "arr2 = np.array([1.1, -2.2, 3.3, -4.4], dtype=np.float16)\n",
        "arr2"
      ],
      "metadata": {
        "colab": {
          "base_uri": "https://localhost:8080/"
        },
        "id": "foNsftp7k-yV",
        "outputId": "06c99ed0-c3c3-4058-dc52-ef59cd425584"
      },
      "execution_count": 4,
      "outputs": [
        {
          "output_type": "execute_result",
          "data": {
            "text/plain": [
              "array([ 1.1, -2.2,  3.3, -4.4], dtype=float16)"
            ]
          },
          "metadata": {},
          "execution_count": 4
        }
      ]
    },
    {
      "cell_type": "code",
      "source": [
        "# determining the data type of an array\n",
        "arr.dtype"
      ],
      "metadata": {
        "colab": {
          "base_uri": "https://localhost:8080/"
        },
        "id": "eGyV6V7Kls0-",
        "outputId": "23ce23bd-3fc5-466d-eced-7d3bce30a0db"
      },
      "execution_count": 6,
      "outputs": [
        {
          "output_type": "execute_result",
          "data": {
            "text/plain": [
              "dtype('int8')"
            ]
          },
          "metadata": {},
          "execution_count": 6
        }
      ]
    },
    {
      "cell_type": "code",
      "source": [
        "arr2.dtype"
      ],
      "metadata": {
        "colab": {
          "base_uri": "https://localhost:8080/"
        },
        "id": "oRKly5Tvlzz1",
        "outputId": "278527a0-dd1c-45b2-8d46-98b8a81ad804"
      },
      "execution_count": 7,
      "outputs": [
        {
          "output_type": "execute_result",
          "data": {
            "text/plain": [
              "dtype('float16')"
            ]
          },
          "metadata": {},
          "execution_count": 7
        }
      ]
    },
    {
      "cell_type": "markdown",
      "source": [
        "**change one data type to another data type**"
      ],
      "metadata": {
        "id": "SA-JWH5_mB7Q"
      }
    },
    {
      "cell_type": "code",
      "source": [
        "# change the data type of arr to float\n",
        "arr_float = arr.astype(np.float16)\n",
        "arr_float"
      ],
      "metadata": {
        "colab": {
          "base_uri": "https://localhost:8080/"
        },
        "id": "PbqLJOucl2Z9",
        "outputId": "0a182738-1cba-4aa0-bd69-d01b9fcd9bb6"
      },
      "execution_count": 9,
      "outputs": [
        {
          "output_type": "execute_result",
          "data": {
            "text/plain": [
              "array([1., 2., 3., 4.], dtype=float16)"
            ]
          },
          "metadata": {},
          "execution_count": 9
        }
      ]
    },
    {
      "cell_type": "code",
      "source": [
        "# default\n",
        "arr"
      ],
      "metadata": {
        "colab": {
          "base_uri": "https://localhost:8080/"
        },
        "id": "0GPrd3bpmPCw",
        "outputId": "cf432d64-01ad-4365-b982-abe2d79c7192"
      },
      "execution_count": 11,
      "outputs": [
        {
          "output_type": "execute_result",
          "data": {
            "text/plain": [
              "array([1, 2, 3, 4], dtype=int8)"
            ]
          },
          "metadata": {},
          "execution_count": 11
        }
      ]
    },
    {
      "cell_type": "markdown",
      "source": [
        "- If we change the float data type to the int data type, it will only take the integer part of the int number"
      ],
      "metadata": {
        "id": "Q9LgIJHJmjqh"
      }
    },
    {
      "cell_type": "code",
      "source": [
        "# change the data type of arr2 to int\n",
        "arr2_int = arr2.astype(np.int8)\n",
        "arr2_int"
      ],
      "metadata": {
        "colab": {
          "base_uri": "https://localhost:8080/"
        },
        "id": "tklhLngsmPg0",
        "outputId": "a6071a1b-041b-48af-8021-661f8037f4cc"
      },
      "execution_count": 12,
      "outputs": [
        {
          "output_type": "execute_result",
          "data": {
            "text/plain": [
              "array([ 1, -2,  3, -4], dtype=int8)"
            ]
          },
          "metadata": {},
          "execution_count": 12
        }
      ]
    },
    {
      "cell_type": "code",
      "source": [
        "# default\n",
        "arr2"
      ],
      "metadata": {
        "colab": {
          "base_uri": "https://localhost:8080/"
        },
        "id": "vJRSibOtmxfQ",
        "outputId": "497a7572-e994-4d37-afd2-5958897b8be8"
      },
      "execution_count": 13,
      "outputs": [
        {
          "output_type": "execute_result",
          "data": {
            "text/plain": [
              "array([ 1.1, -2.2,  3.3, -4.4], dtype=float16)"
            ]
          },
          "metadata": {},
          "execution_count": 13
        }
      ]
    }
  ]
}