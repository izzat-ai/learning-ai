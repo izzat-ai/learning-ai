{
  "nbformat": 4,
  "nbformat_minor": 0,
  "metadata": {
    "colab": {
      "provenance": [],
      "authorship_tag": "ABX9TyNC8dmO89Oem+ivVb6Ax2yc",
      "include_colab_link": true
    },
    "kernelspec": {
      "name": "python3",
      "display_name": "Python 3"
    },
    "language_info": {
      "name": "python"
    }
  },
  "cells": [
    {
      "cell_type": "markdown",
      "metadata": {
        "id": "view-in-github",
        "colab_type": "text"
      },
      "source": [
        "<a href=\"https://colab.research.google.com/github/izzat-ai/learning-ai/blob/main/numpy/transpose_practice.ipynb\" target=\"_parent\"><img src=\"https://colab.research.google.com/assets/colab-badge.svg\" alt=\"Open In Colab\"/></a>"
      ]
    },
    {
      "cell_type": "code",
      "execution_count": 26,
      "metadata": {
        "id": "D73e6yn_Z89S"
      },
      "outputs": [],
      "source": [
        "import numpy as np"
      ]
    },
    {
      "cell_type": "markdown",
      "source": [
        "###N1\n",
        "**Given a 2D NumPy array arr of shape (4, 3), what will be the shape of arr.T after applying the .T attribute ?**"
      ],
      "metadata": {
        "id": "NV-rkoMraMYg"
      }
    },
    {
      "cell_type": "code",
      "source": [
        "# create a 2D array of shape (4, 3)\n",
        "arr = np.arange(1, 13).reshape(4, 3)\n",
        "arr"
      ],
      "metadata": {
        "colab": {
          "base_uri": "https://localhost:8080/"
        },
        "id": "Gyqu5DjcaLu6",
        "outputId": "ea62f9bc-f4ed-474b-a3de-2beedf09051e"
      },
      "execution_count": 27,
      "outputs": [
        {
          "output_type": "execute_result",
          "data": {
            "text/plain": [
              "array([[ 1,  2,  3],\n",
              "       [ 4,  5,  6],\n",
              "       [ 7,  8,  9],\n",
              "       [10, 11, 12]])"
            ]
          },
          "metadata": {},
          "execution_count": 27
        }
      ]
    },
    {
      "cell_type": "code",
      "source": [
        "# (3, 4)"
      ],
      "metadata": {
        "id": "ueJ6FoSia6nG"
      },
      "execution_count": 28,
      "outputs": []
    },
    {
      "cell_type": "markdown",
      "source": [
        "###N2\n",
        "**How do you transpose a 3D NumPy array of shape (2, 3, 4) so that the second and third axes are swapped, but the first axis remains unchanged ?**"
      ],
      "metadata": {
        "id": "10LmIeraaWku"
      }
    },
    {
      "cell_type": "code",
      "source": [
        "# Create a 3D array\n",
        "arr3d = np.random.randint(1, 10, (2, 3, 4))\n",
        "arr3d"
      ],
      "metadata": {
        "colab": {
          "base_uri": "https://localhost:8080/"
        },
        "id": "YZANo4wAaaC7",
        "outputId": "52e8c7b2-075e-47a4-905e-50b2695db13e"
      },
      "execution_count": 29,
      "outputs": [
        {
          "output_type": "execute_result",
          "data": {
            "text/plain": [
              "array([[[4, 3, 6, 9],\n",
              "        [2, 8, 6, 8],\n",
              "        [7, 1, 7, 1]],\n",
              "\n",
              "       [[4, 8, 7, 8],\n",
              "        [8, 5, 8, 5],\n",
              "        [1, 7, 6, 5]]])"
            ]
          },
          "metadata": {},
          "execution_count": 29
        }
      ]
    },
    {
      "cell_type": "code",
      "source": [
        "arr3d.swapaxes(1, 2)"
      ],
      "metadata": {
        "colab": {
          "base_uri": "https://localhost:8080/"
        },
        "id": "5ArqVAqDbnjt",
        "outputId": "d85e12b2-c0a4-432e-ea5f-b746148bd238"
      },
      "execution_count": 30,
      "outputs": [
        {
          "output_type": "execute_result",
          "data": {
            "text/plain": [
              "array([[[4, 2, 7],\n",
              "        [3, 8, 1],\n",
              "        [6, 6, 7],\n",
              "        [9, 8, 1]],\n",
              "\n",
              "       [[4, 8, 1],\n",
              "        [8, 5, 7],\n",
              "        [7, 8, 6],\n",
              "        [8, 5, 5]]])"
            ]
          },
          "metadata": {},
          "execution_count": 30
        }
      ]
    },
    {
      "cell_type": "markdown",
      "source": [
        "###N3\n",
        "**What is the difference between using .T and np.transpose(arr, axes=(1, 0)) for a 2D array ?**"
      ],
      "metadata": {
        "id": "1C_tJGkAadtp"
      }
    },
    {
      "cell_type": "code",
      "source": [
        "arr2 = np.arange(12).reshape(4, 3)\n",
        "arr2"
      ],
      "metadata": {
        "colab": {
          "base_uri": "https://localhost:8080/"
        },
        "id": "wM1SuBnsafqG",
        "outputId": "05ffcfbf-a153-490c-d62b-90d07d0847b3"
      },
      "execution_count": 31,
      "outputs": [
        {
          "output_type": "execute_result",
          "data": {
            "text/plain": [
              "array([[ 0,  1,  2],\n",
              "       [ 3,  4,  5],\n",
              "       [ 6,  7,  8],\n",
              "       [ 9, 10, 11]])"
            ]
          },
          "metadata": {},
          "execution_count": 31
        }
      ]
    },
    {
      "cell_type": "code",
      "source": [
        "arr2.T"
      ],
      "metadata": {
        "colab": {
          "base_uri": "https://localhost:8080/"
        },
        "id": "3sQzpjCscD0p",
        "outputId": "102e7730-1fa8-407d-83a4-04cefbaf76b9"
      },
      "execution_count": 32,
      "outputs": [
        {
          "output_type": "execute_result",
          "data": {
            "text/plain": [
              "array([[ 0,  3,  6,  9],\n",
              "       [ 1,  4,  7, 10],\n",
              "       [ 2,  5,  8, 11]])"
            ]
          },
          "metadata": {},
          "execution_count": 32
        }
      ]
    },
    {
      "cell_type": "code",
      "source": [
        "arr2_t = np.transpose(arr2, axes=(1, 0))\n",
        "arr2_t"
      ],
      "metadata": {
        "colab": {
          "base_uri": "https://localhost:8080/"
        },
        "id": "HUsPPjwscGIq",
        "outputId": "9a475a5a-70a4-46f6-e8a8-8e29613c2fa9"
      },
      "execution_count": 33,
      "outputs": [
        {
          "output_type": "execute_result",
          "data": {
            "text/plain": [
              "array([[ 0,  3,  6,  9],\n",
              "       [ 1,  4,  7, 10],\n",
              "       [ 2,  5,  8, 11]])"
            ]
          },
          "metadata": {},
          "execution_count": 33
        }
      ]
    },
    {
      "cell_type": "markdown",
      "source": [
        "###N4\n",
        "**Consider the following NumPy array:**\n",
        "\n",
        "`arr = np.array([[1, 2, 3], [4, 5, 6]])`\n",
        "\n",
        "What will be the result of arr.T?"
      ],
      "metadata": {
        "id": "Ny0ha0auajDY"
      }
    },
    {
      "cell_type": "code",
      "source": [
        "arr3 = np.array([[1, 2, 3], [4, 5, 6]])\n",
        "arr3"
      ],
      "metadata": {
        "colab": {
          "base_uri": "https://localhost:8080/"
        },
        "id": "7Ms2MjjAapkX",
        "outputId": "9ef23f4b-9294-4407-dabf-a040155cc5b9"
      },
      "execution_count": 34,
      "outputs": [
        {
          "output_type": "execute_result",
          "data": {
            "text/plain": [
              "array([[1, 2, 3],\n",
              "       [4, 5, 6]])"
            ]
          },
          "metadata": {},
          "execution_count": 34
        }
      ]
    },
    {
      "cell_type": "code",
      "source": [
        "arr3.T"
      ],
      "metadata": {
        "colab": {
          "base_uri": "https://localhost:8080/"
        },
        "id": "_Fgo3r_kcoco",
        "outputId": "bd5b6aad-e359-4478-8e6d-2e8806c1caea"
      },
      "execution_count": 35,
      "outputs": [
        {
          "output_type": "execute_result",
          "data": {
            "text/plain": [
              "array([[1, 4],\n",
              "       [2, 5],\n",
              "       [3, 6]])"
            ]
          },
          "metadata": {},
          "execution_count": 35
        }
      ]
    },
    {
      "cell_type": "markdown",
      "source": [
        "###N5\n",
        "**How can you use np.transpose() to swap the first and third axes of a 3D array with shape (2, 3, 4) ?**"
      ],
      "metadata": {
        "id": "HE96uOqlasWV"
      }
    },
    {
      "cell_type": "code",
      "source": [
        "# To swap the first and third axes of a 3D array, we need to give the axes a new order."
      ],
      "metadata": {
        "id": "fwttwzqkc40j"
      },
      "execution_count": 36,
      "outputs": []
    },
    {
      "cell_type": "markdown",
      "source": [
        "###N6\n",
        "`arr = np.random.randint(1, 10, (3, 2, 4))`\n",
        "\n",
        "**If we use arr.transpose(1, 0, 2), what will be the shape (dimensions) of the new array?**"
      ],
      "metadata": {
        "id": "1x0PLYxiLCEC"
      }
    },
    {
      "cell_type": "code",
      "source": [
        "# (2, 3, 4)"
      ],
      "metadata": {
        "id": "ICLe7_dsL9Ph"
      },
      "execution_count": 38,
      "outputs": []
    },
    {
      "cell_type": "markdown",
      "source": [
        "###N7\n",
        "**When we execute the following code, in what order does the array change?**\n",
        "\n",
        "`arr_T = arr.transpose(2, 1, 0)`"
      ],
      "metadata": {
        "id": "WSbfPZ6mLOJt"
      }
    },
    {
      "cell_type": "code",
      "source": [
        "# Columns (axis=2) go to layers (axis=0), and layers go to columns"
      ],
      "metadata": {
        "id": "3q9Z1IrqLXNH"
      },
      "execution_count": 39,
      "outputs": []
    },
    {
      "cell_type": "markdown",
      "source": [
        "###N8\n",
        "**If we transpose the above array as arr.transpose(2, 0, 1), what will be the shape of the new array?**"
      ],
      "metadata": {
        "id": "mqVOoJMeLYGL"
      }
    },
    {
      "cell_type": "code",
      "source": [
        "# (2, 5, 3)"
      ],
      "metadata": {
        "id": "feAJp3UMLpUK"
      },
      "execution_count": 40,
      "outputs": []
    }
  ]
}