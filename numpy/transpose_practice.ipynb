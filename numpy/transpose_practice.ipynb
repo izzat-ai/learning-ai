{
  "nbformat": 4,
  "nbformat_minor": 0,
  "metadata": {
    "colab": {
      "provenance": [],
      "authorship_tag": "ABX9TyP3RDsg+/eGDPXDrUcH6g2t",
      "include_colab_link": true
    },
    "kernelspec": {
      "name": "python3",
      "display_name": "Python 3"
    },
    "language_info": {
      "name": "python"
    }
  },
  "cells": [
    {
      "cell_type": "markdown",
      "metadata": {
        "id": "view-in-github",
        "colab_type": "text"
      },
      "source": [
        "<a href=\"https://colab.research.google.com/github/izzat-ai/learning-ai/blob/main/numpy/transpose_practice.ipynb\" target=\"_parent\"><img src=\"https://colab.research.google.com/assets/colab-badge.svg\" alt=\"Open In Colab\"/></a>"
      ]
    },
    {
      "cell_type": "code",
      "execution_count": 1,
      "metadata": {
        "id": "D73e6yn_Z89S"
      },
      "outputs": [],
      "source": [
        "import numpy as np"
      ]
    },
    {
      "cell_type": "markdown",
      "source": [
        "###N1\n",
        "**Given a 2D NumPy array arr of shape (4, 3), what will be the shape of arr.T after applying the .T attribute ?**"
      ],
      "metadata": {
        "id": "NV-rkoMraMYg"
      }
    },
    {
      "cell_type": "code",
      "source": [
        "# create a 2D array of shape (4, 3)\n",
        "arr = np.arange(1, 13).reshape(4, 3)\n",
        "arr"
      ],
      "metadata": {
        "colab": {
          "base_uri": "https://localhost:8080/"
        },
        "id": "Gyqu5DjcaLu6",
        "outputId": "a810296f-e23d-4828-ec6a-452e93ce66fc"
      },
      "execution_count": 2,
      "outputs": [
        {
          "output_type": "execute_result",
          "data": {
            "text/plain": [
              "array([[ 1,  2,  3],\n",
              "       [ 4,  5,  6],\n",
              "       [ 7,  8,  9],\n",
              "       [10, 11, 12]])"
            ]
          },
          "metadata": {},
          "execution_count": 2
        }
      ]
    },
    {
      "cell_type": "code",
      "source": [
        "# (3, 4)"
      ],
      "metadata": {
        "id": "ueJ6FoSia6nG"
      },
      "execution_count": 3,
      "outputs": []
    },
    {
      "cell_type": "markdown",
      "source": [
        "###N2\n",
        "**How do you transpose a 3D NumPy array of shape (2, 3, 4) so that the second and third axes are swapped, but the first axis remains unchanged ?**"
      ],
      "metadata": {
        "id": "10LmIeraaWku"
      }
    },
    {
      "cell_type": "code",
      "source": [
        "# Create a 3D array\n",
        "arr3d = np.random.randint(1, 10, (2, 3, 4))\n",
        "arr3d"
      ],
      "metadata": {
        "colab": {
          "base_uri": "https://localhost:8080/"
        },
        "id": "YZANo4wAaaC7",
        "outputId": "915f5571-e0d0-4e36-ddc7-3e203b987dc2"
      },
      "execution_count": 5,
      "outputs": [
        {
          "output_type": "execute_result",
          "data": {
            "text/plain": [
              "array([[[2, 1, 2, 6],\n",
              "        [8, 6, 9, 2],\n",
              "        [3, 6, 5, 6]],\n",
              "\n",
              "       [[6, 1, 2, 8],\n",
              "        [6, 1, 6, 5],\n",
              "        [1, 6, 7, 1]]])"
            ]
          },
          "metadata": {},
          "execution_count": 5
        }
      ]
    },
    {
      "cell_type": "code",
      "source": [
        "arr3d.swapaxes(1, 2)"
      ],
      "metadata": {
        "colab": {
          "base_uri": "https://localhost:8080/"
        },
        "id": "5ArqVAqDbnjt",
        "outputId": "50a8044e-91be-425f-ec12-5d693324d46b"
      },
      "execution_count": 6,
      "outputs": [
        {
          "output_type": "execute_result",
          "data": {
            "text/plain": [
              "array([[[2, 8, 3],\n",
              "        [1, 6, 6],\n",
              "        [2, 9, 5],\n",
              "        [6, 2, 6]],\n",
              "\n",
              "       [[6, 6, 1],\n",
              "        [1, 1, 6],\n",
              "        [2, 6, 7],\n",
              "        [8, 5, 1]]])"
            ]
          },
          "metadata": {},
          "execution_count": 6
        }
      ]
    },
    {
      "cell_type": "markdown",
      "source": [
        "###N3\n",
        "**What is the difference between using .T and np.transpose(arr, axes=(1, 0)) for a 2D array ?**"
      ],
      "metadata": {
        "id": "1C_tJGkAadtp"
      }
    },
    {
      "cell_type": "code",
      "source": [
        "arr2 = np.arange(12).reshape(4, 3)\n",
        "arr2"
      ],
      "metadata": {
        "colab": {
          "base_uri": "https://localhost:8080/"
        },
        "id": "wM1SuBnsafqG",
        "outputId": "eac4654b-2809-4257-a1fc-b5eecbcebede"
      },
      "execution_count": 7,
      "outputs": [
        {
          "output_type": "execute_result",
          "data": {
            "text/plain": [
              "array([[ 0,  1,  2],\n",
              "       [ 3,  4,  5],\n",
              "       [ 6,  7,  8],\n",
              "       [ 9, 10, 11]])"
            ]
          },
          "metadata": {},
          "execution_count": 7
        }
      ]
    },
    {
      "cell_type": "code",
      "source": [
        "arr2.T"
      ],
      "metadata": {
        "colab": {
          "base_uri": "https://localhost:8080/"
        },
        "id": "3sQzpjCscD0p",
        "outputId": "ddfc884f-be24-4b92-aa93-ec29db66c02a"
      },
      "execution_count": 8,
      "outputs": [
        {
          "output_type": "execute_result",
          "data": {
            "text/plain": [
              "array([[ 0,  3,  6,  9],\n",
              "       [ 1,  4,  7, 10],\n",
              "       [ 2,  5,  8, 11]])"
            ]
          },
          "metadata": {},
          "execution_count": 8
        }
      ]
    },
    {
      "cell_type": "code",
      "source": [
        "arr2_t = np.transpose(arr2, axes=(1, 0))\n",
        "arr2_t"
      ],
      "metadata": {
        "colab": {
          "base_uri": "https://localhost:8080/"
        },
        "id": "HUsPPjwscGIq",
        "outputId": "40a0d92e-a5a4-40a8-9a47-d4e173e0e19c"
      },
      "execution_count": 9,
      "outputs": [
        {
          "output_type": "execute_result",
          "data": {
            "text/plain": [
              "array([[ 0,  3,  6,  9],\n",
              "       [ 1,  4,  7, 10],\n",
              "       [ 2,  5,  8, 11]])"
            ]
          },
          "metadata": {},
          "execution_count": 9
        }
      ]
    },
    {
      "cell_type": "markdown",
      "source": [
        "###N4\n",
        "**Consider the following NumPy array:**\n",
        "\n",
        "`arr = np.array([[1, 2, 3], [4, 5, 6]])`\n",
        "\n",
        "What will be the result of arr.T?"
      ],
      "metadata": {
        "id": "Ny0ha0auajDY"
      }
    },
    {
      "cell_type": "code",
      "source": [
        "arr3 = np.array([[1, 2, 3], [4, 5, 6]])\n",
        "arr3"
      ],
      "metadata": {
        "colab": {
          "base_uri": "https://localhost:8080/"
        },
        "id": "7Ms2MjjAapkX",
        "outputId": "2a8018bc-2e6b-4f3d-f4c4-43ff7a090181"
      },
      "execution_count": 10,
      "outputs": [
        {
          "output_type": "execute_result",
          "data": {
            "text/plain": [
              "array([[1, 2, 3],\n",
              "       [4, 5, 6]])"
            ]
          },
          "metadata": {},
          "execution_count": 10
        }
      ]
    },
    {
      "cell_type": "code",
      "source": [
        "arr3.T"
      ],
      "metadata": {
        "colab": {
          "base_uri": "https://localhost:8080/"
        },
        "id": "_Fgo3r_kcoco",
        "outputId": "0e072d69-0b4b-4423-fd2f-dec753ac9e1e"
      },
      "execution_count": 11,
      "outputs": [
        {
          "output_type": "execute_result",
          "data": {
            "text/plain": [
              "array([[1, 4],\n",
              "       [2, 5],\n",
              "       [3, 6]])"
            ]
          },
          "metadata": {},
          "execution_count": 11
        }
      ]
    },
    {
      "cell_type": "markdown",
      "source": [
        "###N5\n",
        "**How can you use np.transpose() to swap the first and third axes of a 3D array with shape (2, 3, 4) ?**"
      ],
      "metadata": {
        "id": "HE96uOqlasWV"
      }
    },
    {
      "cell_type": "code",
      "source": [
        "# To swap the first and third axes of a 3D array, we need to give the axes a new order."
      ],
      "metadata": {
        "id": "fwttwzqkc40j"
      },
      "execution_count": 15,
      "outputs": []
    },
    {
      "cell_type": "code",
      "source": [],
      "metadata": {
        "id": "UGNXc_uRc_IL"
      },
      "execution_count": null,
      "outputs": []
    }
  ]
}