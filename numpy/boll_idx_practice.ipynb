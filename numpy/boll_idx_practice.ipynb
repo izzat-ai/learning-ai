{
  "nbformat": 4,
  "nbformat_minor": 0,
  "metadata": {
    "colab": {
      "provenance": [],
      "authorship_tag": "ABX9TyO0/pq5E0mPIsUirnzf6viK",
      "include_colab_link": true
    },
    "kernelspec": {
      "name": "python3",
      "display_name": "Python 3"
    },
    "language_info": {
      "name": "python"
    }
  },
  "cells": [
    {
      "cell_type": "markdown",
      "metadata": {
        "id": "view-in-github",
        "colab_type": "text"
      },
      "source": [
        "<a href=\"https://colab.research.google.com/github/izzat-ai/learning-ai/blob/main/numpy/boll_idx_practice.ipynb\" target=\"_parent\"><img src=\"https://colab.research.google.com/assets/colab-badge.svg\" alt=\"Open In Colab\"/></a>"
      ]
    },
    {
      "cell_type": "code",
      "execution_count": 1,
      "metadata": {
        "id": "AjMfZgQhw4Jb"
      },
      "outputs": [],
      "source": [
        "import numpy as np"
      ]
    },
    {
      "cell_type": "markdown",
      "source": [
        "###N1\n",
        "**What will be the output of the following code?**\n",
        "```\n",
        "arr = np.array([5, 10, 15, 20, 25])\n",
        "mask = arr > 10\n",
        "print(arr[mask])\n",
        "\n",
        "```\n",
        "A) [10, 15, 20, 25]\n",
        "\n",
        "B) [15, 20, 25]\n",
        "\n",
        "C) [5, 10]\n",
        "\n",
        "D) [15, 20]\n",
        "\n",
        "\n"
      ],
      "metadata": {
        "id": "t-zLywaixJNz"
      }
    },
    {
      "cell_type": "code",
      "source": [
        "# B"
      ],
      "metadata": {
        "id": "XchIfM1HxA-2"
      },
      "execution_count": 2,
      "outputs": []
    },
    {
      "cell_type": "markdown",
      "source": [
        "###N2\n",
        "**Which of the following statements correctly filters all even numbers from a NumPy array?**\n",
        "\n",
        "`arr = np.array([3, 8, 15, 24, 35, 40])`\n",
        "\n",
        "A) arr[arr % 2 == 0]\n",
        "\n",
        "B) arr[arr % 2 != 0]\n",
        "\n",
        "C) arr[arr % 3 == 0]\n",
        "\n",
        "D) arr[arr % 2 == 1]\n",
        "\n",
        "\n"
      ],
      "metadata": {
        "id": "VWqUcTG0xRTM"
      }
    },
    {
      "cell_type": "code",
      "source": [
        "# A"
      ],
      "metadata": {
        "id": "NUw7n0MDxaBA"
      },
      "execution_count": 4,
      "outputs": []
    },
    {
      "cell_type": "markdown",
      "source": [
        "###N3\n",
        "**How would you select all values greater than 10 and less than 30 from the array below using Boolean indexing?**\n",
        "\n",
        "`arr = np.array([5, 12, 18, 25, 30, 45])`\n",
        "\n",
        "A) arr[arr > 10 or arr < 30]\n",
        "\n",
        "B) arr[(arr > 10) & (arr < 30)]\n",
        "\n",
        "C) arr[(arr > 10) | (arr < 30)]\n",
        "\n",
        "D) arr[arr > 10, arr < 30]\n",
        "\n"
      ],
      "metadata": {
        "id": "ODLtnSgzxamA"
      }
    },
    {
      "cell_type": "code",
      "source": [
        "# B"
      ],
      "metadata": {
        "id": "7idflZ-UxjBo"
      },
      "execution_count": 8,
      "outputs": []
    },
    {
      "cell_type": "markdown",
      "source": [
        "###N4\n",
        "**What will be the output of the following Boolean masking operation?**\n",
        "\n",
        "```\n",
        "arr = np.array([2, 4, 6, 8, 10, 12])\n",
        "mask = (arr % 4 == 0)\n",
        "print(arr[mask])\n",
        "\n",
        "```\n",
        "A) [2, 6, 10]\n",
        "\n",
        "B) [4, 8, 12]\n",
        "\n",
        "C) [4, 6, 8, 10]\n",
        "\n",
        "D) [2, 4, 6, 8, 10, 12]\n",
        "\n"
      ],
      "metadata": {
        "id": "wTCVAQybxjk-"
      }
    },
    {
      "cell_type": "code",
      "source": [
        "# B"
      ],
      "metadata": {
        "id": "mZS4ibHGxr2T"
      },
      "execution_count": 12,
      "outputs": []
    },
    {
      "cell_type": "markdown",
      "source": [
        "###N5\n",
        "**Which of the following will correctly select elements where the values are either 10 or 50?**\n",
        "\n",
        "`arr = np.array([5, 10, 15, 20, 50, 100])`\n",
        "\n",
        "A) arr[(arr == 10) or (arr == 50)]\n",
        "\n",
        "B) arr[arr == 10 & arr == 50]\n",
        "\n",
        "C) arr[(arr == 10) | (arr == 50)]\n",
        "\n",
        "D) arr[arr in [10, 50]]\n",
        "\n"
      ],
      "metadata": {
        "id": "nsZLXyqYxstT"
      }
    },
    {
      "cell_type": "code",
      "source": [
        "# C"
      ],
      "metadata": {
        "id": "dqRq0O-Ux0TA"
      },
      "execution_count": 18,
      "outputs": []
    },
    {
      "cell_type": "markdown",
      "source": [
        "###N6\n",
        "**What will be the output of the following code?**\n",
        "```\n",
        "arr = np.array([[3, 7, 2], [9, 1, 4], [5, 6, 8]])\n",
        "mask = arr % 2 == 0\n",
        "print(arr[mask])\n",
        "\n",
        "```\n",
        "\n",
        "A) [7, 9, 1, 5]\n",
        "\n",
        "B) [3, 2, 9, 4, 5, 6, 8]\n",
        "\n",
        "C) [2, 4, 6, 8]\n",
        "\n",
        "D) [3, 7, 2, 9, 1, 4, 5, 6, 8]\n",
        "\n"
      ],
      "metadata": {
        "id": "lj71XDwY0CRx"
      }
    },
    {
      "cell_type": "code",
      "source": [
        "# C"
      ],
      "metadata": {
        "id": "qasYNQxXzJSW"
      },
      "execution_count": 20,
      "outputs": []
    },
    {
      "cell_type": "markdown",
      "source": [
        "###N7\n",
        "**Which of the following Boolean indexing operations correctly replaces all negative numbers in arr with 0?**\n",
        "\n",
        "`arr = np.array([[-3, 5, -7], [2, -9, 6], [-1, 8, -4]])`\n",
        "\n",
        "A) arr[arr < 0] = 0\n",
        "\n",
        "B) arr[arr <= 0] = 0\n",
        "\n",
        "C) arr[arr < 0] == 0\n",
        "\n",
        "D) arr[arr > 0] = 0\n",
        "\n"
      ],
      "metadata": {
        "id": "iZj3qXxM0J8a"
      }
    },
    {
      "cell_type": "code",
      "source": [
        "# A"
      ],
      "metadata": {
        "id": "1_WPiT050Sy9"
      },
      "execution_count": 21,
      "outputs": []
    },
    {
      "cell_type": "markdown",
      "source": [
        "###N8\n",
        "**What will be the result of this Boolean indexing operation?**\n",
        "```\n",
        "arr = np.array([10, 20, 30, 40, 50])\n",
        "mask = np.array([True, False, True, False, True])\n",
        "print(arr[mask])\n",
        "\n",
        "```\n",
        "\n",
        "A) [10, 30, 50]\n",
        "\n",
        "B) [False, True, False, True, False]\n",
        "\n",
        "C) [20, 40]\n",
        "\n",
        "D) [10, 20, 30, 40, 50]\n",
        "\n"
      ],
      "metadata": {
        "id": "kqXDDq8h0TZM"
      }
    },
    {
      "cell_type": "code",
      "source": [
        "# A"
      ],
      "metadata": {
        "id": "gq2yVF810b-b"
      },
      "execution_count": 22,
      "outputs": []
    },
    {
      "cell_type": "markdown",
      "source": [
        "###N9\n",
        "**Given the following code, which expression will correctly extract all numbers greater than the mean of arr?**\n",
        "\n",
        "`arr = np.array([12, 45, 23, 67, 89, 34])`\n",
        "\n",
        "A) arr[arr >= np.mean(arr)]\n",
        "\n",
        "B) arr[arr > np.mean(arr)]\n",
        "\n",
        "C) arr[arr < np.mean(arr)]\n",
        "\n",
        "D) arr[arr == np.mean(arr)]"
      ],
      "metadata": {
        "id": "jxOzHK8m0coX"
      }
    },
    {
      "cell_type": "code",
      "source": [
        "# A"
      ],
      "metadata": {
        "id": "v-IqtsPi0f3m"
      },
      "execution_count": 24,
      "outputs": []
    },
    {
      "cell_type": "markdown",
      "source": [
        "###N10\n",
        "**What is the output of the following code?**\n",
        "```\n",
        "arr = np.array([2, 4, 6, 8, 10])\n",
        "mask = arr > 5\n",
        "arr[mask] = arr[mask] * 2\n",
        "print(arr)\n",
        "```\n",
        "\n",
        "A) [2, 4, 6, 8, 10]\n",
        "\n",
        "B) [2, 4, 6, 16, 20]\n",
        "\n",
        "C) [4, 8, 12, 16, 20]\n",
        "\n",
        "D) [2, 4, 6, 10, 12]"
      ],
      "metadata": {
        "id": "POqkqvgp0nKR"
      }
    },
    {
      "cell_type": "code",
      "source": [
        "# B"
      ],
      "metadata": {
        "id": "5dfxaeqa0uZ3"
      },
      "execution_count": 27,
      "outputs": []
    }
  ]
}