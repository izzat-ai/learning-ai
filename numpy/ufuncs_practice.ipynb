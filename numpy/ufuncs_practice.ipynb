{
  "nbformat": 4,
  "nbformat_minor": 0,
  "metadata": {
    "colab": {
      "provenance": [],
      "authorship_tag": "ABX9TyPprMsO7LW7N2fYdPQsENMt",
      "include_colab_link": true
    },
    "kernelspec": {
      "name": "python3",
      "display_name": "Python 3"
    },
    "language_info": {
      "name": "python"
    }
  },
  "cells": [
    {
      "cell_type": "markdown",
      "metadata": {
        "id": "view-in-github",
        "colab_type": "text"
      },
      "source": [
        "<a href=\"https://colab.research.google.com/github/izzat-ai/learning-ai/blob/main/numpy/ufuncs_practice.ipynb\" target=\"_parent\"><img src=\"https://colab.research.google.com/assets/colab-badge.svg\" alt=\"Open In Colab\"/></a>"
      ]
    },
    {
      "cell_type": "code",
      "execution_count": 1,
      "metadata": {
        "id": "Bu0pFK2PP7gZ"
      },
      "outputs": [],
      "source": [
        "import numpy as np"
      ]
    },
    {
      "cell_type": "markdown",
      "source": [
        "###N1\n",
        "**What will be the output of the following code?**\n",
        "```\n",
        "import numpy as np\n",
        "arr = np.array([4, 9, 16, 25])\n",
        "result = np.sqrt(arr)\n",
        "print(result)\n",
        "```"
      ],
      "metadata": {
        "id": "V6Py2jonQKzj"
      }
    },
    {
      "cell_type": "code",
      "source": [
        "# 2, 3, 4, 5"
      ],
      "metadata": {
        "id": "vvhvIBi1QAwF"
      },
      "execution_count": 2,
      "outputs": []
    },
    {
      "cell_type": "markdown",
      "source": [
        "###N2\n",
        "**How does `np.modf()` function work, and what are the two arrays it returns ?**"
      ],
      "metadata": {
        "id": "xbzCvU0vQQ_a"
      }
    },
    {
      "cell_type": "code",
      "source": [
        "# float separates integer and remainder parts of numbers\n",
        "# The answers returned from it need to be stored in two variables"
      ],
      "metadata": {
        "id": "GgWGfqQwQVsh"
      },
      "execution_count": 3,
      "outputs": []
    },
    {
      "cell_type": "markdown",
      "source": [
        "###N3\n",
        "**Given the array `arr = np.array([-10, 0, 10])`, what will be the output of `np.sign(arr)` ?**"
      ],
      "metadata": {
        "id": "4qBjh6xoQWK-"
      }
    },
    {
      "cell_type": "code",
      "source": [
        "# -1, 1, 1"
      ],
      "metadata": {
        "id": "vfw0xSJTQbWD"
      },
      "execution_count": 4,
      "outputs": []
    },
    {
      "cell_type": "markdown",
      "source": [
        "###N4\n",
        "**What is the difference between `np.exp(arr)` and `np.log(arr)`? When would `np.log(arr)` return an error ?**"
      ],
      "metadata": {
        "id": "0HbbHs27QdMO"
      }
    },
    {
      "cell_type": "code",
      "source": [
        "# exp - gives the exponent of the elements\n",
        "# log - calculates the logarithm of elements to the logarithm power"
      ],
      "metadata": {
        "id": "R8XpenH7Qh41"
      },
      "execution_count": 5,
      "outputs": []
    },
    {
      "cell_type": "markdown",
      "source": [
        "###N5\n",
        "**Given the array `arr = np.array([1.0, np.nan, 3.0, np.nan, 5.0])`, how can we find out which elements are NaN values using a NumPy function ?**"
      ],
      "metadata": {
        "id": "xXzS50ZsQjb6"
      }
    },
    {
      "cell_type": "code",
      "source": [
        "# np.isnan"
      ],
      "metadata": {
        "id": "yFtFjl9hQmzp"
      },
      "execution_count": 6,
      "outputs": []
    },
    {
      "cell_type": "markdown",
      "source": [
        "###N6\n",
        "**What will be the output of the following code?**\n",
        "```\n",
        "arr = np.array([-4, -1, 0, 1, 4])  \n",
        "print(np.sqrt(arr))  \n",
        "```"
      ],
      "metadata": {
        "id": "8qStZEazz-_R"
      }
    },
    {
      "cell_type": "code",
      "source": [],
      "metadata": {
        "id": "i7NvFztIS3ib"
      },
      "execution_count": 6,
      "outputs": []
    },
    {
      "cell_type": "markdown",
      "source": [
        "###N7\n",
        "**How does np.exp behave when applied to a negative number?**"
      ],
      "metadata": {
        "id": "GCujL6rB0GV1"
      }
    },
    {
      "cell_type": "code",
      "source": [],
      "metadata": {
        "id": "VjRoaOuB0J43"
      },
      "execution_count": null,
      "outputs": []
    },
    {
      "cell_type": "markdown",
      "source": [
        "###N8\n",
        "**Given the array**\n",
        "\n",
        "`arr = np.array([0.1, 1, 10, 100])`\n",
        "\n",
        "What will np.log(arr) return?"
      ],
      "metadata": {
        "id": "ZjyUpY5l0NJ-"
      }
    },
    {
      "cell_type": "code",
      "source": [],
      "metadata": {
        "id": "hbYBhmrJ0Q9g"
      },
      "execution_count": null,
      "outputs": []
    },
    {
      "cell_type": "markdown",
      "source": [
        "###N9\n",
        "**What is the difference between np.sign and np.isnan functions?**"
      ],
      "metadata": {
        "id": "duLV_s6F0WE_"
      }
    },
    {
      "cell_type": "code",
      "source": [],
      "metadata": {
        "id": "BKUf4tpe0XiF"
      },
      "execution_count": null,
      "outputs": []
    },
    {
      "cell_type": "markdown",
      "source": [
        "###N10\n",
        "**What will be the result of applying np.modf to the following array?**\n",
        "```\n",
        "arr = np.array([3.5, -2.8, 0.0, 7.9])  \n",
        "frac, whole = np.modf(arr)  \n",
        "```"
      ],
      "metadata": {
        "id": "nD-dJFbb0ZL-"
      }
    },
    {
      "cell_type": "code",
      "source": [],
      "metadata": {
        "id": "9iHTePKN0apX"
      },
      "execution_count": null,
      "outputs": []
    }
  ]
}