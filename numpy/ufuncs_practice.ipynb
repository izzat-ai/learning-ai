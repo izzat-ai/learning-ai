{
  "nbformat": 4,
  "nbformat_minor": 0,
  "metadata": {
    "colab": {
      "provenance": [],
      "authorship_tag": "ABX9TyNw51YCbHgp3W3vIBAKXNfr",
      "include_colab_link": true
    },
    "kernelspec": {
      "name": "python3",
      "display_name": "Python 3"
    },
    "language_info": {
      "name": "python"
    }
  },
  "cells": [
    {
      "cell_type": "markdown",
      "metadata": {
        "id": "view-in-github",
        "colab_type": "text"
      },
      "source": [
        "<a href=\"https://colab.research.google.com/github/izzat-ai/learning-ai/blob/main/numpy/ufuncs_practice.ipynb\" target=\"_parent\"><img src=\"https://colab.research.google.com/assets/colab-badge.svg\" alt=\"Open In Colab\"/></a>"
      ]
    },
    {
      "cell_type": "code",
      "execution_count": 1,
      "metadata": {
        "id": "Bu0pFK2PP7gZ"
      },
      "outputs": [],
      "source": [
        "import numpy as np"
      ]
    },
    {
      "cell_type": "markdown",
      "source": [
        "###N1\n",
        "**What will be the output of the following code?**\n",
        "```\n",
        "import numpy as np\n",
        "arr = np.array([4, 9, 16, 25])\n",
        "result = np.sqrt(arr)\n",
        "print(result)\n",
        "```"
      ],
      "metadata": {
        "id": "V6Py2jonQKzj"
      }
    },
    {
      "cell_type": "code",
      "source": [
        "# 2, 3, 4, 5"
      ],
      "metadata": {
        "id": "vvhvIBi1QAwF"
      },
      "execution_count": 3,
      "outputs": []
    },
    {
      "cell_type": "markdown",
      "source": [
        "###N2\n",
        "**How does `np.modf()` function work, and what are the two arrays it returns ?**"
      ],
      "metadata": {
        "id": "xbzCvU0vQQ_a"
      }
    },
    {
      "cell_type": "code",
      "source": [
        "# float separates integer and remainder parts of numbers\n",
        "# The answers returned from it need to be stored in two variables"
      ],
      "metadata": {
        "id": "GgWGfqQwQVsh"
      },
      "execution_count": 2,
      "outputs": []
    },
    {
      "cell_type": "markdown",
      "source": [
        "###N3\n",
        "**Given the array `arr = np.array([-10, 0, 10])`, what will be the output of `np.sign(arr)` ?**"
      ],
      "metadata": {
        "id": "4qBjh6xoQWK-"
      }
    },
    {
      "cell_type": "code",
      "source": [
        "# -1, 1, 1"
      ],
      "metadata": {
        "id": "vfw0xSJTQbWD"
      },
      "execution_count": 4,
      "outputs": []
    },
    {
      "cell_type": "markdown",
      "source": [
        "###N4\n",
        "**What is the difference between `np.exp(arr)` and `np.log(arr)`? When would `np.log(arr)` return an error ?**"
      ],
      "metadata": {
        "id": "0HbbHs27QdMO"
      }
    },
    {
      "cell_type": "code",
      "source": [
        "# exp - gives the exponent of the elements\n",
        "# log - calculates the logarithm of elements to the logarithm power"
      ],
      "metadata": {
        "id": "R8XpenH7Qh41"
      },
      "execution_count": 5,
      "outputs": []
    },
    {
      "cell_type": "markdown",
      "source": [
        "###N5\n",
        "**Given the array `arr = np.array([1.0, np.nan, 3.0, np.nan, 5.0])`, how can we find out which elements are NaN values using a NumPy function ?**"
      ],
      "metadata": {
        "id": "xXzS50ZsQjb6"
      }
    },
    {
      "cell_type": "code",
      "source": [
        "# np.isnan"
      ],
      "metadata": {
        "id": "yFtFjl9hQmzp"
      },
      "execution_count": 6,
      "outputs": []
    },
    {
      "cell_type": "code",
      "source": [],
      "metadata": {
        "id": "i7NvFztIS3ib"
      },
      "execution_count": null,
      "outputs": []
    }
  ]
}